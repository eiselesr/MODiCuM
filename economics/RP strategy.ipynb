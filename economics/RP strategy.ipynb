{
 "cells": [
  {
   "cell_type": "code",
   "execution_count": 1,
   "metadata": {},
   "outputs": [],
   "source": [
    "from __future__ import print_function\n",
    "import ipywidgets as widgets \n",
    "import matplotlib.pyplot as plt\n",
    "import numpy as np\n",
    "import csv\n",
    "import sympy\n",
    "from numpy import array"
   ]
  },
  {
   "cell_type": "code",
   "execution_count": 2,
   "metadata": {},
   "outputs": [],
   "source": [
    "\n",
    "# wp_E = widgets.FloatSlider(min=0,max=1,step=.1,value=1,description='p_E', continuous_update=False) # probability that RP runs correctly\n",
    "# wroi = widgets.FloatSlider(min=0,max=1,step=.01,value=.5,description='roi', continuous_update=False) # what percent of reward is profit\n",
    "# winsurance = widgets.FloatSlider(min=0,max=1,step=.01,value=0 ,description='I',continuous_update=False) # % of deposit that can be recovered because execution is so cheap.\n",
    "# wC_f= widgets.FloatSlider(min=0,max=1000,step=.1,value=0, description='C_f',continuous_update=False) # cost for RP to be fraudulant \n",
    "\n",
    "# matchPrice = 1\n",
    "# mediatorPrice = 1\n",
    "\n",
    "\n",
    "def RPU(n,PR,p_a,pi,p_v=1,C_f=0,p_E=1, ec=0):\n",
    "    p2 = 1-p_a\n",
    "#     D = pi * PR\n",
    "#     D = pi * PR + pi*n\n",
    "    D = pi * PR + (pi * n)\n",
    "    \n",
    "    \n",
    "    execCost = ec\n",
    "\n",
    "    #Cj is cost of execution for fraudulant job, picking a random number or \"close\" value\n",
    "    fraudCost = C_f\n",
    "    \n",
    "    JC_HRP = p_v*p_E*p_a*(pi-execCost) #compute answer 1 (p_a) correctly (p_E) receive reward (pi)\n",
    "    \n",
    "    NDJC_HRP_Gain = p_v*p_E*p2*(1-p_a**n)*(pi-execCost) #compute answer 2 (p2) correctly (p_E) get sent to mediation, who finds nondeterminism (1-p_a^n) and recieve reward (r) and nonDet bonus (f2-f)*k kickback=k\n",
    "    NDJC_HRP_Lose = p_v*p_E*p2*(p_a**n)*(-D-execCost) # compute answer 2 correctly (p2) get sent to mediation, who doesn't find nondeterminsm (p_a^n) and get fined (f)\n",
    "    ND = NDJC_HRP_Gain + NDJC_HRP_Lose \n",
    "    \n",
    "    DRP_Gain = p_v*(1-p_E)*(1-p_a**n)*(pi-fraudCost)# compute incorrectly (1-p_E) get sent to mediation, finds nondeterminism (1-p_a^n) get compensation.\n",
    "    DRP_Lose = p_v*(1-p_E)*(p_a**n)*(-D-fraudCost) #compute incorrectly (1-p_E) get sent to mediation, who doesn't find nondeterminsm (p_a^n) and get fined (f)\n",
    "    DRP = DRP_Gain+DRP_Lose\n",
    "    \n",
    "#     DRP_scared  = p_v*(1-p_E)*(pi-fraudCost) # JC doesn't want to risk getting caught, just pay RP. \n",
    "    \n",
    "    #     noVerifypayout = (1-p_v)*pi #compute answer 1 (p_a) correctly (p_E) receive reward (pi)\n",
    "    noID_HRP = (1-p_v) * p_E * (pi - execCost)\n",
    "    noID_DRP = (1-p_v) * (1-p_E) * (pi - fraudCost)\n",
    "    noID = noID_HRP + noID_DRP\n",
    "    \n",
    "    \n",
    "    RCnonDet = JC_HRP + ND + DRP + noID\n",
    "    return RCnonDet\n"
   ]
  },
  {
   "cell_type": "code",
   "execution_count": 3,
   "metadata": {},
   "outputs": [
    {
     "data": {
      "text/latex": [
       "$\\displaystyle p_{E} p_{a} p_{v} \\left(- ec + \\pi\\right) + p_{E} p_{a}^{n} p_{v} \\left(1 - p_{a}\\right) \\left(- PR \\pi - ec - n \\pi\\right) + p_{E} p_{v} \\left(1 - p_{a}\\right) \\left(1 - p_{a}^{n}\\right) \\left(- ec + \\pi\\right) + p_{E} \\left(1 - p_{v}\\right) \\left(- ec + \\pi\\right) + p_{a}^{n} p_{v} \\left(1 - p_{E}\\right) \\left(- C_{f} - PR \\pi - n \\pi\\right) + p_{v} \\left(1 - p_{E}\\right) \\left(1 - p_{a}^{n}\\right) \\left(- C_{f} + \\pi\\right) + \\left(1 - p_{E}\\right) \\left(1 - p_{v}\\right) \\left(- C_{f} + \\pi\\right)$"
      ],
      "text/plain": [
       "p_E*p_a*p_v*(-ec + pi) + p_E*p_a**n*p_v*(1 - p_a)*(-PR*pi - ec - n*pi) + p_E*p_v*(1 - p_a)*(1 - p_a**n)*(-ec + pi) + p_E*(1 - p_v)*(-ec + pi) + p_a**n*p_v*(1 - p_E)*(-C_f - PR*pi - n*pi) + p_v*(1 - p_E)*(1 - p_a**n)*(-C_f + pi) + (1 - p_E)*(1 - p_v)*(-C_f + pi)"
      ]
     },
     "metadata": {},
     "output_type": "display_data"
    }
   ],
   "source": [
    "rn,rPR,rp_a,rpi,rp_v,rC_f,rp_E, rec, = sympy.symbols('n PR p_a pi p_v C_f p_E ec')\n",
    "\n",
    "RU = RPU(rn,rPR,rp_a,rpi,rp_v,rC_f,rp_E, rec)\n",
    "display(RU)"
   ]
  },
  {
   "cell_type": "code",
   "execution_count": 4,
   "metadata": {},
   "outputs": [
    {
     "data": {
      "text/latex": [
       "$\\displaystyle p_{E} p_{v} \\left(- ec + \\pi\\right) + p_{E} \\left(1 - p_{v}\\right) \\left(- ec + \\pi\\right) + p_{v} \\left(1 - p_{E}\\right) \\left(- C_{f} - PR \\pi - n \\pi\\right) + \\left(1 - p_{E}\\right) \\left(1 - p_{v}\\right) \\left(- C_{f} + \\pi\\right)$"
      ],
      "text/plain": [
       "p_E*p_v*(-ec + pi) + p_E*(1 - p_v)*(-ec + pi) + p_v*(1 - p_E)*(-C_f - PR*pi - n*pi) + (1 - p_E)*(1 - p_v)*(-C_f + pi)"
      ]
     },
     "metadata": {},
     "output_type": "display_data"
    }
   ],
   "source": [
    "LRU = RU.subs({rp_a:1 })\n",
    "display(LRU)"
   ]
  },
  {
   "cell_type": "code",
   "execution_count": 20,
   "metadata": {},
   "outputs": [
    {
     "data": {
      "text/latex": [
       "$\\displaystyle p_{v} \\left(- ec + \\pi\\right) - p_{v} \\left(- C_{f} - PR \\pi - n \\pi\\right) + \\left(1 - p_{v}\\right) \\left(- ec + \\pi\\right) + \\left(- C_{f} + \\pi\\right) \\left(p_{v} - 1\\right)$"
      ],
      "text/plain": [
       "p_v*(-ec + pi) - p_v*(-C_f - PR*pi - n*pi) + (1 - p_v)*(-ec + pi) + (-C_f + pi)*(p_v - 1)"
      ]
     },
     "metadata": {},
     "output_type": "display_data"
    },
    {
     "data": {
      "text/latex": [
       "$\\displaystyle C_{f} + PR p_{v} \\pi - ec + n p_{v} \\pi + p_{v} \\pi$"
      ],
      "text/plain": [
       "C_f + PR*p_v*pi - ec + n*p_v*pi + p_v*pi"
      ]
     },
     "metadata": {},
     "output_type": "display_data"
    },
    {
     "data": {
      "text/latex": [
       "$\\displaystyle C_{f} - ec + p_{v} \\left(PR \\pi + n \\pi + \\pi\\right)$"
      ],
      "text/plain": [
       "C_f - ec + p_v*(PR*pi + n*pi + pi)"
      ]
     },
     "metadata": {},
     "output_type": "display_data"
    },
    {
     "data": {
      "text/latex": [
       "$\\displaystyle C_{f} - ec + p_{v} \\pi \\left(PR + n + 1\\right)$"
      ],
      "text/plain": [
       "C_f - ec + p_v*pi*(PR + n + 1)"
      ]
     },
     "metadata": {},
     "output_type": "display_data"
    }
   ],
   "source": [
    "dLRU = sympy.diff(LRU,rp_E)\n",
    "display(dLRU)\n",
    "dLRU = sympy.simplify(dLRU)\n",
    "display(dLRU)\n",
    "dLRU = sympy.collect(dLRU,rp_v)\n",
    "display(dLRU)\n",
    "dLRU = sympy.collect(dLRU,rpi)\n",
    "display(dLRU)"
   ]
  },
  {
   "cell_type": "code",
   "execution_count": 36,
   "metadata": {},
   "outputs": [
    {
     "data": {
      "text/latex": [
       "$\\displaystyle \\frac{- C_{f} + ec}{\\pi \\left(PR + n + 1\\right)}$"
      ],
      "text/plain": [
       "(-C_f + ec)/(pi*(PR + n + 1))"
      ]
     },
     "execution_count": 36,
     "metadata": {},
     "output_type": "execute_result"
    }
   ],
   "source": [
    "sol_dLRU_pv = sympy.solve([dLRU], [rp_v])\n",
    "sol_dLRU_pv[rp_v]"
   ]
  },
  {
   "cell_type": "code",
   "execution_count": 41,
   "metadata": {},
   "outputs": [
    {
     "name": "stdout",
     "output_type": "stream",
     "text": [
      "step size: 0.02\n"
     ]
    }
   ],
   "source": [
    "points = 51\n",
    "x,step = np.linspace(0,1,points,retstep=True)\n",
    "print(\"step size: %s\" %step)\n",
    "\n",
    "        #-M-     -JC-                -RP-\n",
    "def plot(n,PR,   pi,p_v,       C_f,p_E,ec):\n",
    "    \n",
    "    \n",
    "    yLRU = RPU(n=n,PR=PR,     p_a=np.ones(points),pi=pi,p_v=p_v,        C_f=C_f,p_E=x,ec=ec)\n",
    "    \n",
    "    \n",
    "#     yLJU = list(map(lambda v: float(LJU.subs({sC_v:C_v, sB:B, sp_v:v, spi:pi, sPR:PR,  sp_E:p_E  })),x))\n",
    "    print(max(yLRU))\n",
    "    \n",
    "    plt.plot(x,yLRU, label=\"LRU\")\n",
    "    plt.xlabel('p_E')\n",
    "    plt.ylabel('Util') \n",
    "    plt.legend()\n",
    "    plt.grid(visible=True)\n",
    "    plt.show\n",
    "    "
   ]
  },
  {
   "cell_type": "code",
   "execution_count": 42,
   "metadata": {},
   "outputs": [
    {
     "data": {
      "application/vnd.jupyter.widget-view+json": {
       "model_id": "96671f199bf446cf935670d10f819584",
       "version_major": 2,
       "version_minor": 0
      },
      "text/plain": [
       "Output()"
      ]
     },
     "metadata": {},
     "output_type": "display_data"
    },
    {
     "data": {
      "application/vnd.jupyter.widget-view+json": {
       "model_id": "1b500a1f24b24759bc7b3310ef0be067",
       "version_major": 2,
       "version_minor": 0
      },
      "text/plain": [
       "HBox(children=(IntSlider(value=1, continuous_update=False, description='n', max=10), FloatSlider(value=1.0, co…"
      ]
     },
     "metadata": {},
     "output_type": "display_data"
    },
    {
     "data": {
      "application/vnd.jupyter.widget-view+json": {
       "model_id": "8f10f717237849178c3ff02c53890de9",
       "version_major": 2,
       "version_minor": 0
      },
      "text/plain": [
       "HBox(children=(IntSlider(value=1, continuous_update=False, description='pi', max=1000), FloatSlider(value=1.0,…"
      ]
     },
     "metadata": {},
     "output_type": "display_data"
    },
    {
     "data": {
      "application/vnd.jupyter.widget-view+json": {
       "model_id": "01c18b33ed1042f68ecd5917e9c7b83c",
       "version_major": 2,
       "version_minor": 0
      },
      "text/plain": [
       "HBox(children=(FloatSlider(value=0.0, continuous_update=False, description='C_F', step=1.0), FloatSlider(value…"
      ]
     },
     "metadata": {},
     "output_type": "display_data"
    }
   ],
   "source": [
    "wn = widgets.IntSlider(min=0,max=10,step=1,value=1, description='n',continuous_update=False)\n",
    "wPR = widgets.FloatSlider(min=0,max=100,step=.5,value=1, description='PR', continuous_update=False) \n",
    "\n",
    "wpi = widgets.IntSlider(min=0,max=1000,step=1,value=1, description='pi', continuous_update=False)\n",
    "wp_v = widgets.FloatSlider(min=0,max=1,step=.1,value=1, description='p_v', continuous_update=False) # how often JC verifies\n",
    "\n",
    "wC_f =widgets.FloatSlider(min=0,max=100,step=1,value=0, description='C_F', continuous_update=False)\n",
    "wp_E = widgets.FloatSlider(min=0,max=1,step=.1,value=1, description='p_E', continuous_update=False) # probability that RP runs correctly\n",
    "wec = widgets.FloatSlider(min=0,max=300,step=.5,value=1, description='ec', continuous_update=False) #Penalty Rate\n",
    "\n",
    "\n",
    "ui1 = widgets.HBox([wn,wPR])\n",
    "ui2 = widgets.HBox([wpi,wp_v])\n",
    "ui3 = widgets.HBox([wC_f,wp_E,wec])\n",
    "\n",
    "# interactive_plot = widgets.interactive(plot, n=wn,PR=wPR,NDPR=wNDPR,pi=wpi,p_v=wp_v,cj=wcj, p_E=wp_E,roi=wroi,Insurance=winsurance);\n",
    "interactive_plotFinal = widgets.interactive_output(plot,{'n':wn,'PR':wPR,   'pi':wpi,'p_v':wp_v,    'C_f':wC_f,'p_E':wp_E,'ec':wec});\n",
    "\n",
    "# interactive_plotFinal.layout.height = '600px'\n",
    "\n",
    "display(interactive_plotFinal,ui1,ui2,ui3)"
   ]
  },
  {
   "cell_type": "code",
   "execution_count": null,
   "metadata": {},
   "outputs": [],
   "source": []
  },
  {
   "cell_type": "code",
   "execution_count": null,
   "metadata": {},
   "outputs": [],
   "source": []
  }
 ],
 "metadata": {
  "kernelspec": {
   "display_name": "Python 3",
   "language": "python",
   "name": "python3"
  },
  "language_info": {
   "codemirror_mode": {
    "name": "ipython",
    "version": 3
   },
   "file_extension": ".py",
   "mimetype": "text/x-python",
   "name": "python",
   "nbconvert_exporter": "python",
   "pygments_lexer": "ipython3",
   "version": "3.6.6"
  }
 },
 "nbformat": 4,
 "nbformat_minor": 2
}
