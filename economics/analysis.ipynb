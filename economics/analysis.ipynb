{
 "cells": [
  {
   "cell_type": "code",
   "execution_count": 1,
   "metadata": {
    "scrolled": true
   },
   "outputs": [],
   "source": [
    "import mgame\n",
    "import numpy as np\n",
    "# import importlib\n",
    "# importlib.reload(mgame)\n",
    "import matplotlib.pyplot as plt\n",
    "import nashpy"
   ]
  },
  {
   "cell_type": "code",
   "execution_count": 2,
   "metadata": {
    "scrolled": false
   },
   "outputs": [],
   "source": [
    "e = mgame.eq()\n"
   ]
  },
  {
   "cell_type": "raw",
   "metadata": {},
   "source": [
    "e"
   ]
  },
  {
   "cell_type": "code",
   "execution_count": 3,
   "metadata": {},
   "outputs": [
    {
     "name": "stdout",
     "output_type": "stream",
     "text": [
      "E[v]\n"
     ]
    },
    {
     "data": {
      "text/latex": [
       "$\\displaystyle \\sigma_{e} \\left(p_{a} \\left(B - C_{v} - \\pi\\right) + \\left(1 - p_{a}\\right) \\left(p_{a}^{n} \\left(B - C_{v} + \\pi\\right) + \\left(1 - p_{a}^{n}\\right) \\left(B - C_{r} - C_{v} - \\pi \\left(PR + n\\right)\\right)\\right)\\right) + \\left(1 - \\sigma_{e}\\right) \\left(p_{a}^{n} \\left(- C_{v} + \\pi\\right) + \\left(1 - p_{a}^{n}\\right) \\left(- C_{r} - C_{v} - \\pi \\left(PR + n\\right)\\right)\\right)$"
      ],
      "text/plain": [
       "sigma_e*(p_a*(B - C_v - pi) + (1 - p_a)*(p_a**n*(B - C_v + pi) + (1 - p_a**n)*(B - C_r - C_v - pi*(PR + n)))) + (1 - sigma_e)*(p_a**n*(-C_v + pi) + (1 - p_a**n)*(-C_r - C_v - pi*(PR + n)))"
      ]
     },
     "metadata": {},
     "output_type": "display_data"
    },
    {
     "name": "stdout",
     "output_type": "stream",
     "text": [
      "E[v] simplified\n"
     ]
    },
    {
     "data": {
      "text/latex": [
       "$\\displaystyle B \\sigma_{e} + C_{r} p_{a} \\sigma_{e} + C_{r} p_{a}^{n} - C_{r} p_{a}^{n + 1} \\sigma_{e} - C_{r} - C_{v} + PR p_{a} \\pi \\sigma_{e} + PR p_{a}^{n} \\pi - PR p_{a}^{n + 1} \\pi \\sigma_{e} - PR \\pi + n p_{a} \\pi \\sigma_{e} + n p_{a}^{n} \\pi - n p_{a}^{n + 1} \\pi \\sigma_{e} - n \\pi - p_{a} \\pi \\sigma_{e} + p_{a}^{n} \\pi - p_{a}^{n + 1} \\pi \\sigma_{e}$"
      ],
      "text/plain": [
       "B*sigma_e + C_r*p_a*sigma_e + C_r*p_a**n - C_r*p_a**(n + 1)*sigma_e - C_r - C_v + PR*p_a*pi*sigma_e + PR*p_a**n*pi - PR*p_a**(n + 1)*pi*sigma_e - PR*pi + n*p_a*pi*sigma_e + n*p_a**n*pi - n*p_a**(n + 1)*pi*sigma_e - n*pi - p_a*pi*sigma_e + p_a**n*pi - p_a**(n + 1)*pi*sigma_e"
      ]
     },
     "metadata": {},
     "output_type": "display_data"
    },
    {
     "name": "stdout",
     "output_type": "stream",
     "text": [
      "E[v] with nse simplified\n"
     ]
    },
    {
     "data": {
      "text/latex": [
       "$\\displaystyle \\frac{B C_{r} p_{a}^{n} - B C_{r} - B C_{v} + B PR p_{a}^{n} \\pi - B PR \\pi + B n p_{a}^{n} \\pi - B n \\pi + B p_{a}^{n} \\pi + B \\pi + C_{r} p_{a} \\pi - C_{r} p_{a}^{n + 1} \\pi + PR p_{a} \\pi^{2} - PR p_{a}^{n + 1} \\pi^{2} + n p_{a} \\pi^{2} - n p_{a}^{n + 1} \\pi^{2} - p_{a} \\pi^{2} - p_{a}^{n + 1} \\pi^{2}}{p_{a} \\left(C_{r} p_{a}^{n} - C_{r} + PR p_{a}^{n} \\pi - PR \\pi + n p_{a}^{n} \\pi - n \\pi + p_{a}^{n} \\pi + \\pi\\right)}$"
      ],
      "text/plain": [
       "(B*C_r*p_a**n - B*C_r - B*C_v + B*PR*p_a**n*pi - B*PR*pi + B*n*p_a**n*pi - B*n*pi + B*p_a**n*pi + B*pi + C_r*p_a*pi - C_r*p_a**(n + 1)*pi + PR*p_a*pi**2 - PR*p_a**(n + 1)*pi**2 + n*p_a*pi**2 - n*p_a**(n + 1)*pi**2 - p_a*pi**2 - p_a**(n + 1)*pi**2)/(p_a*(C_r*p_a**n - C_r + PR*p_a**n*pi - PR*pi + n*p_a**n*pi - n*pi + p_a**n*pi + pi))"
      ]
     },
     "metadata": {},
     "output_type": "display_data"
    },
    {
     "name": "stdout",
     "output_type": "stream",
     "text": [
      "E[e]\n"
     ]
    },
    {
     "data": {
      "text/latex": [
       "$\\displaystyle \\sigma_{v} \\left(p_{a} \\left(- C_{e} + \\pi\\right) + \\left(1 - p_{a}\\right) \\left(p_{a}^{n} \\left(- C_{e} - \\pi \\left(PR + n\\right)\\right) + \\left(1 - p_{a}^{n}\\right) \\left(- C_{e} + \\pi\\right)\\right)\\right) + \\left(1 - \\sigma_{v}\\right) \\left(- C_{e} + \\pi\\right)$"
      ],
      "text/plain": [
       "sigma_v*(p_a*(-C_e + pi) + (1 - p_a)*(p_a**n*(-C_e - pi*(PR + n)) + (1 - p_a**n)*(-C_e + pi))) + (1 - sigma_v)*(-C_e + pi)"
      ]
     },
     "metadata": {},
     "output_type": "display_data"
    },
    {
     "name": "stdout",
     "output_type": "stream",
     "text": [
      "E[e] simplified\n"
     ]
    },
    {
     "data": {
      "text/latex": [
       "$\\displaystyle - C_{e} - PR p_{a}^{n} \\pi \\sigma_{v} + PR p_{a}^{n + 1} \\pi \\sigma_{v} - n p_{a}^{n} \\pi \\sigma_{v} + n p_{a}^{n + 1} \\pi \\sigma_{v} - p_{a}^{n} \\pi \\sigma_{v} + p_{a}^{n + 1} \\pi \\sigma_{v} + \\pi$"
      ],
      "text/plain": [
       "-C_e - PR*p_a**n*pi*sigma_v + PR*p_a**(n + 1)*pi*sigma_v - n*p_a**n*pi*sigma_v + n*p_a**(n + 1)*pi*sigma_v - p_a**n*pi*sigma_v + p_a**(n + 1)*pi*sigma_v + pi"
      ]
     },
     "metadata": {},
     "output_type": "display_data"
    },
    {
     "name": "stdout",
     "output_type": "stream",
     "text": [
      "E[d] simplified\n"
     ]
    },
    {
     "data": {
      "text/latex": [
       "$\\displaystyle - C_{d} - PR p_{a}^{n} \\pi \\sigma_{v} - n p_{a}^{n} \\pi \\sigma_{v} - p_{a}^{n} \\pi \\sigma_{v} + \\pi$"
      ],
      "text/plain": [
       "-C_d - PR*p_a**n*pi*sigma_v - n*p_a**n*pi*sigma_v - p_a**n*pi*sigma_v + pi"
      ]
     },
     "metadata": {},
     "output_type": "display_data"
    },
    {
     "name": "stdout",
     "output_type": "stream",
     "text": [
      "E[e] with nsv simplified\n"
     ]
    },
    {
     "data": {
      "text/latex": [
       "$\\displaystyle - C_{d} + \\frac{C_{d}}{p_{a}} - \\frac{C_{e}}{p_{a}} + \\pi$"
      ],
      "text/plain": [
       "-C_d + C_d/p_a - C_e/p_a + pi"
      ]
     },
     "metadata": {},
     "output_type": "display_data"
    },
    {
     "name": "stdout",
     "output_type": "stream",
     "text": [
      "e is equilibrium: True, check is 0\n"
     ]
    }
   ],
   "source": [
    "nse, nsv = e.findNashEq(e.n, e.PR, e.p_a, e.B, e.pi, e.C_v, e.C_r, e.C_e, e.C_d)"
   ]
  },
  {
   "cell_type": "code",
   "execution_count": 4,
   "metadata": {},
   "outputs": [
    {
     "data": {
      "text/latex": [
       "$\\displaystyle \\frac{C_{r} p_{a}^{n} - C_{r} - C_{v} + PR p_{a}^{n} \\pi - PR \\pi + n p_{a}^{n} \\pi - n \\pi + p_{a}^{n} \\pi + \\pi}{p_{a} \\left(C_{r} p_{a}^{n} - C_{r} + PR p_{a}^{n} \\pi - PR \\pi + n p_{a}^{n} \\pi - n \\pi + p_{a}^{n} \\pi + \\pi\\right)}$"
      ],
      "text/plain": [
       "(C_r*p_a**n - C_r - C_v + PR*p_a**n*pi - PR*pi + n*p_a**n*pi - n*pi + p_a**n*pi + pi)/(p_a*(C_r*p_a**n - C_r + PR*p_a**n*pi - PR*pi + n*p_a**n*pi - n*pi + p_a**n*pi + pi))"
      ]
     },
     "execution_count": 4,
     "metadata": {},
     "output_type": "execute_result"
    }
   ],
   "source": [
    "nse"
   ]
  },
  {
   "cell_type": "code",
   "execution_count": 5,
   "metadata": {},
   "outputs": [
    {
     "data": {
      "text/latex": [
       "$\\displaystyle \\frac{p_{a}^{- n} \\left(- C_{d} + C_{e}\\right)}{p_{a} \\pi \\left(PR + n + 1\\right)}$"
      ],
      "text/plain": [
       "p_a**(-n)*(-C_d + C_e)/(p_a*pi*(PR + n + 1))"
      ]
     },
     "execution_count": 5,
     "metadata": {},
     "output_type": "execute_result"
    }
   ],
   "source": [
    "nsv"
   ]
  },
  {
   "cell_type": "code",
   "execution_count": 6,
   "metadata": {},
   "outputs": [],
   "source": [
    "n = 1\n",
    "PR = 2\n",
    "C_r = 0\n",
    "\n",
    "B = 10 # no impact on p_a\n",
    "pi = 2\n",
    "C_v = 0 # results in lowest p_a possible\n",
    "\n",
    "\n",
    "C_e = 1 # simply reduces RP utility\n",
    "C_d = 0\n",
    "\n",
    "D = pi*(PR + n)\n",
    "p_a = 0.7"
   ]
  },
  {
   "cell_type": "code",
   "execution_count": 7,
   "metadata": {},
   "outputs": [
    {
     "data": {
      "text/latex": [
       "$\\displaystyle 1.42857142857143$"
      ],
      "text/plain": [
       "1.42857142857143"
      ]
     },
     "metadata": {},
     "output_type": "display_data"
    },
    {
     "data": {
      "text/latex": [
       "$\\displaystyle 12.2857142857143$"
      ],
      "text/plain": [
       "12.2857142857143"
      ]
     },
     "execution_count": 7,
     "metadata": {},
     "output_type": "execute_result"
    }
   ],
   "source": [
    "se = nse.subs({e.n:n, e.PR:PR, e.C_r:C_r, e.p_a:p_a, e.pi:pi, e.C_v:C_v})\n",
    "display(se)\n",
    "J1, J2, J3, J4 = e.JCU(n, D, p_a, B, pi, C_v, C_r)\n",
    "jutil = se*J1+(1-se)*J3\n",
    "jutil"
   ]
  },
  {
   "cell_type": "code",
   "execution_count": 8,
   "metadata": {},
   "outputs": [
    {
     "data": {
      "text/latex": [
       "$\\displaystyle 0.255102040816327$"
      ],
      "text/plain": [
       "0.255102040816327"
      ]
     },
     "metadata": {},
     "output_type": "display_data"
    },
    {
     "data": {
      "text/latex": [
       "$\\displaystyle 0.571428571428571$"
      ],
      "text/plain": [
       "0.571428571428571"
      ]
     },
     "execution_count": 8,
     "metadata": {},
     "output_type": "execute_result"
    }
   ],
   "source": [
    "sv = nsv.subs({e.n:n, e.PR:PR, e.p_a:p_a, e.pi:pi, e.C_e:C_e, e.C_d:C_d})\n",
    "display(sv)\n",
    "R1, R2, R3, R4 = e.RPU(n, D, p_a, pi, C_e, C_d)\n",
    "rutil = sv*R1+(1-sv)*R2\n",
    "rutil"
   ]
  },
  {
   "cell_type": "code",
   "execution_count": 9,
   "metadata": {},
   "outputs": [
    {
     "data": {
      "text/plain": [
       "Bi matrix game with payoff matrices:\n",
       "\n",
       "Row player:\n",
       "[[-0.68  1.  ]\n",
       " [-3.6   2.  ]]\n",
       "\n",
       "Column player:\n",
       "[[ 8.48  8.  ]\n",
       " [-0.4  -2.  ]]"
      ]
     },
     "metadata": {},
     "output_type": "display_data"
    },
    {
     "name": "stdout",
     "output_type": "stream",
     "text": [
      "RP strategy: [1. 0.]\n",
      "JC strategy: [1. 0.]\n",
      "RP util: -0.6800000000000002\n",
      "JC util: 8.48\n"
     ]
    }
   ],
   "source": [
    "R1,R2,R3,R4 =e.RPU(n, D, p_a, pi, C_e, C_d)\n",
    "RUM = np.array([[R1, R2], [R3, R4]]) #Row player\n",
    "\n",
    "J1,J2,J3,J4 = e.JCU(n, D, p_a, B, pi, C_v, C_r)\n",
    "JUM = np.array([[J1, J2],[J3, J4]]) #Col player  \n",
    "\n",
    "g = nashpy.Game(RUM, JUM)\n",
    "display(g)\n",
    "eqs = g.support_enumeration()\n",
    "\n",
    "for s1, s2 in eqs:\n",
    "    \n",
    "    print(\"RP strategy: {}\".format(s1))\n",
    "    print(\"JC strategy: {}\".format(s2))\n",
    "    \n",
    "    RP_util = np.dot(np.dot(s1, RUM), s2)\n",
    "    JC_util = np.dot(np.dot(s1, JUM), s2)\n",
    "    \n",
    "    \n",
    "    \n",
    "    print(\"RP util: {}\".format(RP_util))\n",
    "    print(\"JC util: {}\".format(JC_util))"
   ]
  },
  {
   "cell_type": "code",
   "execution_count": 10,
   "metadata": {},
   "outputs": [],
   "source": [
    "import matplotlib.pyplot as plt\n",
    "from matplotlib.gridspec import GridSpec\n",
    "import timeit"
   ]
  },
  {
   "cell_type": "code",
   "execution_count": 11,
   "metadata": {},
   "outputs": [],
   "source": [
    "\n",
    "def plot():\n",
    "    fig = plt.figure(constrained_layout=True, figsize=(10,8))\n",
    "    gs = GridSpec(4, 4, figure=fig)\n",
    "    ax1 = fig.add_subplot(gs[0:2, 0:2])\n",
    "    ax2 = fig.add_subplot(gs[2:4, 0:2])\n",
    "    ax3 = fig.add_subplot(gs[0:2, 2:4])\n",
    "    ax4 = fig.add_subplot(gs[2:4, 2:4])\n",
    "\n",
    "    ax1.plot(x_axis,y_axis_rutil, label=\"RP util\")\n",
    "    ax1.set_ylabel('RP util')\n",
    "    ax1.grid(visible=True)\n",
    "    # ax1.set_ylim([-2,2])\n",
    "\n",
    "\n",
    "\n",
    "    ax2.plot(x_axis,y_axis_pe, label=\"P(execute)\")\n",
    "    ax2.set_ylabel('P(e)')\n",
    "    ax2.grid(visible=True)\n",
    "    # ax2.set_ylim([0,2])\n",
    "\n",
    "    ax3.plot(x_axis,y_axis_jutil, label=\"JC util\")\n",
    "    ax3.set_ylabel('JC util')\n",
    "    ax3.grid(visible=True)\n",
    "    # ax2.set_ylim([0,2])\n",
    "\n",
    "    ax4.plot(x_axis,y_axis_pv, label=\"P(verify)\")\n",
    "    ax4.set_ylabel('P[v]')\n",
    "    ax4.grid(visible=True)\n",
    "    # ax4.set_ylim([-2,2])\n",
    "\n",
    "\n",
    "\n",
    "\n"
   ]
  },
  {
   "cell_type": "code",
   "execution_count": 17,
   "metadata": {
    "scrolled": false
   },
   "outputs": [
    {
     "data": {
      "text/plain": [
       "{'JU': 0.49999999999999994,\n",
       " 'RU': 0.9999999999999999,\n",
       " 'p_a': 1.0,\n",
       " 'g': Bi matrix game with payoff matrices:\n",
       " \n",
       " Row player:\n",
       " [[ 1.  1.]\n",
       "  [-8.  2.]]\n",
       " \n",
       " Column player:\n",
       " [[ 1.  3.]\n",
       "  [ 0. -2.]],\n",
       " 'outcomes': array([[0.05, 0.45],\n",
       "        [0.05, 0.45]]),\n",
       " 'auto': 4}"
      ]
     },
     "metadata": {},
     "output_type": "display_data"
    },
    {
     "data": {
      "image/png": "[encoded data removed]",
      "text/plain": [
       "<Figure size 720x576 with 4 Axes>"
      ]
     },
     "metadata": {
      "needs_background": "light"
     },
     "output_type": "display_data"
    }
   ],
   "source": [
    "n = 2 # public\n",
    "PR = 2 # public\n",
    "C_r = 0 # public\n",
    "\n",
    "B = 5 # no impact on p_a\n",
    "pi = 2 # public\n",
    "# 0 results in lowest p_a,\n",
    "# unless C_v = 2pi, then for some reason flips to p_a=0\n",
    "C_v = 2 \n",
    "\n",
    "\n",
    "C_e = 1 # reduces RP utility for executing\n",
    "C_d = 0 # reduces RP utility for cheating C_d < C_e\n",
    "\n",
    "D = pi*(PR + n)\n",
    "p_a = 0 # JC chooses to maximize utility\n",
    "\n",
    "# for i in range(0,11):\n",
    "    \n",
    "# print(\"--------i : {}--------\".format(i))\n",
    "# C_e = i\n",
    "\n",
    "\n",
    "JC_max, x_axis, y_axis_rutil, y_axis_pe, y_axis_jutil, y_axis_pv = e.getEq(n,PR,C_r,     B,pi,C_v,     C_e,C_d, points=101, verbose=False)\n",
    "\n",
    "display(JC_max)\n",
    "\n",
    "plot()\n"
   ]
  },
  {
   "cell_type": "code",
   "execution_count": 13,
   "metadata": {},
   "outputs": [],
   "source": [
    "# mysetup = \"import matplotlib.pyplot as plt\"\n",
    "# cmd = 'plt.subplots(ncols=2, nrows=2, constrained_layout=True)'\n",
    "# timeit.timeit(setup=mysetup, stmt=cmd, number=10)/10"
   ]
  },
  {
   "cell_type": "code",
   "execution_count": 14,
   "metadata": {},
   "outputs": [],
   "source": [
    "# mysetup = '''\n",
    "# import matplotlib.pyplot as plt\n",
    "# from __main__ import testspec\n",
    "# '''\n",
    "                    \n",
    "\n",
    "# def testspec():\n",
    "#     fig = plt.figure(constrained_layout=True)\n",
    "#     gs = GridSpec(4, 4, figure=fig)\n",
    "#     ax1 = fig.add_subplot(gs[0:2, 0:2])\n",
    "#     ax2 = fig.add_subplot(gs[2:4, 0:2])\n",
    "#     ax3 = fig.add_subplot(gs[0:2, 2:4])\n",
    "#     ax4 = fig.add_subplot(gs[2:4, 2:4])\n",
    "\n",
    "# mycode = '''testspec()'''\n",
    "\n",
    "# timeit.timeit(setup=mysetup, stmt=mycode, number=10)/10"
   ]
  }
 ],
 "metadata": {
  "kernelspec": {
   "display_name": "Python 3",
   "language": "python",
   "name": "python3"
  },
  "language_info": {
   "codemirror_mode": {
    "name": "ipython",
    "version": 3
   },
   "file_extension": ".py",
   "mimetype": "text/x-python",
   "name": "python",
   "nbconvert_exporter": "python",
   "pygments_lexer": "ipython3",
   "version": "3.6.8"
  }
 },
 "nbformat": 4,
 "nbformat_minor": 2
}
