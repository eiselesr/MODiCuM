{
 "cells": [
  {
   "cell_type": "code",
   "execution_count": 1,
   "metadata": {},
   "outputs": [],
   "source": [
    "from __future__ import print_function\n",
    "import ipywidgets as widgets \n",
    "import matplotlib.pyplot as plt\n",
    "import numpy as np"
   ]
  },
  {
   "cell_type": "markdown",
   "metadata": {},
   "source": [
    "# JC Model\n",
    "\n",
    "### Job Creator parameters\n",
    "\n",
    "$r = instructionCount*JO.rate + bandwidthUsage*JO.rate$ : The reward the JC is willing to pay to have a job executed.\n",
    "\n",
    "$pID = 1$ : The probability that JC will identify a job as class 1, 2, or junk.\n",
    "\n",
    "$p_{v1}$ : probability the JC verifies answers from class 1. \n",
    "\n",
    "$p_{v2}$ : probability the JC verifies answers from class 2. This probability is 0 because it can just go straight to mediation. \n",
    "\n",
    "$vc$ : cost to JC to verify result.\n",
    "\n",
    "$b$ : the value or benefit JC gets when a job is performed correctly.\n",
    "\n",
    "$matchPrice$ : the amount JC pays to Solver for finding a suitable RP. \n",
    "\n",
    "$mediatorPrice$ : The amount JC pays to mediator for being available. \n",
    "\n",
    "$p_1$ : probability that job returns answer in class $a1$\n",
    "\n",
    "$p_2 = 1-p_1$ : probability that job returns answer in class $a2$\n",
    "\n",
    "$deposit = price\\times PR\\times n$ : the amount the Job Creator must post as a security deposit in order to get matched. It multiplied by the $n$, which as a reminder is the number of times the mediator will replicate a job. "
   ]
  },
  {
   "cell_type": "code",
   "execution_count": 2,
   "metadata": {},
   "outputs": [],
   "source": [
    "def JCU(n,PR,NDPR,  b,mb,r,p1,pID,idc,pv1,vc1,pv2,vc2,gasCost,  pq):\n",
    "    '''if (1-pq) then 1=p1+p2+p3. p1 and p2 would how likely the RP is guess a valid looking solution. If the ID task is good they will be 0, so we assume p3=1. This means we only need one set of (1-pq) terms'''\n",
    "    \n",
    "    p2 = 1-p1\n",
    "    \n",
    "    NDdeposit = r * NDPR + (r*n)\n",
    "    \n",
    "    honest = pID*p1*pv1*pq * (b-r-vc1-idc)\n",
    "    \n",
    "    # I'm not sure if these two terms are relevant or not. When would they come into play?\n",
    "    # I guess they would be relevant when pID doesn't work? But if it doesn't work, just send to mediation. I think DRP covers this adequately \n",
    "#     HJC_DRP_Gain = pID*p1*pv1*(1-pq)* (p1**n) * (mb+r-vc1-idc)\n",
    "#     HJC_DRP_Lose = pID*p1*pv1*(1-pq)* (1-p1**n) * (-NDdeposit - gasCost -vc1-idc)\n",
    " \n",
    "    \n",
    "    lazy   = pID*p1*(1-pv1)*pq * (b - r - idc)\n",
    "    \n",
    "    \n",
    "    normal = honest + lazy\n",
    "    \n",
    "    # ----------------------------------------------------\n",
    "    # pv2 will be 0, since the point is get jobs done this way for free.\n",
    "    # ----------------------------------------------------\n",
    "#     CNDJC_HRP_Gain = p2*pv2*pq * (p1**n) * (b + r - vc2)     \n",
    "#     CNDJC_HRP_Lose = p2*pv2*pq * (1-p1**n) * (b - NDdeposit - vc2)\n",
    "    \n",
    "#     CNDJC_DRP_Gain = p2*pv2*(1-pq) * (p1**n) * (mb + r - vc2)     \n",
    "#     CNDJC_DRP_Lose = p2*pv2*(1-pq) * (1-p1**n) * ( - NDdeposit - vc2)\n",
    "    \n",
    "    NDJC_HRP_Gain = pID*p2*(1-pv2)*pq   * (p1**n) * (b + r - idc)    # gasCost is refunded  \n",
    "    NDJC_HRP_Lose = pID*p2*(1-pv2)*(pq) * (1-p1**n) * (b - NDdeposit - gasCost - idc)\n",
    "    \n",
    "    ND = NDJC_HRP_Gain + NDJC_HRP_Lose\n",
    "    \n",
    "    # ----------------------------------------------------------\n",
    "    # 1-pq is likely not p1 or p2 so deal with it separately?\n",
    "    # ----------------------------------------------------------\n",
    "#     NDJC_DRP_Gain = p2*(1-pv2)*(1-pq) * (p1**n) * (mb + r)  \n",
    "#     NDJC_DRP_Lose = p2*(1-pv2)*(1-pq) * (p1**n) * ( - NDdeposit)\n",
    "    \n",
    "    DRP_Gain = pID*(1-pq) * (p1**n) * (mb + r - idc)\n",
    "    DRP_Lose = pID*(1-pq) * (1-p1**n) * (- NDdeposit - gasCost - idc)      \n",
    "    DRP_scared = pID*(1-pq) * (-r - idc)\n",
    "    \n",
    "    if p1 != 1:\n",
    "        '''JC is non-deterministic'''\n",
    "        DRP = max(DRP_Gain+DRP_Lose, DRP_scared)\n",
    "    else: \n",
    "        '''JC is deterministic'''\n",
    "        DRP = DRP_Gain \n",
    "#     DRP = max(DRP_Gain+DRP_Lose, DRP_scared)\n",
    "    \n",
    "    \n",
    "    noID_HRP   = (1-pID) * pq * (b-r)\n",
    "    noID_DRP = (1-pID) * (1-pq) * (-r)\n",
    "    noID = noID_HRP + noID_DRP\n",
    "    \n",
    "    return normal + ND + DRP + noID\n",
    "\n",
    " \n",
    "    "
   ]
  },
  {
   "cell_type": "code",
   "execution_count": 3,
   "metadata": {},
   "outputs": [],
   "source": [
    "def RPU(n,PR,NDPR,  r,p1,pID,pv1,pv2,  pq,ec,I,dc):\n",
    "    p2 = 1-p1\n",
    "    deposit = r * PR + (r*n)\n",
    "        \n",
    "    honestJC = pq*pID*p1*pv1*(r-ec) #           \n",
    "    lazyJC = pq*pID*p1*(1-pv1)*(r-ec)\n",
    "    normal = honestJC + lazyJC    \n",
    "    \n",
    "    NDJC_HRP_Gain = pID*p2*(1-pv2)*(pq) * (1-p1**n) * (r-ec)#\n",
    "    NDJC_HRP_Lose = pID*p2*(1-pv2)*(pq) * (p1**n) * (-ec - deposit)#\n",
    "    ND = NDJC_HRP_Gain + NDJC_HRP_Lose    \n",
    "    \n",
    "    DRP_Gain = pID*(1-pq) * (1-p1**n) * (r-dc)  #\n",
    "    DRP_Lose = pID*(1-pq) * (p1**n) * (-dc - deposit)#\n",
    "    DRP_scared = pID*(1-pq) * (r - dc) #\n",
    "#     DRP = min(DRP_Gain+DRP_Lose, DRP_scared) #this isn't quite right, it won't be decided by the RPU. Its decided by the JCU\n",
    "    DRP = DRP_Gain+DRP_Lose\n",
    "    \n",
    "    \n",
    "    noID_HRP = (1-pID) * pq * (r - ec)#\n",
    "    noID_DRP = (1-pID) * (1-pq) * (r - dc)#\n",
    "    noID = noID_HRP + noID_DRP\n",
    "    \n",
    "    return normal + ND + DRP + noID + I\n",
    "    "
   ]
  },
  {
   "cell_type": "code",
   "execution_count": 4,
   "metadata": {},
   "outputs": [],
   "source": [
    "def RPNDUD(n,PR,NDPR,  r,p1,pID=1,  q=1, ec=0, I=0,dc=0):\n",
    "    p2 = 1-p1\n",
    "#     deposit = price * PR\n",
    "#     deposit = price * PR * n\n",
    "    deposit = r * PR + (r * n)\n",
    "    \n",
    "    \n",
    "    execCost = ec\n",
    "    \n",
    "    insurance =  I\n",
    "\n",
    "    #Cj is cost of execution for fraudulant job, picking a random number or \"close\" value\n",
    "    fraudCost = dc\n",
    "    \n",
    "    honestJC = pID*q*p1*(r-execCost) #compute answer 1 (p1) correctly (q) receive reward (price)\n",
    "    \n",
    "    NDJC_HRP_Gain = pID*q*p2*(1-p1**n)*(r-execCost) #compute answer 2 (p2) correctly (q) get sent to mediation, who finds nondeterminism (1-p1^n) and recieve reward (r) and nonDet bonus (f2-f)*k kickback=k\n",
    "    NDJC_HRP_Lose = pID*q*p2*(p1**n)*(-deposit-execCost) # compute answer 2 correctly (p2) get sent to mediation, who doesn't find nondeterminsm (p1^n) and get fined (f)\n",
    "    ND = NDJC_HRP_Gain + NDJC_HRP_Lose \n",
    "    \n",
    "    DRP_Gain = pID*(1-q)*(1-p1**n)*(r-fraudCost)# compute incorrectly (1-q) get sent to mediation, finds nondeterminism (1-p1^n) get compensation.\n",
    "    DRP_Lose = pID*(1-q)*(p1**n)*(-deposit-fraudCost) #compute incorrectly (1-q) get sent to mediation, who doesn't find nondeterminsm (p1^n) and get fined (f)\n",
    "    DRP = DRP_Gain+DRP_Lose\n",
    "    \n",
    "    DRP_scared  = pID*(1-q)*(r-fraudCost) # JC doesn't want to risk getting caught, just pay RP. \n",
    "    \n",
    "    #     noVerifypayout = (1-p)*price #compute answer 1 (p1) correctly (q) receive reward (price)\n",
    "    noID_HRP = (1-pID) * q * (r - execCost)\n",
    "    noID_DRP = (1-pID) * (1-q) * (r - fraudCost)\n",
    "    noVerifypayout = noID_HRP + noID_DRP\n",
    "    \n",
    "    \n",
    "    RCnonDet = honestJC + ND + DRP + insurance + noVerifypayout\n",
    "    return RCnonDet"
   ]
  },
  {
   "cell_type": "code",
   "execution_count": 5,
   "metadata": {},
   "outputs": [],
   "source": [
    "def getQ(ec,dc,f,m,r,p):\n",
    "    qPoint = (ec-dc)/(f)\n",
    "    if (p>qPoint):\n",
    "        return(1)\n",
    "    else:\n",
    "        return(0)"
   ]
  },
  {
   "cell_type": "code",
   "execution_count": 6,
   "metadata": {},
   "outputs": [],
   "source": [
    "def plot(xs,ys):\n",
    "    plt.subplot(1,1,1)\n",
    "    plt.grid(visible=True)\n",
    "    \n",
    "    xlabel = next(iter(xs))\n",
    "    for y in ys.keys():\n",
    "        plt.plot(xs[xlabel],ys[y],label=y)\n",
    "    \n",
    "    plt.xlabel(xlabel)\n",
    "    plt.ylabel('Util') \n",
    "    \n",
    "    plt.legend()\n",
    "    plt.show\n",
    "    "
   ]
  },
  {
   "cell_type": "code",
   "execution_count": 7,
   "metadata": {},
   "outputs": [],
   "source": [
    "x,step = np.linspace(0,1,51,retstep=True)\n",
    "\n",
    "def Util(vary, n,PR,NDPR,  b,mb,r,p1,pID,idc,pv1,vc1,pv2,vc2,  pq,dc,ir,roi):       \n",
    "    \n",
    "    # JC y-axis\n",
    "    ys ={}\n",
    "    \n",
    "    # RP y-axis\n",
    "    ec = r*(1-roi) # execution cost\n",
    "    deposit = r * PR + (r*n)\n",
    "    I =  deposit*ir # insurance    \n",
    "    \n",
    "    if vary == 'p1':\n",
    "        ys['yNDJC'] = list(map(lambda p1: JCU(n,PR,NDPR, b=b,mb=mb,r=r,p1=p1,pID=pID,idc=idc,pv1=pv1,vc1=vc1,pv2=pv2,vc2=vc2,gasCost=JCgasCost, pq=pq),x))\n",
    "        ys['yHJC'] =  list(map(lambda p1: JCU(n,PR,NDPR, b=b,mb=mb,r=r,p1=1,pID=pID,idc=idc,pv1=1,vc1=0,pv2=1,vc2=0,gasCost=JCgasCost, pq=pq),x))       \n",
    "\n",
    "        ys['yHRP'] = list(map(lambda p1: RPU(n,PR,NDPR,  r,p1,pID,pv1,pv2,  pq=1,ec=ec,I=I,dc=dc),x))\n",
    "        ys['yDRP'] = list(map(lambda p1: RPU(n,PR,NDPR,  r,p1,pID,pv1,pv2,  pq,ec,I,dc),x))\n",
    "        xs = {'P(a1)':x}\n",
    "        \n",
    "    if vary == 'q':\n",
    "#         ys['yNDJC'] = list(map(lambda pq: JCU(n,PR,NDPR, b=b,mb=mb,r=r,p1=p1,pID=pID,idc=idc,pv1=pv1,vc1=vc1,pv2=pv2,vc2=vc2,gasCost=JCgasCost, pq=pq),x))\n",
    "#         ys['yHJC'] =  list(map(lambda pq: JCU(n,PR,NDPR, b=b,mb=mb,r=r,p1=1,pID=pID,idc=idc,pv1=1,vc1=0,pv2=1,vc2=0,gasCost=JCgasCost, pq=pq),x))       \n",
    "        ys['RPNDUD'] = list(map(lambda pq: RPNDUD(n,PR,NDPR,  r,p1,pID,          q=pq, ec=ec, I=I,dc=dc),x))\n",
    "        print(\"n,PR,NDPR,  r,p1,pID,          q=pq, ec=ec, I=I,dc=dc\")\n",
    "        print(n,PR,NDPR,  r,p1,pID,          \"pq\", ec, I,dc)\n",
    "        ys['yDRP']   = list(map(lambda pq:    RPU(n,PR,NDPR,  r,p1,pID,pv1,pv2,  pq,ec,I,dc),x))\n",
    "        print(\"n,PR,NDPR,  r,p1,pID,pv1,pv2,  pq,ec,I,dc\")\n",
    "        print(n,PR,NDPR,  r,p1,pID,pv1,pv2,  pq,ec,I,dc)\n",
    "        xs = {'P(q)':x}\n",
    "        \n",
    "    if vary == 'pID':\n",
    "        ys['yNDJC'] = list(map(lambda pID: JCU(n,PR,NDPR, b=b,mb=mb,r=r,p1=p1,pID=pID,idc=idc,pv1=pv1,vc1=vc1,pv2=pv2,vc2=vc2,gasCost=JCgasCost, pq=pq),x))\n",
    "        ys['yHJC'] =  list(map(lambda pID: JCU(n,PR,NDPR, b=b,mb=mb,r=r,p1=1,pID=pID,idc=idc,pv1=1,vc1=0,pv2=1,vc2=0,gasCost=JCgasCost, pq=pq),x))       \n",
    "\n",
    "        ys['yHRP'] = list(map(lambda pID: RPU(n,PR,NDPR,  r,p1,pID,pv1,pv2,  pq=1,ec=ec,I=I,dc=dc),x))\n",
    "        ys['yDRP'] = list(map(lambda pID: RPU(n,PR,NDPR,  r,p1,pID,pv1,pv2,  pq,ec,I,dc),x))\n",
    "        xs = {'P(ID)':x}\n",
    "        \n",
    "    \n",
    "    \n",
    "    plot(xs,ys)"
   ]
  },
  {
   "cell_type": "code",
   "execution_count": 8,
   "metadata": {},
   "outputs": [],
   "source": [
    "# Vary\n",
    "wvary = widgets.Dropdown(options=['p1','q','pID'])\n",
    "\n",
    "# Mediator parameters\n",
    "wn = widgets.IntSlider(min=0,max=10,step=1,value=1, description='n',continuous_update=False)\n",
    "wPR = widgets.FloatSlider(min=0,max=300,step=.5,value=1, description='PR', continuous_update=False) #Penalty Rate\n",
    "wNDPR = widgets.FloatSlider(min=0,max=300,step=.5,value=1, description='NDPR',continuous_update=False)#Non-deterministic Penalty rate\n",
    "\n",
    "# JC parameters\n",
    "wb = widgets.IntSlider(min=0,max=10000,step=1,value=1, description='b',continuous_update=False)\n",
    "wmb = widgets.IntSlider(min=0,max=10000,step=1,value=1, description='mb',continuous_update=False)\n",
    "wr = widgets.IntSlider(min=0,max=10000,step=1,value=1, description='r',continuous_update=False)\n",
    "wp1 = widgets.FloatSlider(min=0,max=1,step=.1,value=1, description='p1', continuous_update=False)\n",
    "wpID = widgets.FloatSlider(min=0,max=1,step=.1,value=1, description='P(ID)', continuous_update=False)\n",
    "widc = widgets.IntSlider(min=0,max=1000,step=1,value=0, description='idc',continuous_update=False)\n",
    "wpv1 = widgets.FloatSlider(min=0,max=1,step=.1,value=1, description='P(verify 1)', continuous_update=False) # how often JC verifies\n",
    "wvc1 = widgets.FloatSlider(min=0,max=100,step=.1,value=0, description='vc1',continuous_update=False) # cost for JC to verify\n",
    "wpv2 = widgets.FloatSlider(min=0,max=1,step=.1,value=0, description='P(verify 2)', continuous_update=False) # how often JC verifies\n",
    "wvc2 = widgets.FloatSlider(min=0,max=100,step=.1,value=0, description='vc2',continuous_update=False) # cost for JC to verify\n",
    "\n",
    "JCgasCost = 0\n",
    "JCmatchCost = 1\n",
    "JCmediatorCost = 1\n",
    "\n",
    "# RP parameters\n",
    "wpq = widgets.FloatSlider(min=0,max=1,step=.1,value=1,description='pq', continuous_update=False) # probability that RP runs correctly\n",
    "wdc= widgets.FloatSlider(min=0,max=100,step=.1,value=4, description='dc',continuous_update=False) # cost for RP to generate fake job response\n",
    "wir = widgets.FloatSlider(min=0,max=1,step=.01,value=.5 ,description='ir',continuous_update=False) # % of deposit that can be recovered because execution is so cheap.\n",
    "wroi = widgets.FloatSlider(min=0,max=1,step=.01,value=.5,description='roi', continuous_update=False) # what percent of reward is profit\n",
    "\n",
    "\n",
    "RPgasCost = 0\n",
    "RPmatchCost = 1\n",
    "RPmediatorCost = 1\n",
    "\n",
    "# ui = widgets.HBox([wn,wPR,wNDPR,wPrice,wp,wcj,wq,wroi,winsurance])\n",
    "ui0 = widgets.HBox([wvary])\n",
    "ui1 = widgets.HBox([wn,wPR,wNDPR])\n",
    "ui2 = widgets.HBox([wb,wmb,wr,wpID,widc])\n",
    "ui22 = widgets.HBox([wp1,wpv1,wvc1,wpv2,wvc2])\n",
    "ui3 = widgets.HBox([wpq,wroi,wir,wdc])\n",
    "\n",
    "plotParams = {'vary':wvary,\n",
    "              'n': wn,\n",
    "              'PR':wPR,\n",
    "              'NDPR':wNDPR,\n",
    "              'b':wb,\n",
    "              'mb':wmb,\n",
    "              'r':wr,\n",
    "              'p1':wp1,\n",
    "              'pID':wpID,\n",
    "              'idc':widc,\n",
    "              'pv1':wpv1,\n",
    "              'vc1':wvc1,\n",
    "              'pv2':wpv2,\n",
    "              'vc2':wvc2,\n",
    "              'pq': wpq,\n",
    "              'dc': wdc,\n",
    "              'ir': wir,\n",
    "              'roi':wroi}\n",
    "\n"
   ]
  },
  {
   "cell_type": "markdown",
   "metadata": {},
   "source": [
    "### Honest JC, Deceitful RP\n",
    "p1 = 1\n",
    "pv1 = 1   \n",
    "vc1 = 0\n",
    "pv2 = 0\n",
    "pc2 = 0\n",
    "\n",
    "$p_{ID}*pq*(b-r-idc) + (1-pID)*pq*(b-r)  + p_{ID}*(1-pq)*(mb + r - idc) + (1-p_{ID})*(1-pq)*(-r)$\n",
    "\n",
    "**Simplify**\n",
    "\n",
    "$pq * (b-r -p_{ID}*idc)  + (1-pq)*(p_{ID}*(mb + r - idc) + (1-p_{ID})*(-r))$\n"
   ]
  },
  {
   "cell_type": "code",
   "execution_count": 9,
   "metadata": {},
   "outputs": [
    {
     "data": {
      "application/vnd.jupyter.widget-view+json": {
       "model_id": "8cdcdb6cd9344db5b883e1c2454f05ff",
       "version_major": 2,
       "version_minor": 0
      },
      "text/plain": [
       "Output(layout=Layout(height='300px'))"
      ]
     },
     "metadata": {},
     "output_type": "display_data"
    },
    {
     "data": {
      "application/vnd.jupyter.widget-view+json": {
       "model_id": "a8ea35afe3c4417f91b6c476217db2e9",
       "version_major": 2,
       "version_minor": 0
      },
      "text/plain": [
       "HBox(children=(IntSlider(value=1, continuous_update=False, description='n', max=10), FloatSlider(value=1.0, co…"
      ]
     },
     "metadata": {},
     "output_type": "display_data"
    },
    {
     "data": {
      "application/vnd.jupyter.widget-view+json": {
       "model_id": "b6d394d0cb0649eca20ed91ffce6f071",
       "version_major": 2,
       "version_minor": 0
      },
      "text/plain": [
       "HBox(children=(IntSlider(value=1, continuous_update=False, description='b', max=10000), IntSlider(value=1, con…"
      ]
     },
     "metadata": {},
     "output_type": "display_data"
    },
    {
     "data": {
      "application/vnd.jupyter.widget-view+json": {
       "model_id": "6de9b9486c324840a99ab6da16fc84ab",
       "version_major": 2,
       "version_minor": 0
      },
      "text/plain": [
       "HBox(children=(FloatSlider(value=1.0, continuous_update=False, description='p1', max=1.0), FloatSlider(value=1…"
      ]
     },
     "metadata": {},
     "output_type": "display_data"
    },
    {
     "data": {
      "application/vnd.jupyter.widget-view+json": {
       "model_id": "afe5845a1f684ef6a702c3500710c212",
       "version_major": 2,
       "version_minor": 0
      },
      "text/plain": [
       "HBox(children=(FloatSlider(value=1.0, continuous_update=False, description='pq', max=1.0), FloatSlider(value=0…"
      ]
     },
     "metadata": {},
     "output_type": "display_data"
    },
    {
     "data": {
      "application/vnd.jupyter.widget-view+json": {
       "model_id": "b27f7dd199ed434084bfe670c564ac4c",
       "version_major": 2,
       "version_minor": 0
      },
      "text/plain": [
       "HBox(children=(Dropdown(options=('p1', 'q', 'pID'), value='p1'),))"
      ]
     },
     "metadata": {},
     "output_type": "display_data"
    }
   ],
   "source": [
    "interactive_plot = widgets.interactive_output(Util,plotParams);\n",
    "# output = interactive_plot.children[-1]\n",
    "interactive_plot.layout.height = '300px'\n",
    "display(interactive_plot,ui1,ui2,ui22,ui3,ui0)"
   ]
  },
  {
   "cell_type": "code",
   "execution_count": null,
   "metadata": {},
   "outputs": [],
   "source": []
  }
 ],
 "metadata": {
  "kernelspec": {
   "display_name": "Python 3",
   "language": "python",
   "name": "python3"
  },
  "language_info": {
   "codemirror_mode": {
    "name": "ipython",
    "version": 3
   },
   "file_extension": ".py",
   "mimetype": "text/x-python",
   "name": "python",
   "nbconvert_exporter": "python",
   "pygments_lexer": "ipython3",
   "version": "3.6.6"
  }
 },
 "nbformat": 4,
 "nbformat_minor": 2
}
