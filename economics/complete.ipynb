{
 "cells": [
  {
   "cell_type": "code",
   "execution_count": 1,
   "metadata": {},
   "outputs": [],
   "source": [
    "from __future__ import print_function\n",
    "import ipywidgets as widgets \n",
    "import matplotlib.pyplot as plt\n",
    "import numpy as np"
   ]
  },
  {
   "cell_type": "markdown",
   "metadata": {},
   "source": [
    "# JC Model\n",
    "\n",
    "### Job Creator parameters\n",
    "\n",
    "$r = instructionCount*JO.rate + bandwidthUsage*JO.rate$ : The reward the JC is willing to pay to have a job executed.\n",
    "\n",
    "$pID = 1$ : The probability that JC will identify a job as class 1, 2, or junk.\n",
    "\n",
    "$p_{v1}$ : probability the JC verifies answers from class 1. \n",
    "\n",
    "$p_{v2}$ : probability the JC verifies answers from class 2. This probability is 0 because it can just go straight to mediation. \n",
    "\n",
    "$vc$ : cost to JC to verify result.\n",
    "\n",
    "$b$ : the value or benefit JC gets when a job is performed correctly.\n",
    "\n",
    "$matchPrice$ : the amount JC pays to Solver for finding a suitable RP. \n",
    "\n",
    "$mediatorPrice$ : The amount JC pays to mediator for being available. \n",
    "\n",
    "$p_1$ : probability that job returns answer in class $a1$\n",
    "\n",
    "$p_2 = 1-p_1$ : probability that job returns answer in class $a2$\n",
    "\n",
    "$deposit = price\\times PR\\times n$ : the amount the Job Creator must post as a security deposit in order to get matched. It multiplied by the $n$, which as a reminder is the number of times the mediator will replicate a job. "
   ]
  },
  {
   "cell_type": "code",
   "execution_count": 2,
   "metadata": {},
   "outputs": [],
   "source": [
    "def JCU(n,PR,NDPR,  b,mb,r,p1,pID,idc,pv1,vc1,pv2,vc2,gasCost,  pq):\n",
    "    \n",
    "    p2 = 1-p1\n",
    "    \n",
    "    NDdeposit = r * NDPR * n\n",
    "    \n",
    "    honest = pID*p1*pv1*pq * (b-r-vc1-idc)\n",
    "    \n",
    "    # ----------------------------------------------------------\n",
    "    # 1-pq is likely not p1 or p2 so deal with it separately?\n",
    "    # ----------------------------------------------------------\n",
    "#     DRP_Gain   = p1*pv1*(1-pq) * (p1**n) * (mb + r - vc1)     \n",
    "#     DRP_Lose   = p1*pv1*(1-pq) * (1-p1**n) * ( - NDdeposit - vc1)    \n",
    "    \n",
    "    lazy   = pID*p1*(1-pv1)*pq * (b - r - idc)\n",
    "    \n",
    "#     unlucky = p1*(1-pv1)*(1-pq) * (-r)\n",
    "    \n",
    "    normal = honest + lazy\n",
    "    \n",
    "    # ----------------------------------------------------\n",
    "    # pv2 will be 0. \n",
    "    # ----------------------------------------------------\n",
    "#     CNDJC_HRP_Gain = p2*pv2*pq * (p1**n) * (b + r - vc2)     \n",
    "#     CNDJC_HRP_Lose = p2*pv2*pq * (1-p1**n) * (b - NDdeposit - vc2)\n",
    "    \n",
    "#     CNDJC_DRP_Gain = p2*pv2*(1-pq) * (p1**n) * (mb + r - vc2)     \n",
    "#     CNDJC_DRP_Lose = p2*pv2*(1-pq) * (1-p1**n) * ( - NDdeposit - vc2)\n",
    "    \n",
    "    NDJC_HRP_Gain = pID*p2*(1-pv2)*pq   * (p1**n) * (b + r - idc)    # gasCost is refunded  \n",
    "    NDJC_HRP_Lose = pID*p2*(1-pv2)*(pq) * (1-p1**n) * (b - NDdeposit - gasCost - idc)\n",
    "    \n",
    "    ND = NDJC_HRP_Gain + NDJC_HRP_Lose\n",
    "    \n",
    "    # ----------------------------------------------------------\n",
    "    # 1-pq is likely not p1 or p2 so deal with it separately?\n",
    "    # ----------------------------------------------------------\n",
    "#     NDJC_DRP_Gain = p2*(1-pv2)*(1-pq) * (p1**n) * (mb + r)  \n",
    "#     NDJC_DRP_Lose = p2*(1-pv2)*(1-pq) * (p1**n) * ( - NDdeposit)\n",
    "    \n",
    "    DRP_Gain = pID*(1-pq) * (p1**n) * (mb + r - idc)\n",
    "    DRP_Lose = pID*(1-pq) * (1-p1**n) * (- NDdeposit - gasCost - idc)  \n",
    "    DRP_scared = pID*(1-pq) * (-r - idc)\n",
    "    \n",
    "    if p1 != 1:\n",
    "        '''JC is non-deterministic'''\n",
    "        DRP = max(DRP_Gain+DRP_Lose, DRP_scared)\n",
    "    else: \n",
    "        '''JC is deterministic'''\n",
    "        DRP = DRP_Gain           \n",
    "    \n",
    "    \n",
    "    noID_HRP   = (1-pID) * pq * (b-r)\n",
    "    noID_DRP = (1-pID) * (1-pq) * (-r)\n",
    "    noID = noID_HRP + noID_DRP\n",
    "    \n",
    "    return normal + ND + DRP + noID\n",
    "\n",
    " \n",
    "    "
   ]
  },
  {
   "cell_type": "code",
   "execution_count": 3,
   "metadata": {},
   "outputs": [],
   "source": [
    "def RPU(n,PR,NDPR,  r,p1,pID,pv1,pv2,  pq,ec,I,dc):\n",
    "    p2 = 1-p1\n",
    "    deposit = r * PR * n\n",
    "        \n",
    "    honestJC = pq*pID*p1*pv1*(r-ec)    \n",
    "    lazyJC = pq*pID*p1*(1-pv1)*(r-ec)\n",
    "    normal = honestJC + lazyJC    \n",
    "    \n",
    "    NDJC_HRP_Gain = pID*p2*(1-pv2)*(pq) * (1-p1**n) * (r-ec)\n",
    "    NDJC_HRP_Lose = pID*p2*(1-pv2)*(pq) * (p1**n) * (-ec - deposit)\n",
    "    ND = NDJC_HRP_Gain + NDJC_HRP_Lose    \n",
    "    \n",
    "    DRP_Gain = pID*(1-pq) * (1-p1**n) * (r-dc)  \n",
    "    DRP_Lose = pID*(1-pq) * (p1**n) * (-dc - deposit)\n",
    "    DRP_scared = pID*(1-pq) * (r - dc)\n",
    "#     DRP = min(DRP_Gain+DRP_Lose, DRP_scared) #this isn't quite right, it won't be decided by the RPU. Its decided by the JCU\n",
    "    DRP = DRP_Gain+DRP_Lose\n",
    "    \n",
    "    \n",
    "    noID_HRP = (1-pID) * pq * (r - ec)\n",
    "    noID_DRP = (1-pID) * (1-pq) * (r - dc)\n",
    "    noID = noID_HRP + noID_DRP\n",
    "    \n",
    "    return normal + ND + DRP + noID\n",
    "    "
   ]
  },
  {
   "cell_type": "markdown",
   "metadata": {},
   "source": [
    "### Honest JC, Deceitful RP\n",
    "p1 = 1\n",
    "pv1 = 1   \n",
    "vc1 = 0\n",
    "\n",
    "$p_{ID}*pq*(b-r-idc) + (1-pID)*pq*(b-r)  + p_{ID}*(1-pq)*(mb + r - idc) + (1-p_{ID})*(1-pq)*(-r)$\n",
    "\n",
    "**Simplify**\n",
    "\n",
    "$pq * (b-r -p_{ID}*idc)  + (1-pq)*(p_{ID}*(mb + r - idc) + (1-p_{ID})*(-r))$\n"
   ]
  },
  {
   "cell_type": "code",
   "execution_count": 4,
   "metadata": {},
   "outputs": [],
   "source": [
    "x,step = np.linspace(0,1,51,retstep=True)\n",
    "\n",
    "def plotUtil( n,PR,NDPR,  b,mb,r,pID,idc,pv1,vc1,pv2,vc2,  pq,dc,ir,roi):\n",
    "  \n",
    "    plt.subplot(1,1,1)\n",
    "    plt.grid(visible=True)\n",
    "    \n",
    "    print(\"step size: %s\" %step)\n",
    "    \n",
    "    # JC y-axis\n",
    "    yJND = list(map(lambda p1: JCU(n,PR,NDPR, b=b,mb=mb,r=r,p1=p1,pID=pID,idc=idc,pv1=pv1,vc1=vc1,pv2=pv2,vc2=vc2,gasCost=JCgasCost, pq=pq),x))\n",
    "    yJ   = list(map(lambda p1: JCU(n,PR,NDPR, b=b,mb=mb,r=r,p1=1,pID=pID,idc=idc,pv1=1,vc1=0,pv2=1,vc2=0,gasCost=JCgasCost, pq=pq),x))\n",
    "                \n",
    "    # RP y-axis\n",
    "    ec = - pq*r*(1-roi) # execution cost\n",
    "    deposit = r * PR * n\n",
    "    I =  deposit*ir # insurance\n",
    "    \n",
    "    \n",
    "    yR  = list(map(lambda p1: RPU(n,PR,NDPR,  r,p1,pID,pv1,pv2,  pq=1,ec=ec,I=I,dc=dc),x))\n",
    "    yDR = list(map(lambda p1: RPU(n,PR,NDPR,  r,p1,pID,pv1,pv2,  pq,ec,I,dc),x))\n",
    "    \n",
    "    plt.plot(x,yJ, label=\"JU\")\n",
    "    plt.plot(x,yJND, label=\"JUND\")\n",
    "    plt.plot(x,yR, label=\"yR\")\n",
    "    plt.plot(x,yDR, label=\"yDR\")\n",
    "    plt.xlabel('P(a1)')\n",
    "    plt.ylabel('Util') \n",
    "    \n",
    "    plt.legend()\n",
    "    plt.show"
   ]
  },
  {
   "cell_type": "code",
   "execution_count": 5,
   "metadata": {},
   "outputs": [],
   "source": [
    "\n",
    "\n",
    "# Mediator parameters\n",
    "wn = widgets.IntSlider(min=0,max=10,step=1,value=4, description='n',continuous_update=False)\n",
    "wPR = widgets.FloatSlider(min=0,max=300,step=.5,value=1, description='PR', continuous_update=False) #Penalty Rate\n",
    "wNDPR = widgets.FloatSlider(min=0,max=300,step=.5,value=1, description='NDPR',continuous_update=False)#Non-deterministic Penalty rate\n",
    "\n",
    "# JC parameters\n",
    "wb = widgets.IntSlider(min=0,max=10000,step=1,value=1, description='b',continuous_update=False)\n",
    "wmb = widgets.IntSlider(min=0,max=10000,step=1,value=1, description='mb',continuous_update=False)\n",
    "wr = widgets.IntSlider(min=0,max=10000,step=1,value=1, description='r',continuous_update=False)\n",
    "wpID = widgets.FloatSlider(min=0,max=1,step=.1,value=1, description='P(ID)', continuous_update=False)\n",
    "widc = widgets.IntSlider(min=0,max=1000,step=1,value=0, description='idc',continuous_update=False)\n",
    "wpv1 = widgets.FloatSlider(min=0,max=1,step=.1,value=1, description='P(verify 1)', continuous_update=False) # how often JC verifies\n",
    "wvc1 = widgets.FloatSlider(min=0,max=100,step=.1,value=0, description='vc1',continuous_update=False) # cost for JC to verify\n",
    "wpv2 = widgets.FloatSlider(min=0,max=1,step=.1,value=0, description='P(verify 2)', continuous_update=False) # how often JC verifies\n",
    "wvc2 = widgets.FloatSlider(min=0,max=100,step=.1,value=0, description='vc2',continuous_update=False) # cost for JC to verify\n",
    "\n",
    "JCgasCost = 0\n",
    "JCmatchCost = 1\n",
    "JCmediatorCost = 1\n",
    "\n",
    "# RP parameters\n",
    "wpq = widgets.FloatSlider(min=0,max=1,step=.1,value=1,description='pq', continuous_update=False) # probability that RP runs correctly\n",
    "wdc= widgets.FloatSlider(min=0,max=1,step=.1,value=0, description='dc',continuous_update=False) # cost for RP to generate fake job response\n",
    "wir = widgets.FloatSlider(min=0,max=1,step=.01,value=0 ,description='ir',continuous_update=False) # % of deposit that can be recovered because execution is so cheap.\n",
    "wroi = widgets.FloatSlider(min=0,max=1,step=.01,value=.5,description='roi', continuous_update=False) # what percent of reward is profit\n",
    "\n",
    "\n",
    "RPgasCost = 0\n",
    "RPmatchCost = 1\n",
    "RPmediatorCost = 1\n",
    "\n",
    "# ui = widgets.HBox([wn,wPR,wNDPR,wPrice,wp,wcj,wq,wroi,winsurance])\n",
    "ui1 = widgets.HBox([wn,wPR,wNDPR])\n",
    "ui2 = widgets.HBox([wb,wmb,wr,wpID,widc])\n",
    "ui22 = widgets.HBox([wpv1,wvc1,wpv2,wvc2])\n",
    "ui3 = widgets.HBox([wpq,wroi,wir,wdc])\n",
    "\n",
    "plotParams = {'n': wn,\n",
    "              'PR':wPR,\n",
    "              'NDPR':wNDPR,\n",
    "              'b':wb,\n",
    "              'mb':wmb,\n",
    "              'r':wr,\n",
    "              'pID':wpID,\n",
    "              'idc':widc,\n",
    "              'pv1':wpv1,\n",
    "              'vc1':wvc1,\n",
    "              'pv2':wpv2,\n",
    "              'vc2':wvc2,\n",
    "              'pq': wpq,\n",
    "              'dc': wdc,\n",
    "              'ir': wir,\n",
    "              'roi':wroi}\n",
    "\n"
   ]
  },
  {
   "cell_type": "code",
   "execution_count": 6,
   "metadata": {},
   "outputs": [
    {
     "data": {
      "application/vnd.jupyter.widget-view+json": {
       "model_id": "ecad7fbf8c544787ab08fd3036ceb4f8",
       "version_major": 2,
       "version_minor": 0
      },
      "text/plain": [
       "Output(layout=Layout(height='300px'))"
      ]
     },
     "metadata": {},
     "output_type": "display_data"
    },
    {
     "data": {
      "application/vnd.jupyter.widget-view+json": {
       "model_id": "6bc353a4578142b48e571fc93df7dde6",
       "version_major": 2,
       "version_minor": 0
      },
      "text/plain": [
       "HBox(children=(IntSlider(value=4, continuous_update=False, description='n', max=10), FloatSlider(value=1.0, co…"
      ]
     },
     "metadata": {},
     "output_type": "display_data"
    },
    {
     "data": {
      "application/vnd.jupyter.widget-view+json": {
       "model_id": "ef0daea5e9124554a1aa287023730930",
       "version_major": 2,
       "version_minor": 0
      },
      "text/plain": [
       "HBox(children=(IntSlider(value=1, continuous_update=False, description='b', max=10000), IntSlider(value=1, con…"
      ]
     },
     "metadata": {},
     "output_type": "display_data"
    },
    {
     "data": {
      "application/vnd.jupyter.widget-view+json": {
       "model_id": "16937b13203349549773c2a83109f4ff",
       "version_major": 2,
       "version_minor": 0
      },
      "text/plain": [
       "HBox(children=(FloatSlider(value=1.0, continuous_update=False, description='P(verify 1)', max=1.0), FloatSlide…"
      ]
     },
     "metadata": {},
     "output_type": "display_data"
    },
    {
     "data": {
      "application/vnd.jupyter.widget-view+json": {
       "model_id": "77284ae6a07b4b059739cac69c4e4d8b",
       "version_major": 2,
       "version_minor": 0
      },
      "text/plain": [
       "HBox(children=(FloatSlider(value=1.0, continuous_update=False, description='pq', max=1.0), FloatSlider(value=0…"
      ]
     },
     "metadata": {},
     "output_type": "display_data"
    }
   ],
   "source": [
    "interactive_plot = widgets.interactive_output(plotUtil,plotParams);\n",
    "# output = interactive_plot.children[-1]\n",
    "interactive_plot.layout.height = '300px'\n",
    "display(interactive_plot,ui1,ui2,ui22,ui3)"
   ]
  },
  {
   "cell_type": "code",
   "execution_count": null,
   "metadata": {},
   "outputs": [],
   "source": []
  }
 ],
 "metadata": {
  "kernelspec": {
   "display_name": "Python 3",
   "language": "python",
   "name": "python3"
  },
  "language_info": {
   "codemirror_mode": {
    "name": "ipython",
    "version": 3
   },
   "file_extension": ".py",
   "mimetype": "text/x-python",
   "name": "python",
   "nbconvert_exporter": "python",
   "pygments_lexer": "ipython3",
   "version": "3.6.6"
  }
 },
 "nbformat": 4,
 "nbformat_minor": 2
}
