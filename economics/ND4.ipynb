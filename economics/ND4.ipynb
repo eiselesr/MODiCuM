{
 "cells": [
  {
   "cell_type": "code",
   "execution_count": 1,
   "metadata": {},
   "outputs": [],
   "source": [
    "from __future__ import print_function\n",
    "import ipywidgets as widgets \n",
    "import matplotlib.pyplot as plt\n",
    "import numpy as np\n",
    "import csv\n",
    "import sympy\n",
    "from numpy import array"
   ]
  },
  {
   "cell_type": "markdown",
   "metadata": {},
   "source": [
    "### Mediator Parameters\n",
    "\n",
    "$n$ : the number of times a jobs is executed for verification.\n",
    "\n",
    "$PR \\in [0,1] \\subset \\mathbb{R}$ : the penalty rate, used to determine the minimum D of both Job Creators and Resource Providers\n",
    "\n",
    "$NDPR \\in [0,1] \\subset \\mathbb{R}$ : the non-deterministic penalty rate, used to determine the Job Creators non-deterministic D\n",
    "\n",
    "$baseFee = JCmediatorPrice + RPmediatorPrice$ : The fee the Mediator requires to be available for a mediation. A mediator can be used if `available < JCmediatorPrice + RPmediatorPrice`\n",
    "\n",
    "$mediationFee = D-pi$ : The amount Mediator receives for mediating a given dispute. \n",
    "\n",
    "$ND\\_Fee = NDPR \\times pi-pi$ : The amount Mediator receives for mediating a given dispute and finding JC guilty of non-determinism. "
   ]
  },
  {
   "cell_type": "markdown",
   "metadata": {},
   "source": [
    "### Mediator Model"
   ]
  },
  {
   "cell_type": "code",
   "execution_count": 2,
   "metadata": {},
   "outputs": [],
   "source": [
    "# Mediator Parameters\n",
    "wn = widgets.IntSlider(min=0,max=10,step=1,value=1, description='n',continuous_update=False)\n",
    "wPR = widgets.FloatSlider(min=0,max=100,step=.5,value=1, description='PR', continuous_update=False) #Penalty Rate\n",
    "wNDPR = widgets.FloatSlider(min=0,max=100,step=.5,value=1, description='NDPR',continuous_update=False)#Non-deterministic Penalty rate\n",
    "wp_ETarget = widgets.FloatSlider(min=0,max=1,step=.01,value=1, description='p_E',continuous_update=False)#p_E target slider\n",
    "\n",
    "def MNDU(JCmediatorPrice, RPmediatorPrice):\n",
    "    baseFee = JCmediatorPrice + RPmediatorPrice\n",
    "    mediationFee = p_v*(p2+(1-p_E))*(p1**n)*(D-pi)\n",
    "    ND_Fee = p_v*(p2+(1-p_E))*(1-(p1**n))*(NDD-pi) \n",
    "    return available + mediationFee + ND_Fee\n",
    "\n",
    "\n"
   ]
  },
  {
   "cell_type": "markdown",
   "metadata": {},
   "source": [
    "### Solver Parameters\n",
    "\n",
    "$matchFee$ = The amount a solver receives for finding a given match. "
   ]
  },
  {
   "cell_type": "markdown",
   "metadata": {},
   "source": [
    "### Solver Model"
   ]
  },
  {
   "cell_type": "code",
   "execution_count": 3,
   "metadata": {},
   "outputs": [],
   "source": [
    "#Solver\n",
    "def SNDU(): #solver nondeterminisitc utility\n",
    "    matchFee = RPMatchingFee + JCMatchingFee\n",
    "    return matchFee"
   ]
  },
  {
   "cell_type": "markdown",
   "metadata": {},
   "source": [
    "# JC Model\n",
    "\n",
    "### Job Creator parameters\n",
    "\n",
    "$\\pi = instructionCount*JO.rate + bandwidthUsage*JO.rate$ : The max pi the JC is willing to pay to have a job executed.\n",
    "\n",
    "$p_{v}$ : probability the JC verifies result a1. \n",
    "\n",
    "$p_{va2}$ : probability the JC verifies result a2. This probability is 0 because it can just go straight to mediation. \n",
    "\n",
    "$C_v$ : cost to JC to verify result.\n",
    "\n",
    "$B$ : the value or B JC gets when a job is performed correctly.\n",
    "\n",
    "$matchPrice$ : the amount JC pays to Solver for finding a suitable RP. \n",
    "\n",
    "$mediatorPrice$ : The amount JC pays to mediator for being available. \n",
    "\n",
    "$p_1$ : probability that job returns answer in class $a1$\n",
    "\n",
    "$p_2 = 1-p_1$ : probability that job returns answer in class $a2$\n",
    "\n",
    "$D = \\pi \\cdot (PR + n)$ : the amount the Job Creator must post as a security D in order to get matched. It multiplied by the $n$, which as a reminder is the number of times the mediator will replicate a job. "
   ]
  },
  {
   "cell_type": "markdown",
   "metadata": {},
   "source": [
    "This model takes into account when the JC is attempting to gain utility though tricking the mediator into believing a RP did a job incorrectly and giving it compensation. The JC can trick the mediator by providing a job with a non-deterministic output. The output is in one of two answer classes, $a1$ or $a2$ with $P(a1)>>P(a2)$. If RP responds with $a1$ the JC will pay RP. If RP responds with $a2$ JC will request mediation, expecting the mediator to find the answer to be $a1$ and determine that the $RP$ must have cheated. \n",
    "We only need to considert two answer classes because when the Mediator is performing verification it assigns fault to the RP only if it finds there to be one answer which does not match the RP answer, if it finds two answers that differ from one another, regardless of if they match the RP answer, it faults the JC. This means that JC wants to maximize the chance that the Mediator will get the same answer reapeatedly which is not Bed by having additional answer classes.  \n",
    "\n",
    "We need to make sure that the platform compensation model does not make this strategy feasible. \n",
    "\n",
    "**Assumptions**\n",
    "\n",
    "* The job has probability p1 of resulting in an answer in class a1 and 1-p1 of resulting in class a2"
   ]
  },
  {
   "cell_type": "code",
   "execution_count": 4,
   "metadata": {},
   "outputs": [],
   "source": [
    "# JC parameters\n",
    "wpi = widgets.IntSlider(min=0,max=1000,step=1,value=1, continuous_update=False)\n",
    "C_r = 0\n",
    "wp_v= widgets.FloatSlider(min=0,max=1,step=.1,value=1, description='p_v', continuous_update=False) # how often JC verifies\n",
    "wC_v= widgets.FloatSlider(min=0,max=100,step=.1,value=0, description='C_v',continuous_update=False) # cost for JC to verify\n",
    "wB=widgets.IntSlider(min=0,max=1000,step=1,value=2, continuous_update=False)\n",
    "matchPrice = 1\n",
    "mediatorPrice = 1\n",
    "\n",
    "def JCU(n,PR,NDPR, p1,B,pi,p_v=1,C_v=0, p_E=1):\n",
    "    p2 = 1-p1\n",
    "    \n",
    "    NDD = pi * NDPR + (pi* n)\n",
    "     \n",
    "    JC_HRP  =  p_v*p_E*p1*(B-pi-C_v) # RP correctly (p_E) returns answer 1 (p1) and pay up to max_pi (-pi).\n",
    "    \n",
    "    NDJC_HRP_Gain = p_v*p_E*p2*(p1**n)*(B + pi -C_v) # receives gas pi because it had to spend some to request mediation.\n",
    "    NDJC_HRP_Lose = p_v*p_E*p2*(1-(p1**n))*(B-NDD-C_r-C_v) #RP returns answer 2 correctly or responds incorrectly (p2+(1-p_E)) and send to mediator who finds out nonDeterminism (1-p1^n), pay fine and reward (f2+r)\n",
    "    ND = NDJC_HRP_Gain + NDJC_HRP_Lose\n",
    "    \n",
    "    DRP_Gain = p_v*(1-p_E)*(p1**n)*(pi - C_v) \n",
    "    DRP_Lose = p_v*(1-p_E)*(1-p1**n)*(-NDD-C_r-C_v)# compute incorrectly (1-p_E) get sent to mediation, finds nondeterminism (1-p1^n) get compensation.\n",
    "#     DRP_scared = p_v*(1-p_E)*(-pi-C_v) # JC doesn't want to risk getting caught, just pay RP\n",
    "#     DRP =  max(DRP_Gain+DRP_Lose, DRP_scared)\n",
    "    DRP = DRP_Gain + DRP_Lose\n",
    "    \n",
    "    \n",
    "    noID_HRP = (1-p_v)*p_E*(B-pi)\n",
    "    noID_DRP = (1-p_v)*(1-p_E)*(-pi)\n",
    "    noVerifyCost = noID_HRP + noID_DRP\n",
    "    \n",
    "    JCnonDet = JC_HRP + ND + DRP + noVerifyCost\n",
    "    return JCnonDet\n"
   ]
  },
  {
   "cell_type": "markdown",
   "metadata": {},
   "source": [
    "### Upper Bounds on Job Creator Cheating\n",
    "\n",
    "\\begin{equation}\n",
    "    \\begin{alignedat}{3}\n",
    "        % HJC_HRP\n",
    "        \\textbf{JCU} = & p_v\\cdot p_E\\cdot p_1 \\quad &&  && \\cdot (B-\\pi-C_{v}) \\\\\n",
    "        % ND\n",
    "        %  NDJC_HRP Gain  \n",
    "        +& p_v\\cdot p_E\\cdot (1-p_1)  && \\cdot (p_1^{n})  && \\cdot (B + \\pi -C_{v}) \\\\\n",
    "        %  NDJC_HRP Loss  \n",
    "        +& p_v\\cdot p_E\\cdot (1-p_1)  && \\cdot (1-p_1^{n})  && \\cdot (B-D-C_r-C_{v}) \\\\\n",
    "        % DRP\n",
    "        % Gain\n",
    "        +& p_v\\cdot (1-p_E) && \\cdot (p_1^{n})  && \\cdot (\\pi - C_{v}) \\\\\n",
    "        % Loss\n",
    "        +& p_v\\cdot (1-p_E) && \\cdot (1-p_1^{n}) && \\cdot (-D-C_r-C_{v}) \\\\\n",
    "        % No verify\n",
    "        +& (1-p_v)\\cdot p_E &&  && \\cdot (B-\\pi) \\\\\n",
    "        +& (1-p_v)\\cdot (1-p_E)  &&  && \\cdot (-\\pi) \\\\\n",
    "    \\end{alignedat}\n",
    "    \\label{eq:JCU}\n",
    "\\end{equation}"
   ]
  },
  {
   "cell_type": "code",
   "execution_count": 5,
   "metadata": {},
   "outputs": [
    {
     "data": {
      "text/latex": [
       "$\\displaystyle p_{1} p_{E} p_{v} \\left(B - C_{v} - \\pi\\right) + p_{1}^{n} p_{E} p_{v} \\left(1 - p_{1}\\right) \\left(B - C_{v} + \\pi\\right) + p_{1}^{n} p_{v} \\left(1 - p_{E}\\right) \\left(- C_{v} + \\pi\\right) + p_{E} p_{v} \\left(1 - p_{1}\\right) \\left(1 - p_{1}^{n}\\right) \\left(B - C_{v} - NDPR \\pi - n \\pi\\right) + p_{E} \\left(1 - p_{v}\\right) \\left(B - \\pi\\right) + p_{v} \\left(1 - p_{1}^{n}\\right) \\left(1 - p_{E}\\right) \\left(- C_{v} - NDPR \\pi - n \\pi\\right) - \\pi \\left(1 - p_{E}\\right) \\left(1 - p_{v}\\right)$"
      ],
      "text/plain": [
       "p1*p_E*p_v*(B - C_v - pi) + p1**n*p_E*p_v*(1 - p1)*(B - C_v + pi) + p1**n*p_v*(1 - p_E)*(-C_v + pi) + p_E*p_v*(1 - p1)*(1 - p1**n)*(B - C_v - NDPR*pi - n*pi) + p_E*(1 - p_v)*(B - pi) + p_v*(1 - p1**n)*(1 - p_E)*(-C_v - NDPR*pi - n*pi) - pi*(1 - p_E)*(1 - p_v)"
      ]
     },
     "metadata": {},
     "output_type": "display_data"
    }
   ],
   "source": [
    "sn, sPR, sNDPR, sp1, sB, spi, sp_v, sC_v, sp_E, sC_r= sympy.symbols('n PR NDPR p1 B pi p_v C_v p_E C_r', real=True)\n",
    "\n",
    "JU = JCU(sn, sPR, sNDPR, sp1, sB, spi, sp_v, sC_v, sp_E)\n",
    "display(JU)\n"
   ]
  },
  {
   "cell_type": "markdown",
   "metadata": {},
   "source": [
    "Assume worst case scenario\n",
    "\n",
    "$p_v = 1$ ; $p_E = 1$ ; $C_v = 0$ ; $C_r = 0$"
   ]
  },
  {
   "cell_type": "code",
   "execution_count": 6,
   "metadata": {},
   "outputs": [
    {
     "data": {
      "text/latex": [
       "$\\displaystyle p_{1} \\left(B - \\pi\\right) + p_{1}^{n} \\left(1 - p_{1}\\right) \\left(B + \\pi\\right) + \\left(1 - p_{1}\\right) \\left(1 - p_{1}^{n}\\right) \\left(B - NDPR \\pi - n \\pi\\right)$"
      ],
      "text/plain": [
       "p1*(B - pi) + p1**n*(1 - p1)*(B + pi) + (1 - p1)*(1 - p1**n)*(B - NDPR*pi - n*pi)"
      ]
     },
     "metadata": {},
     "output_type": "display_data"
    },
    {
     "data": {
      "text/latex": [
       "$\\displaystyle B + \\pi \\left(- NDPR - n + p_{1} \\left(NDPR + n - 1\\right) + p_{1}^{n} \\left(NDPR + n + 1\\right) + p_{1}^{n + 1} \\left(- NDPR - n - 1\\right)\\right)$"
      ],
      "text/plain": [
       "B + pi*(-NDPR - n + p1*(NDPR + n - 1) + p1**n*(NDPR + n + 1) + p1**(n + 1)*(-NDPR - n - 1))"
      ]
     },
     "metadata": {},
     "output_type": "display_data"
    }
   ],
   "source": [
    "sJU = JU.subs({sp_v:1, sp_E:1, sC_v:0, sC_r:0 })\n",
    "display(sJU)\n",
    "sJU = sympy.expand(sJU)\n",
    "# display(JU)\n",
    "sJU = sympy.simplify(sJU)\n",
    "# display(JU)\n",
    "sJU = sympy.collect(sJU,sp1)\n",
    "sJU = sympy.collect(sJU,sp1**(sn))\n",
    "sJU = sympy.collect(sJU,sp1**(sn+1))\n",
    "sJU = sympy.collect(sJU,spi)\n",
    "display(sJU)\n"
   ]
  },
  {
   "cell_type": "code",
   "execution_count": 7,
   "metadata": {},
   "outputs": [
    {
     "name": "stdout",
     "output_type": "stream",
     "text": [
      "-0.34375\n",
      "-0.343750000000000\n"
     ]
    }
   ],
   "source": [
    "# Compare\n",
    "n = 4\n",
    "NDPR = 0\n",
    "p = .5\n",
    "b = 2\n",
    "pi = 1\n",
    "\n",
    "ySJ = JCU(n=n,PR=0,NDPR=NDPR,p1=p,B=b,pi=pi,p_v=1,C_v=0,p_E=1)\n",
    "print(ySJ)\n",
    "\n",
    "ysJU = sJU.subs({sn:n, sNDPR:NDPR, sp1:p, sB:b, spi:pi})\n",
    "print(ysJU)"
   ]
  },
  {
   "cell_type": "code",
   "execution_count": 8,
   "metadata": {},
   "outputs": [
    {
     "data": {
      "text/latex": [
       "$\\displaystyle \\pi \\left(NDPR + n - 1 + \\frac{n p_{1}^{n} \\left(NDPR + n + 1\\right) + p_{1}^{n + 1} \\left(n + 1\\right) \\left(- NDPR - n - 1\\right)}{p_{1}}\\right)$"
      ],
      "text/plain": [
       "pi*(NDPR + n - 1 + (n*p1**n*(NDPR + n + 1) + p1**(n + 1)*(n + 1)*(-NDPR - n - 1))/p1)"
      ]
     },
     "metadata": {},
     "output_type": "display_data"
    }
   ],
   "source": [
    "dJU = sympy.diff(sJU,sp1)\n",
    "# display(dJU)\n",
    "dJU = sympy.collect(dJU,sp1)\n",
    "display(dJU)"
   ]
  },
  {
   "cell_type": "code",
   "execution_count": 9,
   "metadata": {},
   "outputs": [
    {
     "data": {
      "text/latex": [
       "$\\displaystyle \\pi \\left(n - 1 + \\frac{n p_{1}^{n} \\left(n + 1\\right) + p_{1}^{n + 1} \\left(- n - 1\\right) \\left(n + 1\\right)}{p_{1}}\\right)$"
      ],
      "text/plain": [
       "pi*(n - 1 + (n*p1**n*(n + 1) + p1**(n + 1)*(-n - 1)*(n + 1))/p1)"
      ]
     },
     "metadata": {},
     "output_type": "display_data"
    },
    {
     "data": {
      "text/latex": [
       "$\\displaystyle p_{1} \\left(n - 1 + \\frac{n p_{1}^{n} \\left(n + 1\\right) + p_{1}^{n + 1} \\left(- n - 1\\right) \\left(n + 1\\right)}{p_{1}}\\right)$"
      ],
      "text/plain": [
       "p1*(n - 1 + (n*p1**n*(n + 1) + p1**(n + 1)*(-n - 1)*(n + 1))/p1)"
      ]
     },
     "metadata": {},
     "output_type": "display_data"
    },
    {
     "data": {
      "text/latex": [
       "$\\displaystyle - n^{2} p_{1} p_{1}^{n} + n^{2} p_{1}^{n} - 2 n p_{1} p_{1}^{n} + n p_{1} + n p_{1}^{n} - p_{1} p_{1}^{n} - p_{1}$"
      ],
      "text/plain": [
       "-n**2*p1*p1**n + n**2*p1**n - 2*n*p1*p1**n + n*p1 + n*p1**n - p1*p1**n - p1"
      ]
     },
     "metadata": {},
     "output_type": "display_data"
    },
    {
     "data": {
      "text/latex": [
       "$\\displaystyle n^{2} p_{1}^{n} - n^{2} p_{1}^{n + 1} + n p_{1} + n p_{1}^{n} - 2 n p_{1}^{n + 1} - p_{1} - p_{1}^{n + 1}$"
      ],
      "text/plain": [
       "n**2*p1**n - n**2*p1**(n + 1) + n*p1 + n*p1**n - 2*n*p1**(n + 1) - p1 - p1**(n + 1)"
      ]
     },
     "metadata": {},
     "output_type": "display_data"
    },
    {
     "data": {
      "text/latex": [
       "$\\displaystyle p_{1} \\left(n - 1\\right) + p_{1}^{n} \\left(n^{2} + n\\right) + p_{1}^{n + 1} \\left(- n^{2} - 2 n - 1\\right)$"
      ],
      "text/plain": [
       "p1*(n - 1) + p1**n*(n**2 + n) + p1**(n + 1)*(-n**2 - 2*n - 1)"
      ]
     },
     "metadata": {},
     "output_type": "display_data"
    }
   ],
   "source": [
    "sdJU = dJU.subs({sNDPR:0})\n",
    "display(sdJU)\n",
    "\n",
    "sdJU = sdJU * sp1/spi\n",
    "display(sdJU)\n",
    "\n",
    "sdJU = sympy.expand(sdJU)\n",
    "display(sdJU)\n",
    "\n",
    "sdJU = sympy.simplify(sdJU)\n",
    "display(sdJU)\n",
    "\n",
    "sdJU = sympy.collect(sdJU,sp1)\n",
    "# display(sdJU)\n",
    "\n",
    "sdJU = sympy.collect(sdJU,sp1**sn)\n",
    "# display(sdJU)\n",
    "\n",
    "sdJU = sympy.collect(sdJU,sp1**(sn+1))\n",
    "display(sdJU)\n",
    "\n",
    "# p1max = sympy.solveset(sdJU,sp1)\n",
    "# display(p1max)\n"
   ]
  },
  {
   "cell_type": "code",
   "execution_count": 10,
   "metadata": {},
   "outputs": [],
   "source": [
    "def plotdJU(n):\n",
    "    \n",
    "    plt.figure(2,figsize=(10,5))\n",
    "    \n",
    "    plt.subplot(1,1,1)\n",
    "    plt.grid(visible=True)\n",
    "    \n",
    "    ydu = list(map(lambda p: float(sdJU.subs({sn:n, sp1:p})), x))\n",
    "    \n",
    "    plt.plot(x,ydu, label=\"dU\")\n",
    "    \n",
    "    plt.xlabel('p1')\n",
    "    plt.ylabel('dUtil') \n",
    "    \n",
    "    plt.legend()\n",
    "    plt.show\n",
    "    "
   ]
  },
  {
   "cell_type": "code",
   "execution_count": 11,
   "metadata": {},
   "outputs": [],
   "source": [
    "# ui1 = widgets.HBox([wn,wPR])\n",
    "# ui2 = widgets.HBox([wB,wpi])\n",
    "# interactive_plot = widgets.interactive_output(plotdJU,{'n':wn});\n",
    "# # output = interactive_plot.children[-1]\n",
    "# # interactive_plot.layout.height = '400px'\n",
    "# display(interactive_plot,ui1,ui2)"
   ]
  },
  {
   "cell_type": "markdown",
   "metadata": {},
   "source": [
    "The Job Creators verification strategy is controlled by $p_v$, which is the probability of verifying a given result. \n",
    "\n",
    "The type of job, is captured by the $\\pi$ and the $C_v$ terms. The price $\\pi$ captures the complexity of execution, $C_v$ captures the complexity of verification.\n",
    "\n",
    "A Resource Provider may choose to execute a job correctly or not. We capture this with the parameter $p_E$. If $p_E=1$ then the $RP$ executes all jobs correctly, if $p_E=0$ then it does not execute any jobs correctly.  \n",
    "\n",
    "<!---While running non-deterministic jobs a Job Creator must decide whether the pay the $RP$ for a bad response, or risk getting caught in mediation. Currently the choice is made in the `max(RPfraud1,RPfraud2)` term. If the Job Creator is running deterministic jobs if it verifies and finds a bad result it will request mediation.--->"
   ]
  },
  {
   "cell_type": "markdown",
   "metadata": {},
   "source": [
    "## Resource Providier\n",
    "\n",
    "The Resource Provider only has one method to try to abuse the system. That is to return a result and hope that the Job Creator does not verify the job. If the Job Creator never verifies the Resource Provider will always cheat, and if it always verifies the Resource Provider will never cheat. However, the RP does not know how often the Job Creator will verify. "
   ]
  },
  {
   "cell_type": "markdown",
   "metadata": {},
   "source": [
    "### Resource Provider Model\n",
    "The most RP can be paid for executing a job is $\\pi = instructionCount*JO.rate + bandwidthUsage*JO.rate$. \n",
    "\n",
    "Jobs are only worth executing if the operating costs are covered by the Resource providers fees, which are at most $\\pi$ for a given job. \n",
    "\n",
    "The Resource Provider does not only want to cover operating costs however, it additionally wants to make a profit. \n",
    "\n",
    "$profit = \\pi-cost$\n",
    "\n",
    "Since the price $\\pi$ varies from job to job, the RP specifies a return on investment $roi$: \n",
    "\n",
    "$roi = \\frac{\\pi-cost}{\\pi}$\n",
    "\n",
    "For the model we need to estimate the cost of executing a job $cost$. We compute this with the given $\\pi$ and required roi. This is reasonable since the JC specifies the $\\pi$ and $\\pi$ is ralated to job complexity, and the execution cost will increase with complexity.\n",
    "\n",
    "$cost = \\pi*(1-roi)$ \n",
    "\n",
    "The platform will only match a job to an RP if $\\pi>requestedPrice$.\n",
    "\n",
    "$requestedPrice$ covers the cost of execution. So in the analysis if $\\pi<requestedPrice$ the point is infeasible. \n",
    "\n",
    "$requestedPrice$ is not used in the RP model, only computed. \n",
    "\n",
    "$requestedPrice = cost$\n",
    "\n",
    "In a situation where the Job Creator is sending non-deterministic jobs, a Resource provider will lose \n",
    "\n",
    "$p_v \\times (1-p_1) \\times p_1^n\\times D$\n",
    "\n",
    "If the RP assumes $p_v=1$(JC always verifies), and that JC uses optimal $p_1$ given $n$ and $NDPR$ it can determine the maximum percent $I$ of its D that it will lose to the mediator being tricked. By adding $ I \\times D$ to its $requestedPrice$ it can mitigate the damage done by cheating Job Creators. $I$ is an insurance percent against cheating. This results in a new $requestedPrice$ :  \n",
    "\n",
    "$requestedPrice = \\pi \\times(1-roi) + D \\times I $\n",
    "\n",
    "\n",
    "When the RP is matched at its' $requestedPrice$ the $cost$ will effectively be reduced by $D \\times I$ so the effective $cost$ used in the model is:\n",
    "\n",
    "$cost = \\pi*(1-roi) - D \\times I $\n",
    "\n",
    "In the `plot` function $requestedPrice$ is compared against $\\pi$ to check if the point is valid. \n"
   ]
  },
  {
   "cell_type": "code",
   "execution_count": 12,
   "metadata": {},
   "outputs": [],
   "source": [
    "\n",
    "wp_E = widgets.FloatSlider(min=0,max=1,step=.1,value=1,description='p_E', continuous_update=False) # probability that RP runs correctly\n",
    "wroi = widgets.FloatSlider(min=0,max=1,step=.01,value=.5,description='roi', continuous_update=False) # what percent of reward is profit\n",
    "winsurance = widgets.FloatSlider(min=0,max=1,step=.01,value=0 ,description='I',continuous_update=False) # % of deposit that can be recovered because execution is so cheap.\n",
    "wC_f= widgets.FloatSlider(min=0,max=1000,step=.1,value=0, description='C_f',continuous_update=False) # cost for RP to be fraudulant \n",
    "\n",
    "matchPrice = 1\n",
    "mediatorPrice = 1\n",
    "\n",
    "\n",
    "def RPU(n,PR,NDPR,p1,pi,p_v=1,C_f=0,p_E=1, ec=0, I=0):\n",
    "    p2 = 1-p1\n",
    "#     D = pi * PR\n",
    "#     D = pi * PR + pi*n\n",
    "    D = pi * PR + (pi * n)\n",
    "    \n",
    "    \n",
    "    execCost = ec\n",
    "    \n",
    "    insurance =  I\n",
    "\n",
    "    #Cj is cost of execution for fraudulant job, picking a random number or \"close\" value\n",
    "    fraudCost = C_f\n",
    "    \n",
    "    JC_HRP = p_v*p_E*p1*(pi-execCost) #compute answer 1 (p1) correctly (p_E) receive reward (pi)\n",
    "    \n",
    "    NDJC_HRP_Gain = p_v*p_E*p2*(1-p1**n)*(pi-execCost) #compute answer 2 (p2) correctly (p_E) get sent to mediation, who finds nondeterminism (1-p1^n) and recieve reward (r) and nonDet bonus (f2-f)*k kickback=k\n",
    "    NDJC_HRP_Lose = p_v*p_E*p2*(p1**n)*(-D-execCost) # compute answer 2 correctly (p2) get sent to mediation, who doesn't find nondeterminsm (p1^n) and get fined (f)\n",
    "    ND = NDJC_HRP_Gain + NDJC_HRP_Lose \n",
    "    \n",
    "    DRP_Gain = p_v*(1-p_E)*(1-p1**n)*(pi-fraudCost)# compute incorrectly (1-p_E) get sent to mediation, finds nondeterminism (1-p1^n) get compensation.\n",
    "    DRP_Lose = p_v*(1-p_E)*(p1**n)*(-D-fraudCost) #compute incorrectly (1-p_E) get sent to mediation, who doesn't find nondeterminsm (p1^n) and get fined (f)\n",
    "    DRP = DRP_Gain+DRP_Lose\n",
    "    \n",
    "#     DRP_scared  = p_v*(1-p_E)*(pi-fraudCost) # JC doesn't want to risk getting caught, just pay RP. \n",
    "    \n",
    "    #     noVerifypayout = (1-p_v)*pi #compute answer 1 (p1) correctly (p_E) receive reward (pi)\n",
    "    noID_HRP = (1-p_v) * p_E * (pi - execCost)\n",
    "    noID_DRP = (1-p_v) * (1-p_E) * (pi - fraudCost)\n",
    "    noID = noID_HRP + noID_DRP\n",
    "    \n",
    "    \n",
    "    RCnonDet = JC_HRP + ND + DRP + insurance + noID\n",
    "    return RCnonDet\n"
   ]
  },
  {
   "cell_type": "code",
   "execution_count": 13,
   "metadata": {},
   "outputs": [
    {
     "name": "stdout",
     "output_type": "stream",
     "text": [
      "step size: 0.02\n"
     ]
    }
   ],
   "source": [
    "points = 51\n",
    "x,step = np.linspace(0,1,points,retstep=True)\n",
    "print(\"step size: %s\" %step)\n",
    "\n",
    "def plot(n,PR,NDPR,pi,b,p_v=1,C_v=0, p_E=1,roi=1,Insurance=0,C_f=0):   \n",
    "    plt.figure(2,figsize=(10,5))\n",
    "    \n",
    "    plt.subplot(1,1,1)\n",
    "    plt.grid(visible=True)\n",
    "    \n",
    "    yJ = JCU(n=n,PR=PR,NDPR=NDPR,p1=np.ones(points),B=b,pi=pi,p_v=p_v,C_v=C_v,p_E=p_E)\n",
    "    yJND = JCU(n,PR,NDPR, p1=x,B=b,pi=pi,p_v=p_v,C_v=C_v, p_E=p_E)\n",
    "    \n",
    "    \n",
    "    ySJ = JCU(n=n,PR=0,NDPR=NDPR,p1=x,B=b,pi=pi,p_v=1,C_v=0,p_E=1)\n",
    "    \n",
    "    ysJU = list(map(lambda p: float(sJU.subs({sn:n, sNDPR:0, sp1:p, sB:b, spi:pi})),x))\n",
    "    ydJU  = list(map(lambda p: float(sdJU.subs({sn:n, sp1:p})), x))\n",
    "    \n",
    "    \n",
    "    ec = pi*(1-roi)\n",
    "    D = pi * PR + (pi * n)\n",
    "    I = D*Insurance\n",
    "    \n",
    "    yRD = RPU(n,PR,NDPR,p1=x,pi=pi,p_v=p_v,C_f=C_f,p_E=p_E,ec=ec,I=I)\n",
    "\n",
    "#     yRD = list(map(lambda p1: RPU(n,PR,NDPR,p1,pi,p_v=p_v,C_f=C_f,p_E=p_E,ec=ec,I=I),x))\n",
    "    \n",
    "    plt.plot(x,yJ, label=\"J\")\n",
    "    plt.plot(x,yJND, label=\"JND\")\n",
    "    plt.plot(x,ySJ, label=\"SJ\")\n",
    "    \n",
    "    plt.plot(x,ysJU, label=\"sJU\")\n",
    "    plt.plot(x,ydJU, label=\"dJU\")\n",
    "   \n",
    "    plt.plot(x,yRD, label=\"RD\")\n",
    "    plt.xlabel('p1')\n",
    "    plt.ylabel('Util') \n",
    "    \n",
    "    plt.legend()\n",
    "    plt.show\n",
    "    \n",
    "    print(\"n: %s\" %n)\n",
    "    print(\"Price: %s\" %pi)\n",
    "    D = pi * PR + pi*n\n",
    "    print(\"D: %s\" %D)\n",
    "    \n",
    "    maxJND = max(yJND)\n",
    "    print(\"maxJND: %s\" %maxJND)\n",
    "    \n",
    "    maxRD = max(yRD)\n",
    "    print(\"maxRD: %s\" %maxRD)\n",
    "    \n",
    "    \n",
    "    minRD = min(yRD)\n",
    "    print(\"minRD: %s\" %minRD)\n",
    "    \n",
    "    \n",
    "    p1maxJ = x[np.argmax(yJND)]\n",
    "    p2 = 1 - p1maxJ\n",
    "    print(\"P1 for JC max util: %s\" %p1maxJ)\n",
    "    print(\"\")\n",
    "    \n",
    "    p1minRD = x[np.argmin(yRD)]\n",
    "    print(\"P1 for RP min util: %s\" %p1minRD)\n",
    "    print(\"\")\n",
    "    \n",
    "    \n",
    "    print(\"Resource Provider\")\n",
    "    execCost = pi*(1-roi)\n",
    "    requstedPrice = execCost + D*Insurance   \n",
    "    print(\"requstedPrice: %s\" %requstedPrice)   \n",
    "    print(\"pi > requstedPrice, Matchable? : %s\" %(pi>requstedPrice))\n",
    "    \n",
    "    \n",
    "   "
   ]
  },
  {
   "cell_type": "code",
   "execution_count": 14,
   "metadata": {
    "scrolled": false
   },
   "outputs": [
    {
     "data": {
      "application/vnd.jupyter.widget-view+json": {
       "model_id": "24eb1381eda249b290124f4046d83ee7",
       "version_major": 2,
       "version_minor": 0
      },
      "text/plain": [
       "Output()"
      ]
     },
     "metadata": {},
     "output_type": "display_data"
    },
    {
     "data": {
      "application/vnd.jupyter.widget-view+json": {
       "model_id": "9ed17f36dea14b26a45e3001d3426a38",
       "version_major": 2,
       "version_minor": 0
      },
      "text/plain": [
       "HBox(children=(IntSlider(value=1, continuous_update=False, description='n', max=10), FloatSlider(value=1.0, co…"
      ]
     },
     "metadata": {},
     "output_type": "display_data"
    },
    {
     "data": {
      "application/vnd.jupyter.widget-view+json": {
       "model_id": "bb5c41bb9b3946088a2ddd83b47f5ac2",
       "version_major": 2,
       "version_minor": 0
      },
      "text/plain": [
       "HBox(children=(IntSlider(value=2, continuous_update=False, max=1000), IntSlider(value=1, continuous_update=Fal…"
      ]
     },
     "metadata": {},
     "output_type": "display_data"
    },
    {
     "data": {
      "application/vnd.jupyter.widget-view+json": {
       "model_id": "983360cbe8e5459c8ae6ce0f8386d0f9",
       "version_major": 2,
       "version_minor": 0
      },
      "text/plain": [
       "HBox(children=(FloatSlider(value=1.0, continuous_update=False, description='p_v', max=1.0), FloatSlider(value=…"
      ]
     },
     "metadata": {},
     "output_type": "display_data"
    },
    {
     "data": {
      "application/vnd.jupyter.widget-view+json": {
       "model_id": "a6fdabd4b82b4321b6fea20f06aafed7",
       "version_major": 2,
       "version_minor": 0
      },
      "text/plain": [
       "HBox(children=(FloatSlider(value=0.0, continuous_update=False, description='C_f', max=1000.0), FloatSlider(val…"
      ]
     },
     "metadata": {},
     "output_type": "display_data"
    },
    {
     "data": {
      "application/vnd.jupyter.widget-view+json": {
       "model_id": "e1bf55bc1a4b4cde924cb321ac9934e3",
       "version_major": 2,
       "version_minor": 0
      },
      "text/plain": [
       "HBox(children=(FloatSlider(value=0.5, continuous_update=False, description='roi', max=1.0, step=0.01), FloatSl…"
      ]
     },
     "metadata": {},
     "output_type": "display_data"
    }
   ],
   "source": [
    "\n",
    "# platform\n",
    "ui1 = widgets.HBox([wn,wPR,wNDPR]) \n",
    "# Job creator\n",
    "ui21 = widgets.HBox([wB,wpi])\n",
    "ui22 = widgets.HBox([wp_v,wC_v])\n",
    "# Resource Provider\n",
    "ui31 = widgets.HBox([wC_f,wp_E])\n",
    "ui32 = widgets.HBox([wroi,winsurance])\n",
    "\n",
    "# interactive_plot = widgets.interactive(plot, n=wn,PR=wPR,NDPR=wNDPR,pi=wpi,p_v=wp_v,cj=wcj, p_E=wp_E,roi=wroi,Insurance=winsurance);\n",
    "interactive_plot = widgets.interactive_output(plot,{'n':wn,'PR':wPR,'NDPR':wNDPR,'pi':wpi,'b':wB,'p_v':wp_v,'C_v':wC_v, 'p_E':wp_E,'roi':wroi,'Insurance':winsurance,'C_f':wC_f });\n",
    "# output = interactive_plot.children[-1]\n",
    "# interactive_plot.layout.height = '900px'\n",
    "display(interactive_plot,ui1,ui21,ui22,ui31,ui32)"
   ]
  },
  {
   "cell_type": "markdown",
   "metadata": {},
   "source": [
    "# B Analysis\n",
    "\n",
    "This section analyzes when the JC is sending real jobs that provide some benefit $B$ when they are successfully completed. The JC is attempting to increase its utility by adding a non-deterministic element to the jobs in an effort to have some jobs completed for free by accusing the RP of failing to execute them correctly. This could be done by changing the input so that some parts of the code are normally dorment and only activated when a certain data input is provided."
   ]
  },
  {
   "cell_type": "markdown",
   "metadata": {},
   "source": [
    "### Protocol Following model\n",
    "If the JC follows the protocol its utility is the B, or value, it receives from the Job execution minus the amount it pays to the RP. This is assuming that the RP is playing by the rules of the game, otherwise the JC could have better utility since $\\pi$ will be refunded and **B** will still be recieved since the mediator will return the result. \n",
    "\n",
    "This model is further simplified by the assumption that a Job can be checked for free, and that the JC can check the result of every job. This is a reasonable simplification since there are jobs whose verification cost is much less than the cost of execution, and we are interested in identifying the worst case scenario we need to protect against. "
   ]
  },
  {
   "cell_type": "code",
   "execution_count": 15,
   "metadata": {},
   "outputs": [],
   "source": [
    "def protocolU(B, pi):\n",
    "    return B - pi"
   ]
  },
  {
   "cell_type": "markdown",
   "metadata": {},
   "source": [
    "### Non-Deterministic Model\n",
    "The key element of this model is the amount of utility the JC can get for **free** from the system. \n",
    "The free utility is the probability that the RP got result 2 multiplied by the probability that the mediator got result 1 $n$ times multiplied by the job B, minus the probability that the RP got result 2 multiplied by the probability that the mediator did not get result 1 for any of $n$ executions multiplied by the D, whose value is determined by the pi set by the JC multiplied by the non-deterministic penalty rate set by the Mediator. \n",
    "\n",
    "This model is the best the JC can hope for. The RP could fail to complete jobs, in which case the JC loses the B, and either pays $pi$ or ND D."
   ]
  },
  {
   "cell_type": "code",
   "execution_count": 16,
   "metadata": {},
   "outputs": [],
   "source": [
    "def NDU(n,NDPR, p1,pi,B):\n",
    "    p2 = 1-p1\n",
    "    NDD = pi * NDPR + (pi*n)\n",
    "    paid = p1*(B-pi)\n",
    "#     free = p2*((p1**n)*B - (1-p1**n)*NDD)\n",
    "    free = p2*((p1**n)*(B+pi) + (1-p1**n)*(B-NDD))\n",
    "    total = paid + free\n",
    "    return total\n",
    "\n",
    "# 𝑝1(𝐵−𝜋)+𝑝𝑛1(1−𝑝1)(𝐵+𝜋)+(1−𝑝1)(1−𝑝𝑛1)(𝐵−𝑁𝐷𝑃𝑅𝜋−𝑛𝜋)\n",
    "\n",
    "    "
   ]
  },
  {
   "cell_type": "markdown",
   "metadata": {},
   "source": [
    "### Evaluation"
   ]
  },
  {
   "cell_type": "code",
   "execution_count": 17,
   "metadata": {},
   "outputs": [],
   "source": [
    "def plot2(n,NDPR, pi,B):\n",
    "    points = 101\n",
    "    x,step = np.linspace(0,1,points,retstep=True)\n",
    "    \n",
    "    yJ = JCU(n=n,PR=0,NDPR=NDPR,p1=np.ones(points),B=B,pi=pi,p_v=1,C_v=0,p_E=1)\n",
    "    ySJ = JCU(n=n,PR=0,NDPR=NDPR,p1=x,B=B,pi=pi,p_v=1,C_v=0,p_E=1)\n",
    "    \n",
    "    yPU = list(map(lambda p1: protocolU(B,pi),x))\n",
    "    yNDU = list(map(lambda p1: NDU(n,NDPR, p1,pi,B),x))\n",
    "    \n",
    "    \n",
    "    plt.figure(3,figsize=(10,5))    \n",
    "    plt.subplot(1,1,1)\n",
    "    plt.grid(visible=True)\n",
    "    \n",
    "    plt.plot(x,yPU, label=\"PU\")\n",
    "    plt.plot(x,yNDU, label=\"NDU\")\n",
    "    \n",
    "    plt.plot(x,yJ, label=\"J\")\n",
    "    plt.plot(x,ySJ, label=\"SJ\")\n",
    "    \n",
    "    \n",
    "    \n",
    "    \n",
    "    plt.xlabel('P(a1)')\n",
    "    plt.ylabel('Util') \n",
    "    \n",
    "    plt.legend()\n",
    "    plt.show\n",
    "    \n",
    "    print(\"Protocol util: %s\" %yPU[0])\n",
    "    print(\"max ND util: %s\" %max(yNDU))\n",
    "    print(\"ND improvement over Protocol: %s\" %(max(yNDU)-yPU[0]))    \n",
    "    print(\"%% improvement : %s %%\" %(100*abs((max(yNDU)-yPU[0])/yPU[0])))\n",
    "    print(\"optimal P(p1): %s\" %x[yNDU.index(max(yNDU))])\n",
    "    \n",
    "    with open('JCND_file.csv', mode='w') as JCND_file:\n",
    "        JCwriter = csv.writer(JCND_file, delimiter=',', quotechar='\"', quoting=csv.QUOTE_MINIMAL)\n",
    "        JCwriter.writerow(['p1','JC Deterministic', 'JC Non-Deterministic'])\n",
    "        \n",
    "        for i in range(101):\n",
    "            JCwriter.writerow([i/100-1/100, yPU[i], yNDU[i] ])\n",
    "\n",
    "    \n",
    "    "
   ]
  },
  {
   "cell_type": "code",
   "execution_count": 18,
   "metadata": {},
   "outputs": [
    {
     "data": {
      "application/vnd.jupyter.widget-view+json": {
       "model_id": "24778c90196849b5b0fcce1f7af69e67",
       "version_major": 2,
       "version_minor": 0
      },
      "text/plain": [
       "interactive(children=(IntSlider(value=1, continuous_update=False, description='n', max=10), FloatSlider(value=…"
      ]
     },
     "metadata": {},
     "output_type": "display_data"
    }
   ],
   "source": [
    "interactive_plot2 = widgets.interactive(plot2, n=wn,NDPR=wNDPR, pi=wpi,B=wB);\n",
    "output = interactive_plot2.children[-1]\n",
    "output.layout.height = '600px'\n",
    "interactive_plot2\n",
    "\n",
    "#n = 4\n",
    "#NDPR = 24? if pi is included in free job."
   ]
  },
  {
   "cell_type": "markdown",
   "metadata": {},
   "source": [
    "### Simple Inep_Euality for PU<NDU\n",
    "\n",
    "\n",
    "**Define Terms**\n",
    "\n",
    "$NDU = paid + free$\n",
    "                                 \n",
    "$NDU = p1*(B-pi) + p2*((p1^{n})*(B+pi) - (1-p1^{n})*NDD) $\n",
    "                                 \n",
    "$NDU = p1*(B-pi) + p2*((p1^{n})*(B+pi) - (1-p1^{n})*(pi * M_{NDPR})) $\n",
    "\n",
    "\n",
    "\n",
    "$PU = B - pi $\n",
    "\n",
    "**Set Inequality**\n",
    "\n",
    "$PU > NDU$\n",
    "\n",
    "$ B - pi > p1*(B-pi) + p2*((p1^{n})*(B+pi) - (1-p1^{n})*(pi * M_{NDPR}))$\n",
    "\n",
    "$ B + (1-p1^{n})*(pi * M_{NDPR})) - p1*(B-pi) - p2*((p1^{n})*(B+pi) - pi > 0$\n",
    "\n",
    "When the above inep_Euality holds, then it is economically disadvantageous to pursue a nondeterministic strategy (NDU)."
   ]
  },
  {
   "cell_type": "markdown",
   "metadata": {},
   "source": [
    "### Bounding the problem\n",
    "$free = (1-p_v)P^nb - (1-p_v)(1-P^n)Rc$\n",
    "\n",
    "**Derivative**\n",
    "\n",
    "$\\frac{d}{dP}(free) = \\frac{d}{dP} (1-p_v)P^nb - (1-p_v)(1-P^n)Rc$\n",
    "\n",
    "$0 = \\frac{d}{dP} (P^nb - P^{n+1} - Rc + P^nRc + PRc - P^{n+1}Rc$)\n",
    "\n",
    "$0 = nP^{n-1}b - (n+1)P^{n}b - 0 + nP^{n-1}Rc + Rc - (n+1)P^{n}Rc$\n",
    "\n",
    "**Collect Terms**\n",
    "\n",
    "$ nP^{n-1}b + nP^{n-1}Rc + Rc =  (n+1)P^{n}b + (n+1)P^{n}Rc$\n",
    "\n",
    "$ nP^{n-1}(b+Rc) + Rc =  (n+1)P^{n}(b+Rc)$\n",
    "\n",
    "$ nP^{n-1} + \\frac{Rc}{b+Rc} =  (n+1)P^{n}$\n",
    "\n",
    "\n",
    "$\\frac{Rc}{b+Rc} + nP^{n-1} - (n+1)P^n = 0 $\n",
    "\n",
    "**Let penalty rate R=0**\n",
    "\n",
    "B and cost become irrelevant and we are left with:\n",
    "\n",
    "$nP^{n-1}  = (n+1)P^n $\n",
    "\n",
    "**Simplify**\n",
    "\n",
    "$\\frac{n}{n+1} = P$\n",
    "\n",
    "So the maximum the JC can make with no penalty rate will be when $P = \\frac{n}{n+1}$\n",
    "\n",
    "$P$ is the liklihood of getting answer 1 and $n$ is the number of times the mediator verifies, so we can force the JC to cheat less and limit its additional utility. \n",
    "\n",
    "For example if $n=4$ then $P=.8$, so for optimal gains JC will make it so that a1 appears 80% of the time, anything else would give it less reward, so if we assume the worst case and handle it, anything less severe will be handled as well. \n",
    "\n",
    "**If R is not 0**\n",
    "\n",
    "any change to $b$ or $c$ will never make lower probability of a1 more optimal. \n",
    "\n",
    "**For $b<c$ and R=1**\n",
    "\n",
    "The normal protocol loses, but the ND protocol loses somewhat less until $b=.9c$ approximately, as which point ND can win slightly. \n",
    "\n",
    "It can win .694% utility units when $b=90$ and $c=100$.\n",
    "\n",
    "**For $b=c$ and R=1**\n",
    "\n",
    "Optimal is when probability of a1 is 90%. \n",
    "Normal protocal loses, and ND protocol wins 9.683% of benfit(or pi since they are ep_Eual) as utility. \n",
    "\n",
    "**For $b>c$ and R=1**\n",
    "\n",
    "As $b$ grows the advantage over the protocol decreases compared to $b=c$\n",
    "\n",
    "When $b=4.87c$ the added B is less than 1%. \n",
    "\n",
    "**Things get worse for JC if R increases.**\n",
    "The worst case for the system is $b=c$ as the JC can get the most advantage. This can be mitigated by assuming JC is cheating and taking a 9.683% tax on the pi it includes, or increasing R to, apparently, 24, after which point ND can't win and is only better than protocol if $b=.762c$ or less (meaning its losing badly since it needed 90% to win in the first place).\n",
    "\n",
    "\n"
   ]
  },
  {
   "cell_type": "markdown",
   "metadata": {},
   "source": [
    "# Deterministic Mixed Strategy\n",
    "\n",
    "\n",
    "The deterministic mixed strategy will be defined by a variable p_E. p_E is the probability of the RP to cheat the job, and submit an unrelated junk answer to avoid computing the job.\n",
    "\n",
    "\n",
    "**Variable**\n",
    "\n",
    "JC Variables\n",
    "\n",
    "$p$: probability JC verifies job after recieving solution\n",
    "\n",
    "$r$: reward JC pays RP for computing job successfully\n",
    "\n",
    "$b$: B gained from job\n",
    "\n",
    "$c$: cost to compute job\n",
    "\n",
    "$cv$: cost to verify job\n",
    "\n",
    "\n",
    "RP Variables\n",
    "\n",
    "$p_E$: probability to cheat\n",
    "\n",
    "$cd$: cost of deceit. The cost to provide a fake resonse to a job. \n",
    "\n",
    "\n",
    "Platform variables\n",
    "\n",
    "$m$: cost to mediate\n",
    "\n",
    "$f$: penality for cheating\n",
    "\n",
    "\n",
    "**Inep_Euality**\n",
    "\n",
    "`RPmixed = p_Ep(r-c) + p_E(1-p_v)*(r-c) + (1-p_E)*(1-p_v)*(r-cd) -(1-p_E)*p_v*(f+m+cd)`\n",
    "\n",
    "**Simplify**\n",
    "\n",
    "`RPmixed = p_E*(r-c) + (1-p_E)*(-cd +(1-p_v)*r -p_v*(f+m) )`\n",
    "\n",
    "`JCmixed = pp_E*(b-r-cv) + (1-p_v)*(p_E)(b-r) + p(1-p_E)(f-cv) + (1-p_v)(1-p_E)(-r)`\n",
    "\n",
    "**Simplify**\n",
    "\n",
    "`JCmixed = p_E(p(b-r-cv) + (1-p_v)(b-r)) + (1-p_E)(p(f-cv) + (1-p_v)(-r))`\n",
    "\n",
    "`JCmixed = p_E(pb-pr-pcv + b-r -pb +pr) + (1-p_E)(p(f-cv) + (1-p_v)(-r))`\n",
    "\n",
    "`JCmixed = p_E(-pcv + b -r) + (1-p_E)(p(f-cv) + (1-p_v)(-r))`\n",
    "\n",
    "`JCmixed = p_E(b - r - p(cv)) + (1-p_E)(p(f-cv) + (1-p_v)(-r))`\n",
    "\n",
    "`JCmixed = p_E(b - r - p(cv)) + (1-p_E)(p(r+f-cv) -r)`\n",
    "\n",
    "\n",
    "RP decides to cheat when:\n",
    "\n",
    "$r-c > ((1-p_v*pj) * r - p_v*pj*(f+m) -cd)  $\n",
    "\n",
    " $ r-c -(1-p_v*pj) * r +  p_v*pj*(f+m) +cd  > 0$  \n",
    " \n",
    " $ -(1-p_v*pj) * r +  p_v*pj*(f+m)  > -cd -r + c$\n",
    " \n",
    "$  cd + p( f + m + r ) > c$\n",
    "\n",
    "$p >\\frac{c - cd}{f + m + r}$\n",
    "\n",
    "If the above inep_Euality holds, then RP will be economically incentivized to always complete the job.\n"
   ]
  },
  {
   "cell_type": "code",
   "execution_count": 19,
   "metadata": {},
   "outputs": [],
   "source": [
    "# Plotting Deterministic Mixed Strategy\n",
    "\n",
    "def JCmixed(b,r,p_v,cj,f, c,cd,m,p_E):\n",
    "    p_E=getp_E(c,cd,f,m,r,p_v)\n",
    "    noCheat = p_E*(b-r - p_v*cj)  \n",
    "    cheat = (1-p_E)*(p_v*(f-cj) + (1-p_v)*(-r))\n",
    "    total=noCheat+cheat\n",
    "    return total\n",
    "\n",
    "def RPmixed(r,p_v,f,c, m, cd,p_E):\n",
    "    p_E=getp_E(c,cd,f,m,r,p_v)\n",
    "    noCheat = p_E*(r -c) \n",
    "    cheat = (1-p_E)*((1-p_v) * r - p_v*(f+m) -cd)  \n",
    "    total= cheat + noCheat\n",
    "    return total\n",
    "\n",
    "def p_EValue(c,cd,f,m,r):\n",
    "    return (c-cd)/(f+m+r)\n",
    "\n",
    "\n",
    "def getp_E(c,cd,f,m,r,p_v):\n",
    "    p_EPoint = (c-cd)/(f+m+r)\n",
    "    if (p_v>p_EPoint):\n",
    "        return(1)\n",
    "    else:\n",
    "        return(0)\n",
    "    \n",
    "    return(-1)\n",
    "\n",
    "\n",
    "#Plot\n",
    "def plot3( pi,B, computation, fine, cj, cd, m):\n",
    "\n",
    " \n",
    "    r = pi#1.7\n",
    "    f = fine#pi*2\n",
    "    b = B#2\n",
    "    c = computation#1\n",
    "    cj = cj#c\n",
    "    cd = cd#0\n",
    "    m=m#c*10\n",
    "    p_E=1\n",
    "    \n",
    "    \n",
    "    print(\"p_E Change Point = \\t\",(c-cd)/(f+m+r))\n",
    "\n",
    "\n",
    "    x,step = np.linspace(0,1,101,retstep=True)\n",
    "    \n",
    "    \n",
    "    p_E = p_EValue(c,cd,f,m,r)\n",
    "    \n",
    "    yPU  = list(map(lambda p_v: JCmixed(B,pi,p_v,cj,f, c,cd,m,p_E),x))\n",
    "    yDU  = list(map(lambda p_v: RPmixed(pi,p_v,f,c, m, cd,p_E),x))\n",
    "    yNDU = list(map(lambda p_v: JCU(m,PR=2,NDPR=2, p1=1,B=B,pi=pi,p_v=p_v,C_v=cj, p_E=p_E),x))\n",
    "    \n",
    "    p_Eval = list(map(lambda p_v: getp_E(c,cd,f,m,r,p_v),x))\n",
    "    \n",
    "    plt.figure(3,figsize=(10,5))    \n",
    "    plt.subplot(1,1,1)\n",
    "    plt.grid(visible=True)\n",
    "    plt.plot(x,yNDU, label=\"JCND\")\n",
    "    plt.plot(x,yPU, label=\"JC\")\n",
    "    plt.plot(x,yDU, label=\"RP\")\n",
    "    plt.plot(x,p_Eval,label=\"p_Eval\")\n",
    "    plt.xlabel('P (Probability of Verification)')\n",
    "    plt.ylabel('Util') \n",
    "    \n",
    "    plt.legend()\n",
    "    plt.show"
   ]
  },
  {
   "cell_type": "code",
   "execution_count": 20,
   "metadata": {},
   "outputs": [
    {
     "data": {
      "application/vnd.jupyter.widget-view+json": {
       "model_id": "5a0a2f8925a2423a863cb383e6a7a9b8",
       "version_major": 2,
       "version_minor": 0
      },
      "text/plain": [
       "interactive(children=(IntSlider(value=1, continuous_update=False, description='pi', max=1000), IntSlider(value…"
      ]
     },
     "metadata": {},
     "output_type": "display_data"
    }
   ],
   "source": [
    "#pi,B, computation, fine, cj, cd, m):\n",
    "wComputation=widgets.IntSlider(min=0,max=100,step=0.01,value=4, continuous_update=False)\n",
    "wFine=widgets.IntSlider(min=0,max=100000,step=0.01,value=60, continuous_update=False)\n",
    "wcj=widgets.IntSlider(min=0,max=1000,step=0.01,value=4, continuous_update=False)\n",
    "wcd=widgets.IntSlider(min=0,max=100,step=0.01,value=0, continuous_update=False)\n",
    "wm=widgets.IntSlider(min=0,max=1000000,step=0.01,value=20, continuous_update=False)\n",
    "\n",
    "\n",
    "interactive_plot3 = widgets.interactive(plot3,pi=wpi,B=wB, computation=wComputation, fine=wFine, cj=wcj, cd=wcd, m=wm);\n",
    "output = interactive_plot3.children[-1]\n",
    "# output.layout.height = '1000px'\n",
    "interactive_plot3"
   ]
  },
  {
   "cell_type": "code",
   "execution_count": 21,
   "metadata": {},
   "outputs": [],
   "source": [
    "def plotRP(n,PR,NDPR,p1,pi,b,p_v=1,C_v=0,roi=1,Insurance=0,C_f=0):   \n",
    "    plt.figure(2,figsize=(10,5))\n",
    "    \n",
    "    plt.subplot(1,1,1)\n",
    "    plt.grid(visible=True)\n",
    "    print(\"Comparison of RPNDD with varying p_E\")\n",
    "    x,step = np.linspace(0,1,51,retstep=True)\n",
    "    print(\"step size: %s\" %step)\n",
    "    \n",
    "    ec = pi*(1-roi)\n",
    "    D = pi * PR + (pi * n)\n",
    "    I = D*Insurance\n",
    "    \n",
    "    yRNDD = list(map(lambda p_E: RPU(n,PR,NDPR,p1,pi,p_v=p_v,C_f=C_f,p_E=p_E,ec=ec,I=I),x))\n",
    "    print(\"n,PR,NDPR,pi,p1,p_v=p_v,p_E=p_E,ec=ec,I=Insurance,C_f=C_f\")\n",
    "    print( n,PR,NDPR,pi,p1,p_v,  \"p_E\",ec,     I,C_f)\n",
    "   \n",
    "    plt.plot(x,yRNDD, label=\"RPU Varying p_E\")\n",
    "    plt.xlabel('p_E')\n",
    "    plt.ylabel('Util') \n",
    "    p_Einflection = p_EInflection(n,PR,p1,pi,p_v,C_f,ec)\n",
    "    \n",
    "    print(\"p_E:\\t\"+str(p_Einflection))\n",
    "\n",
    "    plt.legend()\n",
    "    plt.show"
   ]
  },
  {
   "cell_type": "code",
   "execution_count": 22,
   "metadata": {},
   "outputs": [],
   "source": [
    "def p_EInflection(n,PR,p1,pi,p_v,C_f,ec):\n",
    "    \n",
    "    D =   pi * PR + (pi* n)\n",
    "    p2=1-p1\n",
    "    \n",
    "    \n",
    "    p_EInflectionTop = -pi*p_v*p1\n",
    "    p_EInflectionTop += pi*(p_v-1)\n",
    "    p_EInflectionTop += pi*p_v*p2*(p1**n - 1)\n",
    "    p_EInflectionTop += p_v*p2*(p1**n) *D\n",
    "    p_EInflectionTop -= p_v*(p1**n -1) *(pi-C_f)\n",
    "    p_EInflectionTop -= p_v*(p1**n) *(C_f+D)\n",
    "    p_EInflectionTop -= (p_v-1)*(pi-C_f)\n",
    "    \n",
    "    p_EInflectionBottom = -2*(p_v*p1*ec)\n",
    "    \n",
    "    \n",
    "  \n",
    "    p_EInflectionBottom += (p_v-1)*2*ec\n",
    "    p_EInflectionBottom += p_v*p2*(p1**n - 1)*2*ec\n",
    "    p_EInflectionBottom += p_v*p2*(p1**n) *2*ec\n",
    " \n",
    "    p_EInflectionFinal=p_EInflectionTop/p_EInflectionBottom\n",
    "\n",
    "  \n",
    "    return p_EInflectionFinal"
   ]
  },
  {
   "cell_type": "code",
   "execution_count": 23,
   "metadata": {
    "scrolled": false
   },
   "outputs": [
    {
     "data": {
      "application/vnd.jupyter.widget-view+json": {
       "model_id": "944e4e1f656f4822938b520eb8cf2319",
       "version_major": 2,
       "version_minor": 0
      },
      "text/plain": [
       "interactive(children=(IntSlider(value=4, continuous_update=False, description='n', max=10), FloatSlider(value=…"
      ]
     },
     "metadata": {},
     "output_type": "display_data"
    }
   ],
   "source": [
    "#pi,B, computation, fine, cj, cd, m):\n",
    "wn=widgets.IntSlider(min=0,max=10,step=1,value=4, description='n', continuous_update=False)\n",
    "wPR=widgets.FloatSlider(min=0,max=100,step=0.01,value=4, continuous_update=False)\n",
    "wNDPR=widgets.FloatSlider(min=0,max=100,step=0.01,value=4, continuous_update=False)\n",
    "\n",
    "wNDRPR=widgets.IntSlider(min=0,max=100,step=0.01,value=4, continuous_update=False)\n",
    "wpi=widgets.IntSlider(min=0,max=100,step=1,value=4, continuous_update=False)\n",
    "wB=widgets.IntSlider(min=0,max=100,step=1,value=5, continuous_update=False)\n",
    "wp_v = widgets.FloatSlider(min=0,max=1,step=0.01,value=0.5, continuous_update=False)\n",
    "wC_v=widgets.IntSlider(min=0,max=100,step=1,value=2, continuous_update=False)\n",
    "wroi=widgets.FloatSlider(min=0,max=1,step=0.01,value=0.5, continuous_update=False)\n",
    "wInsurance=widgets.FloatSlider(min=0,max=1,step=0.01,value=.5, continuous_update=False)\n",
    "wC_f=widgets.FloatSlider(min=0,max=100,step=1,value=4, continuous_update=False)\n",
    "wp1=widgets.FloatSlider(min=0,max=1,step=0.01,value=0.1, continuous_update=False)\n",
    "\n",
    "\n",
    "\n",
    "#wp_E = widgets.FloatSlider(min=0,max=1,step=.1,value=1,description='P(run)', continuous_update=False) # probability that RP runs correctly\n",
    "\n",
    "\n",
    "\n",
    "interactive_plotRP = widgets.interactive(plotRP,n=wn,PR=wPR, NDPR=wNDPR, p1=wp1, pi=wpi, b=wB, p_v=wp_v, C_v=wC_v,roi=wroi, Insurance=wInsurance, C_f=wC_f)\n",
    "output = interactive_plotRP.children[-1]\n",
    "output.layout.height = '600px'\n",
    "interactive_plotRP"
   ]
  },
  {
   "cell_type": "code",
   "execution_count": 24,
   "metadata": {},
   "outputs": [],
   "source": [
    "def RPp_EFinder(n,PR,p1,pi,p_v,C_f,ec):\n",
    "    p2=1-p1\n",
    "    if p_v==0: #\n",
    "        if (C_f  >ec ):\n",
    "            return 1\n",
    "        elif (C_f  < ec ):\n",
    "            return 0\n",
    "        \n",
    "    fraudCost=C_f\n",
    "    execCost=ec\n",
    "    D=pi * PR + (pi * n)\n",
    "        \n",
    "    #val finds if p_E0 or p_E1 is higher\n",
    "    val = p_v*p1*(pi-execCost)\n",
    "    val +=p_v*p2*(1-p1**n)*(pi-execCost)\n",
    "    val +=p_v*p2*(p1**n)*(-D-execCost)\n",
    "    val +=(1-p_v) * (fraudCost - execCost)\n",
    "    val -=p_v*(1-p1**n)*(pi-fraudCost)\n",
    "    val -= p_v*(p1**n)*(-D-fraudCost)\n",
    "    \n",
    "    if val>=0:\n",
    "        p_E=1\n",
    "    elif val<0:\n",
    "        p_E=0\n",
    "   \n",
    "   \n",
    "    \n",
    "    return p_E\n",
    "    \n",
    "   "
   ]
  },
  {
   "cell_type": "code",
   "execution_count": 25,
   "metadata": {},
   "outputs": [],
   "source": [
    "test = RPp_EFinder(1,1,1,2,3,4,5)"
   ]
  },
  {
   "cell_type": "code",
   "execution_count": 26,
   "metadata": {},
   "outputs": [],
   "source": [
    "def RPNDoptimal(n,PR,NDPR,p1,pi,p_v,C_f,ec,I):\n",
    "    p_Enew = RPp_EFinder(n,PR,p1,pi,p_v,C_f,ec)\n",
    "    \n",
    "    # Temporary fix\n",
    "#     ec = pi*(1-roi)\n",
    "#     D = pi * PR + (pi * n)\n",
    "#     I = D*I\n",
    "    \n",
    "    RPutil = RPU(n,PR,NDPR,p1,pi,p_v,C_f,p_Enew, ec, I)\n",
    "    return(RPutil)"
   ]
  },
  {
   "cell_type": "code",
   "execution_count": 27,
   "metadata": {},
   "outputs": [],
   "source": [
    "def plotnonDetFINAL(n,PR,NDPR,pi,b, p_ETarget,p_v=1,C_v=0, p_E=1,roi=1,Insurance=0,C_f=0):   \n",
    "    plt.figure(2,figsize=(10,5))\n",
    "    \n",
    "    plt.subplot(1,1,1)\n",
    "    plt.grid(visible=True)\n",
    "    x,step = np.linspace(0,1,101,retstep=True)\n",
    "    print(\"step size: %s\" %step)\n",
    "    yJND = list(map(lambda p1: JCU(n,PR,NDPR, p1,b,pi,p_v=p_v,C_v=C_v, p_E=p_E),x))\n",
    "    #yRND = list(map(lambda p1: RPNDU(n,PR,NDPR, p1,pi,p_v=p_v, p_E=p_E,roi=roi,I=Insurance),x))\n",
    "    \n",
    "    ec = pi*(1-roi)\n",
    "    D = pi * PR + (pi * n)\n",
    "    I = D*Insurance\n",
    "    \n",
    "    yRNDD = list(map(lambda p1: RPU(n,PR,NDPR,p1,pi,p_v=p_v,C_f=C_f,p_E=p_E,ec=ec,I=I),x))\n",
    "    yRNDD0 = list(map(lambda p1: RPU(n,PR,NDPR,p1,pi,p_v=p_v,C_f=C_f,p_E=0,ec=ec,I=I),x))\n",
    "    yRNDD1 = list(map(lambda p1: RPU(n,PR,NDPR,p1,pi,p_v=p_v,C_f=C_f,p_E=1,ec=ec,I=I),x))\n",
    "    \n",
    "    yRNDoptimal =list(map(lambda p1: RPNDoptimal(n,PR,NDPR,p1,pi,p_v=p_v,C_f=C_f,ec=ec,I=I),x))\n",
    "    \n",
    "    #                        RPp_EFinder(n, PR, p1, pi, p_v,   C_f,     roi):\n",
    "    yp_E = list(map(lambda p1: RPp_EFinder(n, PR, p1, pi, p_v=p_v, C_f=C_f, ec=ec), x))\n",
    "    \n",
    "    #plt.plot(x,yJND, label=\"JUND\")\n",
    "    #plt.plot(x,yRND, label=\"RUND\")\n",
    "    plt.plot(x,yRNDD, label=\"RUNDD\")\n",
    "    \n",
    "    plt.plot(x,yp_E, label=\"p_E Cheat Amount\")\n",
    "    plt.plot(x,yRNDD0, label=\"RUNDD, p_E=0 CHEATING\")\n",
    "    plt.plot(x,yRNDD1, label=\"RUNDD, p_E=1 FAIR\")\n",
    "    plt.plot(x,yRNDoptimal, label=\"RUNDoptimal\")\n",
    "    \n",
    "    plt.xlabel('P(a1)')\n",
    "    plt.ylabel('Util') \n",
    "    \n",
    "    plt.legend()\n",
    "    plt.show\n",
    "    \n",
    "    print(\"n: %s\" %n)\n",
    "    print(\"Price: %s\" %pi)\n",
    "    D = pi * PR + pi*n\n",
    "    print(\"D: %s\" %D)\n",
    "    damages = pi + C_r\n",
    "    \n",
    "    maxJND = max(yJND)\n",
    "    p1Max = x[yJND.index(maxJND)]\n",
    "    p2 = 1 - p1Max\n",
    "    print(\"P(a1) for JCmax/RPmin util: %s\" %p1Max)\n",
    "    print(\"\")\n",
    "    \n",
    "    print(\"Resource Provider\")\n",
    "    execCost = pi*(1-roi)\n",
    "    requstedPrice = execCost + D*Insurance   \n",
    "    print(\"requstedPrice: %s\" %requstedPrice)   \n",
    "    print(\"pi > requstedPrice, Matchable? : %s\" %(pi>requstedPrice))\n",
    "    \n",
    "    print(\"\")\n",
    "    P1payout = p_v*p1Max*pi\n",
    "    P2payout = p_v*p2*(1-p1Max**n)*damages\n",
    "    TPayout = P1payout+P2payout\n",
    "    RPcost = pi*(1-roi) \n",
    "    NDI = D*Insurance\n",
    "    NDloss = p_v*(p2)*(p1Max**n)*D\n",
    "    Tcost = RPcost + NDloss - NDI\n",
    "    I = p_v*(p2)*(p1Max**n)\n",
    "    \n",
    "    p1=p_ETarget\n",
    "    p2=1-p1 #1-p1\n",
    "    \n",
    "    fraudcost=C_f\n",
    "    fraudCost=C_f\n",
    "    \n",
    "    p_Epoint =  - (fraudcost - execCost)/(p1*(pi-execCost)+p2*(1-p1**n)*(pi-execCost)+p2*(p1**n)*(-D-execCost)-(1-p1**n)*(pi-fraudCost)- (p1**n)*(-D-fraudCost) )\n",
    "\n",
    "    \n",
    "    optimalp_E = RPp_EFinder(n,PR,p1,pi,p_v,C_f,roi)\n",
    "\n",
    "    print(\"p_E INFLECTION POINT: (P1 = \"+str(p_ETarget)+\"):\\t necessary P = \"+str(p_Epoint))\n",
    "    \n",
    "   \n",
    "    print(\"Optimal p_E: (P1 = \"+str(p_ETarget)+\"):\\t  p_Eoptimal = \"+str(optimalp_E))\n",
    "    \n",
    "    \n",
    "    \n",
    "    print(\"max ND JC utility: %s\" %maxJND)    \n",
    "    \n",
    "    \n",
    "    with open('RP_file.csv', mode='w') as RPfile:\n",
    "        RPwriter = csv.writer(RPfile, delimiter=',', quotechar='\"', quoting=csv.QUOTE_MINIMAL)\n",
    "        RPwriter.writerow(['p1','RND0', 'RND1', 'RNDoptimal', 'p_Eoptimal'])\n",
    "        for i in range(101):\n",
    "            RPwriter.writerow([i/100-1/100, yRNDD0[i], yRNDD1[i], yRNDoptimal[i], yp_E[i] ])\n",
    "\n",
    "   "
   ]
  },
  {
   "cell_type": "code",
   "execution_count": 28,
   "metadata": {
    "scrolled": false
   },
   "outputs": [
    {
     "data": {
      "application/vnd.jupyter.widget-view+json": {
       "model_id": "ea4d8609644a495fbb0f7c19e56b609c",
       "version_major": 2,
       "version_minor": 0
      },
      "text/plain": [
       "Output(layout=Layout(height='600px'))"
      ]
     },
     "metadata": {},
     "output_type": "display_data"
    },
    {
     "data": {
      "application/vnd.jupyter.widget-view+json": {
       "model_id": "42f9767fe2544080a6aa11a4f4208160",
       "version_major": 2,
       "version_minor": 0
      },
      "text/plain": [
       "HBox(children=(IntSlider(value=4, continuous_update=False, description='n', max=10), FloatSlider(value=4.0, co…"
      ]
     },
     "metadata": {},
     "output_type": "display_data"
    },
    {
     "data": {
      "application/vnd.jupyter.widget-view+json": {
       "model_id": "0514a86494c141e3b04a029e6674e30c",
       "version_major": 2,
       "version_minor": 0
      },
      "text/plain": [
       "HBox(children=(IntSlider(value=5, continuous_update=False, description='b'), IntSlider(value=4, continuous_upd…"
      ]
     },
     "metadata": {},
     "output_type": "display_data"
    },
    {
     "data": {
      "application/vnd.jupyter.widget-view+json": {
       "model_id": "df0a4dd554bb4bb1a334219486784e81",
       "version_major": 2,
       "version_minor": 0
      },
      "text/plain": [
       "HBox(children=(FloatSlider(value=4.0, continuous_update=False, description='C_f', step=1.0), FloatSlider(value…"
      ]
     },
     "metadata": {},
     "output_type": "display_data"
    },
    {
     "data": {
      "application/vnd.jupyter.widget-view+json": {
       "model_id": "3a5c9c8aa15e43868fe49278388002ee",
       "version_major": 2,
       "version_minor": 0
      },
      "text/plain": [
       "HBox(children=(FloatSlider(value=1.0, continuous_update=False, description='p_E', max=1.0, step=0.01),))"
      ]
     },
     "metadata": {},
     "output_type": "display_data"
    }
   ],
   "source": [
    "# ui = widgets.HBox([wn,wPR,wNDPR,wpi,wp_v,wcj,wp_E,wroi,winsurance])\n",
    "#wp_ETarget = widgets.FloatSlider(min=0,max=1,step=.01,value=1, description='p_E Inflection Target',continuous_update=False)#Non-deterministic Penalty rate\n",
    "\n",
    "ui1 = widgets.HBox([wn,wPR,wNDPR])\n",
    "ui2 = widgets.HBox([wB,wpi,wp_v,wC_v])\n",
    "ui3 = widgets.HBox([wC_f,wp_E,wroi,winsurance])\n",
    "ui4 = widgets.HBox([wp_ETarget])\n",
    "\n",
    "# interactive_plot = widgets.interactive(plot, n=wn,PR=wPR,NDPR=wNDPR,pi=wpi,p_v=wp_v,cj=wcj, p_E=wp_E,roi=wroi,Insurance=winsurance);\n",
    "interactive_plotFinal = widgets.interactive_output(plotnonDetFINAL,{'n':wn,'PR':wPR,'NDPR':wNDPR,'pi':wpi,'b':wB, 'p_ETarget':wp_ETarget, 'p_v':wp_v,'C_v':wC_v, 'p_E':wp_E,'roi':wroi,'Insurance':winsurance,'C_f':wC_f});\n",
    "\n",
    "interactive_plotFinal.layout.height = '600px'\n",
    "\n",
    "display(interactive_plotFinal,ui1,ui2,ui3,ui4)\n",
    "# interactive_plotFinal\n"
   ]
  },
  {
   "cell_type": "raw",
   "metadata": {},
   "source": [
    "# Inequality Equation so that RP can set p_E\n",
    "\n",
    "p_v*p1*(pi-execCost)\n",
    "+p_v*p2*(1-p1**n)*(pi-execCost)\n",
    "+p_v*p2*(p1**n)*(-D-execCost)\n",
    "+(1-p_v) * (fraudcost - execCost)\n",
    "-p_v*(1-p1**n)*(pi-fraudCost)\n",
    "- p_v*(p1**n)*(-D-fraudCost)\n",
    ">\n",
    "0\n"
   ]
  },
  {
   "cell_type": "raw",
   "metadata": {},
   "source": [
    "# Inequality Equation so that JC can set P\n",
    "\n",
    "p / (1-p_v)\n",
    ">\n",
    "- (fraudcost - execCost)\n",
    "/\n",
    "(\n",
    "p1*(pi-execCost)\n",
    "+p2*(1-p1**n)*(pi-execCost)\n",
    "+p2*(p1**n)*(-D-execCost)\n",
    "-(1-p1**n)*(pi-fraudCost)\n",
    "- (p1**n)*(-D-fraudCost)\n",
    ")"
   ]
  },
  {
   "cell_type": "markdown",
   "metadata": {},
   "source": [
    "# Derivative of JPNDU wrt p1\n",
    "   Simplify: Following Equation must not be true for 0<=p1<1, and p1\n",
    "   \n",
    "   p_v*(B-pi-C_v)\n",
    "   + p_v*p_E*(1-p1)\n",
    "   + n *p_v*(p_E-1)*p1**(n - 1) *( (-(NDD + C_r + C_v)) - (C_v-r) ) \n",
    "   + (B-NDD-C_r-C_v)*p_v*p_E * (n * (1-p1)*p1**(n-1)  -  (1-p1**n)  )\n",
    "   =0\n"
   ]
  },
  {
   "cell_type": "code",
   "execution_count": 29,
   "metadata": {},
   "outputs": [],
   "source": [
    "def OptimalP(fraudcost,execCost, p1, pi, n, D):\n",
    "    \n",
    "    p2=1-p1\n",
    "    fraudcost\n",
    "    p1=n/(n+1)\n",
    "\n",
    "    top = - (fraudcost - execCost)\n",
    "    bot = p1*(pi-execCost) +p2*(1-p1**n)*(pi-execCost) +p2*(p1**n)*(-D-execCost) -(1-p1**n)*(pi-fraudcost) - (p1**n)*(-D-fraudcost)\n",
    "\n",
    "    rightside=top/bot\n",
    "\n",
    "    p_v=rightside/(1-rightside)\n",
    "    \n",
    "    p_v=p_v+0.001\n",
    "    \n",
    "    if (p_v<0):\n",
    "        p_v=0\n",
    "    elif (p_v>1):\n",
    "        p_v=1\n",
    "\n",
    "    return p_v\n",
    "    \n",
    "    "
   ]
  },
  {
   "cell_type": "code",
   "execution_count": 30,
   "metadata": {},
   "outputs": [],
   "source": [
    "def pp_Efinder(n,PR,p1,pi,C_f,ec, D):\n",
    "    execCost=ec\n",
    "    fraudcost=C_f\n",
    "    p_v=OptimalP(fraudcost,execCost, p1, pi, n, D)\n",
    "  \n",
    "    \n",
    "    p_E=RPp_EFinder(n,PR,p1,pi,p_v,C_f,ec)\n",
    "\n",
    "    \n",
    "    return p_E"
   ]
  },
  {
   "cell_type": "code",
   "execution_count": 31,
   "metadata": {},
   "outputs": [],
   "source": [
    "def pRPUtility(n, PR, p1, pi, fraudcost, execCost, D, roi, I):    \n",
    "    p_v=OptimalP(fraudcost,execCost, p1, pi, n, D)\n",
    "\n",
    "    p_E=pp_Efinder(n,PR,p1,pi,fraudcost, execCost, D)\n",
    "\n",
    "    RPutility = RPU(n, PR, PR, p1, pi, p_v,fraudcost, p_E, execCost, I)\n",
    "              # RPU(n,PR,NDPR,p1,pi,p_v=1,C_f=0,p_E=1, ec=0, I=0):\n",
    "    RPutility0 = RPU(n, PR, PR, p1, pi, p_v,fraudcost, 0, execCost, I)    \n",
    "    RPutility1 = RPU(n, PR, PR, p1, pi, p_v,fraudcost, 1, execCost, I)    \n",
    "          \n",
    "    #RPutility=-999\n",
    "    return [RPutility,RPutility0, RPutility1]"
   ]
  },
  {
   "cell_type": "code",
   "execution_count": 32,
   "metadata": {},
   "outputs": [],
   "source": [
    "def plotp(fraudcost,execCost, p1, pi, n, PR, D,roi, I):  \n",
    "    plt.figure(2,figsize=(10,5))\n",
    "    \n",
    "    plt.subplot(1,1,1)\n",
    "    plt.grid(visible=True)\n",
    "    x,step = np.linspace(0,1,51,retstep=True)\n",
    "    print(\"step size: %s\" %step)\n",
    "    \n",
    "    yP =   list(map(lambda execCost: OptimalP(fraudcost,execCost, p1, pi, n, D),x))\n",
    "    yPp_E =  list(map(lambda execCost: pp_Efinder(n,PR,p1,pi,fraudcost,execCost, D),x))\n",
    "    #yPp_E1 = list(map(lambda execCost: RPp_EFinder(n,PR,p1,pi,1,fraudcost,execCost),x))\n",
    "    #yPp_E0 = list(map(lambda execCost: RPp_EFinder(n,PR,p1,pi,0,fraudcost,execCost),x))\n",
    "    yRPU = list(map(lambda execCost: pRPUtility(n,PR,p1,pi,fraudcost,execCost, D,roi,I),x))\n",
    "                                    #pRPUtility(n, PR, p1, pi, fraudcost, execCost, D, roi, I):       \n",
    "    #yJND = list(map(lambda p1: JCU(n,PR,NDPR, p1,b,pi,p_v=p_v,C_v=C_v, p_E=p_E),x))\n",
    "#     yRND = list(map(lambda p1: RPNDU(n,PR,NDPR, p1,pi,p_v=p_v, p_E=p_E,roi=roi,I=Insurance),x))\n",
    "    \n",
    "    #ec = pi*(1-roi)\n",
    "    #D = pi * PR + (pi * n)\n",
    "    #I = D*Insurance\n",
    "\n",
    "    #yRNDD = list(map(lambda p1: RPU(n,PR,NDPR,p1,pi,p_v=p_v,C_f=C_f,p_E=p_E,ec=ec,I=I),x))\n",
    "    \n",
    "    #plt.plot(x,yPp_E0, label=\"Optimal p_E when p_v=0\")\n",
    "    #plt.plot(x,yPp_E1, label=\"Optimal p_E when p_v=1\")\n",
    "    plt.plot(x,yP, label=\"Optimal P\")\n",
    "    plt.plot(x,yPp_E, label=\"p_E based on optimal P\")\n",
    "    \n",
    "    RP1 = np.array(yRPU)[:,2]\n",
    "   \n",
    "    RP0 = np.array(yRPU)[:,1]\n",
    "    RPopt = np.array(yRPU)[:,0] \n",
    "    \n",
    "    plt.plot(x,RPopt, label=\"RP Utility with Optimal P, Optimal p_E\")\n",
    "    plt.plot(x,RP0, label=\"RP Utility with Optimal P, p_E=0\")\n",
    "    plt.plot(x,RP1, label=\"RP Utility with Optimal P, p_E=1\")\n",
    "    #plt.plot(x,yJND, label=\"JUND\")\n",
    "    #plt.plot(x,yRND, label=\"RUND\")\n",
    "    #plt.plot(x,yRNDD, label=\"RUNDD\")\n",
    "    plt.xlabel('execution Cost')\n",
    "    plt.ylabel('P (verification rate)') \n",
    "    \n",
    "    plt.legend()\n",
    "    plt.show   \n",
    "   "
   ]
  },
  {
   "cell_type": "code",
   "execution_count": 33,
   "metadata": {},
   "outputs": [
    {
     "data": {
      "application/vnd.jupyter.widget-view+json": {
       "model_id": "6ee7896c8f544a4fb3d48107e4ba3f1d",
       "version_major": 2,
       "version_minor": 0
      },
      "text/plain": [
       "Output()"
      ]
     },
     "metadata": {},
     "output_type": "display_data"
    },
    {
     "data": {
      "application/vnd.jupyter.widget-view+json": {
       "model_id": "087b65b047984e66af9d56b04871a947",
       "version_major": 2,
       "version_minor": 0
      },
      "text/plain": [
       "HBox(children=(FloatSlider(value=1.0, continuous_update=False, description='fraudcost', max=300.0, step=0.5), …"
      ]
     },
     "metadata": {},
     "output_type": "display_data"
    },
    {
     "data": {
      "application/vnd.jupyter.widget-view+json": {
       "model_id": "a81139e0ca9d4a20a1196376e15f00b0",
       "version_major": 2,
       "version_minor": 0
      },
      "text/plain": [
       "HBox(children=(FloatSlider(value=1.0, continuous_update=False, description='D', max=300.0, step=0.5), FloatSli…"
      ]
     },
     "metadata": {},
     "output_type": "display_data"
    }
   ],
   "source": [
    "# ui = widgets.HBox([wn,wPR,wNDPR,wpi,wp_v,wcj,wp_E,wroi,winsurance])\n",
    "\n",
    "wFraudcost = widgets.FloatSlider(min=0,max=300,step=.5,value=1, description='fraudcost', continuous_update=False) #Penalty Rate\n",
    "wexecCost = widgets.FloatSlider(min=0,max=300,step=.5,value=1, description='execCost', continuous_update=False) #Penalty Rate\n",
    "wpi = widgets.FloatSlider(min=0,max=300,step=.5,value=1, description='pi', continuous_update=False) #Penalty Rate\n",
    "\n",
    "wD = widgets.FloatSlider(min=0,max=300,step=.5,value=1, description='D', continuous_update=False) #Penalty Rate\n",
    "wn = widgets.IntSlider(min=0,max=10,step=1,value=1, description='n',continuous_update=False)\n",
    "\n",
    "\n",
    "ui6 = widgets.HBox([wFraudcost, wpi, wn, wPR])\n",
    "ui7 = widgets.HBox([wD, wroi, winsurance])\n",
    "\n",
    "#plotp(fraudcost,execCost, p1, pi, n, D):  \n",
    "interactive_plotp = widgets.interactive_output(plotp,{'fraudcost': wFraudcost, 'execCost':wComputation, 'p1':wp1, 'pi':wpi, 'n':wn, 'PR':wPR, 'D':wD, 'roi':wroi, 'I':winsurance});\n",
    "\n",
    "#interactive_plot = widgets.interactive_output(plot,{'n':wn,'PR':wPR,'NDPR':wNDPR,'pi':wpi,'b':wB,'p_v':wp_v,'C_v':wC_v, 'p_E':wp_E,'roi':wroi,'Insurance':winsurance,'C_f':wC_f });\n",
    "\n",
    "\n",
    "# output = interactive_plot.children[-1]\n",
    "# output.layout.height = '900px'\n",
    "display(interactive_plotp,ui6,ui7)"
   ]
  },
  {
   "cell_type": "code",
   "execution_count": null,
   "metadata": {},
   "outputs": [],
   "source": []
  },
  {
   "cell_type": "code",
   "execution_count": null,
   "metadata": {},
   "outputs": [],
   "source": []
  },
  {
   "cell_type": "code",
   "execution_count": null,
   "metadata": {},
   "outputs": [],
   "source": []
  },
  {
   "cell_type": "code",
   "execution_count": null,
   "metadata": {},
   "outputs": [],
   "source": []
  },
  {
   "cell_type": "code",
   "execution_count": null,
   "metadata": {},
   "outputs": [],
   "source": []
  },
  {
   "cell_type": "code",
   "execution_count": null,
   "metadata": {},
   "outputs": [],
   "source": []
  }
 ],
 "metadata": {
  "kernelspec": {
   "display_name": "Python 3",
   "language": "python",
   "name": "python3"
  },
  "language_info": {
   "codemirror_mode": {
    "name": "ipython",
    "version": 3
   },
   "file_extension": ".py",
   "mimetype": "text/x-python",
   "name": "python",
   "nbconvert_exporter": "python",
   "pygments_lexer": "ipython3",
   "version": "3.6.6"
  }
 },
 "nbformat": 4,
 "nbformat_minor": 2
}
