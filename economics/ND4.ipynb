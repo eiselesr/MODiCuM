{
 "cells": [
  {
   "cell_type": "code",
   "execution_count": 1,
   "metadata": {},
   "outputs": [],
   "source": [
    "from __future__ import print_function\n",
    "import ipywidgets as widgets \n",
    "import matplotlib.pyplot as plt\n",
    "import numpy as np\n",
    "import csv\n",
    "import sympy\n",
    "from numpy import array"
   ]
  },
  {
   "cell_type": "markdown",
   "metadata": {},
   "source": [
    "### Mediator Parameters\n",
    "\n",
    "$n$ : the number of times a jobs is executed for verification.\n",
    "\n",
    "$PR \\in [0,1] \\subset \\mathbb{R}$ : the penalty rate, used to determine the minimum D of both Job Creators and Resource Providers\n",
    "\n",
    "$NDPR \\in [0,1] \\subset \\mathbb{R}$ : the non-deterministic penalty rate, used to determine the Job Creators non-deterministic D\n",
    "\n",
    "$baseFee = JCmediatorPrice + RPmediatorPrice$ : The fee the Mediator requires to be available for a mediation. A mediator can be used if `available < JCmediatorPrice + RPmediatorPrice`\n",
    "\n",
    "$mediationFee = D-pi$ : The amount Mediator receives for mediating a given dispute. \n",
    "\n",
    "$ND\\_Fee = NDPR \\times pi-pi$ : The amount Mediator receives for mediating a given dispute and finding JC guilty of non-determinism. "
   ]
  },
  {
   "cell_type": "markdown",
   "metadata": {},
   "source": [
    "### Mediator Model"
   ]
  },
  {
   "cell_type": "code",
   "execution_count": 2,
   "metadata": {},
   "outputs": [],
   "source": [
    "# Mediator Parameters\n",
    "wC_r = widgets.IntSlider(min=0,max=100,step=1,value=1, description='C_r', continuous_update=False)\n",
    "wn = widgets.IntSlider(min=0,max=10,step=1,value=1, description='n',continuous_update=False)\n",
    "wPR = widgets.FloatSlider(min=0,max=100,step=.5,value=1, description='PR', continuous_update=False) #Penalty Rate\n",
    "wPR = widgets.FloatSlider(min=0,max=100,step=.5,value=1, description='PR', continuous_update=False) #Penalty Rate\n",
    "wNDPR = widgets.FloatSlider(min=0,max=100,step=.5,value=1, description='NDPR',continuous_update=False)#Non-deterministic Penalty rate\n",
    "wp_ETarget = widgets.FloatSlider(min=0,max=1,step=.01,value=1, description='p_E',continuous_update=False)#p_E target slider\n",
    "\n",
    "def MNDU(JCmediatorPrice, RPmediatorPrice):\n",
    "    baseFee = JCmediatorPrice + RPmediatorPrice\n",
    "    mediationFee = p_v*(p2+(1-p_E))*(p_a**n)*(D-pi)\n",
    "    ND_Fee = p_v*(p2+(1-p_E))*(1-(p_a**n))*(NDD-pi) \n",
    "    return available + mediationFee + ND_Fee\n",
    "\n",
    "\n"
   ]
  },
  {
   "cell_type": "markdown",
   "metadata": {},
   "source": [
    "### Solver Parameters\n",
    "\n",
    "$matchFee$ = The amount a solver receives for finding a given match. "
   ]
  },
  {
   "cell_type": "markdown",
   "metadata": {},
   "source": [
    "### Solver Model"
   ]
  },
  {
   "cell_type": "code",
   "execution_count": 3,
   "metadata": {},
   "outputs": [],
   "source": [
    "#Solver\n",
    "def SNDU(): #solver nondeterminisitc utility\n",
    "    matchFee = RPMatchingFee + JCMatchingFee\n",
    "    return matchFee"
   ]
  },
  {
   "cell_type": "markdown",
   "metadata": {},
   "source": [
    "# JC Model\n",
    "\n",
    "### Job Creator parameters\n",
    "\n",
    "$\\pi = instructionCount*JO.rate + bandwidthUsage*JO.rate$ : The max pi the JC is willing to pay to have a job executed.\n",
    "\n",
    "$p_{v}$ : probability the JC verifies result a1. \n",
    "\n",
    "$p_{va2}$ : probability the JC verifies result a2. This probability is 0 because it can just go straight to mediation. \n",
    "\n",
    "$C_v$ : cost to JC to verify result.\n",
    "\n",
    "$B$ : the value or B JC gets when a job is performed correctly.\n",
    "\n",
    "$matchPrice$ : the amount JC pays to Solver for finding a suitable RP. \n",
    "\n",
    "$mediatorPrice$ : The amount JC pays to mediator for being available. \n",
    "\n",
    "$p_a$ : probability that job returns answer in class $a1$\n",
    "\n",
    "$p_2 = 1-p_a$ : probability that job returns answer in class $a2$\n",
    "\n",
    "$D = \\pi \\cdot (PR + n)$ : the amount the Job Creator must post as a security D in order to get matched. It multiplied by the $n$, which as a reminder is the number of times the mediator will replicate a job. "
   ]
  },
  {
   "cell_type": "markdown",
   "metadata": {},
   "source": [
    "This model takes into account when the JC is attempting to gain utility though tricking the mediator into believing a RP did a job incorrectly and giving it compensation. The JC can trick the mediator by providing a job with a non-deterministic output. The output is in one of two answer classes, $a1$ or $a2$ with $P(a1)>>P(a2)$. If RP responds with $a1$ the JC will pay RP. If RP responds with $a2$ JC will request mediation, expecting the mediator to find the answer to be $a1$ and determine that the $RP$ must have cheated. \n",
    "We only need to considert two answer classes because when the Mediator is performing verification it assigns fault to the RP only if it finds there to be one answer which does not match the RP answer, if it finds two answers that differ from one another, regardless of if they match the RP answer, it faults the JC. This means that JC wants to maximize the chance that the Mediator will get the same answer reapeatedly which is not Bed by having additional answer classes.  \n",
    "\n",
    "We need to make sure that the platform compensation model does not make this strategy feasible. \n",
    "\n",
    "**Assumptions**\n",
    "\n",
    "* The job has probability p_a of resulting in an answer in class a1 and 1-p_a of resulting in class a2"
   ]
  },
  {
   "cell_type": "code",
   "execution_count": 4,
   "metadata": {},
   "outputs": [],
   "source": [
    "# JC parameters\n",
    "wpi = widgets.IntSlider(min=0,max=1000,step=1,value=1, continuous_update=False)\n",
    "wp_v = widgets.FloatSlider(min=0,max=1,step=.1,value=1, description='p_v', continuous_update=False) # how often JC verifies\n",
    "wC_v = widgets.FloatSlider(min=0,max=100,step=.1,value=0, description='C_v',continuous_update=False) # cost for JC to verify\n",
    "wB = widgets.IntSlider(min=0,max=1000,step=1,value=2, continuous_update=False)\n",
    "matchPrice = 1\n",
    "mediatorPrice = 1\n",
    "\n",
    "def JCU(n,PR,NDPR,C_r,  p_a,B,pi,p_v=1,C_v=0,  p_E=1):\n",
    "    p2 = 1-p_a\n",
    "    \n",
    "    NDD = pi * NDPR + (pi* n)\n",
    "     \n",
    "    JC_HRP  =  p_v*p_E*p_a*(B-pi-C_v) # RP correctly (p_E) returns answer 1 (p_a) and pay up to max_pi (-pi).\n",
    "    \n",
    "    NDJC_HRP_Gain = p_v*p_E*p2*(p_a**n)*(B + pi -C_v) # receives gas pi because it had to spend some to request mediation.\n",
    "    NDJC_HRP_Lose = p_v*p_E*p2*(1-(p_a**n))*(B-NDD-C_r-C_v) #RP returns answer 2 correctly or responds incorrectly (p2+(1-p_E)) and send to mediator who finds out nonDeterminism (1-p_a^n), pay fine and reward (f2+r)\n",
    "    ND = NDJC_HRP_Gain + NDJC_HRP_Lose\n",
    "    \n",
    "    DRP_Gain = p_v*(1-p_E)*(p_a**n)*(pi - C_v) \n",
    "    DRP_Lose = p_v*(1-p_E)*(1-p_a**n)*(-NDD-C_r-C_v)# compute incorrectly (1-p_E) get sent to mediation, finds nondeterminism (1-p_a^n) get compensation.\n",
    "#     DRP_scared = p_v*(1-p_E)*(-pi-C_v) # JC doesn't want to risk getting caught, just pay RP\n",
    "#     DRP =  max(DRP_Gain+DRP_Lose, DRP_scared)\n",
    "    DRP = DRP_Gain + DRP_Lose\n",
    "    \n",
    "    \n",
    "    noID_HRP = (1-p_v)*p_E*(B-pi)\n",
    "    noID_DRP = (1-p_v)*(1-p_E)*(-pi)\n",
    "    noVerifyCost = noID_HRP + noID_DRP\n",
    "    \n",
    "    JCnonDet = JC_HRP + ND + DRP + noVerifyCost\n",
    "    return JCnonDet\n"
   ]
  },
  {
   "cell_type": "code",
   "execution_count": 5,
   "metadata": {},
   "outputs": [
    {
     "data": {
      "text/latex": [
       "$\\displaystyle p_{E} p_{a} p_{v} \\left(B - C_{v} - \\pi\\right) + p_{E} p_{a}^{n} p_{v} \\left(1 - p_{a}\\right) \\left(B - C_{v} + \\pi\\right) + p_{E} p_{v} \\left(1 - p_{a}\\right) \\left(1 - p_{a}^{n}\\right) \\left(B - C_{r} - C_{v} - NDPR \\pi - n \\pi\\right) + p_{E} \\left(1 - p_{v}\\right) \\left(B - \\pi\\right) + p_{a}^{n} p_{v} \\left(1 - p_{E}\\right) \\left(- C_{v} + \\pi\\right) + p_{v} \\left(1 - p_{E}\\right) \\left(1 - p_{a}^{n}\\right) \\left(- C_{r} - C_{v} - NDPR \\pi - n \\pi\\right) - \\pi \\left(1 - p_{E}\\right) \\left(1 - p_{v}\\right)$"
      ],
      "text/plain": [
       "p_E*p_a*p_v*(B - C_v - pi) + p_E*p_a**n*p_v*(1 - p_a)*(B - C_v + pi) + p_E*p_v*(1 - p_a)*(1 - p_a**n)*(B - C_r - C_v - NDPR*pi - n*pi) + p_E*(1 - p_v)*(B - pi) + p_a**n*p_v*(1 - p_E)*(-C_v + pi) + p_v*(1 - p_E)*(1 - p_a**n)*(-C_r - C_v - NDPR*pi - n*pi) - pi*(1 - p_E)*(1 - p_v)"
      ]
     },
     "metadata": {},
     "output_type": "display_data"
    },
    {
     "data": {
      "text/latex": [
       "$\\displaystyle B p_{E} - C_{r} p_{E} p_{a} p_{a}^{n} p_{v} + C_{r} p_{E} p_{a} p_{v} + C_{r} p_{a}^{n} p_{v} - C_{r} p_{v} - C_{v} p_{v} - NDPR p_{E} p_{a} p_{a}^{n} p_{v} \\pi + NDPR p_{E} p_{a} p_{v} \\pi + NDPR p_{a}^{n} p_{v} \\pi - NDPR p_{v} \\pi - n p_{E} p_{a} p_{a}^{n} p_{v} \\pi + n p_{E} p_{a} p_{v} \\pi + n p_{a}^{n} p_{v} \\pi - n p_{v} \\pi - p_{E} p_{a} p_{a}^{n} p_{v} \\pi - p_{E} p_{a} p_{v} \\pi + p_{a}^{n} p_{v} \\pi + p_{v} \\pi - \\pi$"
      ],
      "text/plain": [
       "B*p_E - C_r*p_E*p_a*p_a**n*p_v + C_r*p_E*p_a*p_v + C_r*p_a**n*p_v - C_r*p_v - C_v*p_v - NDPR*p_E*p_a*p_a**n*p_v*pi + NDPR*p_E*p_a*p_v*pi + NDPR*p_a**n*p_v*pi - NDPR*p_v*pi - n*p_E*p_a*p_a**n*p_v*pi + n*p_E*p_a*p_v*pi + n*p_a**n*p_v*pi - n*p_v*pi - p_E*p_a*p_a**n*p_v*pi - p_E*p_a*p_v*pi + p_a**n*p_v*pi + p_v*pi - pi"
      ]
     },
     "metadata": {},
     "output_type": "display_data"
    },
    {
     "data": {
      "text/latex": [
       "$\\displaystyle - p_{E} p_{a} p_{v} \\left(- B + C_{v} + \\pi\\right) - p_{E} p_{a}^{n} p_{v} \\left(p_{a} - 1\\right) \\left(B - C_{v} + \\pi\\right) - p_{E} p_{v} \\left(p_{a} - 1\\right) \\left(p_{a}^{n} - 1\\right) \\left(- B + C_{r} + C_{v} + NDPR \\pi + n \\pi\\right) - p_{E} \\left(B - \\pi\\right) \\left(p_{v} - 1\\right) + p_{a}^{n} p_{v} \\left(C_{v} - \\pi\\right) \\left(p_{E} - 1\\right) - p_{v} \\left(p_{E} - 1\\right) \\left(p_{a}^{n} - 1\\right) \\left(C_{r} + C_{v} + NDPR \\pi + n \\pi\\right) - \\pi \\left(p_{E} - 1\\right) \\left(p_{v} - 1\\right)$"
      ],
      "text/plain": [
       "-p_E*p_a*p_v*(-B + C_v + pi) - p_E*p_a**n*p_v*(p_a - 1)*(B - C_v + pi) - p_E*p_v*(p_a - 1)*(p_a**n - 1)*(-B + C_r + C_v + NDPR*pi + n*pi) - p_E*(B - pi)*(p_v - 1) + p_a**n*p_v*(C_v - pi)*(p_E - 1) - p_v*(p_E - 1)*(p_a**n - 1)*(C_r + C_v + NDPR*pi + n*pi) - pi*(p_E - 1)*(p_v - 1)"
      ]
     },
     "metadata": {},
     "output_type": "display_data"
    }
   ],
   "source": [
    "sn, sPR, sNDPR, sp_a, sB, spi, sp_v, sC_v, sp_E, sC_r= sympy.symbols('n PR NDPR p_a B pi p_v C_v p_E C_r', real=True)\n",
    "\n",
    "JU = JCU(sn,sPR,sNDPR,sC_r,   sp_a,sB,spi,sp_v,sC_v,   sp_E)\n",
    "display(JU)\n",
    "\n",
    "JU1 = sympy.expand(JU)\n",
    "display(JU1)\n",
    "\n",
    "JU1 = sympy.simplify(JU)\n",
    "display(JU1)\n"
   ]
  },
  {
   "cell_type": "markdown",
   "metadata": {},
   "source": [
    "# Job Creator Strategy"
   ]
  },
  {
   "cell_type": "code",
   "execution_count": null,
   "metadata": {},
   "outputs": [],
   "source": []
  },
  {
   "cell_type": "markdown",
   "metadata": {},
   "source": [
    "### Upper Bounds on Job Creator Cheating\n",
    "\n",
    "\\begin{equation}\n",
    "    \\begin{alignedat}{3}\n",
    "        % HJC_HRP\n",
    "        \\textbf{JCU} = & p_v\\cdot p_E\\cdot p_a \\quad &&  && \\cdot (B-\\pi-C_{v}) \\\\\n",
    "        % ND\n",
    "        %  NDJC_HRP Gain  \n",
    "        +& p_v\\cdot p_E\\cdot (1-p_a)  && \\cdot (p_a^{n})  && \\cdot (B + \\pi -C_{v}) \\\\\n",
    "        %  NDJC_HRP Loss  \n",
    "        +& p_v\\cdot p_E\\cdot (1-p_a)  && \\cdot (1-p_a^{n})  && \\cdot (B-D-C_r-C_{v}) \\\\\n",
    "        % DRP\n",
    "        % Gain\n",
    "        +& p_v\\cdot (1-p_E) && \\cdot (p_a^{n})  && \\cdot (\\pi - C_{v}) \\\\\n",
    "        % Loss\n",
    "        +& p_v\\cdot (1-p_E) && \\cdot (1-p_a^{n}) && \\cdot (-D-C_r-C_{v}) \\\\\n",
    "        % No verify\n",
    "        +& (1-p_v)\\cdot p_E &&  && \\cdot (B-\\pi) \\\\\n",
    "        +& (1-p_v)\\cdot (1-p_E)  &&  && \\cdot (-\\pi) \\\\\n",
    "    \\end{alignedat}\n",
    "    \\label{eq:JCU}\n",
    "\\end{equation}"
   ]
  },
  {
   "cell_type": "markdown",
   "metadata": {},
   "source": [
    "Assume worst case scenario\n",
    "\n",
    "$p_v = 1$ ; $p_E = 1$ ; $C_v = 0$ ; $C_r = 0$"
   ]
  },
  {
   "cell_type": "code",
   "execution_count": 6,
   "metadata": {},
   "outputs": [
    {
     "data": {
      "text/latex": [
       "$\\displaystyle p_{a} \\left(B - \\pi\\right) + p_{a}^{n} \\left(1 - p_{a}\\right) \\left(B + \\pi\\right) + \\left(1 - p_{a}\\right) \\left(1 - p_{a}^{n}\\right) \\left(B - NDPR \\pi - n \\pi\\right)$"
      ],
      "text/plain": [
       "p_a*(B - pi) + p_a**n*(1 - p_a)*(B + pi) + (1 - p_a)*(1 - p_a**n)*(B - NDPR*pi - n*pi)"
      ]
     },
     "metadata": {},
     "output_type": "display_data"
    },
    {
     "data": {
      "text/latex": [
       "$\\displaystyle B + \\pi \\left(- NDPR - n + p_{a} \\left(NDPR + n - 1\\right) + p_{a}^{n} \\left(NDPR + n + 1\\right) + p_{a}^{n + 1} \\left(- NDPR - n - 1\\right)\\right)$"
      ],
      "text/plain": [
       "B + pi*(-NDPR - n + p_a*(NDPR + n - 1) + p_a**n*(NDPR + n + 1) + p_a**(n + 1)*(-NDPR - n - 1))"
      ]
     },
     "metadata": {},
     "output_type": "display_data"
    }
   ],
   "source": [
    "sJU = JU.subs({sp_v:1, sp_E:1, sC_v:0, sC_r:0 })\n",
    "display(sJU)\n",
    "sJU = sympy.expand(sJU)\n",
    "# display(JU)\n",
    "sJU = sympy.simplify(sJU)\n",
    "# display(JU)\n",
    "sJU = sympy.collect(sJU,sp_a)\n",
    "sJU = sympy.collect(sJU,sp_a**(sn))\n",
    "sJU = sympy.collect(sJU,sp_a**(sn+1))\n",
    "sJU = sympy.collect(sJU,spi)\n",
    "display(sJU)\n"
   ]
  },
  {
   "cell_type": "code",
   "execution_count": 7,
   "metadata": {},
   "outputs": [
    {
     "data": {
      "text/latex": [
       "$\\displaystyle B + \\pi \\left(- NDPR - n + p_{a} \\left(NDPR + n - 1\\right) + p_{a}^{n} \\left(NDPR + n + 1\\right) + p_{a}^{n + 1} \\left(- NDPR - n - 1\\right)\\right)$"
      ],
      "text/plain": [
       "B + pi*(-NDPR - n + p_a*(NDPR + n - 1) + p_a**n*(NDPR + n + 1) + p_a**(n + 1)*(-NDPR - n - 1))"
      ]
     },
     "metadata": {},
     "output_type": "display_data"
    },
    {
     "data": {
      "text/latex": [
       "$\\displaystyle \\pi \\left(- NDPR - n + p_{a} \\left(NDPR + n - 1\\right) + p_{a}^{n} \\left(NDPR + n + 1\\right) + p_{a}^{n + 1} \\left(- NDPR - n - 1\\right)\\right) + \\pi$"
      ],
      "text/plain": [
       "pi*(-NDPR - n + p_a*(NDPR + n - 1) + p_a**n*(NDPR + n + 1) + p_a**(n + 1)*(-NDPR - n - 1)) + pi"
      ]
     },
     "metadata": {},
     "output_type": "display_data"
    },
    {
     "data": {
      "text/latex": [
       "$\\displaystyle - NDPR p_{a} p_{a}^{n} \\pi + NDPR p_{a} \\pi + NDPR p_{a}^{n} \\pi - NDPR \\pi - n p_{a} p_{a}^{n} \\pi + n p_{a} \\pi + n p_{a}^{n} \\pi - n \\pi - p_{a} p_{a}^{n} \\pi - p_{a} \\pi + p_{a}^{n} \\pi + \\pi$"
      ],
      "text/plain": [
       "-NDPR*p_a*p_a**n*pi + NDPR*p_a*pi + NDPR*p_a**n*pi - NDPR*pi - n*p_a*p_a**n*pi + n*p_a*pi + n*p_a**n*pi - n*pi - p_a*p_a**n*pi - p_a*pi + p_a**n*pi + pi"
      ]
     },
     "metadata": {},
     "output_type": "display_data"
    },
    {
     "data": {
      "text/latex": [
       "$\\displaystyle \\pi \\left(NDPR p_{a} + NDPR p_{a}^{n} - NDPR p_{a}^{n + 1} - NDPR + n p_{a} + n p_{a}^{n} - n p_{a}^{n + 1} - n - p_{a} + p_{a}^{n} - p_{a}^{n + 1} + 1\\right)$"
      ],
      "text/plain": [
       "pi*(NDPR*p_a + NDPR*p_a**n - NDPR*p_a**(n + 1) - NDPR + n*p_a + n*p_a**n - n*p_a**(n + 1) - n - p_a + p_a**n - p_a**(n + 1) + 1)"
      ]
     },
     "metadata": {},
     "output_type": "display_data"
    },
    {
     "data": {
      "text/latex": [
       "$\\displaystyle \\pi \\left(- NDPR - n + p_{a} \\left(NDPR + n - 1\\right) + p_{a}^{n} \\left(NDPR + n + 1\\right) + p_{a}^{n + 1} \\left(- NDPR - n - 1\\right) + 1\\right)$"
      ],
      "text/plain": [
       "pi*(-NDPR - n + p_a*(NDPR + n - 1) + p_a**n*(NDPR + n + 1) + p_a**(n + 1)*(-NDPR - n - 1) + 1)"
      ]
     },
     "metadata": {},
     "output_type": "display_data"
    },
    {
     "data": {
      "text/latex": [
       "$\\displaystyle - \\pi \\left(NDPR + n - p_{a} \\left(NDPR + n - 1\\right) - p_{a}^{n} \\left(NDPR + n + 1\\right) + p_{a}^{n + 1} \\left(NDPR + n + 1\\right) - 1\\right)$"
      ],
      "text/plain": [
       "-pi*(NDPR + n - p_a*(NDPR + n - 1) - p_a**n*(NDPR + n + 1) + p_a**(n + 1)*(NDPR + n + 1) - 1)"
      ]
     },
     "metadata": {},
     "output_type": "display_data"
    }
   ],
   "source": [
    "# set B = pi\n",
    "display(sJU)\n",
    "B0 = sJU.subs({sB:spi})\n",
    "display(B0)\n",
    "B0 = sympy.expand(B0)\n",
    "display(B0)\n",
    "B0 = sympy.simplify(B0)\n",
    "display(B0)\n",
    "\n",
    "B0 = sympy.collect(B0,sp_a)\n",
    "B0 = sympy.collect(B0,sp_a**(sn))\n",
    "B0 = sympy.collect(B0,sp_a**(sn+1))\n",
    "display(B0)\n",
    "B0 = sympy.simplify(B0)\n",
    "display(B0)"
   ]
  },
  {
   "cell_type": "code",
   "execution_count": 8,
   "metadata": {},
   "outputs": [
    {
     "data": {
      "text/latex": [
       "$\\displaystyle - NDPR p_{a} p_{a}^{n} \\pi + NDPR p_{a} \\pi + NDPR p_{a}^{n} \\pi - NDPR \\pi - n p_{a} p_{a}^{n} \\pi + n p_{a} \\pi + n p_{a}^{n} \\pi - n \\pi - p_{a} p_{a}^{n} \\pi - p_{a} \\pi - p_{a} + p_{a}^{n} \\pi + \\pi$"
      ],
      "text/plain": [
       "-NDPR*p_a*p_a**n*pi + NDPR*p_a*pi + NDPR*p_a**n*pi - NDPR*pi - n*p_a*p_a**n*pi + n*p_a*pi + n*p_a**n*pi - n*pi - p_a*p_a**n*pi - p_a*pi - p_a + p_a**n*pi + pi"
      ]
     },
     "metadata": {},
     "output_type": "display_data"
    },
    {
     "data": {
      "text/latex": [
       "$\\displaystyle NDPR p_{a} \\pi + NDPR p_{a}^{n} \\pi - NDPR p_{a}^{n + 1} \\pi - NDPR \\pi + n p_{a} \\pi + n p_{a}^{n} \\pi - n p_{a}^{n + 1} \\pi - n \\pi - p_{a} \\pi - p_{a} + p_{a}^{n} \\pi - p_{a}^{n + 1} \\pi + \\pi$"
      ],
      "text/plain": [
       "NDPR*p_a*pi + NDPR*p_a**n*pi - NDPR*p_a**(n + 1)*pi - NDPR*pi + n*p_a*pi + n*p_a**n*pi - n*p_a**(n + 1)*pi - n*pi - p_a*pi - p_a + p_a**n*pi - p_a**(n + 1)*pi + pi"
      ]
     },
     "metadata": {},
     "output_type": "display_data"
    },
    {
     "data": {
      "text/latex": [
       "$\\displaystyle \\frac{- n \\pi + p_{a} \\left(n \\pi - \\pi - 1\\right) + p_{a}^{n} \\left(n \\pi + \\pi\\right) + p_{a}^{n + 1} \\left(- n \\pi - \\pi\\right) + \\pi}{\\pi \\left(- p_{a} - p_{a}^{n} + p_{a}^{n + 1} + 1\\right)}$"
      ],
      "text/plain": [
       "(-n*pi + p_a*(n*pi - pi - 1) + p_a**n*(n*pi + pi) + p_a**(n + 1)*(-n*pi - pi) + pi)/(pi*(-p_a - p_a**n + p_a**(n + 1) + 1))"
      ]
     },
     "metadata": {},
     "output_type": "display_data"
    }
   ],
   "source": [
    "B1 = B0 - sp_a\n",
    "\n",
    "B1 = sympy.expand(B1)\n",
    "display(B1)\n",
    "B1 = sympy.simplify(B1)\n",
    "display(B1)\n",
    "B1 = sympy.solve([B1], [sNDPR])\n",
    "B1 = B1[sNDPR]\n",
    "B1 = sympy.collect(B1, sp_a)\n",
    "B1 = sympy.collect(B1, sp_a**sn)\n",
    "B1 = sympy.collect(B1, sp_a**(sn+1))\n",
    "display(B1)\n"
   ]
  },
  {
   "cell_type": "code",
   "execution_count": 9,
   "metadata": {},
   "outputs": [
    {
     "data": {
      "text/latex": [
       "$\\displaystyle - \\pi \\left(- NDPR - n - \\frac{n p_{a}^{n} \\left(NDPR + n + 1\\right)}{p_{a}} + 1 + \\frac{p_{a}^{n + 1} \\left(n + 1\\right) \\left(NDPR + n + 1\\right)}{p_{a}}\\right)$"
      ],
      "text/plain": [
       "-pi*(-NDPR - n - n*p_a**n*(NDPR + n + 1)/p_a + 1 + p_a**(n + 1)*(n + 1)*(NDPR + n + 1)/p_a)"
      ]
     },
     "metadata": {},
     "output_type": "display_data"
    },
    {
     "name": "stdout",
     "output_type": "stream",
     "text": [
      "solve for PR\n"
     ]
    },
    {
     "data": {
      "text/latex": [
       "$\\displaystyle \\frac{n^{2} p_{a}^{n} - n^{2} p_{a}^{n + 1} + n p_{a} + n p_{a}^{n} - 2 n p_{a}^{n + 1} - p_{a} - p_{a}^{n + 1}}{- n p_{a}^{n} + n p_{a}^{n + 1} - p_{a} + p_{a}^{n + 1}}$"
      ],
      "text/plain": [
       "(n**2*p_a**n - n**2*p_a**(n + 1) + n*p_a + n*p_a**n - 2*n*p_a**(n + 1) - p_a - p_a**(n + 1))/(-n*p_a**n + n*p_a**(n + 1) - p_a + p_a**(n + 1))"
      ]
     },
     "metadata": {},
     "output_type": "display_data"
    },
    {
     "data": {
      "text/latex": [
       "$\\displaystyle \\frac{p_{a} \\left(n - 1\\right) + p_{a}^{n} \\left(n^{2} + n\\right) + p_{a}^{n + 1} \\left(- n^{2} - 2 n - 1\\right)}{- n p_{a}^{n} - p_{a} + p_{a}^{n + 1} \\left(n + 1\\right)}$"
      ],
      "text/plain": [
       "(p_a*(n - 1) + p_a**n*(n**2 + n) + p_a**(n + 1)*(-n**2 - 2*n - 1))/(-n*p_a**n - p_a + p_a**(n + 1)*(n + 1))"
      ]
     },
     "metadata": {},
     "output_type": "display_data"
    },
    {
     "name": "stdout",
     "output_type": "stream",
     "text": [
      "solve for p_a\n"
     ]
    },
    {
     "data": {
      "text/latex": [
       "$\\displaystyle \\frac{p_{a} \\left(NDPR + n - 1\\right)}{NDPR n p_{a} - NDPR n + NDPR p_{a} + n^{2} p_{a} - n^{2} + 2 n p_{a} - n + p_{a}}$"
      ],
      "text/plain": [
       "p_a*(NDPR + n - 1)/(NDPR*n*p_a - NDPR*n + NDPR*p_a + n**2*p_a - n**2 + 2*n*p_a - n + p_a)"
      ]
     },
     "metadata": {},
     "output_type": "display_data"
    },
    {
     "data": {
      "text/latex": [
       "$\\displaystyle \\frac{p_{a} \\left(NDPR + n - 1\\right)}{- NDPR n - n^{2} - n + p_{a} \\left(NDPR n + NDPR + n^{2} + 2 n + 1\\right)}$"
      ],
      "text/plain": [
       "p_a*(NDPR + n - 1)/(-NDPR*n - n**2 - n + p_a*(NDPR*n + NDPR + n**2 + 2*n + 1))"
      ]
     },
     "metadata": {},
     "output_type": "display_data"
    }
   ],
   "source": [
    "dB0 = sympy.diff(B0,sp_a)\n",
    "display(dB0)\n",
    "\n",
    "print(\"solve for PR\")\n",
    "sol_p_a1 = sympy.solve([dB0], [sNDPR])\n",
    "display(sol_p_a1[sNDPR])\n",
    "sol_p_a1 = sympy.collect(sol_p_a1[sNDPR], sp_a)\n",
    "sol_p_a1 = sympy.collect(sol_p_a1, sp_a**sn)\n",
    "sol_p_a1 = sympy.collect(sol_p_a1, sp_a**(sn+1))\n",
    "display(sol_p_a1)\n",
    "\n",
    "\n",
    "print(\"solve for p_a\")\n",
    "# sol_p_a1 = sympy.solve([dB0], [sp_a])\n",
    "# display(sol_p_a1)\n",
    "\n",
    "sol_p_a2 = sympy.solve([dB0], [sp_a**sn])\n",
    "display(sol_p_a2[sp_a**sn])\n",
    "sol_p_a2 = sympy.collect(sol_p_a2[sp_a**sn], sp_a)\n",
    "display(sol_p_a2)"
   ]
  },
  {
   "cell_type": "code",
   "execution_count": 10,
   "metadata": {},
   "outputs": [
    {
     "data": {
      "text/latex": [
       "$\\displaystyle - \\pi \\left(- \\frac{n^{2} p_{a}^{n} \\left(NDPR + n + 1\\right)}{p_{a}^{2}} + \\frac{n p_{a}^{n} \\left(NDPR + n + 1\\right)}{p_{a}^{2}} + \\frac{p_{a}^{n + 1} \\left(n + 1\\right)^{2} \\left(NDPR + n + 1\\right)}{p_{a}^{2}} - \\frac{p_{a}^{n + 1} \\left(n + 1\\right) \\left(NDPR + n + 1\\right)}{p_{a}^{2}}\\right)$"
      ],
      "text/plain": [
       "-pi*(-n**2*p_a**n*(NDPR + n + 1)/p_a**2 + n*p_a**n*(NDPR + n + 1)/p_a**2 + p_a**(n + 1)*(n + 1)**2*(NDPR + n + 1)/p_a**2 - p_a**(n + 1)*(n + 1)*(NDPR + n + 1)/p_a**2)"
      ]
     },
     "metadata": {},
     "output_type": "display_data"
    },
    {
     "data": {
      "text/latex": [
       "$\\displaystyle - n p_{a}^{n - 2} \\pi \\left(NDPR n p_{a} - NDPR n + NDPR p_{a} + NDPR + n^{2} p_{a} - n^{2} + 2 n p_{a} + p_{a} + 1\\right)$"
      ],
      "text/plain": [
       "-n*p_a**(n - 2)*pi*(NDPR*n*p_a - NDPR*n + NDPR*p_a + NDPR + n**2*p_a - n**2 + 2*n*p_a + p_a + 1)"
      ]
     },
     "metadata": {},
     "output_type": "display_data"
    },
    {
     "data": {
      "text/latex": [
       "$\\displaystyle - n p_{a}^{n - 2} \\pi \\left(NDPR \\left(n p_{a} - n + p_{a} + 1\\right) + n^{2} p_{a} - n^{2} + 2 n p_{a} + p_{a} + 1\\right)$"
      ],
      "text/plain": [
       "-n*p_a**(n - 2)*pi*(NDPR*(n*p_a - n + p_a + 1) + n**2*p_a - n**2 + 2*n*p_a + p_a + 1)"
      ]
     },
     "metadata": {},
     "output_type": "display_data"
    },
    {
     "data": {
      "text/latex": [
       "$\\displaystyle - n p_{a}^{n - 2} \\pi \\left(NDPR \\left(n p_{a} - n + p_{a} + 1\\right) + n^{2} p_{a} - n^{2} + 2 n p_{a} + p_{a} + 1\\right)$"
      ],
      "text/plain": [
       "-n*p_a**(n - 2)*pi*(NDPR*(n*p_a - n + p_a + 1) + n**2*p_a - n**2 + 2*n*p_a + p_a + 1)"
      ]
     },
     "metadata": {},
     "output_type": "display_data"
    }
   ],
   "source": [
    "ddB0 = sympy.diff(dB0,sp_a)\n",
    "display(ddB0)\n",
    "\n",
    "\n",
    "ddB0 = sympy.simplify(ddB0)\n",
    "display(ddB0)\n",
    "ddB0 = sympy.collect(ddB0, sNDPR)\n",
    "display(ddB0)\n",
    "ddB0 = sympy.simplify(ddB0)\n",
    "display(ddB0)"
   ]
  },
  {
   "cell_type": "code",
   "execution_count": 11,
   "metadata": {},
   "outputs": [
    {
     "name": "stdout",
     "output_type": "stream",
     "text": [
      "-0.34375\n",
      "-0.343750000000000\n"
     ]
    }
   ],
   "source": [
    "# Compare\n",
    "n = 4\n",
    "NDPR = 0\n",
    "p = .5\n",
    "b = 2\n",
    "pi = 1\n",
    "C_r = 0\n",
    "\n",
    "ySJ = JCU(n=n,PR=0,NDPR=NDPR,C_r=C_r,   p_a=p,B=b,pi=pi,p_v=1,C_v=0,p_E=1)\n",
    "print(ySJ)\n",
    "\n",
    "ysJU = sJU.subs({sn:n, sNDPR:NDPR, sp_a:p, sB:b, spi:pi})\n",
    "print(ysJU)"
   ]
  },
  {
   "cell_type": "code",
   "execution_count": 41,
   "metadata": {},
   "outputs": [
    {
     "data": {
      "text/latex": [
       "$\\displaystyle \\pi \\left(NDPR + n + \\frac{n p_{a}^{n} \\left(NDPR + n + 1\\right)}{p_{a}} - 1 + \\frac{p_{a}^{n + 1} \\left(n + 1\\right) \\left(- NDPR - n - 1\\right)}{p_{a}}\\right)$"
      ],
      "text/plain": [
       "pi*(NDPR + n + n*p_a**n*(NDPR + n + 1)/p_a - 1 + p_a**(n + 1)*(n + 1)*(-NDPR - n - 1)/p_a)"
      ]
     },
     "metadata": {},
     "output_type": "display_data"
    },
    {
     "data": {
      "text/latex": [
       "$\\displaystyle \\frac{\\pi \\left(n p_{a}^{n} \\left(NDPR + n + 1\\right) + p_{a} \\left(NDPR + n - 1\\right) - p_{a}^{n + 1} \\left(n + 1\\right) \\left(NDPR + n + 1\\right)\\right)}{p_{a}}$"
      ],
      "text/plain": [
       "pi*(n*p_a**n*(NDPR + n + 1) + p_a*(NDPR + n - 1) - p_a**(n + 1)*(n + 1)*(NDPR + n + 1))/p_a"
      ]
     },
     "metadata": {},
     "output_type": "display_data"
    },
    {
     "data": {
      "text/latex": [
       "$\\displaystyle \\frac{\\pi \\left(p_{a} \\left(NDPR + n - 1\\right) + \\left(n p_{a}^{n} - p_{a}^{n + 1} \\left(n + 1\\right)\\right) \\left(NDPR + n + 1\\right)\\right)}{p_{a}}$"
      ],
      "text/plain": [
       "pi*(p_a*(NDPR + n - 1) + (n*p_a**n - p_a**(n + 1)*(n + 1))*(NDPR + n + 1))/p_a"
      ]
     },
     "metadata": {},
     "output_type": "display_data"
    }
   ],
   "source": [
    "dJU = sympy.diff(sJU,sp_a)\n",
    "display(dJU)\n",
    "dJU = sympy.simplify(dJU)\n",
    "display(dJU)\n",
    "# dJU = sympy.expand(dJU)\n",
    "# display(dJU)\n",
    "dJU = sympy.collect(dJU,(sNDPR+sn+1))\n",
    "display(dJU)"
   ]
  },
  {
   "cell_type": "code",
   "execution_count": 60,
   "metadata": {},
   "outputs": [
    {
     "data": {
      "text/latex": [
       "$\\displaystyle \\frac{NDPR n p_{a}^{n} + NDPR p_{a} + n^{2} p_{a}^{n} + n p_{a} + n p_{a}^{n} - p_{a}}{NDPR n + NDPR + n^{2} + 2 n + 1}$"
      ],
      "text/plain": [
       "(NDPR*n*p_a**n + NDPR*p_a + n**2*p_a**n + n*p_a + n*p_a**n - p_a)/(NDPR*n + NDPR + n**2 + 2*n + 1)"
      ]
     },
     "metadata": {},
     "output_type": "display_data"
    },
    {
     "data": {
      "text/latex": [
       "$\\displaystyle \\frac{p_{a} \\left(NDPR + n - 1\\right) + p_{a}^{n} \\left(NDPR n + n^{2} + n\\right)}{NDPR \\left(n + 1\\right) + n^{2} + 2 n + 1}$"
      ],
      "text/plain": [
       "(p_a*(NDPR + n - 1) + p_a**n*(NDPR*n + n**2 + n))/(NDPR*(n + 1) + n**2 + 2*n + 1)"
      ]
     },
     "metadata": {},
     "output_type": "display_data"
    }
   ],
   "source": [
    "sol_dJU_spa = sympy.solve([dJU], [sp_a**(sn+1)])\n",
    "\n",
    "sol_dJU_spa = sol_dJU_spa[sp_a**(sn+1)]\n",
    "display(sol_dJU_spa) \n",
    "\n",
    "# sol_PR = sympy.collect(sol_dJU_spa, sNDPR)\n",
    "sol_PR = sympy.collect(sol_dJU_spa, sp_a**(sn))\n",
    "sol_PR = sympy.collect(sol_PR, sp_a)\n",
    "sol_PR = sympy.collect(sol_PR, sNDPR)\n",
    "display(sol_PR)"
   ]
  },
  {
   "cell_type": "code",
   "execution_count": 61,
   "metadata": {},
   "outputs": [
    {
     "data": {
      "text/latex": [
       "$\\displaystyle \\frac{- n^{2} p_{a}^{n} + n^{2} p_{a}^{n + 1} - n p_{a} - n p_{a}^{n} + 2 n p_{a}^{n + 1} + p_{a} + p_{a}^{n + 1}}{n p_{a}^{n} - n p_{a}^{n + 1} + p_{a} - p_{a}^{n + 1}}$"
      ],
      "text/plain": [
       "(-n**2*p_a**n + n**2*p_a**(n + 1) - n*p_a - n*p_a**n + 2*n*p_a**(n + 1) + p_a + p_a**(n + 1))/(n*p_a**n - n*p_a**(n + 1) + p_a - p_a**(n + 1))"
      ]
     },
     "metadata": {},
     "output_type": "display_data"
    },
    {
     "name": "stdout",
     "output_type": "stream",
     "text": [
      "collect p_a terms\n"
     ]
    },
    {
     "data": {
      "text/latex": [
       "$\\displaystyle \\frac{p_{a} \\left(1 - n\\right) + p_{a}^{n} \\left(- n^{2} - n\\right) + p_{a}^{n + 1} \\left(n^{2} + 2 n + 1\\right)}{n p_{a}^{n} + p_{a} + p_{a}^{n + 1} \\left(- n - 1\\right)}$"
      ],
      "text/plain": [
       "(p_a*(1 - n) + p_a**n*(-n**2 - n) + p_a**(n + 1)*(n**2 + 2*n + 1))/(n*p_a**n + p_a + p_a**(n + 1)*(-n - 1))"
      ]
     },
     "metadata": {},
     "output_type": "display_data"
    },
    {
     "name": "stdout",
     "output_type": "stream",
     "text": [
      "collect n terms\n"
     ]
    },
    {
     "data": {
      "text/latex": [
       "$\\displaystyle \\frac{n^{2} \\left(p_{a}^{n} - p_{a}^{n + 1}\\right) + n \\left(p_{a} + p_{a}^{n} - 2 p_{a}^{n + 1}\\right) - p_{a} - p_{a}^{n + 1}}{n \\left(- p_{a}^{n} + p_{a}^{n + 1}\\right) - p_{a} + p_{a}^{n + 1}}$"
      ],
      "text/plain": [
       "(n**2*(p_a**n - p_a**(n + 1)) + n*(p_a + p_a**n - 2*p_a**(n + 1)) - p_a - p_a**(n + 1))/(n*(-p_a**n + p_a**(n + 1)) - p_a + p_a**(n + 1))"
      ]
     },
     "metadata": {},
     "output_type": "display_data"
    }
   ],
   "source": [
    "sol_dJU_NDPR = sympy.solve([dJU], [sNDPR])\n",
    "tNDPR = sol_dJU_NDPR[sNDPR]\n",
    "tNDPR = sympy.simplify(tNDPR)\n",
    "display(tNDPR)\n",
    "\n",
    "\n",
    "tNDPR = sympy.collect(tNDPR, sp_a)\n",
    "tNDPR = sympy.collect(tNDPR, sp_a**sn)\n",
    "tNDPR = sympy.collect(tNDPR, sp_a**(sn+1))\n",
    "\n",
    "print(\"collect p_a terms\")\n",
    "display(tNDPR)\n",
    "\n",
    "\n",
    "\n",
    "tNDPR2 = sol_dJU_NDPR[sNDPR]\n",
    "tNDPR2 = sympy.collect(tNDPR2, sn)\n",
    "# tNDPR2 = sympy.collect(tNDPR2, spn)\n",
    "# tNDPR2 = sympy.collect(tNDPR2, sp_a**(sn+1))\n",
    "print(\"collect n terms\")\n",
    "display(tNDPR2)\n",
    "\n",
    "# sol_dJU_n = sympy.solve([dJU], [sn])\n",
    "# display(sol_dJU_n)\n"
   ]
  },
  {
   "cell_type": "code",
   "execution_count": null,
   "metadata": {},
   "outputs": [],
   "source": [
    "ddJU = sympy.diff(dJU,sp_a)\n",
    "ddJU = sympy.simplify(ddJU)\n",
    "display(ddJU)\n",
    "ddJU = sympy.factor(ddJU)\n",
    "display(ddJU)"
   ]
  },
  {
   "cell_type": "code",
   "execution_count": null,
   "metadata": {},
   "outputs": [],
   "source": [
    "def plotdJU(n):\n",
    "    \n",
    "    plt.figure(2,figsize=(10,5))\n",
    "    \n",
    "    plt.subplot(1,1,1)\n",
    "    plt.grid(visible=True)\n",
    "    \n",
    "    ydu = list(map(lambda p: float(sdJU.subs({sn:n, sp_a:p})), x))\n",
    "    \n",
    "    plt.plot(x,ydu, label=\"dU\")\n",
    "    \n",
    "    plt.xlabel('p_a')\n",
    "    plt.ylabel('dUtil') \n",
    "    \n",
    "    plt.legend()\n",
    "    plt.show\n",
    "    "
   ]
  },
  {
   "cell_type": "code",
   "execution_count": null,
   "metadata": {},
   "outputs": [],
   "source": [
    "# ui1 = widgets.HBox([wn,wPR])\n",
    "# ui2 = widgets.HBox([wB,wpi])\n",
    "# interactive_plot = widgets.interactive_output(plotdJU,{'n':wn});\n",
    "# # output = interactive_plot.children[-1]\n",
    "# # interactive_plot.layout.height = '400px'\n",
    "# display(interactive_plot,ui1,ui2)"
   ]
  },
  {
   "cell_type": "markdown",
   "metadata": {},
   "source": [
    "The Job Creators verification strategy is controlled by $p_v$, which is the probability of verifying a given result. \n",
    "\n",
    "The type of job, is captured by the $\\pi$ and the $C_v$ terms. The price $\\pi$ captures the complexity of execution, $C_v$ captures the complexity of verification.\n",
    "\n",
    "A Resource Provider may choose to execute a job correctly or not. We capture this with the parameter $p_E$. If $p_E=1$ then the $RP$ executes all jobs correctly, if $p_E=0$ then it does not execute any jobs correctly.  \n",
    "\n",
    "<!---While running non-deterministic jobs a Job Creator must decide whether the pay the $RP$ for a bad response, or risk getting caught in mediation. Currently the choice is made in the `max(RPfraud1,RPfraud2)` term. If the Job Creator is running deterministic jobs if it verifies and finds a bad result it will request mediation.--->"
   ]
  },
  {
   "cell_type": "markdown",
   "metadata": {},
   "source": [
    "## Resource Providier\n",
    "\n",
    "The Resource Provider only has one method to try to abuse the system. That is to return a result and hope that the Job Creator does not verify the job. If the Job Creator never verifies the Resource Provider will always cheat, and if it always verifies the Resource Provider will never cheat. However, the RP does not know how often the Job Creator will verify. "
   ]
  },
  {
   "cell_type": "markdown",
   "metadata": {},
   "source": [
    "### Resource Provider Model\n",
    "The most RP can be paid for executing a job is $\\pi = instructionCount*JO.rate + bandwidthUsage*JO.rate$. \n",
    "\n",
    "Jobs are only worth executing if the operating costs are covered by the Resource providers fees, which are at most $\\pi$ for a given job. \n",
    "\n",
    "The Resource Provider does not only want to cover operating costs however, it additionally wants to make a profit. \n",
    "\n",
    "$profit = \\pi-cost$\n",
    "\n",
    "Since the price $\\pi$ varies from job to job, the RP specifies a return on investment $roi$: \n",
    "\n",
    "$roi = \\frac{\\pi-cost}{\\pi}$\n",
    "\n",
    "For the model we need to estimate the cost of executing a job $cost$. We compute this with the given $\\pi$ and required roi. This is reasonable since the JC specifies the $\\pi$ and $\\pi$ is ralated to job complexity, and the execution cost will increase with complexity.\n",
    "\n",
    "$cost = \\pi*(1-roi)$ \n",
    "\n",
    "The platform will only match a job to an RP if $\\pi>requestedPrice$.\n",
    "\n",
    "$requestedPrice$ covers the cost of execution. So in the analysis if $\\pi<requestedPrice$ the point is infeasible. \n",
    "\n",
    "$requestedPrice$ is not used in the RP model, only computed. \n",
    "\n",
    "$requestedPrice = cost$\n",
    "\n",
    "In a situation where the Job Creator is sending non-deterministic jobs, a Resource provider will lose \n",
    "\n",
    "$p_v \\times (1-p_a) \\times p_a^n\\times D$\n",
    "\n",
    "If the RP assumes $p_v=1$(JC always verifies), and that JC uses optimal $p_a$ given $n$ and $NDPR$ it can determine the maximum percent $I$ of its D that it will lose to the mediator being tricked. By adding $ I \\times D$ to its $requestedPrice$ it can mitigate the damage done by cheating Job Creators. $I$ is an insurance percent against cheating. This results in a new $requestedPrice$ :  \n",
    "\n",
    "$requestedPrice = \\pi \\times(1-roi) + D \\times I $\n",
    "\n",
    "\n",
    "When the RP is matched at its' $requestedPrice$ the $cost$ will effectively be reduced by $D \\times I$ so the effective $cost$ used in the model is:\n",
    "\n",
    "$cost = \\pi*(1-roi) - D \\times I $\n",
    "\n",
    "In the `plot` function $requestedPrice$ is compared against $\\pi$ to check if the point is valid. \n"
   ]
  },
  {
   "cell_type": "code",
   "execution_count": null,
   "metadata": {},
   "outputs": [],
   "source": [
    "\n",
    "wp_E = widgets.FloatSlider(min=0,max=1,step=.1,value=1,description='p_E', continuous_update=False) # probability that RP runs correctly\n",
    "wroi = widgets.FloatSlider(min=0,max=1,step=.01,value=.5,description='roi', continuous_update=False) # what percent of reward is profit\n",
    "winsurance = widgets.FloatSlider(min=0,max=1,step=.01,value=0 ,description='I',continuous_update=False) # % of deposit that can be recovered because execution is so cheap.\n",
    "wC_f= widgets.FloatSlider(min=0,max=1000,step=.1,value=0, description='C_f',continuous_update=False) # cost for RP to be fraudulant \n",
    "\n",
    "matchPrice = 1\n",
    "mediatorPrice = 1\n",
    "\n",
    "\n",
    "def RPU(n,PR,NDPR,p_a,pi,p_v=1,C_f=0,p_E=1, ec=0, I=0):\n",
    "    p2 = 1-p_a\n",
    "#     D = pi * PR\n",
    "#     D = pi * PR + pi*n\n",
    "    D = pi * PR + (pi * n)\n",
    "    \n",
    "    \n",
    "    execCost = ec\n",
    "    \n",
    "    insurance =  I\n",
    "\n",
    "    #Cj is cost of execution for fraudulant job, picking a random number or \"close\" value\n",
    "    fraudCost = C_f\n",
    "    \n",
    "    JC_HRP = p_v*p_E*p_a*(pi-execCost) #compute answer 1 (p_a) correctly (p_E) receive reward (pi)\n",
    "    \n",
    "    NDJC_HRP_Gain = p_v*p_E*p2*(1-p_a**n)*(pi-execCost) #compute answer 2 (p2) correctly (p_E) get sent to mediation, who finds nondeterminism (1-p_a^n) and recieve reward (r) and nonDet bonus (f2-f)*k kickback=k\n",
    "    NDJC_HRP_Lose = p_v*p_E*p2*(p_a**n)*(-D-execCost) # compute answer 2 correctly (p2) get sent to mediation, who doesn't find nondeterminsm (p_a^n) and get fined (f)\n",
    "    ND = NDJC_HRP_Gain + NDJC_HRP_Lose \n",
    "    \n",
    "    DRP_Gain = p_v*(1-p_E)*(1-p_a**n)*(pi-fraudCost)# compute incorrectly (1-p_E) get sent to mediation, finds nondeterminism (1-p_a^n) get compensation.\n",
    "    DRP_Lose = p_v*(1-p_E)*(p_a**n)*(-D-fraudCost) #compute incorrectly (1-p_E) get sent to mediation, who doesn't find nondeterminsm (p_a^n) and get fined (f)\n",
    "    DRP = DRP_Gain+DRP_Lose\n",
    "    \n",
    "#     DRP_scared  = p_v*(1-p_E)*(pi-fraudCost) # JC doesn't want to risk getting caught, just pay RP. \n",
    "    \n",
    "    #     noVerifypayout = (1-p_v)*pi #compute answer 1 (p_a) correctly (p_E) receive reward (pi)\n",
    "    noID_HRP = (1-p_v) * p_E * (pi - execCost)\n",
    "    noID_DRP = (1-p_v) * (1-p_E) * (pi - fraudCost)\n",
    "    noID = noID_HRP + noID_DRP\n",
    "    \n",
    "    \n",
    "    RCnonDet = JC_HRP + ND + DRP + insurance + noID\n",
    "    return RCnonDet\n"
   ]
  },
  {
   "cell_type": "code",
   "execution_count": null,
   "metadata": {},
   "outputs": [],
   "source": [
    "sn, sPR, sNDPR, sp_a, sB, spi, sp_v, sC_v, sp_E, sC_r= sympy.symbols('n PR NDPR p_a B pi p_v C_v p_E C_r', real=True)\n",
    "\n",
    "rn,rPR,rNDPR,rp_a,rpi,rp_v,rC_f,rp_E, rec, rI = sympy.symbols('n PR NDPR p_a pi p_v C_f p_E ec I')\n",
    "\n",
    "RU = RPU(rn,rPR,rNDPR,rp_a,rpi,rp_v,rC_f,rp_E, rec, rI)\n",
    "display(RU)"
   ]
  },
  {
   "cell_type": "code",
   "execution_count": null,
   "metadata": {},
   "outputs": [],
   "source": [
    "sRU = sympy.simplify(RU)\n",
    "display(sRU)\n",
    "sRU = sympy.collect(sRU,rp_a)\n",
    "display(sRU)\n",
    "sRU = sympy.collect(sRU,rp_a**(rn))\n",
    "display(sRU)\n",
    "sRU = sympy.collect(sRU,rp_a**(rn+1))\n",
    "display(sRU)"
   ]
  },
  {
   "cell_type": "code",
   "execution_count": null,
   "metadata": {},
   "outputs": [],
   "source": [
    "# Job Creator Strategy\n",
    "display(RU)\n",
    "RU0 = RU\n",
    "RU1 = RU\n",
    "sRUe0 = RU0.subs({rI:0, rp_E:0})\n",
    "display(sRUe0)\n",
    "sRUe1 = RU1.subs({rI:0, rp_E:1})\n",
    "display(sRUe1)\n",
    "\n",
    "sRUp = sRUe1 - sRUe0\n",
    "display(sRUp)\n",
    "\n",
    "sRUp = sympy.expand(sRUp)\n",
    "display(sRUp)\n",
    "\n",
    "sRUp = sympy.simplify(sRUp)\n",
    "display(sRUp)\n",
    "\n",
    "sRUp = sympy.collect(sRUp,rp_a)\n",
    "display(sRUp)\n",
    "sRUp = sympy.collect(sRUp,rp_a**(rn))\n",
    "display(sRUp)\n",
    "sRUp = sympy.collect(sRUp,rp_a**(rn+1))\n",
    "display(sRUp)\n",
    "sRUp = sympy.collect(sRUp,rpi)\n",
    "display(sRUp)\n",
    "sRUp = sympy.collect(sRUp,rp_v)\n",
    "display(sRUp)\n"
   ]
  },
  {
   "cell_type": "code",
   "execution_count": null,
   "metadata": {},
   "outputs": [],
   "source": [
    "sRU = RU.subs({rI:0})\n",
    "display(sRU)\n",
    "\n",
    "sRU = sympy.expand(sRU)\n",
    "# display(JU)\n",
    "sRU = sympy.simplify(sRU)\n",
    "# display(JU)\n",
    "sRU = sympy.collect(sRU,rp_a)\n",
    "sRU = sympy.collect(sRU,rp_a**(rn))\n",
    "sRU = sympy.collect(sRU,rp_a**(rn+1))\n",
    "sRU = sympy.collect(sRU,rpi)\n",
    "display(sRU)        "
   ]
  },
  {
   "cell_type": "code",
   "execution_count": null,
   "metadata": {},
   "outputs": [],
   "source": [
    "dRU = sympy.diff(RU,rp_E)\n",
    "display(dRU)\n",
    "\n",
    "dRU = sympy.expand(dRU)\n",
    "# display(dRU)\n",
    "\n",
    "dRU = sympy.simplify(dRU)\n",
    "# display(dRU)\n",
    "\n",
    "dRU = sympy.collect(dRU,rp_a**(rn+1))\n",
    "# display(dRU)\n",
    "\n",
    "dRU = sympy.collect(dRU,rpi)\n",
    "# display(dRU)\n",
    "\n",
    "dRU = sympy.collect(dRU,rp_v)\n",
    "display(dRU)\n",
    "\n",
    "sol_dRU = sympy.solve([dRU], [rp_v])\n",
    "display(sol_dRU)\n"
   ]
  },
  {
   "cell_type": "code",
   "execution_count": null,
   "metadata": {},
   "outputs": [],
   "source": [
    "dRU_pa = sympy.diff(RU,rp_a)\n",
    "display(dRU_pa)\n",
    "\n",
    "dRU_pa = sympy.factor(dRU_pa)\n",
    "display(dRU_pa)\n",
    "\n",
    "sol_dRU_pa = sympy.solve([dRU_pa], [rp_a])\n",
    "display(sol_dRU_pa)"
   ]
  },
  {
   "cell_type": "code",
   "execution_count": null,
   "metadata": {},
   "outputs": [],
   "source": [
    "ddRU_pa = sympy.diff(dRU,rp_a)\n",
    "display(ddRU_pa)\n",
    "\n",
    "ddRU_pa = sympy.factor(ddRU_pa)\n",
    "display(ddRU_pa)"
   ]
  },
  {
   "cell_type": "code",
   "execution_count": null,
   "metadata": {},
   "outputs": [],
   "source": [
    "points = 51\n",
    "x,step = np.linspace(0,1,points,retstep=True)\n",
    "print(\"step size: %s\" %step)\n",
    "\n",
    "def plot(n,PR,NDPR,C_r,pi,b,p_v=1,C_v=0, p_E=1,roi=1,Insurance=0,C_f=0):   \n",
    "    plt.figure(2,figsize=(20,5))\n",
    "    \n",
    "    plt.subplot(1,3,1)\n",
    "    plt.grid(visible=True)\n",
    "    \n",
    "    yHJ = JCU(n=n,PR=PR,NDPR=NDPR,C_r=C_r, p_a=np.ones(points),B=b,pi=pi,p_v=1,C_v=C_v,p_E=p_E)\n",
    "    yLJ = JCU(n=n,PR=PR,NDPR=NDPR,C_r=C_r, p_a=np.ones(points),B=b,pi=pi,p_v=p_v,C_v=C_v,p_E=p_E)\n",
    "    yDJ = JCU(n,PR,NDPR,C_r=C_r, p_a=x,B=b,pi=pi,p_v=p_v,C_v=C_v, p_E=p_E)\n",
    "    \n",
    "    yPJ = JCU(n=n,PR=0,NDPR=NDPR,C_r=C_r,p_a=x,B=b,pi=pi,p_v=1,C_v=C_v,p_E=p_E)\n",
    "    \n",
    "    ySJ = JCU(n=n,PR=0,NDPR=NDPR,C_r=C_r,p_a=x,B=b,pi=pi,p_v=1,C_v=0,p_E=1)\n",
    "    \n",
    "    yVSJ = JCU(n=n,PR=0,NDPR=0,C_r=C_r,p_a=x,B=b,pi=pi,p_v=1,C_v=0,p_E=1)\n",
    "    \n",
    "    ySJ2 = JCU(n=n,PR=0,NDPR=NDPR,C_r=C_r,p_a=x,B=b,pi=pi,p_v=1,C_v=0,p_E=p_E)\n",
    "    \n",
    "#     ysJU = list(map(lambda p: float(sJU.subs({sn:n, sNDPR:0, sp_a:p, sB:b, spi:pi})),x))\n",
    "#     ydJU  = list(map(lambda p: float(sdJU.subs({sn:n, sp_a:p})), x))\n",
    "    \n",
    "    \n",
    "    D = pi * PR + (pi * n)\n",
    "    I = D*Insurance\n",
    "    \n",
    "    ec = pi*(1-roi)\n",
    "    \n",
    "    \n",
    "    yRU = RPU(n,PR,NDPR,p_a=x,pi=pi,p_v=p_v,C_f=C_f,p_E=p_E,ec=ec,I=I)\n",
    "#     ydRU = list(map(lambda p: float(dRU.subs({rC_f:C_f, rec:ec, rp_a:p, rn:n, rp_v:p_v, rpi:pi, rPR:PR  })),x))\n",
    "    \n",
    "    ydRU_pa = list(map(lambda p: float(dRU_pa.subs({rp_a:p, rn:n, rp_v:p_v, rpi:pi, rPR:PR, rp_E:p_E  })),x))\n",
    "    \n",
    "    \n",
    "    plt.plot(x,yHJ, label=\"HJ\")\n",
    "    plt.plot(x,yLJ, label=\"LJ\")\n",
    "    plt.plot(x,yDJ, label=\"DJ\")\n",
    "    plt.plot(x,yPJ, label=\"PJ\")\n",
    "#     plt.plot(x,ySJ, label=\"SJ\")\n",
    "#     plt.plot(x,yVSJ, label=\"VSJ\")\n",
    "#     plt.plot(x,ySJ2, label=\"SJ2\")\n",
    "    \n",
    "    \n",
    "#     plt.plot(x,ysJU, label=\"sJU\")\n",
    "#     plt.plot(x,ydJU, label=\"dJU\")\n",
    "   \n",
    "    plt.plot(x,yRU, label=\"RU\")\n",
    "    \n",
    "    plt.plot(x,ydRU_pa, label =\"dRU_pa\")    \n",
    "    \n",
    "    plt.xlabel('p_a')\n",
    "    plt.ylabel('Util') \n",
    "    plt.legend()\n",
    "    \n",
    "    \n",
    "    print(\"n: %s\" %n)\n",
    "    print(\"Price: %s\" %pi)\n",
    "    D = pi * PR + pi*n\n",
    "    print(\"D: %s\" %D)\n",
    "    \n",
    "    maxDJ = max(yDJ)\n",
    "    print(\"maxDJ: %s\" %maxDJ)\n",
    "    \n",
    "    maxRU = max(yRU)\n",
    "    print(\"maxRU: %s\" %maxRU)\n",
    "    \n",
    "    \n",
    "    minRU = min(yRU)\n",
    "    print(\"minRU: %s\" %minRU)\n",
    "    \n",
    "    \n",
    "    p_amaxJ = x[np.argmax(yDJ)]\n",
    "    p2 = 1 - p_amaxJ\n",
    "    print(\"p_a for JC max util: %s\" %p_amaxJ)\n",
    "    print(\"\")\n",
    "    \n",
    "    p_aminRU = x[np.argmin(yRU)]\n",
    "    print(\"p_a for RP min util: %s\" %p_aminRU)\n",
    "    print(\"\")\n",
    "    \n",
    "    p_amaxRU = x[np.argmax(yRU)]\n",
    "    print(\"p_a for RP max util: %s\" %p_amaxRU)\n",
    "    print(\"\")\n",
    "    \n",
    "    \n",
    "    print(\"Resource Provider\")\n",
    "    execCost = pi*(1-roi)\n",
    "    requstedPrice = execCost + I \n",
    "    print(\"requstedPrice: %s\" %requstedPrice)   \n",
    "    print(\"pi > requstedPrice, Matchable? : %s\" %(pi>requstedPrice))\n",
    "    \n",
    "    print(\"exec cost: %s\" %ec)\n",
    "    \n",
    "    \n",
    "    plt.subplot(1,3,2)\n",
    "    plt.grid(visible=True)\n",
    "    yRU_p_E = RPU(n,PR,NDPR,p_a=p_aminRU,pi=pi,p_v=p_v,C_f=C_f,p_E=x,ec=ec,I=I)\n",
    "    plt.plot(x,yRU_p_E, label =\"yRU wrt p_E\")\n",
    "    plt.xlabel('p_E')\n",
    "    plt.ylabel('Util')\n",
    "    plt.legend()\n",
    "    \n",
    "    plt.subplot(1,3,3)\n",
    "    plt.grid(visible=True)\n",
    "    yDJ_pv_mxJ = JCU(n,PR,NDPR,C_r=C_r, p_a=p_amaxJ,B=b,pi=pi,p_v=x,C_v=C_v, p_E=p_E)\n",
    "    yDJ_pv_mnR = JCU(n,PR,NDPR,C_r=C_r, p_a=p_aminRU,B=b,pi=pi,p_v=x,C_v=C_v, p_E=p_E)\n",
    "    yRU_pv_mnR_e0 = RPU(n,PR,NDPR,p_a=p_aminRU,pi=pi,p_v=x,C_f=C_f,p_E=0,ec=ec,I=I)\n",
    "    yRU_pv_mnR_e1 = RPU(n,PR,NDPR,p_a=p_aminRU,pi=pi,p_v=x,C_f=C_f,p_E=1,ec=ec,I=I)\n",
    "    \n",
    "    plt.plot(x,yDJ_pv_mxJ, label =\"yDJ wrt pv p_amxJ\")\n",
    "    plt.plot(x,yDJ_pv_mnR, label =\"yDJ wrt pv p_amnR\")\n",
    "    plt.plot(x,yRU_pv_mnR_e0, label =\"yRU wrt pv p_amxJ E0\")\n",
    "    plt.plot(x,yRU_pv_mnR_e1, label =\"yRU wrt pv p_amnR E1\")\n",
    "    \n",
    "    \n",
    "    plt.xlabel('p_V')\n",
    "    plt.ylabel('Util')\n",
    "    \n",
    "    plt.legend()\n",
    "    plt.show\n",
    "    \n",
    "    display(dRU)\n",
    "    print(\"min RU: \", dRU.subs({rC_f:C_f, rec:ec, rp_a:p_aminRU, rn:n, rp_v:p_v, rpi:pi, rPR:PR  }), \"at p_a=%s\" %p_aminRU) "
   ]
  },
  {
   "cell_type": "code",
   "execution_count": null,
   "metadata": {
    "scrolled": false
   },
   "outputs": [],
   "source": [
    "\n",
    "# platform\n",
    "ui1 = widgets.HBox([wn,wPR,wNDPR,wC_r]) \n",
    "# Job creator\n",
    "ui21 = widgets.HBox([wB,wpi])\n",
    "ui22 = widgets.HBox([wp_v,wC_v])\n",
    "# Resource Provider\n",
    "ui31 = widgets.HBox([wC_f,wp_E])\n",
    "ui32 = widgets.HBox([wroi,winsurance])\n",
    "\n",
    "# interactive_plot = widgets.interactive(plot, n=wn,PR=wPR,NDPR=wNDPR,pi=wpi,p_v=wp_v,cj=wcj, p_E=wp_E,roi=wroi,Insurance=winsurance);\n",
    "interactive_plot = widgets.interactive_output(plot,{'n':wn,'PR':wPR,'NDPR':wNDPR,'C_r':wC_r,'pi':wpi,'b':wB,'p_v':wp_v,'C_v':wC_v, 'p_E':wp_E,'roi':wroi,'Insurance':winsurance,'C_f':wC_f });\n",
    "# output = interactive_plot.children[-1]\n",
    "# interactive_plot.layout.height = '900px'\n",
    "display(interactive_plot,ui1,ui21,ui22,ui31,ui32)"
   ]
  },
  {
   "cell_type": "markdown",
   "metadata": {},
   "source": [
    "# B Analysis\n",
    "\n",
    "This section analyzes when the JC is sending real jobs that provide some benefit $B$ when they are successfully completed. The JC is attempting to increase its utility by adding a non-deterministic element to the jobs in an effort to have some jobs completed for free by accusing the RP of failing to execute them correctly. This could be done by changing the input so that some parts of the code are normally dorment and only activated when a certain data input is provided."
   ]
  },
  {
   "cell_type": "markdown",
   "metadata": {},
   "source": [
    "### Protocol Following model\n",
    "If the JC follows the protocol its utility is the B, or value, it receives from the Job execution minus the amount it pays to the RP. This is assuming that the RP is playing by the rules of the game, otherwise the JC could have better utility since $\\pi$ will be refunded and **B** will still be recieved since the mediator will return the result. \n",
    "\n",
    "This model is further simplified by the assumption that a Job can be checked for free, and that the JC can check the result of every job. This is a reasonable simplification since there are jobs whose verification cost is much less than the cost of execution, and we are interested in identifying the worst case scenario we need to protect against. "
   ]
  },
  {
   "cell_type": "markdown",
   "metadata": {},
   "source": [
    "### Non-Deterministic Model\n",
    "The key element of this model is the amount of utility the JC can get for **free** from the system. \n",
    "The free utility is the probability that the RP got result 2 multiplied by the probability that the mediator got result 1 $n$ times multiplied by the job B, minus the probability that the RP got result 2 multiplied by the probability that the mediator did not get result 1 for any of $n$ executions multiplied by the D, whose value is determined by the pi set by the JC multiplied by the non-deterministic penalty rate set by the Mediator. \n",
    "\n",
    "This model is the best the JC can hope for. The RP could fail to complete jobs, in which case the JC loses the B, and either pays $pi$ or ND D."
   ]
  },
  {
   "cell_type": "markdown",
   "metadata": {},
   "source": [
    "### Evaluation"
   ]
  },
  {
   "cell_type": "code",
   "execution_count": null,
   "metadata": {},
   "outputs": [],
   "source": [
    "def plot2(n,NDPR, pi,B,  p_v,C_v,p_E):\n",
    "    points = 101\n",
    "    x,step = np.linspace(0,1,points,retstep=True)\n",
    "    \n",
    "    \n",
    "    yHJ = JCU(n=n,PR=0,NDPR=NDPR,C_r=0,p_a=np.ones(points),B=B,pi=pi,p_v=p_v,C_v=C_v,p_E=p_E)\n",
    "    yDJ = JCU(n=n,PR=0,NDPR=NDPR,C_r=0,p_a=x,B=B,pi=pi,p_v=p_v,C_v=C_v,p_E=p_E)\n",
    "    \n",
    "    \n",
    "    yHSJ = JCU(n=n,PR=0,NDPR=NDPR,C_r=0,p_a=np.ones(points),B=B,pi=pi,p_v=1,C_v=0,p_E=1)\n",
    "    ySJ  = JCU(n=n,PR=0,NDPR=NDPR,C_r=0,p_a=x,B=B,pi=pi,p_v=1,C_v=0,p_E=1)\n",
    "    ySJ0 = JCU(n=1,PR=0,NDPR=0,C_r=0,p_a=x,B=B,pi=pi,p_v=1,C_v=0,p_E=1)\n",
    "    ySJ1 = JCU(n=2,PR=0,NDPR=0,C_r=0,p_a=x,B=B,pi=pi,p_v=1,C_v=0,p_E=1)\n",
    "    ySJ2 = JCU(n=1,PR=0,NDPR=1,C_r=0,p_a=x,B=B,pi=pi,p_v=1,C_v=0,p_E=1)\n",
    "    ySJ3 = JCU(n=2,PR=0,NDPR=1,C_r=0,p_a=x,B=B,pi=pi,p_v=1,C_v=0,p_E=1)\n",
    "    \n",
    "    \n",
    "    plt.figure(3,figsize=(10,5))    \n",
    "    plt.subplot(1,1,1)\n",
    "    plt.grid(visible=True)\n",
    "    \n",
    "#     plt.plot(x,yPU, label=\"PU\")\n",
    "#     plt.plot(x,yNDU, label=\"NDU\")\n",
    "    \n",
    "    plt.plot(x,yHJ, label=\"HJ : p_a=1\")\n",
    "    plt.plot(x,yDJ, label=\"DJ\")\n",
    "#     plt.plot(x,ySJ, label=\"SJ\")\n",
    "    \n",
    "    plt.plot(x,yHSJ, label=\"HSJ :n=n,PR=PR\")\n",
    "    plt.plot(x,ySJ0, label=\"DJ :n=1,PR=0\")\n",
    "    plt.plot(x,ySJ1, label=\"DJ :n=2,PR=0\")\n",
    "    plt.plot(x,ySJ2, label=\"DJ :n=1,PR=1\")\n",
    "    plt.plot(x,ySJ3, label=\"DJ :n=2,PR=1\")\n",
    "\n",
    "    \n",
    "    plt.xlabel('p_a')\n",
    "    plt.ylabel('Util') \n",
    "    \n",
    "    plt.legend()\n",
    "    plt.show\n",
    "    \n",
    "    print(\"Protocol util: %s\" %max(yHJ))\n",
    "    print(\"max ND util: %s\" %max(yDJ))\n",
    "    print(\"ND improvement over Protocol: %s\" %(max(yDJ)-max(yHJ)))    \n",
    "    print(\"%% improvement : %s %%\" %(100*abs((max(yDJ)-max(yHJ))/max(yHJ))))\n",
    "    print(\"optimal P(p_a): %s\" %x[np.argmax(yDJ)])\n",
    "    \n",
    "    with open('JCND_file.csv', mode='w') as JCND_file:\n",
    "        JCwriter = csv.writer(JCND_file, delimiter=',', quotechar='\"', quoting=csv.QUOTE_MINIMAL)\n",
    "        JCwriter.writerow(['p_a','JC Deterministic', 'JC Non-Deterministic'])\n",
    "        \n",
    "        for i in range(101):\n",
    "            JCwriter.writerow([i/100-1/100, yHJ[i], yDJ[i] ])\n",
    "\n",
    "    \n",
    "    "
   ]
  },
  {
   "cell_type": "code",
   "execution_count": null,
   "metadata": {
    "scrolled": false
   },
   "outputs": [],
   "source": [
    "interactive_plot2 = widgets.interactive(plot2, n=wn,NDPR=wNDPR,   pi=wpi,B=wB,p_v=wp_v,C_v=wC_v,p_E=wp_E);\n",
    "output = interactive_plot2.children[-1]\n",
    "# output.layout.height = '420px'\n",
    "interactive_plot2\n",
    "\n",
    "#n = 4\n",
    "#NDPR = 24? if pi is included in free job."
   ]
  },
  {
   "cell_type": "code",
   "execution_count": null,
   "metadata": {},
   "outputs": [],
   "source": [
    "x,step = np.linspace(0,1,51,retstep=True)\n",
    "\n",
    "def plotRP(n,PR,NDPR,p_a,pi,b,p_v=1,C_v=0,roi=1,Insurance=0,C_f=0): \n",
    "\n",
    "    plt.figure(figsize=(10,5))\n",
    "    \n",
    "#     plt.subplot(1,1,1)\n",
    "    plt.grid(visible=True)\n",
    "    print(\"Comparison of RPU while varying p_E\")\n",
    "    \n",
    "    print(\"step size: %s\" %step)\n",
    "    \n",
    "    ec = pi*(1-roi)\n",
    "    D = pi * PR + (pi * n)\n",
    "    I = D*Insurance\n",
    "    \n",
    "    yRU = RPU(n,PR,NDPR,p_a,pi,p_v=p_v,C_f=C_f,p_E=x,ec=ec,I=I)\n",
    "#     yRNDD = list(map(lambda p_E: RPU(n,PR,NDPR,p_a,pi,p_v=p_v,C_f=C_f,p_E=p_E,ec=ec,I=I),x))\n",
    "    \n",
    "    print(\"n,PR,NDPR,pi,p_a,p_v=p_v,p_E=p_E,ec=ec,I=Insurance,C_f=C_f\")\n",
    "    print( n,PR,NDPR,pi,p_a,p_v,   \"p_E\",   ec,   I,          C_f)\n",
    "   \n",
    "    plt.plot(x,yRU, label=\"RPU\")\n",
    "    plt.xlabel('p_E')\n",
    "    plt.ylabel('Util') \n",
    "    \n",
    "    \n",
    "    maxRU = max(yRU)\n",
    "    print(\"maxRD: %s\" %maxRU)\n",
    "    \n",
    "    p_EmaxRU = x[np.argmax(yRU)]\n",
    "    print(\"p_E for RP max util: %s\" %p_EmaxRU)\n",
    "    print(\"\")\n",
    "    \n",
    "#     test = dRU.subs({rn:n, rPR:PR, rp_a:p_a,rpi:pi,rp_v:p_v,rC_f:C_f,rec:ec})\n",
    "    p_Einflection = p_EInflection(n,PR,p_a,pi,p_v,C_f,ec)\n",
    "    \n",
    "    \n",
    "    print(\"p_E:\\t\"+str(p_Einflection))\n",
    "#     print(\"inflection test: %s\" %test)\n",
    "\n",
    "    plt.legend()\n",
    "    plt.show"
   ]
  },
  {
   "cell_type": "code",
   "execution_count": null,
   "metadata": {},
   "outputs": [],
   "source": [
    "def p_EInflection(n,PR,p_a,pi,p_v,C_f,ec):\n",
    "    \n",
    "    D =   pi * PR + (pi* n)\n",
    "    p2=1-p_a\n",
    "    \n",
    "    \n",
    "    p_EInflectionTop = -pi*p_v*p_a\n",
    "    p_EInflectionTop += pi*(p_v-1)\n",
    "    p_EInflectionTop += pi*p_v*p2*(p_a**n - 1)\n",
    "    p_EInflectionTop += p_v*p2*(p_a**n) *D\n",
    "    p_EInflectionTop -= p_v*(p_a**n -1) *(pi-C_f)\n",
    "    p_EInflectionTop -= p_v*(p_a**n) *(C_f+D)\n",
    "    p_EInflectionTop -= (p_v-1)*(pi-C_f)\n",
    "    \n",
    "    p_EInflectionBottom = -2*(p_v*p_a*ec)\n",
    "    \n",
    "    \n",
    "  \n",
    "    p_EInflectionBottom += (p_v-1)*2*ec\n",
    "    p_EInflectionBottom += p_v*p2*(p_a**n - 1)*2*ec\n",
    "    p_EInflectionBottom += p_v*p2*(p_a**n) *2*ec\n",
    " \n",
    "    p_EInflectionFinal=p_EInflectionTop/p_EInflectionBottom\n",
    "\n",
    "  \n",
    "    return p_EInflectionFinal"
   ]
  },
  {
   "cell_type": "code",
   "execution_count": null,
   "metadata": {
    "scrolled": false
   },
   "outputs": [],
   "source": [
    "#pi,B, computation, fine, cj, cd, m):\n",
    "# wn=widgets.IntSlider(min=0,max=10,step=1,value=4, description='n', continuous_update=False)\n",
    "# wPR=widgets.FloatSlider(min=0,max=100,step=0.01,value=4, continuous_update=False)\n",
    "# wNDPR=widgets.FloatSlider(min=0,max=100,step=0.01,value=4, continuous_update=False)\n",
    "\n",
    "# wpi =widgets.IntSlider(min=0,max=100,step=1,value=4, continuous_update=False)\n",
    "# wB =widgets.IntSlider(min=0,max=100,step=1,value=5, continuous_update=False)\n",
    "# wp_v = widgets.FloatSlider(min=0,max=1,step=0.01,value=0.5, continuous_update=False)\n",
    "# wC_v =widgets.IntSlider(min=0,max=100,step=1,value=2, continuous_update=False)\n",
    "wroi =widgets.FloatSlider(min=0,max=1,step=0.01,value=0.5, continuous_update=False)\n",
    "wInsurance =widgets.FloatSlider(min=0,max=1,step=0.01,value=0, continuous_update=False)\n",
    "wC_f =widgets.FloatSlider(min=0,max=100,step=1,value=0, continuous_update=False)\n",
    "wp_a =widgets.FloatSlider(min=0,max=1,step=0.01,value=0.8, continuous_update=False)\n",
    "\n",
    "\n",
    "\n",
    "#wp_E = widgets.FloatSlider(min=0,max=1,step=.1,value=1,description='P(run)', continuous_update=False) # probability that RP runs correctly\n",
    "\n",
    "\n",
    "\n",
    "interactive_plotRP = widgets.interactive(plotRP,n=wn,PR=wPR, NDPR=wNDPR, p_a=wp_a, pi=wpi, b=wB, p_v=wp_v, C_v=wC_v,roi=wroi, Insurance=wInsurance, C_f=wC_f)\n",
    "output = interactive_plotRP.children[-1]\n",
    "# output.layout.height = '600px'\n",
    "interactive_plotRP"
   ]
  },
  {
   "cell_type": "code",
   "execution_count": null,
   "metadata": {},
   "outputs": [],
   "source": [
    "def RPp_EFinder(n,PR,p_a,pi,p_v,C_f,ec):\n",
    "    p2=1-p_a\n",
    "    if p_v==0: #\n",
    "        if (C_f  >ec ):\n",
    "            return 1\n",
    "        elif (C_f  < ec ):\n",
    "            return 0\n",
    "        \n",
    "    fraudCost=C_f\n",
    "    execCost=ec\n",
    "    D=pi * PR + (pi * n)\n",
    "        \n",
    "    #val finds if p_E0 or p_E1 is higher\n",
    "    val = p_v*p_a*(pi-execCost)\n",
    "    val +=p_v*p2*(1-p_a**n)*(pi-execCost)\n",
    "    val +=p_v*p2*(p_a**n)*(-D-execCost)\n",
    "    val +=(1-p_v) * (fraudCost - execCost)\n",
    "    val -=p_v*(1-p_a**n)*(pi-fraudCost)\n",
    "    val -= p_v*(p_a**n)*(-D-fraudCost)\n",
    "    \n",
    "    if val>=0:\n",
    "        p_E=1\n",
    "    elif val<0:\n",
    "        p_E=0\n",
    "   \n",
    "   \n",
    "    \n",
    "    return p_E\n",
    "    \n",
    "   "
   ]
  },
  {
   "cell_type": "code",
   "execution_count": null,
   "metadata": {},
   "outputs": [],
   "source": [
    "test = RPp_EFinder(1,1,1,2,3,4,5)"
   ]
  },
  {
   "cell_type": "code",
   "execution_count": null,
   "metadata": {},
   "outputs": [],
   "source": [
    "def RPNDoptimal(n,PR,NDPR,p_a,pi,p_v,C_f,ec,I):\n",
    "    p_Enew = RPp_EFinder(n,PR,p_a,pi,p_v,C_f,ec)\n",
    "    \n",
    "    # Temporary fix\n",
    "#     ec = pi*(1-roi)\n",
    "#     D = pi * PR + (pi * n)\n",
    "#     I = D*I\n",
    "    \n",
    "    RPutil = RPU(n,PR,NDPR,p_a,pi,p_v,C_f,p_Enew, ec, I)\n",
    "    return(RPutil)"
   ]
  },
  {
   "cell_type": "code",
   "execution_count": null,
   "metadata": {},
   "outputs": [],
   "source": [
    "def plotnonDetFINAL(n,PR,NDPR,C_r, pi,b, p_ETarget,p_v=1,C_v=0, p_E=1,roi=1,Insurance=0,C_f=0):   \n",
    "    plt.figure(2,figsize=(10,5))\n",
    "    \n",
    "    plt.subplot(1,1,1)\n",
    "    plt.grid(visible=True)\n",
    "    x,step = np.linspace(0,1,101,retstep=True)\n",
    "    print(\"step size: %s\" %step)\n",
    "    yJND = list(map(lambda p_a: JCU(n,PR,NDPR,C_r,  p_a,b,pi,p_v=p_v,C_v=C_v, p_E=p_E),x))\n",
    "    #yRND = list(map(lambda p_a: RPNDU(n,PR,NDPR, p_a,pi,p_v=p_v, p_E=p_E,roi=roi,I=Insurance),x))\n",
    "    \n",
    "    ec = pi*(1-roi)\n",
    "    D = pi * PR + (pi * n)\n",
    "    I = D*Insurance\n",
    "    \n",
    "    yRNDD = list(map(lambda p_a: RPU(n,PR,NDPR,p_a,pi,p_v=p_v,C_f=C_f,p_E=p_E,ec=ec,I=I),x))\n",
    "    yRNDD0 = list(map(lambda p_a: RPU(n,PR,NDPR,p_a,pi,p_v=p_v,C_f=C_f,p_E=0,ec=ec,I=I),x))\n",
    "    yRNDD1 = list(map(lambda p_a: RPU(n,PR,NDPR,p_a,pi,p_v=p_v,C_f=C_f,p_E=1,ec=ec,I=I),x))\n",
    "    \n",
    "    yRNDoptimal =list(map(lambda p_a: RPNDoptimal(n,PR,NDPR,p_a,pi,p_v=p_v,C_f=C_f,ec=ec,I=I),x))\n",
    "    \n",
    "    #                        RPp_EFinder(n, PR, p_a, pi, p_v,   C_f,     roi):\n",
    "    yp_E = list(map(lambda p_a: RPp_EFinder(n, PR, p_a, pi, p_v=p_v, C_f=C_f, ec=ec), x))\n",
    "    \n",
    "    #plt.plot(x,yJND, label=\"JUND\")\n",
    "    #plt.plot(x,yRND, label=\"RUND\")\n",
    "    plt.plot(x,yRNDD, label=\"RUNDD\")\n",
    "    \n",
    "    plt.plot(x,yp_E, label=\"p_E Cheat Amount\")\n",
    "    plt.plot(x,yRNDD0, label=\"RUNDD, p_E=0 CHEATING\")\n",
    "    plt.plot(x,yRNDD1, label=\"RUNDD, p_E=1 FAIR\")\n",
    "    plt.plot(x,yRNDoptimal, label=\"RUNDoptimal\")\n",
    "    \n",
    "    plt.xlabel('P(a1)')\n",
    "    plt.ylabel('Util') \n",
    "    \n",
    "    plt.legend()\n",
    "    plt.show\n",
    "    \n",
    "    print(\"n: %s\" %n)\n",
    "    print(\"Price: %s\" %pi)\n",
    "    D = pi * PR + pi*n\n",
    "    print(\"D: %s\" %D)\n",
    "    damages = pi + C_r\n",
    "    \n",
    "    maxJND = max(yJND)\n",
    "    p_aMax = x[yJND.index(maxJND)]\n",
    "    p2 = 1 - p_aMax\n",
    "    print(\"P(a1) for JCmax/RPmin util: %s\" %p_aMax)\n",
    "    print(\"\")\n",
    "    \n",
    "    print(\"Resource Provider\")\n",
    "    execCost = pi*(1-roi)\n",
    "    requstedPrice = execCost + D*Insurance   \n",
    "    print(\"requstedPrice: %s\" %requstedPrice)   \n",
    "    print(\"pi > requstedPrice, Matchable? : %s\" %(pi>requstedPrice))\n",
    "    \n",
    "    print(\"\")\n",
    "    p_apayout = p_v*p_aMax*pi\n",
    "    P2payout = p_v*p2*(1-p_aMax**n)*damages\n",
    "    TPayout = p_apayout+P2payout\n",
    "    RPcost = pi*(1-roi) \n",
    "    NDI = D*Insurance\n",
    "    NDloss = p_v*(p2)*(p_aMax**n)*D\n",
    "    Tcost = RPcost + NDloss - NDI\n",
    "    I = p_v*(p2)*(p_aMax**n)\n",
    "    \n",
    "    p_a=p_ETarget\n",
    "    p2=1-p_a #1-p_a\n",
    "    \n",
    "    fraudCost=C_f\n",
    "    \n",
    "    p_Epoint =  - (fraudCost - execCost)/(p_a*(pi-execCost)+p2*(1-p_a**n)*(pi-execCost)+p2*(p_a**n)*(-D-execCost)-(1-p_a**n)*(pi-fraudCost)- (p_a**n)*(-D-fraudCost) )\n",
    "\n",
    "    \n",
    "    optimalp_E = RPp_EFinder(n,PR,p_a,pi,p_v,C_f,roi)\n",
    "\n",
    "    print(\"p_E INFLECTION POINT: (p_a = \"+str(p_ETarget)+\"):\\t necessary P = \"+str(p_Epoint))\n",
    "    \n",
    "   \n",
    "    print(\"Optimal p_E: (p_a = \"+str(p_ETarget)+\"):\\t  p_Eoptimal = \"+str(optimalp_E))\n",
    "    \n",
    "    \n",
    "    \n",
    "    print(\"max ND JC utility: %s\" %maxJND)    \n",
    "    \n",
    "    \n",
    "    with open('RP_file.csv', mode='w') as RPfile:\n",
    "        RPwriter = csv.writer(RPfile, delimiter=',', quotechar='\"', quoting=csv.QUOTE_MINIMAL)\n",
    "        RPwriter.writerow(['p_a','RND0', 'RND1', 'RNDoptimal', 'p_Eoptimal'])\n",
    "        for i in range(101):\n",
    "            RPwriter.writerow([i/100-1/100, yRNDD0[i], yRNDD1[i], yRNDoptimal[i], yp_E[i] ])\n",
    "\n",
    "   "
   ]
  },
  {
   "cell_type": "code",
   "execution_count": null,
   "metadata": {
    "scrolled": false
   },
   "outputs": [],
   "source": [
    "# ui = widgets.HBox([wn,wPR,wNDPR,wpi,wp_v,wcj,wp_E,wroi,winsurance])\n",
    "#wp_ETarget = widgets.FloatSlider(min=0,max=1,step=.01,value=1, description='p_E Inflection Target',continuous_update=False)#Non-deterministic Penalty rate\n",
    "\n",
    "ui1 = widgets.HBox([wn,wPR,wNDPR,wC_r])\n",
    "ui2 = widgets.HBox([wB,wpi,wp_v,wC_v])\n",
    "ui3 = widgets.HBox([wC_f,wp_E,wroi,winsurance])\n",
    "ui4 = widgets.HBox([wp_ETarget])\n",
    "\n",
    "# interactive_plot = widgets.interactive(plot, n=wn,PR=wPR,NDPR=wNDPR,pi=wpi,p_v=wp_v,cj=wcj, p_E=wp_E,roi=wroi,Insurance=winsurance);\n",
    "interactive_plotFinal = widgets.interactive_output(plotnonDetFINAL,{'n':wn,'PR':wPR,'NDPR':wNDPR,'C_r':wC_r, 'pi':wpi,'b':wB, 'p_ETarget':wp_ETarget, 'p_v':wp_v,'C_v':wC_v, 'p_E':wp_E,'roi':wroi,'Insurance':winsurance,'C_f':wC_f});\n",
    "\n",
    "interactive_plotFinal.layout.height = '600px'\n",
    "\n",
    "display(interactive_plotFinal,ui1,ui2,ui3,ui4)\n",
    "# interactive_plotFinal\n"
   ]
  },
  {
   "cell_type": "raw",
   "metadata": {},
   "source": [
    "# Inequality Equation so that RP can set p_E\n",
    "\n",
    "p_v*p_a*(pi-execCost)\n",
    "+p_v*p2*(1-p_a**n)*(pi-execCost)\n",
    "+p_v*p2*(p_a**n)*(-D-execCost)\n",
    "+(1-p_v) * (fraudcost - execCost)\n",
    "-p_v*(1-p_a**n)*(pi-fraudCost)\n",
    "- p_v*(p_a**n)*(-D-fraudCost)\n",
    ">\n",
    "0\n"
   ]
  },
  {
   "cell_type": "raw",
   "metadata": {},
   "source": [
    "# Inequality Equation so that JC can set P\n",
    "\n",
    "p / (1-p_v)\n",
    ">\n",
    "- (fraudcost - execCost)\n",
    "/\n",
    "(\n",
    "p_a*(pi-execCost)\n",
    "+p2*(1-p_a**n)*(pi-execCost)\n",
    "+p2*(p_a**n)*(-D-execCost)\n",
    "-(1-p_a**n)*(pi-fraudCost)\n",
    "- (p_a**n)*(-D-fraudCost)\n",
    ")"
   ]
  },
  {
   "cell_type": "markdown",
   "metadata": {},
   "source": [
    "# Derivative of JPNDU wrt p_a\n",
    "   Simplify: Following Equation must not be true for 0<=p_a<1, and p_a\n",
    "   \n",
    "   p_v*(B-pi-C_v)\n",
    "   + p_v*p_E*(1-p_a)\n",
    "   + n *p_v*(p_E-1)*p_a**(n - 1) *( (-(NDD + C_r + C_v)) - (C_v-r) ) \n",
    "   + (B-NDD-C_r-C_v)*p_v*p_E * (n * (1-p_a)*p_a**(n-1)  -  (1-p_a**n)  )\n",
    "   =0\n"
   ]
  },
  {
   "cell_type": "code",
   "execution_count": null,
   "metadata": {},
   "outputs": [],
   "source": [
    "def OptimalP(fraudcost,execCost, p_a, pi, n, D):\n",
    "    \n",
    "    p2=1-p_a\n",
    "    fraudcost\n",
    "    p_a=n/(n+1)\n",
    "\n",
    "    top = - (fraudcost - execCost)\n",
    "    bot = p_a*(pi-execCost) +p2*(1-p_a**n)*(pi-execCost) +p2*(p_a**n)*(-D-execCost) -(1-p_a**n)*(pi-fraudcost) - (p_a**n)*(-D-fraudcost)\n",
    "\n",
    "    rightside=top/bot\n",
    "\n",
    "    p_v=rightside/(1-rightside)\n",
    "    \n",
    "    p_v=p_v+0.001\n",
    "    \n",
    "    if (p_v<0):\n",
    "        p_v=0\n",
    "    elif (p_v>1):\n",
    "        p_v=1\n",
    "\n",
    "    return p_v\n",
    "    \n",
    "    "
   ]
  },
  {
   "cell_type": "code",
   "execution_count": null,
   "metadata": {},
   "outputs": [],
   "source": [
    "def pp_Efinder(n,PR,p_a,pi,C_f,ec, D):\n",
    "    execCost=ec\n",
    "    fraudcost=C_f\n",
    "    p_v=OptimalP(fraudcost,execCost, p_a, pi, n, D)\n",
    "  \n",
    "    \n",
    "    p_E=RPp_EFinder(n,PR,p_a,pi,p_v,C_f,ec)\n",
    "\n",
    "    \n",
    "    return p_E"
   ]
  },
  {
   "cell_type": "code",
   "execution_count": null,
   "metadata": {},
   "outputs": [],
   "source": [
    "def pRPUtility(n, PR, p_a, pi, fraudcost, execCost, D, roi, I):    \n",
    "    p_v=OptimalP(fraudcost,execCost, p_a, pi, n, D)\n",
    "\n",
    "    p_E=pp_Efinder(n,PR,p_a,pi,fraudcost, execCost, D)\n",
    "\n",
    "    RPutility = RPU(n, PR, PR, p_a, pi, p_v,fraudcost, p_E, execCost, I)\n",
    "              # RPU(n,PR,NDPR,p_a,pi,p_v=1,C_f=0,p_E=1, ec=0, I=0):\n",
    "    RPutility0 = RPU(n, PR, PR, p_a, pi, p_v,fraudcost, 0, execCost, I)    \n",
    "    RPutility1 = RPU(n, PR, PR, p_a, pi, p_v,fraudcost, 1, execCost, I)    \n",
    "          \n",
    "    #RPutility=-999\n",
    "    return [RPutility,RPutility0, RPutility1]"
   ]
  },
  {
   "cell_type": "code",
   "execution_count": null,
   "metadata": {},
   "outputs": [],
   "source": [
    "def plotp(fraudcost,execCost, p_a, pi, n, PR, D,roi, I):  \n",
    "    plt.figure(2,figsize=(10,5))\n",
    "    \n",
    "    plt.subplot(1,1,1)\n",
    "    plt.grid(visible=True)\n",
    "    x,step = np.linspace(0,1,51,retstep=True)\n",
    "    print(\"step size: %s\" %step)\n",
    "    \n",
    "    yP =   list(map(lambda execCost: OptimalP(fraudcost,execCost, p_a, pi, n, D),x))\n",
    "    yPp_E =  list(map(lambda execCost: pp_Efinder(n,PR,p_a,pi,fraudcost,execCost, D),x))\n",
    "    #yPp_E1 = list(map(lambda execCost: RPp_EFinder(n,PR,p_a,pi,1,fraudcost,execCost),x))\n",
    "    #yPp_E0 = list(map(lambda execCost: RPp_EFinder(n,PR,p_a,pi,0,fraudcost,execCost),x))\n",
    "    yRPU = list(map(lambda execCost: pRPUtility(n,PR,p_a,pi,fraudcost,execCost, D,roi,I),x))\n",
    "                                    #pRPUtility(n, PR, p_a, pi, fraudcost, execCost, D, roi, I):       \n",
    "    #yJND = list(map(lambda p_a: JCU(n,PR,NDPR, p_a,b,pi,p_v=p_v,C_v=C_v, p_E=p_E),x))\n",
    "#     yRND = list(map(lambda p_a: RPNDU(n,PR,NDPR, p_a,pi,p_v=p_v, p_E=p_E,roi=roi,I=Insurance),x))\n",
    "    \n",
    "    #ec = pi*(1-roi)\n",
    "    #D = pi * PR + (pi * n)\n",
    "    #I = D*Insurance\n",
    "\n",
    "    #yRNDD = list(map(lambda p_a: RPU(n,PR,NDPR,p_a,pi,p_v=p_v,C_f=C_f,p_E=p_E,ec=ec,I=I),x))\n",
    "    \n",
    "    #plt.plot(x,yPp_E0, label=\"Optimal p_E when p_v=0\")\n",
    "    #plt.plot(x,yPp_E1, label=\"Optimal p_E when p_v=1\")\n",
    "    plt.plot(x,yP, label=\"Optimal P\")\n",
    "    plt.plot(x,yPp_E, label=\"p_E based on optimal P\")\n",
    "    \n",
    "    Rp_a = np.array(yRPU)[:,2]\n",
    "   \n",
    "    RP0 = np.array(yRPU)[:,1]\n",
    "    RPopt = np.array(yRPU)[:,0] \n",
    "    \n",
    "    plt.plot(x,RPopt, label=\"RP Utility with Optimal P, Optimal p_E\")\n",
    "    plt.plot(x,RP0, label=\"RP Utility with Optimal P, p_E=0\")\n",
    "    plt.plot(x,Rp_a, label=\"RP Utility with Optimal P, p_E=1\")\n",
    "    #plt.plot(x,yJND, label=\"JUND\")\n",
    "    #plt.plot(x,yRND, label=\"RUND\")\n",
    "    #plt.plot(x,yRNDD, label=\"RUNDD\")\n",
    "    plt.xlabel('execution Cost')\n",
    "    plt.ylabel('P (verification rate)') \n",
    "    \n",
    "    plt.legend()\n",
    "    plt.show   \n",
    "   "
   ]
  },
  {
   "cell_type": "code",
   "execution_count": null,
   "metadata": {},
   "outputs": [],
   "source": [
    "# ui = widgets.HBox([wn,wPR,wNDPR,wpi,wp_v,wcj,wp_E,wroi,winsurance])\n",
    "\n",
    "wFraudcost = widgets.FloatSlider(min=0,max=300,step=.5,value=1, description='fraudcost', continuous_update=False) #Penalty Rate\n",
    "wexecCost = widgets.FloatSlider(min=0,max=300,step=.5,value=1, description='execCost', continuous_update=False) #Penalty Rate\n",
    "# wpi = widgets.FloatSlider(min=0,max=300,step=.5,value=1, description='pi', continuous_update=False) #Penalty Rate\n",
    "\n",
    "wD = widgets.FloatSlider(min=0,max=300,step=.5,value=1, description='D', continuous_update=False) #Penalty Rate\n",
    "wn = widgets.IntSlider(min=0,max=10,step=1,value=1, description='n',continuous_update=False)\n",
    "\n",
    "\n",
    "ui6 = widgets.HBox([wFraudcost, wpi, wn, wPR])\n",
    "ui7 = widgets.HBox([wD, wroi, winsurance])\n",
    "\n",
    "#plotp(fraudcost,execCost, p_a, pi, n, D):  \n",
    "interactive_plotp = widgets.interactive_output(plotp,{'fraudcost': wFraudcost, 'execCost':wexecCost, 'p_a':wp_a, 'pi':wpi, 'n':wn, 'PR':wPR, 'D':wD, 'roi':wroi, 'I':winsurance});\n",
    "\n",
    "#interactive_plot = widgets.interactive_output(plot,{'n':wn,'PR':wPR,'NDPR':wNDPR,'pi':wpi,'b':wB,'p_v':wp_v,'C_v':wC_v, 'p_E':wp_E,'roi':wroi,'Insurance':winsurance,'C_f':wC_f });\n",
    "\n",
    "\n",
    "# output = interactive_plot.children[-1]\n",
    "# output.layout.height = '900px'\n",
    "display(interactive_plotp,ui6,ui7)"
   ]
  },
  {
   "cell_type": "code",
   "execution_count": null,
   "metadata": {},
   "outputs": [],
   "source": []
  }
 ],
 "metadata": {
  "kernelspec": {
   "display_name": "Python 3",
   "language": "python",
   "name": "python3"
  },
  "language_info": {
   "codemirror_mode": {
    "name": "ipython",
    "version": 3
   },
   "file_extension": ".py",
   "mimetype": "text/x-python",
   "name": "python",
   "nbconvert_exporter": "python",
   "pygments_lexer": "ipython3",
   "version": "3.6.6"
  }
 },
 "nbformat": 4,
 "nbformat_minor": 2
}
