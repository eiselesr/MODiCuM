{
 "cells": [
  {
   "cell_type": "code",
   "execution_count": 1,
   "metadata": {},
   "outputs": [],
   "source": [
    "from __future__ import print_function\n",
    "import ipywidgets as widgets \n",
    "import matplotlib.pyplot as plt\n",
    "import numpy as np"
   ]
  },
  {
   "cell_type": "markdown",
   "metadata": {},
   "source": [
    "# Non-Determinisitic Evaluation"
   ]
  },
  {
   "cell_type": "markdown",
   "metadata": {},
   "source": [
    "### Mediator Parameters\n",
    "\n",
    "$n$ : the number of times a jobs is executed for verification.\n",
    "\n",
    "$PR \\in [0,1] \\subset \\mathbb{R}$ : the penalty rate, used to determine the minimum deposit of both Job Creators and Resource Providers\n",
    "\n",
    "$NDPR \\in [0,1] \\subset \\mathbb{R}$ : the non-deterministic penalty rate, used to determine the Job Creators non-deterministic deposit\n",
    "\n",
    "$baseFee = JCmediatorPrice + RPmediatorPrice$ : The fee the Mediator requires to be available for a mediation. A mediator can be used if `available < JCmediatorPrice + RPmediatorPrice`\n",
    "\n",
    "$mediationFee = JCdeposit-price$ : The amount Mediator receives for mediating a given dispute. \n",
    "\n",
    "$ND\\_Fee = NDPR \\times price-price$ : The amount Mediator receives for mediating a given dispute and finding JC guilty of non-determinism. "
   ]
  },
  {
   "cell_type": "markdown",
   "metadata": {},
   "source": [
    "### Honest Mediator Model"
   ]
  },
  {
   "cell_type": "code",
   "execution_count": 2,
   "metadata": {},
   "outputs": [],
   "source": [
    "# Mediator Parameters\n",
    "wn = widgets.IntSlider(min=0,max=10,step=1,value=1, continuous_update=False)\n",
    "wPR = widgets.FloatSlider(min=0,max=300,step=.5,value=1, description='PR', continuous_update=False) #Penalty Rate\n",
    "wNDPR = widgets.FloatSlider(min=0,max=300,step=.5,value=1, description='NDPR',continuous_update=False)#Non-deterministic Penalty rate\n",
    "wqTarget = widgets.FloatSlider(min=0,max=1,step=.01,value=1, description='Q Inflection Target',continuous_update=False)#Q target slider\n",
    "\n",
    "def MNDU(JCmediatorPrice, RPmediatorPrice):\n",
    "    baseFee = JCmediatorPrice + RPmediatorPrice\n",
    "    mediationFee = p*(p2+(1-q))*(p1**M_n)*(JCdeposit-price)\n",
    "    ND_Fee = p*(p2+(1-q))*(1-(p1**M_n))*(NDdeposit-price) \n",
    "    return available + mediationFee + ND_Fee\n",
    "\n",
    "\n"
   ]
  },
  {
   "cell_type": "markdown",
   "metadata": {},
   "source": [
    "### Solver Parameters\n",
    "\n",
    "$matchFee$ = The amount a solver receives for finding a given match. "
   ]
  },
  {
   "cell_type": "markdown",
   "metadata": {},
   "source": [
    "### Honest Solver Model"
   ]
  },
  {
   "cell_type": "code",
   "execution_count": 3,
   "metadata": {},
   "outputs": [],
   "source": [
    "#Solver\n",
    "def SNDU(): #solver nondeterminisitc utility\n",
    "    matchFee = RPMatchingFee + JCMatchingFee\n",
    "    return matchFee"
   ]
  },
  {
   "cell_type": "markdown",
   "metadata": {},
   "source": [
    "# JC Model\n",
    "\n",
    "### Job Creator parameters\n",
    "\n",
    "$price = instructionCount*JO.rate + bandwidthUsage*JO.rate$ : The max price the JC is willing to pay to have a job executed.\n",
    "\n",
    "$p_{va1}$ : probability the JC verifies result a1. \n",
    "\n",
    "$p_{va2}$ : probability the JC verifies result a2. This probability is 0 because it can just go straight to mediation. \n",
    "\n",
    "$cv$ : cost to JC to verify result.\n",
    "\n",
    "$b$ : the value or benefit JC gets when a job is performed correctly.\n",
    "\n",
    "$matchPrice$ : the amount JC pays to Solver for finding a suitable RP. \n",
    "\n",
    "$mediatorPrice$ : The amount JC pays to mediator for being available. \n",
    "\n",
    "$p_1$ : probability that job returns answer in class $a1$\n",
    "\n",
    "$p_2 = 1-p_1$ : probability that job returns answer in class $a2$\n",
    "\n",
    "$deposit = price\\times PR\\times n$ : the amount the Job Creator must post as a security deposit in order to get matched. It multiplied by the $n$, which as a reminder is the number of times the mediator will replicate a job. "
   ]
  },
  {
   "cell_type": "markdown",
   "metadata": {},
   "source": [
    "# JC False Job Model\n",
    "\n",
    "This section analyzes when the JC is sending fake jobs that provide no value when they are successfully completed. The JC is attempting to gain utility though tricking the mediator into believing a RP did a job incorrectly and giving it compensation. The JC can trick the mediator by providing a job with a non-deterministic output. The output is in one of two answer classes, $a1$ or $a2$ with $P(a1)>>P(a2)$. If RP responds with $a1$ the JC will pay RP. If RP responds with $a2$ JC will request mediation, expecting the mediator to find the answer to be $a1$ and determine that the $RP$ must have cheated. \n",
    "We only need to considert two answer classes because when the Mediator is performing verification it assigns fault to the RP only if it finds there to be one answer which does not match the RP answer, if it finds two answers that differ from one another, regardless of if they match the RP answer, it faults the JC. This means that JC wants to maximize the chance that the Mediator will get the same answer reapeatedly which is not benefited by having additional answer classes.  \n",
    "\n",
    "We need to make sure that the platform compensation model does not make this strategy feasible. \n",
    "\n",
    "**Assumptions**\n",
    "\n",
    "* The job has probability p1 of resulting in an answer in class a1 and 1-p1 of resulting in class a2"
   ]
  },
  {
   "cell_type": "code",
   "execution_count": 4,
   "metadata": {},
   "outputs": [],
   "source": [
    "# JC parameters\n",
    "wPrice = widgets.IntSlider(min=0,max=10000,step=1,value=1, continuous_update=False)\n",
    "JCgasPrice = 0\n",
    "wp = widgets.FloatSlider(min=0,max=1,step=.1,value=1, description='P(verify)', continuous_update=False) # how often JC verifies\n",
    "wjcj= widgets.FloatSlider(min=0,max=10000,step=.1,value=0, description='jcj',continuous_update=False) # cost for JC to verify\n",
    "wBenefit=widgets.IntSlider(min=0,max=10000,step=1,value=1, continuous_update=False)\n",
    "matchPrice = 1\n",
    "mediatorPrice = 1\n",
    "\n",
    "def JCNDU(M_n,M_PR,M_NDPR, p1,benefit,price,p=1,jcj=0, q=1):\n",
    "    p2 = 1-p1\n",
    "    \n",
    "    NDdeposit = price * M_NDPR * M_n\n",
    "    \n",
    "     \n",
    "    honest  =  p*q*p1*(benefit-price-jcj) # RP correctly (q) returns answer 1 (p1) and pay up to max_price (-price).\n",
    "    \n",
    "    NDJC_HRP_Gain = p*q*p2*(p1**M_n)*(benefit + price -jcj) # receives gas price because it had to spend some to request mediation.\n",
    "    NDJC_HRP_Lose = p*q*p2*(1-(p1**M_n))*(benefit-NDdeposit-JCgasPrice-jcj) #RP returns answer 2 correctly or responds incorrectly (p2+(1-q)) and send to mediator who finds out nonDeterminism (1-p1^n), pay fine and reward (f2+r)\n",
    "    ND = NDJC_HRP_Gain + NDJC_HRP_Lose\n",
    "    \n",
    "    DRP_Gain = p*(1-q)*(p1**M_n)*(price - jcj) \n",
    "    DRP_Lose = p*(1-q)*(1-p1**M_n)*(-NDdeposit-JCgasPrice-jcj)# compute incorrectly (1-q) get sent to mediation, finds nondeterminism (1-p1^n) get compensation.\n",
    "    DRP_scared = p*(1-q)*(-price-jcj) # JC doesn't want to risk getting caught, just pay RP\n",
    "    DRP =  max(DRP_Gain+DRP_Lose, DRP_scared)\n",
    "    \n",
    "    \n",
    "    noID_HRP = (1-p)*q*(benefit-price)\n",
    "    noID_DRP = (1-p)*(1-q)*(-price)\n",
    "    noVerifyCost = noID_HRP + noID_DRP\n",
    "    \n",
    "    JCnonDet = honest + ND + DRP + noVerifyCost\n",
    "    return JCnonDet\n"
   ]
  },
  {
   "cell_type": "markdown",
   "metadata": {},
   "source": [
    "This model captures an honest Job Creator when $p1=1$, other values for $p1$ introduce non-deterministic cheating.\n",
    "\n",
    "The Job Creators verification strategy is controlled by $p$, which is the probability of verifying a given result. \n",
    "\n",
    "The type of job, is captured by the $price$ and the $jcj$ terms. The $price$ capture the complexity of execution, $jcj$ captures the complexity of verification.\n",
    "\n",
    "A mixed strategy Resource Provider is accounted for through the $q$ parameter. If $q=0$ then the $RP$ is intentionally sending junk results back. \n",
    "\n",
    "While running as a non-deterministic Job Creator it must decide whether the pay the $RP$ for a junk request, or risk getting caught in mediation. Currently the choice is made in the `max(RPfraud1,RPfraud2)` term. If the Job Creator is running deterministic jobs if it verifies and finds a bad result it will request mediation."
   ]
  },
  {
   "cell_type": "markdown",
   "metadata": {},
   "source": [
    "## Resource Providier\n",
    "\n",
    "The Resource Provider only has one method to try to abuse the system. That is to return a result and hope that the Job Creator does not verify the job. If the Job Creator never verifies the Resource Provider will always cheat, and if it always verifies the Resource Provider will never cheat. However, the RP does not know how often the Job Creator will verify. "
   ]
  },
  {
   "cell_type": "markdown",
   "metadata": {},
   "source": [
    "### Resource Provider Model\n",
    "The most RP can be paid for executing a job is $price = instructionCount*JO.rate + bandwidthUsage*JO.rate$. \n",
    "\n",
    "Jobs are only worth executing if the operating costs are covered by the Resource providers fees, which are at most $price$ for a given job. \n",
    "\n",
    "The Resource Provider does not only want to cover operating costs however, it additionally wants to make a profit. \n",
    "\n",
    "$profit = price-cost$\n",
    "\n",
    "Since the price varies from job to job, the RP specifies a return on investment $roi$: \n",
    "\n",
    "$roi = \\frac{price-cost}{price}$\n",
    "\n",
    "For the model we need to estimate the cost of executing a job $cost$. We compute this with the given price and required roi. This is reasonable since the JC specifies the $price$ and $price$ is ralated to job complexity, and the execution cost will increase with complexity.\n",
    "\n",
    "$cost = price*(1-roi)$ \n",
    "\n",
    "The platform will only match a job to an RP if $price>requestedPrice$\n",
    "$requestedPrice$ covers the cost of execution. So in the analysis if $price<requestedPrice$ the point is infeasible. \n",
    "$requestedPrice$ is not used in the RP model, only computed. \n",
    "\n",
    "$requestedPrice = cost$\n",
    "\n",
    "In a situation where the Job Creator is sending non-deterministic jobs, a Resource provider will lose \n",
    "\n",
    "$p \\times p_2 \\times p_1^n\\times deposit$\n",
    "\n",
    "If the RP assumes $p=1$(JC always verifies), and that JC uses optimal $p_1$ given $n$ and $NDPR$ it can determine the maximum percent $I$ of its deposit that it will lose to the mediator being tricked. By adding $ I \\times deposit$ to its $requestedPrice$ it can mitigate the damage done by cheating Job Creators. $I$ is an insurance percent against cheating. This results in a new $requestedPrice$ :  \n",
    "\n",
    "$requestedPrice = price*(1-roi) + deposit \\times I $\n",
    "\n",
    "\n",
    "When the RP is matched at its' $requestedPrice$ the $cost$ will effectively be reduced by $deposit \\times I$ so the effective $cost$ used in the model is:\n",
    "\n",
    "$cost = price*(1-roi) - deposit \\times I $\n",
    "\n",
    "In the `plot` function $requestedPrice$ is compared against $price$ to check if the point is valid. \n"
   ]
  },
  {
   "cell_type": "markdown",
   "metadata": {},
   "source": [
    "#### Honest RP Model"
   ]
  },
  {
   "cell_type": "code",
   "execution_count": 5,
   "metadata": {},
   "outputs": [],
   "source": [
    "# RP parameters\n",
    "RPgasPrice = 0\n",
    "wq = widgets.FloatSlider(min=0,max=1,step=.1,value=1,description='P(run)', continuous_update=False) # probability that RP runs correctly\n",
    "wroi = widgets.FloatSlider(min=0,max=1,step=.01,value=.5,description='roi', continuous_update=False) # what percent of reward is profit\n",
    "winsurance = widgets.FloatSlider(min=0,max=1,step=.01,value=0 ,description='I',continuous_update=False) # % of deposit that can be recovered because execution is so cheap.\n",
    "wrcj= widgets.FloatSlider(min=0,max=1,step=.1,value=0, description='rcj',continuous_update=False) # cost for RP to generate fake job response\n",
    "matchPrice = 1\n",
    "mediatorPrice = 1\n",
    "\n",
    "def RPNDU(M_n,M_PR,M_NDPR, p1,price,p=1, q=1, roi=0, I=0):\n",
    "    p2 = 1-p1\n",
    "    deposit = price * M_PR * M_n\n",
    "    \n",
    "    execCost = - (price*(1-roi) - deposit*I)\n",
    " \n",
    "    noVerifypayout = (1-p)*price #compute answer 1 (p1) correctly (q) receive reward (price)\n",
    "    \n",
    "    P1payout = p*p1*price #compute answer 1 (p1) correctly (q) receive reward (price)\n",
    "    \n",
    "    P2payout = p*p2*(1-p1**M_n)*price #compute answer 2 (p2) correctly get sent to mediation, who finds nondeterminism (1-p1^n)\n",
    "\n",
    "    notP1cost = - p*(p2)*(p1**M_n)*deposit # compute answer 2 correctly or compute incorrectly (p2+1-q)  get sent to mediation, who doesn't find nondeterminsm (p1^n) and get fined (f)\n",
    "    \n",
    "#     failComp =   p*(1)*(1-p1**M_n)*damages# compute incorrectly (1-q) get sent to mediation, finds nondeterminism (1-p1^n) and bad RP? Pay RP for ND? Not sure its bad it could be totally random.\n",
    "    \n",
    "    RCnonDet = execCost + noVerifypayout + P1payout + P2payout + notP1cost\n",
    "    return RCnonDet\n"
   ]
  },
  {
   "cell_type": "markdown",
   "metadata": {},
   "source": [
    "#### Fraudulent model\n",
    "The RP can decide to not execute the job correctly, and rather than paying the execution cost pay some lesser cost $Cj$. If RP does not compute the job it can receive $price$ if the JC does not verify, or chooses not to request mediation. "
   ]
  },
  {
   "cell_type": "code",
   "execution_count": 6,
   "metadata": {},
   "outputs": [],
   "source": [
    "# Resource Provider nondeterministic utility strategy D (decieving?), basically cheating\n",
    "def RPNDUD(M_n,M_PR,M_NDPR,p1,price,p=1,rcj=0,q=1, roi=0, I=0):\n",
    "    p2 = 1-p1\n",
    "    deposit = price * M_PR * M_n\n",
    "    \n",
    "    execCost = q*price*(1-roi)\n",
    "    \n",
    "    insurance =  deposit*I\n",
    "\n",
    "    #Cj is cost of execution for fraudulant job, picking a random number or \"close\" value\n",
    "    fraudCost = rcj\n",
    "    \n",
    "    honestJC = p*q*p1*(price-execCost) #compute answer 1 (p1) correctly (q) receive reward (price)\n",
    "    \n",
    "    NDJC_HRP_Gain = p*q*p2*(1-p1**M_n)*(price-execCost) #compute answer 2 (p2) correctly (q) get sent to mediation, who finds nondeterminism (1-p1^n) and recieve reward (r) and nonDet bonus (f2-f)*k kickback=k\n",
    "    NDJC_HRP_Lose = p*q*p2*(p1**M_n)*(-deposit-execCost) # compute answer 2 correctly (p2) get sent to mediation, who doesn't find nondeterminsm (p1^n) and get fined (f)\n",
    "    ND = NDJC_HRP_Gain + NDJC_HRP_Lose \n",
    "    \n",
    "    DRP_Gain = p*(1-q)*(1-p1**M_n)*(price-fraudCost)# compute incorrectly (1-q) get sent to mediation, finds nondeterminism (1-p1^n) get compensation.\n",
    "    DRP_Lose = p*(1-q)*(p1**M_n)*(-deposit-fraudCost) #compute incorrectly (1-q) get sent to mediation, who doesn't find nondeterminsm (p1^n) and get fined (f)\n",
    "    DRP = DRP_Gain+DRP_Lose\n",
    "    \n",
    "    DRP_scared  = p*(1-q)*(price-fraudCost) # JC doesn't want to risk getting caught, just pay RP. \n",
    "    \n",
    "    #     noVerifypayout = (1-p)*price #compute answer 1 (p1) correctly (q) receive reward (price)\n",
    "    noID_HRP = (1-p) * q * (price - execCost)\n",
    "    noID_DRP = (1-p) * (1-q) * (price - fraudCost)\n",
    "    noVerifypayout = noID_HRP + noID_DRP\n",
    "    \n",
    "    \n",
    "    RCnonDet = honestJC + ND + DRP + insurance + noVerifypayout\n",
    "    return RCnonDet\n"
   ]
  },
  {
   "cell_type": "code",
   "execution_count": null,
   "metadata": {},
   "outputs": [],
   "source": []
  },
  {
   "cell_type": "code",
   "execution_count": 7,
   "metadata": {},
   "outputs": [],
   "source": [
    "def plot(M_n,M_PR,M_NDPR,price,b,p=1,jcj=0, q=1,roi=1,Insurance=0,rcj=0):   \n",
    "    plt.figure(2,figsize=(10,5))\n",
    "    \n",
    "    plt.subplot(1,1,1)\n",
    "    plt.grid(visible=True)\n",
    "    x,step = np.linspace(0,1,51,retstep=True)\n",
    "    print(\"step size: %s\" %step)\n",
    "    yJND = list(map(lambda p1: JCNDU(M_n,M_PR,M_NDPR, p1,b,price,p=p,jcj=jcj, q=q),x))\n",
    "#     yRND = list(map(lambda p1: RPNDU(M_n,M_PR,M_NDPR, p1,price,p=p, q=q,roi=roi,I=Insurance),x))\n",
    "    yRNDD = list(map(lambda p1: RPNDUD(M_n,M_PR,M_NDPR,p1,price,p=p,rcj=rcj,q=q,roi=roi,I=Insurance),x))\n",
    "    plt.plot(x,yJND, label=\"JUND\")\n",
    "#     plt.plot(x,yRND, label=\"RUND\")\n",
    "    plt.plot(x,yRNDD, label=\"RUNDD\")\n",
    "    plt.xlabel('P(a1)')\n",
    "    plt.ylabel('Util') \n",
    "    \n",
    "    plt.legend()\n",
    "    plt.show\n",
    "    \n",
    "    print(\"n: %s\" %M_n)\n",
    "    print(\"Price: %s\" %price)\n",
    "    deposit = price * M_PR * M_n\n",
    "    print(\"deposit: %s\" %deposit)\n",
    "    damages = price + RPgasPrice\n",
    "    \n",
    "    maxJND = max(yJND)\n",
    "    p1Max = x[yJND.index(maxJND)]\n",
    "    p2 = 1 - p1Max\n",
    "    print(\"P(a1) for JCmax/RPmin util: %s\" %p1Max)\n",
    "    print(\"\")\n",
    "    \n",
    "    print(\"Resource Provider\")\n",
    "    execCost = price*(1-roi)\n",
    "    requstedPrice = execCost + deposit*Insurance   \n",
    "    print(\"requstedPrice: %s\" %requstedPrice)   \n",
    "    print(\"price > requstedPrice, Matchable? : %s\" %(price>requstedPrice))\n",
    "    \n",
    "    print(\"\")\n",
    "    P1payout = p*p1Max*price\n",
    "    P2payout = p*p2*(1-p1Max**M_n)*damages\n",
    "    TPayout = P1payout+P2payout\n",
    "    RPcost = price*(1-roi) \n",
    "    NDI = deposit*Insurance\n",
    "    NDloss = p*(p2)*(p1Max**M_n)*deposit\n",
    "    Tcost = RPcost + NDloss - NDI\n",
    "    I = p*(p2)*(p1Max**M_n)\n",
    "    print(\"P1payout: %s\" %P1payout)\n",
    "    print(\"P2payout: %s\" %P2payout)\n",
    "    print(\"Total Payout: %s\" %TPayout)\n",
    "    print(\"\")\n",
    "    print(\"RPcost: -%s\" %RPcost)\n",
    "    print(\"RP NDloss: -%s\" %NDloss)\n",
    "    print(\"RP ND insurance: %s\" %NDI)\n",
    "    print(\"RP total expense: %s\" %(-Tcost))\n",
    "    print(\"min RP utility = %s\" %(TPayout-Tcost))\n",
    "    print(\"\")\n",
    "    print(\"min ROI for positive income: %s\" %((price+NDloss-P1payout-P2payout)/price))\n",
    "    print(\"Min insurance to cover ND losses: %s\" %I)\n",
    "#     print(\"RP is losing: %s\" %(min(yRND)<0))\n",
    "    \n",
    "    \n",
    "    print(\"\")\n",
    "    print(\"\")\n",
    "    \n",
    "    \n",
    "    print(\"max ND JC utility: %s\" %maxJND)    \n",
    "   "
   ]
  },
  {
   "cell_type": "code",
   "execution_count": 8,
   "metadata": {},
   "outputs": [
    {
     "data": {
      "application/vnd.jupyter.widget-view+json": {
       "model_id": "2514e70eb3ea4fb2a83db51669fbdede",
       "version_major": 2,
       "version_minor": 0
      },
      "text/plain": [
       "Output()"
      ]
     },
     "metadata": {},
     "output_type": "display_data"
    },
    {
     "data": {
      "application/vnd.jupyter.widget-view+json": {
       "model_id": "43c5ac6681574c6a97798791a4ebbeb8",
       "version_major": 2,
       "version_minor": 0
      },
      "text/plain": [
       "HBox(children=(IntSlider(value=1, continuous_update=False, max=10), FloatSlider(value=1.0, continuous_update=F…"
      ]
     },
     "metadata": {},
     "output_type": "display_data"
    },
    {
     "data": {
      "application/vnd.jupyter.widget-view+json": {
       "model_id": "c198e264cdb847a997a3f28aa008d29b",
       "version_major": 2,
       "version_minor": 0
      },
      "text/plain": [
       "HBox(children=(IntSlider(value=1, continuous_update=False, max=10000), IntSlider(value=1, continuous_update=Fa…"
      ]
     },
     "metadata": {},
     "output_type": "display_data"
    },
    {
     "data": {
      "application/vnd.jupyter.widget-view+json": {
       "model_id": "65a6d1c6fe014c5f8660607ddb3efc5d",
       "version_major": 2,
       "version_minor": 0
      },
      "text/plain": [
       "HBox(children=(FloatSlider(value=0.0, continuous_update=False, description='rcj', max=1.0), FloatSlider(value=…"
      ]
     },
     "metadata": {},
     "output_type": "display_data"
    }
   ],
   "source": [
    "# ui = widgets.HBox([wn,wPR,wNDPR,wPrice,wp,wcj,wq,wroi,winsurance])\n",
    "ui1 = widgets.HBox([wn,wPR,wNDPR])\n",
    "ui2 = widgets.HBox([wBenefit,wPrice,wp,wjcj])\n",
    "ui3 = widgets.HBox([wrcj,wq,wroi,winsurance])\n",
    "# interactive_plot = widgets.interactive(plot, M_n=wn,M_PR=wPR,M_NDPR=wNDPR,price=wPrice,p=wp,cj=wcj, q=wq,roi=wroi,Insurance=winsurance);\n",
    "interactive_plot = widgets.interactive_output(plot,{'M_n':wn,'M_PR':wPR,'M_NDPR':wNDPR,'price':wPrice,'b':wBenefit,'p':wp,'jcj':wjcj, 'q':wq,'roi':wroi,'Insurance':winsurance,'rcj':wrcj });\n",
    "# output = interactive_plot.children[-1]\n",
    "# output.layout.height = '900px'\n",
    "display(interactive_plot,ui1,ui2,ui3)"
   ]
  },
  {
   "cell_type": "code",
   "execution_count": null,
   "metadata": {},
   "outputs": [],
   "source": []
  },
  {
   "cell_type": "markdown",
   "metadata": {},
   "source": [
    "# Benefit Analysis\n",
    "\n",
    "This section analyzes when the JC is sending real jobs that provide it value when they are successfully completed. The JC is attempting to increase its utility by adding a non-deterministic piece to the jobs in an effort to have some jobs completed for free by accusing the RP of failing to execute them correctly. This could be done by changing the input so that some parts of the code are normally dorment and only activated when a certain data input is provided."
   ]
  },
  {
   "cell_type": "markdown",
   "metadata": {},
   "source": [
    "### Protocol Following model\n",
    "If the JC follows the protocol its utility is the benefit, or value, it receives from the Job execution minus the amount it pays to the RP. This is assuming that the RP is playing by the rules of the game, otherwise the JC could have better utility since **price** will be refunded and **benefit** will still be recieved since the mediator will return the result. \n",
    "\n",
    "This model is further simplified by the assumption that a Job can be checked for free, and that the JC can check the result of every job. This is a reasonable simplification since there are jobs whose verification cost is much less than the cost of execution, and we are interested in identifying the worst case scenario we need to protect against. "
   ]
  },
  {
   "cell_type": "code",
   "execution_count": 9,
   "metadata": {},
   "outputs": [],
   "source": [
    "def protocolU(benefit, price):\n",
    "    return benefit - price"
   ]
  },
  {
   "cell_type": "markdown",
   "metadata": {},
   "source": [
    "### Non-Deterministic Model\n",
    "The key element of this model is the amount of utility the JC can get for **free** from the system. \n",
    "The free utility is the probability that the RP got result 2 multiplied by the probability that the mediator got result 1 $n$ times multiplied by the job benefit, minus the probability that the RP got result 2 multiplied by the probability that the mediator did not get result 1 for any of $n$ executions multiplied by the deposit, whose value is determined by the price set by the JC multiplied by the non-deterministic penalty rate set by the Mediator. \n",
    "\n",
    "This model is the best the JC can hope for. The RP could fail to complete jobs, in which case the JC loses the benefit, and either pays $price$ or ND deposit."
   ]
  },
  {
   "cell_type": "code",
   "execution_count": 10,
   "metadata": {},
   "outputs": [],
   "source": [
    "def NDU(M_n,M_NDPR, p1,price,benefit):\n",
    "    p2 = 1-p1\n",
    "    NDdeposit = price * M_NDPR\n",
    "    paid = p1*(benefit-price)\n",
    "#     free = p2*((p1**M_n)*benefit - (1-p1**M_n)*NDdeposit)\n",
    "    free = p2*((p1**M_n)*(benefit+price) - (1-p1**M_n)*NDdeposit)\n",
    "    total = paid + free\n",
    "    return total\n",
    "    "
   ]
  },
  {
   "cell_type": "markdown",
   "metadata": {},
   "source": [
    "### Evaluation"
   ]
  },
  {
   "cell_type": "code",
   "execution_count": 11,
   "metadata": {},
   "outputs": [],
   "source": [
    "def plot2(M_n,M_NDPR, price,benefit):\n",
    "    x,step = np.linspace(0,1,51,retstep=True)\n",
    "    yPU = list(map(lambda p1: protocolU(benefit,price),x))\n",
    "    yNDU = list(map(lambda p1: NDU(M_n,M_NDPR, p1,price,benefit),x))\n",
    "    \n",
    "    \n",
    "    plt.figure(3,figsize=(10,5))    \n",
    "    plt.subplot(1,1,1)\n",
    "    plt.grid(visible=True)\n",
    "    plt.plot(x,yPU, label=\"PU\")\n",
    "    plt.plot(x,yNDU, label=\"NDU\")\n",
    "    plt.xlabel('P(a1)')\n",
    "    plt.ylabel('Util') \n",
    "    \n",
    "    plt.legend()\n",
    "    plt.show\n",
    "    \n",
    "    print(\"Protocol util: %s\" %yPU[0])\n",
    "    print(\"max ND util: %s\" %max(yNDU))\n",
    "    print(\"ND improvement over Protocol: %s\" %(max(yNDU)-yPU[0]))    \n",
    "    print(\"%% improvement : %s %%\" %(100*abs((max(yNDU)-yPU[0])/yPU[0])))\n",
    "    print(\"optimal P(p1): %s\" %x[yNDU.index(max(yNDU))])\n",
    "    \n",
    "    "
   ]
  },
  {
   "cell_type": "code",
   "execution_count": 12,
   "metadata": {},
   "outputs": [
    {
     "data": {
      "application/vnd.jupyter.widget-view+json": {
       "model_id": "7cddd140b1f147759b9b3ee23ed7dd28",
       "version_major": 2,
       "version_minor": 0
      },
      "text/plain": [
       "interactive(children=(IntSlider(value=1, continuous_update=False, description='M_n', max=10), FloatSlider(valu…"
      ]
     },
     "metadata": {},
     "output_type": "display_data"
    }
   ],
   "source": [
    "interactive_plot2 = widgets.interactive(plot2, M_n=wn,M_NDPR=wNDPR, price=wPrice,benefit=wBenefit);\n",
    "output = interactive_plot2.children[-1]\n",
    "output.layout.height = '600px'\n",
    "interactive_plot2\n",
    "\n",
    "#M_n = 4\n",
    "#NDPR = 24? if price is included in free job."
   ]
  },
  {
   "cell_type": "markdown",
   "metadata": {},
   "source": [
    "### Simple Inequality for PU<NDU\n",
    "\n",
    "\n",
    "**Define Terms**\n",
    "\n",
    "$NDU = paid + free$\n",
    "                                 \n",
    "$NDU = p1*(benefit-price) + p2*((p1^{M_n})*(benefit+price) - (1-p1^{M_n})*NDdeposit) $\n",
    "                                 \n",
    "$NDU = p1*(benefit-price) + p2*((p1^{M_n})*(benefit+price) - (1-p1^{M_n})*(price * M_{NDPR})) $\n",
    "\n",
    "\n",
    "\n",
    "$PU = benefit - price $\n",
    "\n",
    "**Set Inequality**\n",
    "\n",
    "$PU > NDU$\n",
    "\n",
    "$ benefit - price > p1*(benefit-price) + p2*((p1^{M_n})*(benefit+price) - (1-p1^{M_n})*(price * M_{NDPR}))$\n",
    "\n",
    "$ benefit + (1-p1^{M_n})*(price * M_{NDPR})) - p1*(benefit-price) - p2*((p1^{M_n})*(benefit+price) - price > 0$\n",
    "\n",
    "When the above inequality holds, then it is economically disadvantageous to pursue a nondeterministic strategy (NDU)."
   ]
  },
  {
   "cell_type": "markdown",
   "metadata": {},
   "source": [
    "### Bounding the problem\n",
    "$free = (1-P)P^nb - (1-P)(1-P^n)Rc$\n",
    "\n",
    "**Derivative**\n",
    "\n",
    "$\\frac{d}{dP}(free) = \\frac{d}{dP} (1-P)P^nb - (1-P)(1-P^n)Rc$\n",
    "\n",
    "$0 = \\frac{d}{dP} (P^nb - P^{n+1} - Rc + P^nRc + PRc - P^{n+1}Rc$)\n",
    "\n",
    "$0 = nP^{n-1}b - (n+1)P^{n}b - 0 + nP^{n-1}Rc + Rc - (n+1)P^{n}Rc$\n",
    "\n",
    "**Collect Terms**\n",
    "\n",
    "$ nP^{n-1}b + nP^{n-1}Rc + Rc =  (n+1)P^{n}b + (n+1)P^{n}Rc$\n",
    "\n",
    "$ nP^{n-1}(b+Rc) + Rc =  (n+1)P^{n}(b+Rc)$\n",
    "\n",
    "$ nP^{n-1} + \\frac{Rc}{b+Rc} =  (n+1)P^{n}$\n",
    "\n",
    "\n",
    "$\\frac{Rc}{b+Rc} + nP^{n-1} - (n+1)P^n = 0 $\n",
    "\n",
    "**Let penalty rate R=0**\n",
    "\n",
    "benefit and cost become irrelevant and we are left with:\n",
    "\n",
    "$nP^{n-1}  = (n+1)P^n $\n",
    "\n",
    "**Simplify**\n",
    "\n",
    "$\\frac{n}{n+1} = P$\n",
    "\n",
    "So the maximum the JC can make with no penalty rate will be when $P = \\frac{n}{n+1}$\n",
    "\n",
    "$P$ is the liklihood of getting answer 1 and $n$ is the number of times the mediator verifies, so we can force the JC to cheat less and limit its additional utility. \n",
    "\n",
    "For example if $n=4$ then $P=.8$, so for optimal gains JC will make it so that a1 appears 80% of the time, anything else would give it less reward, so if we assume the worst case and handle it, anything less severe will be handled as well. \n",
    "\n",
    "**If R is not 0**\n",
    "\n",
    "any change to $b$ or $c$ will never make lower probability of a1 more optimal. \n",
    "\n",
    "**For $b<c$ and R=1**\n",
    "\n",
    "The normal protocol loses, but the ND protocol loses somewhat less until $b=.9c$ approximately, as which point ND can win slightly. \n",
    "\n",
    "It can win .694% utility units when $b=90$ and $c=100$.\n",
    "\n",
    "**For $b=c$ and R=1**\n",
    "\n",
    "Optimal is when probability of a1 is 90%. \n",
    "Normal protocal loses, and ND protocol wins 9.683% of benfit(or price since they are equal) as utility. \n",
    "\n",
    "**For $b>c$ and R=1**\n",
    "\n",
    "As $b$ grows the advantage over the protocol decreases compared to $b=c$\n",
    "\n",
    "When $b=4.87c$ the added benefit is less than 1%. \n",
    "\n",
    "**Things get worse for JC if R increases.**\n",
    "The worst case for the system is $b=c$ as the JC can get the most advantage. This can be mitigated by assuming JC is cheating and taking a 9.683% tax on the price it includes, or increasing R to, apparently, 24, after which point ND can't win and is only better than protocol if $b=.762c$ or less (meaning its losing badly since it needed 90% to win in the first place).\n",
    "\n",
    "\n"
   ]
  },
  {
   "cell_type": "markdown",
   "metadata": {},
   "source": [
    "# Deterministic Mixed Strategy\n",
    "\n",
    "\n",
    "The deterministic mixed strategy will be defined by a variable q. q is the probability of the RP to cheat the job, and submit an unrelated junk answer to avoid computing the job.\n",
    "\n",
    "\n",
    "**Variable**\n",
    "\n",
    "JC Variables\n",
    "\n",
    "$p$: probability JC verifies job after recieving solution\n",
    "\n",
    "$r$: reward JC pays RP for computing job successfully\n",
    "\n",
    "$b$: benefit gained from job\n",
    "\n",
    "$c$: cost to compute job\n",
    "\n",
    "$cv$: cost to verify job\n",
    "\n",
    "\n",
    "RP Variables\n",
    "\n",
    "$q$: probability to cheat\n",
    "\n",
    "$cd$: cost of deceit. The cost to provide a fake resonse to a job. \n",
    "\n",
    "\n",
    "Platform variables\n",
    "\n",
    "$m$: cost to mediate\n",
    "\n",
    "$f$: penality for cheating\n",
    "\n",
    "\n",
    "**Inequality**\n",
    "\n",
    "`RPmixed = qp(r-c) + q(1-p)*(r-c) + (1-q)*(1-p)*(r-cd) -(1-q)*p*(f+m+cd)`\n",
    "\n",
    "**Simplify**\n",
    "\n",
    "`RPmixed = Q*(r-c) + (1-Q)*(-cd +(1-p)*r -p*(f+m) )`\n",
    "\n",
    "`JCmixed = pq*(b-r-cv) + (1-p)*(q)(b-r) + p(1-q)(f-cv) + (1-p)(1-q)(-r)`\n",
    "\n",
    "**Simplify**\n",
    "\n",
    "`JCmixed = q(p(b-r-cv) + (1-p)(b-r)) + (1-q)(p(f-cv) + (1-p)(-r))`\n",
    "\n",
    "`JCmixed = q(pb-pr-pcv + b-r -pb +pr) + (1-q)(p(f-cv) + (1-p)(-r))`\n",
    "\n",
    "`JCmixed = q(-pcv + b -r) + (1-q)(p(f-cv) + (1-p)(-r))`\n",
    "\n",
    "`JCmixed = q(b - r - p(cv)) + (1-q)(p(f-cv) + (1-p)(-r))`\n",
    "\n",
    "`JCmixed = q(b - r - p(cv)) + (1-q)(p(r+f-cv) -r)`\n",
    "\n",
    "\n",
    "RP decides to cheat when:\n",
    "\n",
    "$r-c > ((1-p*pj) * r - p*pj*(f+m) -cd)  $\n",
    "\n",
    " $ r-c -(1-p*pj) * r +  p*pj*(f+m) +cd  > 0$  \n",
    " \n",
    " $ -(1-p*pj) * r +  p*pj*(f+m)  > -cd -r + c$\n",
    " \n",
    "$  cd + p( f + m + r ) > c$\n",
    "\n",
    "$p >\\frac{c - cd}{f + m + r}$\n",
    "\n",
    "If the above inequality holds, then RP will be economically incentivized to always complete the job.\n"
   ]
  },
  {
   "cell_type": "code",
   "execution_count": 13,
   "metadata": {},
   "outputs": [],
   "source": [
    "# Plotting Deterministic Mixed Strategy\n",
    "\n",
    "def JCmixed(b,r,p,cj,f, c,cd,m,q):\n",
    "    q=getQ(c,cd,f,m,r,p)\n",
    "    noCheat = q*(b-r - p*cj)  \n",
    "    cheat = (1-q)*(p*(f-cj) + (1-p)*(-r))\n",
    "    total=noCheat+cheat\n",
    "    return total\n",
    "\n",
    "def RPmixed(r,p,f,c, m, cd,q):\n",
    "    q=getQ(c,cd,f,m,r,p)\n",
    "    noCheat = q*(r -c) \n",
    "    cheat = (1-q)*((1-p) * r - p*(f+m) -cd)  \n",
    "    total= cheat + noCheat\n",
    "    return total\n",
    "\n",
    "def qValue(c,cd,f,m,r):\n",
    "    return (c-cd)/(f+m+r)\n",
    "\n",
    "\n",
    "def getQ(c,cd,f,m,r,p):\n",
    "    qPoint = (c-cd)/(f+m+r)\n",
    "    if (p>qPoint):\n",
    "        return(1)\n",
    "    else:\n",
    "        return(0)\n",
    "    \n",
    "    return(-1)\n",
    "\n",
    "\n",
    "#Plot\n",
    "def plot3( price,benefit, computation, fine, cj, cd, m):\n",
    "\n",
    " \n",
    "    r = price#1.7\n",
    "    f = fine#price*2\n",
    "    b = benefit#2\n",
    "    c = computation#1\n",
    "    cj = cj#c\n",
    "    cd = cd#0\n",
    "    m=m#c*10\n",
    "    q=1\n",
    "    \n",
    "# r = 1.7 => price\n",
    "\n",
    "# f = price*2 => price * PR = deposit\n",
    "\n",
    "# b = 2 => benefit\n",
    "\n",
    "# c = 1 => $execCost = price \\times (1-roi)$\n",
    "\n",
    "# cv = c => $cv$\n",
    "\n",
    "# cd = 0 => \n",
    "\n",
    "# cm=c*10 => JCdeposit-price\n",
    "\n",
    "# q=1\n",
    "    \n",
    "    print(\"Q Change Point = \\t\",(c-cd)/(f+m+r))\n",
    "\n",
    "\n",
    "    x,step = np.linspace(0,1,101,retstep=True)\n",
    "    \n",
    "    \n",
    "    q = qValue(c,cd,f,m,r)\n",
    "    \n",
    "    yPU  = list(map(lambda p: JCmixed(benefit,price,p,cj,f, c,cd,m,q),x))\n",
    "    yDU  = list(map(lambda p: RPmixed(price,p,f,c, m, cd,q),x))\n",
    "    yNDU = list(map(lambda p: JCNDU(m,M_PR=2,M_NDPR=2, p1=1,benefit=benefit,price=price,p=p,jcj=cj, q=q),x))\n",
    "    \n",
    "    Qval = list(map(lambda p: getQ(c,cd,f,m,r,p),x))\n",
    "    \n",
    "    plt.figure(3,figsize=(10,5))    \n",
    "    plt.subplot(1,1,1)\n",
    "    plt.grid(visible=True)\n",
    "    plt.plot(x,yNDU, label=\"JCND\")\n",
    "    plt.plot(x,yPU, label=\"JC\")\n",
    "    plt.plot(x,yDU, label=\"RP\")\n",
    "    plt.plot(x,Qval,label=\"Qval\")\n",
    "    plt.xlabel('P (Probability of Verification)')\n",
    "    plt.ylabel('Util') \n",
    "    \n",
    "    plt.legend()\n",
    "    plt.show"
   ]
  },
  {
   "cell_type": "code",
   "execution_count": 14,
   "metadata": {},
   "outputs": [
    {
     "data": {
      "application/vnd.jupyter.widget-view+json": {
       "model_id": "e3cc35a5967d4399b86a01a190aba62e",
       "version_major": 2,
       "version_minor": 0
      },
      "text/plain": [
       "interactive(children=(IntSlider(value=1, continuous_update=False, description='price', max=10000), IntSlider(v…"
      ]
     },
     "metadata": {},
     "output_type": "display_data"
    }
   ],
   "source": [
    "#price,benefit, computation, fine, cj, cd, m):\n",
    "wComputation=widgets.IntSlider(min=0,max=100,step=0.01,value=4, continuous_update=False)\n",
    "wFine=widgets.IntSlider(min=0,max=100000,step=0.01,value=60, continuous_update=False)\n",
    "wcj=widgets.IntSlider(min=0,max=1000,step=0.01,value=4, continuous_update=False)\n",
    "wcd=widgets.IntSlider(min=0,max=100,step=0.01,value=0, continuous_update=False)\n",
    "wm=widgets.IntSlider(min=0,max=1000000,step=0.01,value=20, continuous_update=False)\n",
    "\n",
    "\n",
    "interactive_plot3 = widgets.interactive(plot3,price=wPrice,benefit=wBenefit, computation=wComputation, fine=wFine, cj=wcj, cd=wcd, m=wm);\n",
    "output = interactive_plot3.children[-1]\n",
    "output.layout.height = '600px'\n",
    "interactive_plot3"
   ]
  },
  {
   "cell_type": "code",
   "execution_count": 28,
   "metadata": {},
   "outputs": [],
   "source": [
    "def plotRP(M_n,M_PR,M_NDPR,p1,price,b,p=1,jcj=0,roi=1,Insurance=0,rcj=0):   \n",
    "    plt.figure(2,figsize=(10,5))\n",
    "    \n",
    "    plt.subplot(1,1,1)\n",
    "    plt.grid(visible=True)\n",
    "    print(\"Comparison of RPNDD with varying Q\")\n",
    "    x,step = np.linspace(0,1,51,retstep=True)\n",
    "    print(\"step size: %s\" %step)\n",
    "    yRNDD = list(map(lambda q: RPNDUD(M_n,M_PR,M_NDPR,p1,price,p=p,rcj=rcj,q=q,roi=roi,I=Insurance),x))\n",
    "   \n",
    "    plt.plot(x,yRNDD, label=\"RPNDUD Varying Q\")\n",
    "    plt.xlabel('Q')\n",
    "    plt.ylabel('Util') \n",
    "    qinflection = QInflection(M_n,M_PR,p1,price,p,rcj,roi)\n",
    "    \n",
    "    print(\"Q:\\t\"+str(qinflection))\n",
    "\n",
    "    plt.legend()\n",
    "    plt.show"
   ]
  },
  {
   "cell_type": "code",
   "execution_count": 29,
   "metadata": {},
   "outputs": [
    {
     "data": {
      "application/vnd.jupyter.widget-view+json": {
       "model_id": "ff6fcef148594f05b060c4e9111f023a",
       "version_major": 2,
       "version_minor": 0
      },
      "text/plain": [
       "interactive(children=(IntSlider(value=4, continuous_update=False, description='M_n repetitions', step=0), IntS…"
      ]
     },
     "metadata": {},
     "output_type": "display_data"
    }
   ],
   "source": [
    "#price,benefit, computation, fine, cj, cd, m):\n",
    "wM_n=widgets.IntSlider(min=0,max=100,step=0.01,value=4, description='M_n repetitions', continuous_update=False)\n",
    "wM_PR=widgets.IntSlider(min=0,max=100,step=0.01,value=4, continuous_update=False)\n",
    "wM_NDPR=widgets.IntSlider(min=0,max=100,step=0.01,value=4, continuous_update=False)\n",
    "\n",
    "wM_NDRPR=widgets.IntSlider(min=0,max=100,step=0.01,value=4, continuous_update=False)\n",
    "wPrice=widgets.IntSlider(min=0,max=100,step=0.01,value=4, continuous_update=False)\n",
    "wBenefit=widgets.IntSlider(min=0,max=100,step=1,value=4, continuous_update=False)\n",
    "wp=widgets.FloatSlider(min=0,max=1,step=0.01,value=0.5, continuous_update=False)\n",
    "wjcj=widgets.IntSlider(min=0,max=100,step=1,value=2, continuous_update=False)\n",
    "wroi=widgets.FloatSlider(min=0,max=1,step=0.01,value=0.5, continuous_update=False)\n",
    "wInsurance=widgets.IntSlider(min=0,max=100,step=1,value=4, continuous_update=False)\n",
    "wrcj=widgets.IntSlider(min=0,max=100,step=1,value=4, continuous_update=False)\n",
    "wp1=widgets.FloatSlider(min=0,max=1,step=0.01,value=0.1, continuous_update=False)\n",
    "\n",
    "\n",
    "\n",
    "#wq = widgets.FloatSlider(min=0,max=1,step=.1,value=1,description='P(run)', continuous_update=False) # probability that RP runs correctly\n",
    "\n",
    "\n",
    "\n",
    "interactive_plotRP = widgets.interactive(plotRP,M_n=wM_n,M_PR=wM_PR, M_NDPR=wM_NDPR, p1=wp1, price=wPrice, b=wBenefit, p=wp, jcj=wjcj,roi=wroi, Insurance=wInsurance, rcj=wrcj)\n",
    "output = interactive_plotRP.children[-1]\n",
    "output.layout.height = '400px'\n",
    "interactive_plotRP"
   ]
  },
  {
   "cell_type": "code",
   "execution_count": 17,
   "metadata": {},
   "outputs": [],
   "source": [
    "def QInflection(M_n,M_PR,p1,price,p,rcj,roi):\n",
    "    \n",
    "    deposit =   price * M_PR * M_n\n",
    "    p2=1-p1\n",
    "    \n",
    "    \n",
    "    qInflectionTop = -price*p*p1\n",
    "    qInflectionTop += price*(p-1)\n",
    "    qInflectionTop += price*p*p2*(p1**M_n - 1)\n",
    "    qInflectionTop += p *p2*(p1**M_n) *deposit\n",
    "    qInflectionTop -= p*(p1**M_n -1) *(price-rcj)\n",
    "    qInflectionTop -= p*(p1**M_n) *(rcj+deposit)\n",
    "    qInflectionTop -= (p-1)*(price-rcj)\n",
    "    \n",
    "    qInflectionBottom= price*p*p1*(2*roi-2)\n",
    "    \n",
    "  \n",
    "    qInflectionBottom = -price*(p-1)*2*(roi-1)\n",
    "    qInflectionBottom -= price*p*p2*(p1**M_n - 1)*2*(roi-1)\n",
    "    qInflectionBottom -= p *p2*(p1**M_n) *2*price*(roi-1)\n",
    " \n",
    "    qInflectionFinal=qInflectionTop/qInflectionBottom\n",
    "\n",
    "  \n",
    "    return qInflectionFinal"
   ]
  },
  {
   "cell_type": "code",
   "execution_count": 31,
   "metadata": {},
   "outputs": [],
   "source": [
    "def RPQFinder(M_n,M_PR,p1,price,p,rcj,roi):\n",
    "    p2=1-p1\n",
    "    if p==0: #\n",
    "        if (rcj  >price*(1-roi) ):\n",
    "            return 1\n",
    "        elif (rcj  < price*(1-roi) ):\n",
    "            return 0\n",
    "        \n",
    "    #val finds if Q0 or Q1 is higher\n",
    "    val = p1*(price*(1-(1-roi)))  + (p1**M_n) * ( price * M_PR * M_n*(1-p2) - p2*price*(1-roi)  + rcj ) + (1-p1**M_n)*( price*( (p2-1) - p2*(1-roi))  + rcj )  + (1-p) * (rcj - price*(1-roi) ) / p\n",
    "    #val = p*p1*(price(1-(1-roi))) + p*(p1**M_n) * ( price * M_PR * M_n*(1-p2) - p2*price*(1-roi)  + rcj )+ p*(1-p1**M_n)*( price*( (p2-1) - p2*(1-roi))  + rcj ) + (1-p) * (rcj - price*(1-roi))\n",
    "\n",
    "    qInflection = QInflection(M_n,M_PR,p1,price,p,rcj,roi)\n",
    "    if (qInflection>0 and qInflection<1):\n",
    "        return qInflection\n",
    "\n",
    "    if val>=0:\n",
    "        Q=1\n",
    "    elif val<0:\n",
    "        Q=0\n",
    "   \n",
    "   \n",
    "    \n",
    "    return Q\n",
    "    \n",
    "   "
   ]
  },
  {
   "cell_type": "raw",
   "metadata": {},
   "source": [
    "def RPNDoptimal(M_n,M_PR,M_NDPR,p1,price,p,rcj,roi,I):\n",
    "    qnew = RPQFinder(M_n,M_PR,p1,price,p,rcj,roi)\n",
    "    RPutil = RPNDUD(M_n,M_PR,M_NDPR,p1,price,p,rcj,qnew, roi, I)\n",
    "    return(RPutil)"
   ]
  },
  {
   "cell_type": "code",
   "execution_count": 34,
   "metadata": {},
   "outputs": [],
   "source": [
    "def plotnonDetFINAL(M_n,M_PR,M_NDPR,price,b, qTarget,p=1,jcj=0, q=1,roi=1,Insurance=0,rcj=0):   \n",
    "    plt.figure(2,figsize=(10,5))\n",
    "    \n",
    "    plt.subplot(1,1,1)\n",
    "    plt.grid(visible=True)\n",
    "    x,step = np.linspace(0,1,51,retstep=True)\n",
    "    print(\"step size: %s\" %step)\n",
    "    yJND = list(map(lambda p1: JCNDU(M_n,M_PR,M_NDPR, p1,b,price,p=p,jcj=jcj, q=q),x))\n",
    "    #yRND = list(map(lambda p1: RPNDU(M_n,M_PR,M_NDPR, p1,price,p=p, q=q,roi=roi,I=Insurance),x))\n",
    "    yRNDD = list(map(lambda p1: RPNDUD(M_n,M_PR,M_NDPR,p1,price,p=p,rcj=rcj,q=q,roi=roi,I=Insurance),x))\n",
    "    yRNDD0 = list(map(lambda p1: RPNDUD(M_n,M_PR,M_NDPR,p1,price,p=p,rcj=rcj,q=0,roi=roi,I=Insurance),x))\n",
    "    yRNDD1 = list(map(lambda p1: RPNDUD(M_n,M_PR,M_NDPR,p1,price,p=p,rcj=rcj,q=1,roi=roi,I=Insurance),x))\n",
    "    \n",
    "    yRNDoptimal =list(map(lambda p1: RPNDoptimal(M_n,M_PR,M_NDPR,p1,price,p=p,rcj=rcj,roi=roi,I=Insurance),x))\n",
    "    \n",
    "    #                        RPQFinder(M_n, M_PR, p1, price, p,   rcj,     roi):\n",
    "    yQ = list(map(lambda p1: RPQFinder(M_n, M_PR, p1, price, p=p, rcj=rcj, roi=roi), x))\n",
    "    \n",
    "    #plt.plot(x,yJND, label=\"JUND\")\n",
    "    #plt.plot(x,yRND, label=\"RUND\")\n",
    "    plt.plot(x,yRNDD, label=\"RUNDD\")\n",
    "    \n",
    "    plt.plot(x,yQ, label=\"Q Cheat Amount\")\n",
    "    plt.plot(x,yRNDD0, label=\"RUNDD, Q=0 CHEATING\")\n",
    "    plt.plot(x,yRNDD1, label=\"RUNDD, Q=1 FAIR\")\n",
    "    plt.plot(x,yRNDoptimal, label=\"RUNDoptimal\")\n",
    "    \n",
    "    plt.xlabel('P(a1)')\n",
    "    plt.ylabel('Util') \n",
    "    \n",
    "    plt.legend()\n",
    "    plt.show\n",
    "    \n",
    "    print(\"n: %s\" %M_n)\n",
    "    print(\"Price: %s\" %price)\n",
    "    deposit = price * M_PR * M_n\n",
    "    print(\"deposit: %s\" %deposit)\n",
    "    damages = price + RPgasPrice\n",
    "    \n",
    "    maxJND = max(yJND)\n",
    "    p1Max = x[yJND.index(maxJND)]\n",
    "    p2 = 1 - p1Max\n",
    "    print(\"P(a1) for JCmax/RPmin util: %s\" %p1Max)\n",
    "    print(\"\")\n",
    "    \n",
    "    print(\"Resource Provider\")\n",
    "    execCost = price*(1-roi)\n",
    "    requstedPrice = execCost + deposit*Insurance   \n",
    "    print(\"requstedPrice: %s\" %requstedPrice)   \n",
    "    print(\"price > requstedPrice, Matchable? : %s\" %(price>requstedPrice))\n",
    "    \n",
    "    print(\"\")\n",
    "    P1payout = p*p1Max*price\n",
    "    P2payout = p*p2*(1-p1Max**M_n)*damages\n",
    "    TPayout = P1payout+P2payout\n",
    "    RPcost = price*(1-roi) \n",
    "    NDI = deposit*Insurance\n",
    "    NDloss = p*(p2)*(p1Max**M_n)*deposit\n",
    "    Tcost = RPcost + NDloss - NDI\n",
    "    I = p*(p2)*(p1Max**M_n)\n",
    "    \n",
    "    p1=qTarget\n",
    "    p2=1-p1 #1-p1\n",
    "    \n",
    "    Qpoint =  - (rcj - price*(1-roi)) / ( p1*(price*(1-(1-roi)))  + (p1**M_n) * ( price * M_PR * M_n*(1-p2) - p2*price*(1-roi)  + rcj ) + (1-p1**M_n)*( price * ( (p2-1) - p2*(1-roi))  + rcj ) )\n",
    "    Qpoint = Qpoint/(1+Qpoint)\n",
    "    \n",
    "    optimalQ = RPQFinder(M_n,M_PR,p1,price,p,rcj,roi)\n",
    "\n",
    "    print(\"Q INFLECTION POINT: (P1 = \"+str(qTarget)+\"):\\t necessary P = \"+str(Qpoint))\n",
    "    \n",
    "   \n",
    "    print(\"Optimal Q: (P1 = \"+str(qTarget)+\"):\\t  Qoptimal = \"+str(optimalQ))\n",
    "    \n",
    "    \n",
    "#     print(\"P1payout: %s\" %P1payout)\n",
    "#     print(\"P2payout: %s\" %P2payout)\n",
    "#     print(\"Total Payout: %s\" %TPayout)\n",
    "#     print(\"\")\n",
    "#     print(\"RPcost: -%s\" %RPcost)\n",
    "#     print(\"RP NDloss: -%s\" %NDloss)\n",
    "#     print(\"RP ND insurance: %s\" %NDI)\n",
    "#     print(\"RP total expense: %s\" %(-Tcost))\n",
    "#     print(\"min RP utility = %s\" %(TPayout-Tcost))\n",
    "#     print(\"\")\n",
    "#     print(\"min ROI for positive income: %s\" %((price+NDloss-P1payout-P2payout)/price))\n",
    "#     print(\"Min insurance to cover ND losses: %s\" %I)\n",
    "#     print(\"RP is losing: %s\" %(min(yRND)<0))\n",
    "    \n",
    "    \n",
    "#     print(\"\")\n",
    "#     print(\"\")\n",
    "    \n",
    "    \n",
    "    print(\"max ND JC utility: %s\" %maxJND)    \n",
    "   "
   ]
  },
  {
   "cell_type": "code",
   "execution_count": 35,
   "metadata": {
    "scrolled": true
   },
   "outputs": [
    {
     "data": {
      "application/vnd.jupyter.widget-view+json": {
       "model_id": "46a555c1f9f44052a9dd04e9f6faf34e",
       "version_major": 2,
       "version_minor": 0
      },
      "text/plain": [
       "Output(layout=Layout(height='500'))"
      ]
     },
     "metadata": {},
     "output_type": "display_data"
    },
    {
     "data": {
      "application/vnd.jupyter.widget-view+json": {
       "model_id": "c4492bde50294d69bf3de4ac67037da5",
       "version_major": 2,
       "version_minor": 0
      },
      "text/plain": [
       "HBox(children=(IntSlider(value=2, continuous_update=False, description='M_n', max=10), FloatSlider(value=4.0, …"
      ]
     },
     "metadata": {},
     "output_type": "display_data"
    },
    {
     "data": {
      "application/vnd.jupyter.widget-view+json": {
       "model_id": "5b69c2936d8b46b384036ce872ec1742",
       "version_major": 2,
       "version_minor": 0
      },
      "text/plain": [
       "HBox(children=(IntSlider(value=4, continuous_update=False, description='b'), IntSlider(value=6, continuous_upd…"
      ]
     },
     "metadata": {},
     "output_type": "display_data"
    },
    {
     "data": {
      "application/vnd.jupyter.widget-view+json": {
       "model_id": "2034a036052947fe92475a32f429cd2a",
       "version_major": 2,
       "version_minor": 0
      },
      "text/plain": [
       "HBox(children=(IntSlider(value=4, continuous_update=False, description='rcj'), FloatSlider(value=0.5, continuo…"
      ]
     },
     "metadata": {},
     "output_type": "display_data"
    },
    {
     "data": {
      "application/vnd.jupyter.widget-view+json": {
       "model_id": "b605a049b7e04f28b83efb1ef25f273c",
       "version_major": 2,
       "version_minor": 0
      },
      "text/plain": [
       "HBox(children=(FloatSlider(value=0.55, continuous_update=False, description='Q Inflection Target', max=1.0, st…"
      ]
     },
     "metadata": {},
     "output_type": "display_data"
    }
   ],
   "source": [
    "# ui = widgets.HBox([wn,wPR,wNDPR,wPrice,wp,wcj,wq,wroi,winsurance])\n",
    "#wqTarget = widgets.FloatSlider(min=0,max=1,step=.01,value=1, description='Q Inflection Target',continuous_update=False)#Non-deterministic Penalty rate\n",
    "\n",
    "ui1 = widgets.HBox([wn,wPR,wNDPR])\n",
    "ui2 = widgets.HBox([wBenefit,wPrice,wp,wjcj])\n",
    "ui3 = widgets.HBox([wrcj,wq,wroi,winsurance])\n",
    "ui4 = widgets.HBox([wqTarget])\n",
    "\n",
    "# interactive_plot = widgets.interactive(plot, M_n=wn,M_PR=wPR,M_NDPR=wNDPR,price=wPrice,p=wp,cj=wcj, q=wq,roi=wroi,Insurance=winsurance);\n",
    "interactive_plotFinal = widgets.interactive_output(plotnonDetFINAL,{'M_n':wn,'M_PR':wPR,'M_NDPR':wNDPR,'price':wPrice,'b':wBenefit, 'qTarget':wqTarget, 'p':wp,'jcj':wjcj, 'q':wq,'roi':wroi,'Insurance':winsurance,'rcj':wrcj});\n",
    "# output = interactive_plot.children[-1]\n",
    "\n",
    "interactive_plotFinal.layout.height = '500'\n",
    "\n",
    "display(interactive_plotFinal,ui1,ui2,ui3,ui4)\n"
   ]
  },
  {
   "cell_type": "code",
   "execution_count": null,
   "metadata": {},
   "outputs": [],
   "source": []
  },
  {
   "cell_type": "code",
   "execution_count": null,
   "metadata": {},
   "outputs": [],
   "source": []
  },
  {
   "cell_type": "code",
   "execution_count": null,
   "metadata": {},
   "outputs": [],
   "source": []
  }
 ],
 "metadata": {
  "kernelspec": {
   "display_name": "Python 3",
   "language": "python",
   "name": "python3"
  },
  "language_info": {
   "codemirror_mode": {
    "name": "ipython",
    "version": 3
   },
   "file_extension": ".py",
   "mimetype": "text/x-python",
   "name": "python",
   "nbconvert_exporter": "python",
   "pygments_lexer": "ipython3",
   "version": "3.7.3"
  }
 },
 "nbformat": 4,
 "nbformat_minor": 2
}
