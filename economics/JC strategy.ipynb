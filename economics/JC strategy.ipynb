{
 "cells": [
  {
   "cell_type": "code",
   "execution_count": 1,
   "metadata": {},
   "outputs": [],
   "source": [
    "from __future__ import print_function\n",
    "import ipywidgets as widgets \n",
    "import matplotlib.pyplot as plt\n",
    "import numpy as np\n",
    "import csv\n",
    "import sympy\n",
    "from numpy import array"
   ]
  },
  {
   "cell_type": "code",
   "execution_count": 2,
   "metadata": {},
   "outputs": [],
   "source": [
    "def JCU(n,PR,C_r,  p_a,B,pi,p_v=1,C_v=0,  p_E=1):\n",
    "    p2 = 1-p_a\n",
    "    \n",
    "    NDD = pi * PR + (pi* n)\n",
    "     \n",
    "    JC_HRP  =  p_v*p_E*p_a*(B-pi-C_v) # RP correctly (p_E) returns answer 1 (p_a) and pay up to max_pi (-pi).\n",
    "    \n",
    "    NDJC_HRP_Gain = p_v*p_E*p2*(p_a**n)*(B + pi -C_v) # receives gas pi because it had to spend some to request mediation.\n",
    "    NDJC_HRP_Lose = p_v*p_E*p2*(1-(p_a**n))*(B-NDD-C_r-C_v) #RP returns answer 2 correctly or responds incorrectly (p2+(1-p_E)) and send to mediator who finds out nonDeterminism (1-p_a^n), pay fine and reward (f2+r)\n",
    "    ND = NDJC_HRP_Gain + NDJC_HRP_Lose\n",
    "    \n",
    "    DRP_Gain = p_v*(1-p_E)*(p_a**n)*(pi - C_v) \n",
    "    DRP_Lose = p_v*(1-p_E)*(1-p_a**n)*(-NDD-C_r-C_v)# compute incorrectly (1-p_E) get sent to mediation, finds nondeterminism (1-p_a^n) get compensation.\n",
    "#     DRP_scared = p_v*(1-p_E)*(-pi-C_v) # JC doesn't want to risk getting caught, just pay RP\n",
    "#     DRP =  max(DRP_Gain+DRP_Lose, DRP_scared)\n",
    "    DRP = DRP_Gain + DRP_Lose\n",
    "    \n",
    "    \n",
    "    noID_HRP = (1-p_v)*p_E*(B-pi)\n",
    "    noID_DRP = (1-p_v)*(1-p_E)*(-pi)\n",
    "    noVerifyCost = noID_HRP + noID_DRP\n",
    "    \n",
    "    JCnonDet = JC_HRP + ND + DRP + noVerifyCost\n",
    "    return JCnonDet\n"
   ]
  },
  {
   "cell_type": "code",
   "execution_count": 41,
   "metadata": {},
   "outputs": [
    {
     "data": {
      "text/latex": [
       "$\\displaystyle B p_{E} - C_{r} p_{E} p_{a} p_{a}^{n} p_{v} + C_{r} p_{E} p_{a} p_{v} + C_{r} p_{a}^{n} p_{v} - C_{r} p_{v} - C_{v} p_{v} - PR p_{E} p_{a} p_{a}^{n} p_{v} \\pi + PR p_{E} p_{a} p_{v} \\pi + PR p_{a}^{n} p_{v} \\pi - PR p_{v} \\pi - n p_{E} p_{a} p_{a}^{n} p_{v} \\pi + n p_{E} p_{a} p_{v} \\pi + n p_{a}^{n} p_{v} \\pi - n p_{v} \\pi - p_{E} p_{a} p_{a}^{n} p_{v} \\pi - p_{E} p_{a} p_{v} \\pi + p_{a}^{n} p_{v} \\pi + p_{v} \\pi - \\pi$"
      ],
      "text/plain": [
       "B*p_E - C_r*p_E*p_a*p_a**n*p_v + C_r*p_E*p_a*p_v + C_r*p_a**n*p_v - C_r*p_v - C_v*p_v - PR*p_E*p_a*p_a**n*p_v*pi + PR*p_E*p_a*p_v*pi + PR*p_a**n*p_v*pi - PR*p_v*pi - n*p_E*p_a*p_a**n*p_v*pi + n*p_E*p_a*p_v*pi + n*p_a**n*p_v*pi - n*p_v*pi - p_E*p_a*p_a**n*p_v*pi - p_E*p_a*p_v*pi + p_a**n*p_v*pi + p_v*pi - pi"
      ]
     },
     "metadata": {},
     "output_type": "display_data"
    },
    {
     "data": {
      "text/latex": [
       "$\\displaystyle B p_{E} - C_{r} p_{E} p_{a} p_{a}^{n} p_{v} + C_{r} p_{E} p_{a} p_{v} + C_{r} p_{a}^{n} p_{v} - C_{r} p_{v} - C_{v} p_{v} + \\pi \\left(- PR p_{E} p_{a} p_{a}^{n} p_{v} + PR p_{E} p_{a} p_{v} + PR p_{a}^{n} p_{v} - PR p_{v} - n p_{E} p_{a} p_{a}^{n} p_{v} + n p_{E} p_{a} p_{v} + n p_{a}^{n} p_{v} - n p_{v} - p_{E} p_{a} p_{a}^{n} p_{v} - p_{E} p_{a} p_{v} + p_{a}^{n} p_{v} + p_{v} - 1\\right)$"
      ],
      "text/plain": [
       "B*p_E - C_r*p_E*p_a*p_a**n*p_v + C_r*p_E*p_a*p_v + C_r*p_a**n*p_v - C_r*p_v - C_v*p_v + pi*(-PR*p_E*p_a*p_a**n*p_v + PR*p_E*p_a*p_v + PR*p_a**n*p_v - PR*p_v - n*p_E*p_a*p_a**n*p_v + n*p_E*p_a*p_v + n*p_a**n*p_v - n*p_v - p_E*p_a*p_a**n*p_v - p_E*p_a*p_v + p_a**n*p_v + p_v - 1)"
      ]
     },
     "metadata": {},
     "output_type": "display_data"
    }
   ],
   "source": [
    "sn, sPR, sp_a, sB, spi, sp_v, sC_v, sp_E, sC_r= sympy.symbols('n PR p_a B pi p_v C_v p_E C_r', real=True)\n",
    "\n",
    "JU = JCU(sn,sPR,sC_r,   sp_a,sB,spi,sp_v,sC_v,   sp_E)\n",
    "\n",
    "JU = sympy.factor(JU)\n",
    "display(JU)\n",
    "JU = sympy.collect(JU,(spi))\n",
    "display(JU)"
   ]
  },
  {
   "cell_type": "code",
   "execution_count": 4,
   "metadata": {},
   "outputs": [],
   "source": [
    "LJU = JU.subs({sp_a:1 })"
   ]
  },
  {
   "cell_type": "code",
   "execution_count": 40,
   "metadata": {},
   "outputs": [
    {
     "data": {
      "text/latex": [
       "$\\displaystyle B p_{E} - C_{v} p_{v} - 2 p_{E} p_{v} \\pi + 2 p_{v} \\pi - \\pi$"
      ],
      "text/plain": [
       "B*p_E - C_v*p_v - 2*p_E*p_v*pi + 2*p_v*pi - pi"
      ]
     },
     "metadata": {},
     "output_type": "display_data"
    },
    {
     "data": {
      "text/latex": [
       "$\\displaystyle B p_{E} - C_{v} p_{v} + \\pi \\left(- 2 p_{E} p_{v} + 2 p_{v} - 1\\right)$"
      ],
      "text/plain": [
       "B*p_E - C_v*p_v + pi*(-2*p_E*p_v + 2*p_v - 1)"
      ]
     },
     "metadata": {},
     "output_type": "display_data"
    }
   ],
   "source": [
    "display(LJU)\n",
    "LJU = sympy.collect(LJU,(spi))\n",
    "display(LJU)"
   ]
  },
  {
   "cell_type": "code",
   "execution_count": 6,
   "metadata": {},
   "outputs": [
    {
     "data": {
      "text/latex": [
       "$\\displaystyle - C_{v} - 2 p_{E} \\pi + 2 \\pi$"
      ],
      "text/plain": [
       "-C_v - 2*p_E*pi + 2*pi"
      ]
     },
     "metadata": {},
     "output_type": "display_data"
    },
    {
     "data": {
      "text/latex": [
       "$\\displaystyle - C_{v} + \\pi \\left(2 - 2 p_{E}\\right)$"
      ],
      "text/plain": [
       "-C_v + pi*(2 - 2*p_E)"
      ]
     },
     "metadata": {},
     "output_type": "display_data"
    }
   ],
   "source": [
    "dLJU = sympy.diff(LJU,sp_v)\n",
    "display(dLJU)\n",
    "dLJU = sympy.collect(dLJU,(spi*2))\n",
    "display(dLJU)"
   ]
  },
  {
   "cell_type": "code",
   "execution_count": 7,
   "metadata": {},
   "outputs": [
    {
     "data": {
      "text/latex": [
       "$\\displaystyle \\frac{- \\frac{C_{v}}{2} + \\pi}{\\pi}$"
      ],
      "text/plain": [
       "(-C_v/2 + pi)/pi"
      ]
     },
     "metadata": {},
     "output_type": "display_data"
    }
   ],
   "source": [
    "sol_dLJU_pE = sympy.solve([dLJU], [sp_E])\n",
    "display(sol_dLJU_pE[sp_E])"
   ]
  },
  {
   "cell_type": "code",
   "execution_count": 9,
   "metadata": {},
   "outputs": [
    {
     "name": "stdout",
     "output_type": "stream",
     "text": [
      "step size: 0.02\n"
     ]
    }
   ],
   "source": [
    "points = 51\n",
    "x,step = np.linspace(0,1,points,retstep=True)\n",
    "print(\"step size: %s\" %step)\n",
    "\n",
    "        #-M-     -JC-                -RP-\n",
    "def plot(n,PR,C_r,   pi,B,p_V,C_v,       p_E):\n",
    "    \n",
    "    yLJU = JCU(n=n,PR=PR,C_r=C_r,     p_a=np.ones(points),B=B,pi=pi,p_v=x,C_v=C_v,        p_E=p_E)\n",
    "    \n",
    "#     yLJU = list(map(lambda v: float(LJU.subs({sC_v:C_v, sB:B, sp_v:v, spi:pi, sPR:PR,  sp_E:p_E  })),x))\n",
    "    \n",
    "    \n",
    "    plt.plot(x,yLJU, label=\"LJU\")\n",
    "    plot.plot(x, )\n",
    "    \n",
    "    \n",
    "    plt.xlabel('p_v')\n",
    "    plt.ylabel('Util') \n",
    "    plt.legend()\n",
    "    plt.grid(visible=True)\n",
    "    plt.show\n",
    "    "
   ]
  },
  {
   "cell_type": "code",
   "execution_count": 10,
   "metadata": {},
   "outputs": [
    {
     "data": {
      "application/vnd.jupyter.widget-view+json": {
       "model_id": "2e0802c3d4724d4bb476e3fca029777d",
       "version_major": 2,
       "version_minor": 0
      },
      "text/plain": [
       "Output()"
      ]
     },
     "metadata": {},
     "output_type": "display_data"
    },
    {
     "data": {
      "application/vnd.jupyter.widget-view+json": {
       "model_id": "d1b9a39e26c547d7afd7a8639e899948",
       "version_major": 2,
       "version_minor": 0
      },
      "text/plain": [
       "HBox(children=(IntSlider(value=1, continuous_update=False, description='n', max=10), FloatSlider(value=1.0, co…"
      ]
     },
     "metadata": {},
     "output_type": "display_data"
    },
    {
     "data": {
      "application/vnd.jupyter.widget-view+json": {
       "model_id": "72aaa0562482463eb0ff12e6c4ee3b27",
       "version_major": 2,
       "version_minor": 0
      },
      "text/plain": [
       "HBox(children=(IntSlider(value=1, continuous_update=False, description='pi', max=1000), IntSlider(value=2, con…"
      ]
     },
     "metadata": {},
     "output_type": "display_data"
    },
    {
     "data": {
      "application/vnd.jupyter.widget-view+json": {
       "model_id": "56f2f1fa35dd410fa8504b4877d56c95",
       "version_major": 2,
       "version_minor": 0
      },
      "text/plain": [
       "HBox(children=(FloatSlider(value=1.0, continuous_update=False, description='p_E', max=1.0),))"
      ]
     },
     "metadata": {},
     "output_type": "display_data"
    }
   ],
   "source": [
    "wn = widgets.IntSlider(min=0,max=10,step=1,value=1, description='n',continuous_update=False)\n",
    "wPR = widgets.FloatSlider(min=0,max=100,step=.5,value=1, description='PR', continuous_update=False) \n",
    "wC_r = widgets.IntSlider(min=0,max=100,step=1,value=1, description='C_r', continuous_update=False)\n",
    "\n",
    "wpi = widgets.IntSlider(min=0,max=1000,step=1,value=1, description='pi', continuous_update=False)\n",
    "wB = widgets.IntSlider(min=0,max=1000,step=1,value=2, description='B', continuous_update=False)\n",
    "wp_v = widgets.FloatSlider(min=0,max=1,step=.1,value=1, description='p_v', continuous_update=False) # how often JC verifies\n",
    "wC_v = widgets.FloatSlider(min=0,max=100,step=.1,value=0, description='C_v',continuous_update=False) # cost for JC to verify\n",
    "\n",
    "wp_E = widgets.FloatSlider(min=0,max=1,step=.1,value=1,description='p_E', continuous_update=False) # probability that RP runs correctly\n",
    "\n",
    "\n",
    "\n",
    "ui1 = widgets.HBox([wn,wPR, wC_r])\n",
    "ui2 = widgets.HBox([wpi,wB,wp_v,wC_v])\n",
    "ui3 = widgets.HBox([wp_E])\n",
    "\n",
    "# interactive_plot = widgets.interactive(plot, n=wn,PR=wPR,NDPR=wNDPR,pi=wpi,p_v=wp_v,cj=wcj, p_E=wp_E,roi=wroi,Insurance=winsurance);\n",
    "interactive_plotFinal = widgets.interactive_output(plot,{'n':wn,'PR':wPR,'C_r':wC_r,   'pi':wpi,'B':wB,'p_V':wp_v,'C_v':wC_v,       'p_E':wp_E});\n",
    "\n",
    "# interactive_plotFinal.layout.height = '600px'\n",
    "\n",
    "display(interactive_plotFinal,ui1,ui2,ui3)"
   ]
  },
  {
   "cell_type": "code",
   "execution_count": null,
   "metadata": {},
   "outputs": [],
   "source": []
  },
  {
   "cell_type": "markdown",
   "metadata": {},
   "source": [
    "Lets see how much better the ND strategy is than the lazy deterministic one"
   ]
  },
  {
   "cell_type": "code",
   "execution_count": 38,
   "metadata": {},
   "outputs": [
    {
     "data": {
      "text/latex": [
       "$\\displaystyle - C_{r} p_{E} p_{a} p_{a}^{n} p_{v} + C_{r} p_{E} p_{a} p_{v} + C_{r} p_{a}^{n} p_{v} - C_{r} p_{v} - PR p_{E} p_{a} p_{a}^{n} p_{v} \\pi + PR p_{E} p_{a} p_{v} \\pi + PR p_{a}^{n} p_{v} \\pi - PR p_{v} \\pi - n p_{E} p_{a} p_{a}^{n} p_{v} \\pi + n p_{E} p_{a} p_{v} \\pi + n p_{a}^{n} p_{v} \\pi - n p_{v} \\pi - p_{E} p_{a} p_{a}^{n} p_{v} \\pi - p_{E} p_{a} p_{v} \\pi + 2 p_{E} p_{v} \\pi + p_{a}^{n} p_{v} \\pi - p_{v} \\pi$"
      ],
      "text/plain": [
       "-C_r*p_E*p_a*p_a**n*p_v + C_r*p_E*p_a*p_v + C_r*p_a**n*p_v - C_r*p_v - PR*p_E*p_a*p_a**n*p_v*pi + PR*p_E*p_a*p_v*pi + PR*p_a**n*p_v*pi - PR*p_v*pi - n*p_E*p_a*p_a**n*p_v*pi + n*p_E*p_a*p_v*pi + n*p_a**n*p_v*pi - n*p_v*pi - p_E*p_a*p_a**n*p_v*pi - p_E*p_a*p_v*pi + 2*p_E*p_v*pi + p_a**n*p_v*pi - p_v*pi"
      ]
     },
     "metadata": {},
     "output_type": "display_data"
    },
    {
     "data": {
      "text/latex": [
       "$\\displaystyle p_{v} \\left(C_{r} \\left(p_{E} p_{a} - p_{E} p_{a}^{n + 1} + p_{a}^{n} - 1\\right) + \\pi \\left(PR \\left(p_{E} p_{a} - p_{E} p_{a}^{n + 1} + p_{a}^{n} - 1\\right) + n \\left(p_{E} p_{a} - p_{E} p_{a}^{n + 1} + p_{a}^{n} - 1\\right) - p_{E} p_{a} - p_{E} p_{a}^{n + 1} + 2 p_{E} + p_{a}^{n} - 1\\right)\\right)$"
      ],
      "text/plain": [
       "p_v*(C_r*(p_E*p_a - p_E*p_a**(n + 1) + p_a**n - 1) + pi*(PR*(p_E*p_a - p_E*p_a**(n + 1) + p_a**n - 1) + n*(p_E*p_a - p_E*p_a**(n + 1) + p_a**n - 1) - p_E*p_a - p_E*p_a**(n + 1) + 2*p_E + p_a**n - 1))"
      ]
     },
     "metadata": {},
     "output_type": "display_data"
    }
   ],
   "source": [
    "NDgain = JU - LJU\n",
    "display(NDgain)\n",
    "NDgain = sympy.simplify(NDgain)\n",
    "NDgain = sympy.collect(NDgain,sC_r)\n",
    "NDgain = sympy.collect(NDgain,sPR)\n",
    "NDgain = sympy.collect(NDgain,sn*spi)\n",
    "NDgain = sympy.collect(NDgain,spi)\n",
    "# NDgain = sympy.collect(NDgain,sp_E*sp_a-sp_E*sp_a**(sn+1)+sp_a**sn-1)\n",
    "display(NDgain)\n"
   ]
  },
  {
   "cell_type": "code",
   "execution_count": 52,
   "metadata": {},
   "outputs": [
    {
     "data": {
      "text/latex": [
       "$\\displaystyle p_{v} \\left(C_{r} \\left(p_{a}^{n} - 1\\right) + \\pi \\left(PR \\left(p_{a}^{n} - 1\\right) + n \\left(p_{a}^{n} - 1\\right) + p_{a}^{n} - 1\\right)\\right)$"
      ],
      "text/plain": [
       "p_v*(C_r*(p_a**n - 1) + pi*(PR*(p_a**n - 1) + n*(p_a**n - 1) + p_a**n - 1))"
      ]
     },
     "metadata": {},
     "output_type": "display_data"
    },
    {
     "data": {
      "text/latex": [
       "$\\displaystyle p_{v} \\left(C_{r} \\left(p_{a} + p_{a}^{n} - p_{a}^{n + 1} - 1\\right) + \\pi \\left(PR \\left(p_{a} + p_{a}^{n} - p_{a}^{n + 1} - 1\\right) + n \\left(p_{a} + p_{a}^{n} - p_{a}^{n + 1} - 1\\right) - p_{a} + p_{a}^{n} - p_{a}^{n + 1} + 1\\right)\\right)$"
      ],
      "text/plain": [
       "p_v*(C_r*(p_a + p_a**n - p_a**(n + 1) - 1) + pi*(PR*(p_a + p_a**n - p_a**(n + 1) - 1) + n*(p_a + p_a**n - p_a**(n + 1) - 1) - p_a + p_a**n - p_a**(n + 1) + 1))"
      ]
     },
     "metadata": {},
     "output_type": "display_data"
    },
    {
     "name": "stdout",
     "output_type": "stream",
     "text": [
      "Will lowering p_E ever increase NDG?\n"
     ]
    },
    {
     "data": {
      "text/latex": [
       "$\\displaystyle p_{v} \\left(C_{r} p_{a} - C_{r} p_{a}^{n + 1} + PR p_{a} \\pi - PR p_{a}^{n + 1} \\pi + n p_{a} \\pi - n p_{a}^{n + 1} \\pi - p_{a} \\pi - p_{a}^{n + 1} \\pi + 2 \\pi\\right)$"
      ],
      "text/plain": [
       "p_v*(C_r*p_a - C_r*p_a**(n + 1) + PR*p_a*pi - PR*p_a**(n + 1)*pi + n*p_a*pi - n*p_a**(n + 1)*pi - p_a*pi - p_a**(n + 1)*pi + 2*pi)"
      ]
     },
     "metadata": {},
     "output_type": "display_data"
    },
    {
     "name": "stdout",
     "output_type": "stream",
     "text": [
      "No. The closest it can get is when n=0\n"
     ]
    },
    {
     "data": {
      "text/latex": [
       "$\\displaystyle p_{v} \\left(- 2 p_{a} \\pi + 2 \\pi\\right)$"
      ],
      "text/plain": [
       "p_v*(-2*p_a*pi + 2*pi)"
      ]
     },
     "metadata": {},
     "output_type": "display_data"
    },
    {
     "name": "stdout",
     "output_type": "stream",
     "text": [
      "Which is 0 when pa = 1, otherwise NDgain_1 - NDgain_0 > 0 meaning that lowering p_E will not cause ND to increase.\n",
      "Note: This is the case because the function is linear wrt p_E \n",
      "\n",
      "just to double check\n"
     ]
    },
    {
     "data": {
      "text/latex": [
       "$\\displaystyle p_{v} \\pi \\left(- 2 p_{E} p_{a} + 2 p_{E}\\right)$"
      ],
      "text/plain": [
       "p_v*pi*(-2*p_E*p_a + 2*p_E)"
      ]
     },
     "metadata": {},
     "output_type": "display_data"
    }
   ],
   "source": [
    "NDgain_0 = NDgain.subs({sp_E:0 })\n",
    "display(NDgain_0)\n",
    "NDgain_1 = NDgain.subs({sp_E:1})\n",
    "display(NDgain_1)\n",
    "\n",
    "pE_check = NDgain_1 - NDgain_0\n",
    "pE_check = sympy.simplify(pE_check)\n",
    "print(\"Will lowering p_E ever increase NDG?\")\n",
    "display(pE_check) \n",
    "print(\"No. The closest it can get is when n=0\")\n",
    "pE_check = pE_check.subs({sn:0 })\n",
    "display(pE_check) \n",
    "print(\"Which is 0 when pa = 1, otherwise NDgain_1 - NDgain_0 > 0 meaning that lowering p_E will not cause ND to increase.\")\n",
    "print(\"Note: This is the case because the function is linear wrt p_E \\n\")\n",
    "print(\"just to double check\")\n",
    "\n",
    "NDgain_n0 = NDgain.subs({sn:0 })\n",
    "display(NDgain_n0)\n",
    "print(\"Yep. lowering p_E will not improve NDE.\")\n"
   ]
  },
  {
   "cell_type": "markdown",
   "metadata": {},
   "source": [
    "Lets get the equation that would maximize D - H"
   ]
  },
  {
   "cell_type": "code",
   "execution_count": 93,
   "metadata": {},
   "outputs": [
    {
     "data": {
      "text/latex": [
       "$\\displaystyle - p_{a}^{2} + 2 p_{a} + \\pi \\left(- 3 p_{a}^{2} + 4 p_{a} - 2\\right) + \\pi - 1$"
      ],
      "text/plain": [
       "-p_a**2 + 2*p_a + pi*(-3*p_a**2 + 4*p_a - 2) + pi - 1"
      ]
     },
     "metadata": {},
     "output_type": "display_data"
    }
   ],
   "source": [
    "dU = JU - LJU\n",
    "maxdU = dU.subs({sn:1, sPR:1, sC_r:1, sp_v:1, sC_v:1, sp_E:1 })\n",
    "display(maxdU)"
   ]
  },
  {
   "cell_type": "code",
   "execution_count": 94,
   "metadata": {},
   "outputs": [
    {
     "data": {
      "text/latex": [
       "$\\displaystyle - 2 p_{a} + \\pi \\left(4 - 6 p_{a}\\right) + 2$"
      ],
      "text/plain": [
       "-2*p_a + pi*(4 - 6*p_a) + 2"
      ]
     },
     "metadata": {},
     "output_type": "display_data"
    }
   ],
   "source": [
    "maxdU = sympy.diff(maxdU,sp_a)\n",
    "display(maxdU)"
   ]
  },
  {
   "cell_type": "code",
   "execution_count": 95,
   "metadata": {},
   "outputs": [
    {
     "data": {
      "text/plain": [
       "{p_a: (2*pi + 1)/(3*pi + 1)}"
      ]
     },
     "metadata": {},
     "output_type": "display_data"
    }
   ],
   "source": [
    "sol_dmaxdU = sympy.solve([maxdU], [sp_a]) \n",
    "display(sol_dmaxdU)"
   ]
  },
  {
   "cell_type": "code",
   "execution_count": 96,
   "metadata": {},
   "outputs": [
    {
     "data": {
      "text/latex": [
       "$\\displaystyle B + \\pi \\left(1 - 2 p_{a}\\right)$"
      ],
      "text/plain": [
       "B + pi*(1 - 2*p_a)"
      ]
     },
     "metadata": {},
     "output_type": "display_data"
    }
   ],
   "source": [
    "maxJU = JU.subs({sn:0, sPR:0, sC_r:0, sp_v:1, sC_v:0, sp_E:1 })\n",
    "display(maxJU)\n",
    "# dmaxNDgain = sympy.diff(JU,sp_a)"
   ]
  },
  {
   "cell_type": "code",
   "execution_count": 113,
   "metadata": {},
   "outputs": [
    {
     "data": {
      "text/latex": [
       "$\\displaystyle \\pi \\left(- 3 p_{a}^{2} + 4 p_{a} - 2\\right) + \\pi$"
      ],
      "text/plain": [
       "pi*(-3*p_a**2 + 4*p_a - 2) + pi"
      ]
     },
     "metadata": {},
     "output_type": "display_data"
    },
    {
     "data": {
      "text/latex": [
       "$\\displaystyle \\pi \\left(4 - 6 p_{a}\\right)$"
      ],
      "text/plain": [
       "pi*(4 - 6*p_a)"
      ]
     },
     "metadata": {},
     "output_type": "display_data"
    },
    {
     "data": {
      "text/plain": [
       "sympy.core.numbers.Rational"
      ]
     },
     "metadata": {},
     "output_type": "display_data"
    },
    {
     "data": {
      "text/latex": [
       "$\\displaystyle \\frac{\\pi}{3}$"
      ],
      "text/plain": [
       "pi/3"
      ]
     },
     "metadata": {},
     "output_type": "display_data"
    }
   ],
   "source": [
    "dU = JU - LJU\n",
    "maxdU = dU.subs({sn:1, sPR:1, sC_r:0, sp_v:1, sC_v:0, sp_E:1 })\n",
    "display(maxdU)\n",
    "dmaxdU = sympy.diff(maxdU,sp_a)\n",
    "display(dmaxdU)\n",
    "sol_dmaxdU = sympy.solve([dmaxdU], [sp_a]) \n",
    "\n",
    "MAXp_a = sol_dmaxdU[sp_a]\n",
    "display(type(MAXp_a))\n",
    "\n",
    "maxdU = maxdU.subs({sp_a: MAXp_a })\n",
    "display(maxdU)"
   ]
  },
  {
   "cell_type": "code",
   "execution_count": null,
   "metadata": {},
   "outputs": [],
   "source": []
  }
 ],
 "metadata": {
  "kernelspec": {
   "display_name": "Python 3",
   "language": "python",
   "name": "python3"
  },
  "language_info": {
   "codemirror_mode": {
    "name": "ipython",
    "version": 3
   },
   "file_extension": ".py",
   "mimetype": "text/x-python",
   "name": "python",
   "nbconvert_exporter": "python",
   "pygments_lexer": "ipython3",
   "version": "3.6.6"
  }
 },
 "nbformat": 4,
 "nbformat_minor": 2
}
