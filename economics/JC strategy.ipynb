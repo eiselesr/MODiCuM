{
 "cells": [
  {
   "cell_type": "code",
   "execution_count": 1,
   "metadata": {},
   "outputs": [],
   "source": [
    "from __future__ import print_function\n",
    "import ipywidgets as widgets \n",
    "import matplotlib.pyplot as plt\n",
    "import numpy as np\n",
    "import csv\n",
    "import sympy\n",
    "from numpy import array"
   ]
  },
  {
   "cell_type": "code",
   "execution_count": 2,
   "metadata": {},
   "outputs": [],
   "source": [
    "def JCU(n,PR,C_r,  p_a,B,pi,p_v=1,C_v=0,  p_E=1):\n",
    "    p2 = 1-p_a\n",
    "    \n",
    "    NDD = pi * PR + (pi* n)\n",
    "     \n",
    "    JC_HRP  =  p_v*p_E*p_a*(B-pi-C_v) # RP correctly (p_E) returns answer 1 (p_a) and pay up to max_pi (-pi).\n",
    "    \n",
    "    NDJC_HRP_Gain = p_v*p_E*p2*(p_a**n)*(B + pi -C_v) # receives gas pi because it had to spend some to request mediation.\n",
    "    NDJC_HRP_Lose = p_v*p_E*p2*(1-(p_a**n))*(B-NDD-C_r-C_v) #RP returns answer 2 correctly or responds incorrectly (p2+(1-p_E)) and send to mediator who finds out nonDeterminism (1-p_a^n), pay fine and reward (f2+r)\n",
    "    ND = NDJC_HRP_Gain + NDJC_HRP_Lose\n",
    "    \n",
    "    DRP_Gain = p_v*(1-p_E)*(p_a**n)*(pi - C_v) \n",
    "    DRP_Lose = p_v*(1-p_E)*(1-p_a**n)*(-NDD-C_r-C_v)# compute incorrectly (1-p_E) get sent to mediation, finds nondeterminism (1-p_a^n) get compensation.\n",
    "#     DRP_scared = p_v*(1-p_E)*(-pi-C_v) # JC doesn't want to risk getting caught, just pay RP\n",
    "#     DRP =  max(DRP_Gain+DRP_Lose, DRP_scared)\n",
    "    DRP = DRP_Gain + DRP_Lose\n",
    "    \n",
    "    \n",
    "    noID_HRP = (1-p_v)*p_E*(B-pi)\n",
    "    noID_DRP = (1-p_v)*(1-p_E)*(-pi)\n",
    "    noVerifyCost = noID_HRP + noID_DRP\n",
    "    \n",
    "    JCnonDet = JC_HRP + ND + DRP + noVerifyCost\n",
    "    return JCnonDet\n"
   ]
  },
  {
   "cell_type": "code",
   "execution_count": 3,
   "metadata": {},
   "outputs": [
    {
     "data": {
      "text/latex": [
       "$\\displaystyle B p_{E} - C_{r} p_{E} p_{a} p_{a}^{n} p_{v} + C_{r} p_{E} p_{a} p_{v} + C_{r} p_{a}^{n} p_{v} - C_{r} p_{v} - C_{v} p_{v} - PR p_{E} p_{a} p_{a}^{n} p_{v} \\pi + PR p_{E} p_{a} p_{v} \\pi + PR p_{a}^{n} p_{v} \\pi - PR p_{v} \\pi - n p_{E} p_{a} p_{a}^{n} p_{v} \\pi + n p_{E} p_{a} p_{v} \\pi + n p_{a}^{n} p_{v} \\pi - n p_{v} \\pi - p_{E} p_{a} p_{a}^{n} p_{v} \\pi - p_{E} p_{a} p_{v} \\pi + p_{a}^{n} p_{v} \\pi + p_{v} \\pi - \\pi$"
      ],
      "text/plain": [
       "B*p_E - C_r*p_E*p_a*p_a**n*p_v + C_r*p_E*p_a*p_v + C_r*p_a**n*p_v - C_r*p_v - C_v*p_v - PR*p_E*p_a*p_a**n*p_v*pi + PR*p_E*p_a*p_v*pi + PR*p_a**n*p_v*pi - PR*p_v*pi - n*p_E*p_a*p_a**n*p_v*pi + n*p_E*p_a*p_v*pi + n*p_a**n*p_v*pi - n*p_v*pi - p_E*p_a*p_a**n*p_v*pi - p_E*p_a*p_v*pi + p_a**n*p_v*pi + p_v*pi - pi"
      ]
     },
     "metadata": {},
     "output_type": "display_data"
    }
   ],
   "source": [
    "sn, sPR, sp_a, sB, spi, sp_v, sC_v, sp_E, sC_r= sympy.symbols('n PR p_a B pi p_v C_v p_E C_r', real=True)\n",
    "\n",
    "JU = JCU(sn,sPR,sC_r,   sp_a,sB,spi,sp_v,sC_v,   sp_E)\n",
    "\n",
    "JU = sympy.factor(JU)\n",
    "display(JU)"
   ]
  },
  {
   "cell_type": "code",
   "execution_count": 4,
   "metadata": {},
   "outputs": [
    {
     "data": {
      "text/latex": [
       "$\\displaystyle B p_{E} - C_{v} p_{v} - PR p_{E} p_{a} p_{a}^{n} p_{v} \\pi + PR p_{E} p_{a} p_{v} \\pi + PR p_{a}^{n} p_{v} \\pi - PR p_{v} \\pi - n p_{E} p_{a} p_{a}^{n} p_{v} \\pi + n p_{E} p_{a} p_{v} \\pi + n p_{a}^{n} p_{v} \\pi - n p_{v} \\pi - p_{E} p_{a} p_{a}^{n} p_{v} \\pi - p_{E} p_{a} p_{v} \\pi + p_{a}^{n} p_{v} \\pi + p_{v} \\pi - \\pi$"
      ],
      "text/plain": [
       "B*p_E - C_v*p_v - PR*p_E*p_a*p_a**n*p_v*pi + PR*p_E*p_a*p_v*pi + PR*p_a**n*p_v*pi - PR*p_v*pi - n*p_E*p_a*p_a**n*p_v*pi + n*p_E*p_a*p_v*pi + n*p_a**n*p_v*pi - n*p_v*pi - p_E*p_a*p_a**n*p_v*pi - p_E*p_a*p_v*pi + p_a**n*p_v*pi + p_v*pi - pi"
      ]
     },
     "metadata": {},
     "output_type": "display_data"
    }
   ],
   "source": [
    "sJU = JU.subs({sC_r:0 })\n",
    "display(sJU)"
   ]
  },
  {
   "cell_type": "code",
   "execution_count": 5,
   "metadata": {},
   "outputs": [],
   "source": [
    "LJU = JU.subs({sp_a:1 })"
   ]
  },
  {
   "cell_type": "code",
   "execution_count": 6,
   "metadata": {},
   "outputs": [
    {
     "data": {
      "text/latex": [
       "$\\displaystyle B p_{E} - C_{v} p_{v} - 2 p_{E} p_{v} \\pi + 2 p_{v} \\pi - \\pi$"
      ],
      "text/plain": [
       "B*p_E - C_v*p_v - 2*p_E*p_v*pi + 2*p_v*pi - pi"
      ]
     },
     "metadata": {},
     "output_type": "display_data"
    }
   ],
   "source": [
    "display(LJU)"
   ]
  },
  {
   "cell_type": "code",
   "execution_count": 22,
   "metadata": {},
   "outputs": [
    {
     "data": {
      "text/latex": [
       "$\\displaystyle - C_{v} - 2 p_{E} \\pi + 2 \\pi$"
      ],
      "text/plain": [
       "-C_v - 2*p_E*pi + 2*pi"
      ]
     },
     "metadata": {},
     "output_type": "display_data"
    },
    {
     "data": {
      "text/latex": [
       "$\\displaystyle - C_{v} + \\pi \\left(2 - 2 p_{E}\\right)$"
      ],
      "text/plain": [
       "-C_v + pi*(2 - 2*p_E)"
      ]
     },
     "metadata": {},
     "output_type": "display_data"
    }
   ],
   "source": [
    "dLJU = sympy.diff(LJU,sp_v)\n",
    "display(dLJU)\n",
    "dLJU = sympy.collect(dLJU,(spi*2))\n",
    "display(dLJU)"
   ]
  },
  {
   "cell_type": "code",
   "execution_count": 24,
   "metadata": {},
   "outputs": [
    {
     "data": {
      "text/latex": [
       "$\\displaystyle \\frac{- \\frac{C_{v}}{2} + \\pi}{\\pi}$"
      ],
      "text/plain": [
       "(-C_v/2 + pi)/pi"
      ]
     },
     "metadata": {},
     "output_type": "display_data"
    }
   ],
   "source": [
    "sol_dLJU_pE = sympy.solve([dLJU2], [sp_E])\n",
    "display(sol_dLJU_pE[sp_E])"
   ]
  },
  {
   "cell_type": "code",
   "execution_count": 9,
   "metadata": {},
   "outputs": [
    {
     "name": "stdout",
     "output_type": "stream",
     "text": [
      "step size: 0.02\n"
     ]
    }
   ],
   "source": [
    "points = 51\n",
    "x,step = np.linspace(0,1,points,retstep=True)\n",
    "print(\"step size: %s\" %step)\n",
    "\n",
    "        #-M-     -JC-                -RP-\n",
    "def plot(n,PR,C_r,   pi,B,p_V,C_v,       p_E):\n",
    "    \n",
    "    yLJU = JCU(n=n,PR=PR,C_r=C_r,     p_a=np.ones(points),B=B,pi=pi,p_v=x,C_v=C_v,        p_E=p_E)\n",
    "    \n",
    "#     yLJU = list(map(lambda v: float(LJU.subs({sC_v:C_v, sB:B, sp_v:v, spi:pi, sPR:PR,  sp_E:p_E  })),x))\n",
    "    \n",
    "    \n",
    "    plt.plot(x,yLJU, label=\"LJU\")\n",
    "    plt.xlabel('p_v')\n",
    "    plt.ylabel('Util') \n",
    "    plt.legend()\n",
    "    plt.grid(visible=True)\n",
    "    plt.show\n",
    "    "
   ]
  },
  {
   "cell_type": "code",
   "execution_count": 10,
   "metadata": {},
   "outputs": [
    {
     "data": {
      "application/vnd.jupyter.widget-view+json": {
       "model_id": "cb2c48230a3e445b9a22895fbb2f4c4b",
       "version_major": 2,
       "version_minor": 0
      },
      "text/plain": [
       "Output()"
      ]
     },
     "metadata": {},
     "output_type": "display_data"
    },
    {
     "data": {
      "application/vnd.jupyter.widget-view+json": {
       "model_id": "c6d20af808234340aa76d173985c3a3f",
       "version_major": 2,
       "version_minor": 0
      },
      "text/plain": [
       "HBox(children=(IntSlider(value=1, continuous_update=False, description='n', max=10), FloatSlider(value=1.0, co…"
      ]
     },
     "metadata": {},
     "output_type": "display_data"
    },
    {
     "data": {
      "application/vnd.jupyter.widget-view+json": {
       "model_id": "7a80e4a990ae46568e40b7996e98e81f",
       "version_major": 2,
       "version_minor": 0
      },
      "text/plain": [
       "HBox(children=(IntSlider(value=1, continuous_update=False, description='pi', max=1000), IntSlider(value=2, con…"
      ]
     },
     "metadata": {},
     "output_type": "display_data"
    },
    {
     "data": {
      "application/vnd.jupyter.widget-view+json": {
       "model_id": "4f7807251e714bc48a331fb8b18de889",
       "version_major": 2,
       "version_minor": 0
      },
      "text/plain": [
       "HBox(children=(FloatSlider(value=1.0, continuous_update=False, description='p_E', max=1.0),))"
      ]
     },
     "metadata": {},
     "output_type": "display_data"
    }
   ],
   "source": [
    "wn = widgets.IntSlider(min=0,max=10,step=1,value=1, description='n',continuous_update=False)\n",
    "wPR = widgets.FloatSlider(min=0,max=100,step=.5,value=1, description='PR', continuous_update=False) \n",
    "wC_r = widgets.IntSlider(min=0,max=100,step=1,value=1, description='C_r', continuous_update=False)\n",
    "\n",
    "wpi = widgets.IntSlider(min=0,max=1000,step=1,value=1, description='pi', continuous_update=False)\n",
    "wB = widgets.IntSlider(min=0,max=1000,step=1,value=2, description='B', continuous_update=False)\n",
    "wp_v = widgets.FloatSlider(min=0,max=1,step=.1,value=1, description='p_v', continuous_update=False) # how often JC verifies\n",
    "wC_v = widgets.FloatSlider(min=0,max=100,step=.1,value=0, description='C_v',continuous_update=False) # cost for JC to verify\n",
    "\n",
    "wp_E = widgets.FloatSlider(min=0,max=1,step=.1,value=1,description='p_E', continuous_update=False) # probability that RP runs correctly\n",
    "\n",
    "\n",
    "ui1 = widgets.HBox([wn,wPR, wC_r])\n",
    "ui2 = widgets.HBox([wpi,wB,wp_v,wC_v])\n",
    "ui3 = widgets.HBox([wp_E])\n",
    "\n",
    "# interactive_plot = widgets.interactive(plot, n=wn,PR=wPR,NDPR=wNDPR,pi=wpi,p_v=wp_v,cj=wcj, p_E=wp_E,roi=wroi,Insurance=winsurance);\n",
    "interactive_plotFinal = widgets.interactive_output(plot,{'n':wn,'PR':wPR,'C_r':wC_r,   'pi':wpi,'B':wB,'p_V':wp_v,'C_v':wC_v,       'p_E':wp_E});\n",
    "\n",
    "# interactive_plotFinal.layout.height = '600px'\n",
    "\n",
    "display(interactive_plotFinal,ui1,ui2,ui3)"
   ]
  },
  {
   "cell_type": "code",
   "execution_count": null,
   "metadata": {},
   "outputs": [],
   "source": []
  }
 ],
 "metadata": {
  "kernelspec": {
   "display_name": "Python 3",
   "language": "python",
   "name": "python3"
  },
  "language_info": {
   "codemirror_mode": {
    "name": "ipython",
    "version": 3
   },
   "file_extension": ".py",
   "mimetype": "text/x-python",
   "name": "python",
   "nbconvert_exporter": "python",
   "pygments_lexer": "ipython3",
   "version": "3.6.6"
  }
 },
 "nbformat": 4,
 "nbformat_minor": 2
}
