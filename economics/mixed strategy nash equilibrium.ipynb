{
 "cells": [
  {
   "cell_type": "code",
   "execution_count": 23,
   "metadata": {},
   "outputs": [
    {
     "name": "stdout",
     "output_type": "stream",
     "text": [
      "probability of RP executing job\n"
     ]
    },
    {
     "data": {
      "text/latex": [
       "$\\displaystyle \\frac{2 C_{d} + D p_{a}^{n} + p_{a}^{n} \\pi - 2 \\pi}{2 C_{d} + D p_{a}^{n + 1} + p_{a}^{n + 1} \\pi - 2 \\pi}$"
      ],
      "text/plain": [
       "(2*C_d + D*p_a**n + p_a**n*pi - 2*pi)/(2*C_d + D*p_a**(n + 1) + p_a**(n + 1)*pi - 2*pi)"
      ]
     },
     "metadata": {},
     "output_type": "display_data"
    },
    {
     "name": "stdout",
     "output_type": "stream",
     "text": [
      "probability of JC verifying job\n"
     ]
    },
    {
     "data": {
      "text/latex": [
       "$\\displaystyle \\frac{B}{p_{a} \\left(C_{r} p_{a}^{n} - C_{r} + D p_{a}^{n} - D + p_{a}^{n} \\pi + \\pi\\right)}$"
      ],
      "text/plain": [
       "B/(p_a*(C_r*p_a**n - C_r + D*p_a**n - D + p_a**n*pi + pi))"
      ]
     },
     "metadata": {},
     "output_type": "display_data"
    }
   ],
   "source": [
    "import sympy\n",
    "n, PR, D = sympy.symbols('n PR D', real=True)\n",
    "p_a, B, pi, C_v, Cr = sympy.symbols('p_a B pi C_v C_r', real=True)\n",
    "C_e, C_d = sympy.symbols('C_e C_d', real=True)\n",
    "sigma_e = sympy.symbols('sigma_e', real=True)\n",
    "sigma_v = sympy.symbols('sigma_v', real=True)\n",
    "\n",
    "# D = pi*PR + pi*n\n",
    "# D = pi*(PR + n)\n",
    "\n",
    "R1 = p_a*(B-pi-C_v) + (1-p_a)*( (p_a**n)*(B+pi-C_v) + (1-p_a**n)*(B-D-C_r-C_v))\n",
    "R2 = B - pi\n",
    "R3 = (p_a**n)*(-C_v+pi) + (1-p_a**n)*(-C_r-C_v-D)\n",
    "R4 = -pi\n",
    "\n",
    "J1 = p_a*(pi-C_e) + (1-p_a)*( (p_a**n)*(-C_e-D) + (1-p_a**n)*(pi-C_e))\n",
    "J2 = pi - C_e\n",
    "J3 = (p_a**n)*(-C_d-D) + (1-p_a**n)*(-C_d+pi)\n",
    "J4 = C_d-pi\n",
    "                                    \n",
    "\n",
    "Rstrat = sigma_e*J1 + (1-sigma_e)*J3 -( (sigma_e)*J2 + (1-sigma_e)*J4 )\n",
    "\n",
    "sige = sympy.solve([Rstrat], [sigma_e])\n",
    "\n",
    "print(\"probability of RP executing job\")\n",
    "display(sige[sigma_e])\n",
    "\n",
    "Jstrat = sigma_v*R1 + (1-sigma_v)*R2 -( (sigma_v)*R3 + (1-sigma_v)*R4 )\n",
    "\n",
    "sigv = sympy.solve([Jstrat], [sigma_v])\n",
    "\n",
    "print(\"probability of JC verifying job\")\n",
    "display(sigv[sigma_v])\n",
    "\n"
   ]
  },
  {
   "cell_type": "markdown",
   "metadata": {},
   "source": [
    "1. Replace D with pi*(PR + n)\n",
    "1. plug in values for n, PR, C_d(0), pi, B(pi), C_r(0) \n",
    "1. only variable remaining is p_a\n",
    "1. E[e] = R1+R2\n",
    "1. E[v] = J1+J3\n",
    "1. choose p_a to optimize E[v]\n",
    "1. is E[e] still positive?\n",
    "1. Can RP guess p_a?\n",
    "\n",
    "Show that \n",
    "1. there exists PR,n such that the JC can set p(A) to get postive utility, and \n",
    "1. RP can assume a value for p(A) that provides a utility no worse than the utility given the actual value chosen by the JC \n"
   ]
  }
 ],
 "metadata": {
  "kernelspec": {
   "display_name": "Python 3",
   "language": "python",
   "name": "python3"
  },
  "language_info": {
   "codemirror_mode": {
    "name": "ipython",
    "version": 3
   },
   "file_extension": ".py",
   "mimetype": "text/x-python",
   "name": "python",
   "nbconvert_exporter": "python",
   "pygments_lexer": "ipython3",
   "version": "3.6.8"
  }
 },
 "nbformat": 4,
 "nbformat_minor": 2
}
