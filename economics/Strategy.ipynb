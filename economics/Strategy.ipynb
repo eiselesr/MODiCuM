{
 "cells": [
  {
   "cell_type": "code",
   "execution_count": 1,
   "metadata": {},
   "outputs": [],
   "source": [
    "from __future__ import print_function\n",
    "import ipywidgets as widgets \n",
    "import util\n",
    "import sympy"
   ]
  },
  {
   "cell_type": "code",
   "execution_count": 2,
   "metadata": {},
   "outputs": [],
   "source": [
    "sn, sPR, sp_a, sB, spi, sp_v, sC_v, sp_E, sC_r= sympy.symbols('n PR p_a B pi p_v C_v p_E C_r', real=True)\n",
    "rn,rPR,rp_a,rpi,rp_v,rC_f,rp_E, rec, = sympy.symbols('n PR p_a pi p_v C_f p_E ec')\n",
    "\n",
    "RU = util.RPU(rn,rPR,rp_a,rpi,rp_v,rC_f,rp_E, rec)\n",
    "LRU = RU.subs({rp_a:1 })\n",
    "JU = util.JCU(sn,sPR,sC_r,   sp_a,sB,spi,sp_v,sC_v,   sp_E)\n",
    "LJU = JU.subs({sp_a:1 })"
   ]
  },
  {
   "cell_type": "code",
   "execution_count": 3,
   "metadata": {},
   "outputs": [],
   "source": [
    "dLJU = sympy.diff(LJU,sp_v)\n",
    "dLRU = sympy.diff(LRU,rp_E)"
   ]
  },
  {
   "cell_type": "code",
   "execution_count": 4,
   "metadata": {},
   "outputs": [],
   "source": [
    "# MEDIATOR/PLATFORM\n",
    "wn = widgets.IntSlider(min=0,max=10,step=1,value=1, description='n',continuous_update=False)\n",
    "wPR = widgets.FloatSlider(min=0,max=100,step=.5,value=1, description='PR', continuous_update=False) \n",
    "wC_r = widgets.IntSlider(min=0,max=100,step=1,value=1, description='C_r', continuous_update=False)\n",
    "wx = widgets.IntSlider(min=0,max=100,step=5,value=51, description='x', continuous_update=False)\n",
    "# JC\n",
    "wpi = widgets.IntSlider(min=0,max=1000,step=1,value=1, description='pi', continuous_update=False)\n",
    "wB = widgets.IntSlider(min=0,max=1000,step=1,value=1, description='B', continuous_update=False)\n",
    "wp_v = widgets.FloatSlider(min=0,max=1,step=.1,value=1, description='p_v', continuous_update=False) # how often JC verifies\n",
    "wC_v = widgets.FloatSlider(min=0,max=100,step=1,value=1, description='C_v',continuous_update=False) # cost for JC to verify\n",
    "# RP\n",
    "wp_E = widgets.FloatSlider(min=0,max=1,step=.1,value=1,description='p_E', continuous_update=False) # probability that RP runs correctly\n",
    "wC_f =widgets.FloatSlider(min=0,max=100,step=1,value=1, description='C_F', continuous_update=False)\n",
    "wec = widgets.FloatSlider(min=0,max=300,step=.5,value=1, description='ec', continuous_update=False) #Penalty Rate\n",
    "\n",
    "ui1 = widgets.VBox([wn,wPR, wC_r])\n",
    "ui2 = widgets.VBox([wpi,wB,wp_v,wC_v])\n",
    "ui3 = widgets.VBox([wp_E,wC_f,wec])\n",
    "\n",
    "ui = widgets.HBox([ui1,ui2,ui3])"
   ]
  },
  {
   "cell_type": "code",
   "execution_count": 5,
   "metadata": {},
   "outputs": [
    {
     "data": {
      "application/vnd.jupyter.widget-view+json": {
       "model_id": "560cf26004ca4011a943bfd31b893e51",
       "version_major": 2,
       "version_minor": 0
      },
      "text/plain": [
       "VBox(children=(HBox(children=(VBox(children=(IntSlider(value=1, continuous_update=False, description='n', max=…"
      ]
     },
     "metadata": {},
     "output_type": "display_data"
    }
   ],
   "source": [
    "plotter = util.plotter(\"p_a\")\n",
    "myplot = widgets.interactive_output(plotter.trace,{'n':wn,'PR':wPR,'C_r':wC_r,   'pi':wpi,'B':wB,'p_v':wp_v,'C_v':wC_v,  'C_f':wC_f,'p_E':wp_E,'ec':wec});\n",
    "\n",
    "# interactive_plotFinal.layout.height = '600px'\n",
    "\n",
    "display(widgets.VBox([ui,myplot]))"
   ]
  },
  {
   "cell_type": "code",
   "execution_count": null,
   "metadata": {},
   "outputs": [],
   "source": []
  }
 ],
 "metadata": {
  "kernelspec": {
   "display_name": "Python 3",
   "language": "python",
   "name": "python3"
  },
  "language_info": {
   "codemirror_mode": {
    "name": "ipython",
    "version": 3
   },
   "file_extension": ".py",
   "mimetype": "text/x-python",
   "name": "python",
   "nbconvert_exporter": "python",
   "pygments_lexer": "ipython3",
   "version": "3.6.6"
  }
 },
 "nbformat": 4,
 "nbformat_minor": 2
}
