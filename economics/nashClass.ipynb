{
 "cells": [
  {
   "cell_type": "code",
   "execution_count": 1,
   "metadata": {},
   "outputs": [],
   "source": [
    "import sympy\n",
    "import ipywidgets\n",
    "import numpy as np\n",
    "import matplotlib.pyplot as plt\n",
    "import nashpy"
   ]
  },
  {
   "cell_type": "code",
   "execution_count": 2,
   "metadata": {},
   "outputs": [],
   "source": [
    "\n",
    "class eq():\n",
    "    def __init__(self):\n",
    "        points = 101\n",
    "        self.x,step = np.linspace(0,1,points,retstep=True)        \n",
    "        \n",
    "        \n",
    "        #--- Symbolic symbols used in expected utility functions\n",
    "        # n, PR,C_r, D, p_a, B, pi, C_v, p_v, C_e, C_d, p_e\n",
    "        self.n, self.PR, self.C_r, self.D, self.r = sympy.symbols('n PR C_r D r', real=True)\n",
    "        self.p_a, self.B, self.pi, self.C_v,  = sympy.symbols('p_a B pi C_v', real=True)\n",
    "        self.C_e, self.C_d = sympy.symbols('C_e C_d', real=True)\n",
    "        \n",
    "        self.se = sympy.symbols('sigma_e', real=True)\n",
    "        self.sv = sympy.symbols('sigma_v', real=True)\n",
    "        \n",
    "        \n",
    "    def findNashEq(self, n, PR, p_a, B, pi, C_v, C_r, C_e, C_d):\n",
    "        '''This function solves for the mixed strategy of the JC and RP. \n",
    "        sigma_e : the probability that the RP will execute the job\n",
    "        1-sigma_e: the probability that the RP will not execute the job\n",
    "        sigma_v: the probability that the JC will verify the result\n",
    "        1-sigma_v: the probability that the JC will not verify the result'''\n",
    "#         n, PR,C_r, D, p_a, B, pi, C_v, p_v, C_e, C_d, p_e\n",
    "        \n",
    "        \n",
    "        \n",
    "        \n",
    "        D = pi*(PR + n)\n",
    "        \n",
    "        # J1 and J3, JC verifies\n",
    "        # J2 and J4, JC does not verify\n",
    "        J1,J2,J3,J4 = self.JCU(n, D, p_a, B, pi, C_v, C_r)\n",
    "        \n",
    "        # Ev: JC's expected value for verifying the result\n",
    "        Ev = sigma_e*J1 + (1-sigma_e)*J3\n",
    "        print(\"E[v]\")\n",
    "        display(Ev)\n",
    "        # Ep: JC's expected value for not verifying the result\n",
    "        Ep = sigma_e*J2 + (1-sigma_e)*J4 \n",
    "        # RP solves for sigma_e such that the JC is ambivalent between verifying and not verifying by setting the two expected values equal to each other\n",
    "        nse = sympy.solve([Ev - Ep], [sigma_e])[sigma_e]\n",
    "        \n",
    "        # Substitute nse(nash equlibrium sigma_e) back in to JC's expected utility function\n",
    "        print(\"E[v] with nse\")\n",
    "        Evne = nse*J1 + (1-nse)*J3\n",
    "        display(Evne.expand().simplify())\n",
    "        \n",
    "        # R1 and R2, RP executes \n",
    "        # R3 and R4, RP does not execute\n",
    "        R1,R2,R3,R4 = self.RPU(n, D, p_a, pi, C_e, C_d)\n",
    "        # Ee: RP's expected value for executing the job\n",
    "        Ee = sigma_v*R1 + (1-sigma_v)*R2\n",
    "        print(\"E[e]\")\n",
    "        display(Ee)\n",
    "        # Ed: RP's expected value for sending a deceiving result\n",
    "        Ed = sigma_v*R3 + (1-sigma_v)*R4\n",
    "        # JC solve sor sigma_v such that the RP is ambivalent between executing and deceiving \n",
    "        nsv = sympy.solve([Ee - Ed], [sigma_v])[sigma_v]\n",
    "        \n",
    "        \n",
    "        # Verify that when substituting nse back in the JC expected values are equal.\n",
    "        check_e = nse*J1 + (1-nse)*J3 - ( nse*J2 + (1-nse)*J4 )\n",
    "        print(\"e is equilibrium: {}, check is {}\".format(check_e.simplify()==sympy.numbers.Zero, check_e.simplify()))\n",
    "        \n",
    "        \n",
    "        return nse, nsv\n",
    "        \n",
    "    def JCU(self, n, D, r, p_a, B, pi, C_v, C_r):\n",
    "        '''The JC's utility functions'''\n",
    "        J1 = p_a*(B-pi-C_v) + (1-p_a)*( (p_a**n)*(B+r-C_v) + (1-p_a**n)*(B-D-C_r-C_v))\n",
    "        J2 = B - pi\n",
    "        J3 = (p_a**n)*(r-C_v) + (1-p_a**n)*(-C_r-C_v-D)\n",
    "        J4 = -pi\n",
    "        \n",
    "        return J1, J2, J3, J4\n",
    "    \n",
    "#     def RPU(self, p_a, pi, C_e, C_d, n, D):\n",
    "    def RPU(self, n, D, r, p_a, pi, C_e, C_d):\n",
    "        '''The RP's utility functions'''\n",
    "        R0 = p_a*(pi-C_e) + (1-p_a)*( (p_a**n)*(-C_e-D) + (1-p_a**n)*(r-C_e))\n",
    "        R1 = pi - C_e\n",
    "        R2 = (p_a**n)*(-C_d-D) + (1-p_a**n)*(r-C_d)\n",
    "        R3 = pi-C_d\n",
    "        \n",
    "        return R0, R1, R2, R3\n",
    "    \n",
    "        "
   ]
  },
  {
   "cell_type": "code",
   "execution_count": 3,
   "metadata": {},
   "outputs": [],
   "source": [
    "e = eq()"
   ]
  },
  {
   "cell_type": "code",
   "execution_count": 20,
   "metadata": {},
   "outputs": [
    {
     "data": {
      "text/latex": [
       "$\\displaystyle p_{a} p_{a}^{n} \\pi \\left(PR + n + 1\\right)$"
      ],
      "text/plain": [
       "p_a*p_a**n*pi*(PR + n + 1)"
      ]
     },
     "metadata": {},
     "output_type": "display_data"
    },
    {
     "data": {
      "text/latex": [
       "$\\displaystyle - C_{d} + C_{e}$"
      ],
      "text/plain": [
       "-C_d + C_e"
      ]
     },
     "metadata": {},
     "output_type": "display_data"
    },
    {
     "data": {
      "text/latex": [
       "$\\displaystyle - C_{e} + \\pi$"
      ],
      "text/plain": [
       "-C_e + pi"
      ]
     },
     "metadata": {},
     "output_type": "display_data"
    },
    {
     "data": {
      "text/latex": [
       "$\\displaystyle - C_{d} + \\pi$"
      ],
      "text/plain": [
       "-C_d + pi"
      ]
     },
     "metadata": {},
     "output_type": "display_data"
    }
   ],
   "source": [
    "\n",
    "D = e.pi*(e.PR + e.n)\n",
    "r = e.pi\n",
    "\n",
    "RU = e.RPU(e.n, D, r, e.p_a, e.pi, e.C_e, e.C_d)\n",
    "# for ix, u in enumerate(RU):\n",
    "#     print(\"RU: {}\".format(ix))\n",
    "#     display(u)\n",
    "    \n",
    "# left\n",
    "# display(RU[0].expand())\n",
    "# display(RU[2].expand())\n",
    "\n",
    "# shared = -e.C_e  -e.D*e.p_a**e.n - e.p_a**e.n*e.r + e.r\n",
    "# shared = -e.C_e  -e.PR*e.p_a**e.n*e.pi - e.n*e.p_a**e.n*e.pi - e.p_a**e.n*e.r + e.r\n",
    "shared = -e.C_e  -e.PR*e.p_a**e.n*e.pi - e.n*e.p_a**e.n*e.pi - e.p_a**e.n*e.pi + e.pi\n",
    "\n",
    "display((RU[0].expand() - shared).collect(e.p_a).collect(e.p_a**e.n).collect(e.pi))\n",
    "display(RU[2].expand() - shared)\n",
    "\n",
    "\n",
    "# right\n",
    "display(RU[1].expand())\n",
    "display(RU[3].expand()) # *"
   ]
  },
  {
   "cell_type": "code",
   "execution_count": 5,
   "metadata": {},
   "outputs": [
    {
     "name": "stdout",
     "output_type": "stream",
     "text": [
      "JU: 0\n"
     ]
    },
    {
     "data": {
      "text/latex": [
       "$\\displaystyle p_{a} \\left(B - C_{v} - \\pi\\right) + \\left(1 - p_{a}\\right) \\left(p_{a}^{n} \\left(B - C_{v} + r\\right) + \\left(1 - p_{a}^{n}\\right) \\left(B - C_{r} - C_{v} - D\\right)\\right)$"
      ],
      "text/plain": [
       "p_a*(B - C_v - pi) + (1 - p_a)*(p_a**n*(B - C_v + r) + (1 - p_a**n)*(B - C_r - C_v - D))"
      ]
     },
     "metadata": {},
     "output_type": "display_data"
    },
    {
     "name": "stdout",
     "output_type": "stream",
     "text": [
      "JU: 1\n"
     ]
    },
    {
     "data": {
      "text/latex": [
       "$\\displaystyle B - \\pi$"
      ],
      "text/plain": [
       "B - pi"
      ]
     },
     "metadata": {},
     "output_type": "display_data"
    },
    {
     "name": "stdout",
     "output_type": "stream",
     "text": [
      "JU: 2\n"
     ]
    },
    {
     "data": {
      "text/latex": [
       "$\\displaystyle p_{a}^{n} \\left(- C_{v} + r\\right) + \\left(1 - p_{a}^{n}\\right) \\left(- C_{r} - C_{v} - D\\right)$"
      ],
      "text/plain": [
       "p_a**n*(-C_v + r) + (1 - p_a**n)*(-C_r - C_v - D)"
      ]
     },
     "metadata": {},
     "output_type": "display_data"
    },
    {
     "name": "stdout",
     "output_type": "stream",
     "text": [
      "JU: 3\n"
     ]
    },
    {
     "data": {
      "text/latex": [
       "$\\displaystyle - \\pi$"
      ],
      "text/plain": [
       "-pi"
      ]
     },
     "metadata": {},
     "output_type": "display_data"
    }
   ],
   "source": [
    "JU = e.JCU(e.n, e.D, e.r, e.p_a, e.B, e.pi, e.C_v, e.C_r)\n",
    "for ix, u in enumerate(JU):\n",
    "    print(\"JU: {}\".format(ix))\n",
    "    display(u)"
   ]
  },
  {
   "cell_type": "code",
   "execution_count": null,
   "metadata": {},
   "outputs": [],
   "source": []
  }
 ],
 "metadata": {
  "kernelspec": {
   "display_name": "Python 3",
   "language": "python",
   "name": "python3"
  },
  "language_info": {
   "codemirror_mode": {
    "name": "ipython",
    "version": 3
   },
   "file_extension": ".py",
   "mimetype": "text/x-python",
   "name": "python",
   "nbconvert_exporter": "python",
   "pygments_lexer": "ipython3",
   "version": "3.6.8"
  }
 },
 "nbformat": 4,
 "nbformat_minor": 2
}
