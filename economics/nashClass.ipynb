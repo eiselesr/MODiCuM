{
 "cells": [
  {
   "cell_type": "code",
   "execution_count": 1,
   "metadata": {},
   "outputs": [],
   "source": [
    "import sympy\n",
    "import ipywidgets\n",
    "import numpy as np\n",
    "import matplotlib.pyplot as plt"
   ]
  },
  {
   "cell_type": "code",
   "execution_count": 2,
   "metadata": {},
   "outputs": [],
   "source": [
    "\n",
    "class eq():\n",
    "    def __init__(self):\n",
    "        points = 101\n",
    "        self.x,step = np.linspace(0,1,points,retstep=True)        \n",
    "        \n",
    "        self.wn = ipywidgets.IntSlider(min=0,max=10,step=1,value=1, description='n',continuous_update=False)\n",
    "        self.wPR = ipywidgets.IntSlider(min=0,max=10,step=1,value=2, description='PR', continuous_update=False) \n",
    "        self.wC_r = ipywidgets.IntSlider(min=0,max=100,step=1,value=0, description='C_r', continuous_update=False)\n",
    "\n",
    "        self.wp_a = ipywidgets.FloatSlider(min=0, max=1, step=.1, value=1, description='p_a', continuous_update=False)\n",
    "        self.wB = ipywidgets.IntSlider(min=0,max=100,step=1,value=1, description='B', continuous_update=False)\n",
    "        self.wpi = ipywidgets.IntSlider(min=0,max=100,step=1,value=1, description='pi', continuous_update=False)\n",
    "        self.wC_v = ipywidgets.IntSlider(min=0,max=100,step=1,value=0, description='C_v',continuous_update=False) # cost for JC to verify\n",
    "        self.wp_v = ipywidgets.FloatSlider(min=0, max=1, step=.1, value=1, description='p_v', continuous_update=False)\n",
    "\n",
    "        \n",
    "        self.wC_e = ipywidgets.IntSlider(min=0,max=10,step=1,value=0, description='C_e',continuous_update=False) # cost for RP to execute\n",
    "        self.wC_d = ipywidgets.IntSlider(min=0,max=10,step=1,value=0, description='C_d',continuous_update=False) # cost for RP to deceive\n",
    "        self.wp_e = ipywidgets.FloatSlider(min=0, max=1, step=.1, value=1, description='p_e', continuous_update=False)\n",
    "\n",
    "        self.ui1 = ipywidgets.HBox([self.wn,self.wPR, self.wC_r])\n",
    "        self.ui2 = ipywidgets.HBox([self.wp_a, self.wB,self.wpi,self.wC_v, self.wp_v])\n",
    "        self.ui3 = ipywidgets.HBox([self.wC_e,self.wC_d, self.wp_e])\n",
    "        \n",
    "        \n",
    "        # n, PR,C_r, D, p_a, B, pi, C_v, p_v, C_e, C_d, p_e\n",
    "        self.n, self.PR, self.C_r, self.D = sympy.symbols('n PR C_r D', real=True)\n",
    "        self.p_a, self.B, self.pi, self.C_v,  = sympy.symbols('p_a B pi C_v', real=True)\n",
    "        self.C_e, self.C_d = sympy.symbols('C_e C_d', real=True)\n",
    "        \n",
    "        \n",
    "    def findNashEq(self, n, PR, p_a, B, pi, C_v, C_r, C_e, C_d):\n",
    "#         n, PR,C_r, D, p_a, B, pi, C_v, p_v, C_e, C_d, p_e\n",
    "        \n",
    "        sigma_e = sympy.symbols('sigma_e', real=True)\n",
    "        sigma_v = sympy.symbols('sigma_v', real=True)\n",
    "        \n",
    "        \n",
    "        D = pi*(PR + n)\n",
    "        \n",
    "        J1,J2,J3,J4 = self.JCU(n, D, p_a, B, pi, C_v, C_r)\n",
    "        Ev = sigma_e*J1 + (1-sigma_e)*J3\n",
    "        print(\"E[v]\")\n",
    "        display(Ev)\n",
    "        Ep = sigma_e*J2 + (1-sigma_e)*J4 \n",
    "        nse = sympy.solve([Ev - Ep], [sigma_e])[sigma_e]\n",
    "        \n",
    "        print(\"E[v] with nse\")\n",
    "        Evne = nse*J1 + (1-nse)*J3\n",
    "        display(Evne.expand().simplify())\n",
    "        \n",
    "        R1,R2,R3,R4 = self.RPU(n, D, p_a, pi, C_e, C_d)\n",
    "        Ee = sigma_v*R1 + (1-sigma_v)*R2\n",
    "        print(\"E[e]\")\n",
    "        display(Ee)\n",
    "        Ed = sigma_v*R3 + (1-sigma_v)*R4\n",
    "        nsv = sympy.solve([Ee - Ed], [sigma_v])[sigma_v]\n",
    "        \n",
    "        \n",
    "        \n",
    "        check_e = nse*J1 + (1-nse)*J3 - ( nse*J2 + (1-nse)*J4 )\n",
    "        print(\"e is equilibrium: {}, check is {}\".format(check_e.simplify()==sympy.numbers.Zero, check_e.simplify()))\n",
    "        \n",
    "        \n",
    "        return nse, nsv\n",
    "        \n",
    "    def JCU(self, n, D, p_a, B, pi, C_v, C_r):\n",
    "        \n",
    "        J1 = p_a*(B-pi-C_v) + (1-p_a)*( (p_a**n)*(B+pi-C_v) + (1-p_a**n)*(B-D-C_r-C_v))\n",
    "        J2 = B - pi\n",
    "        J3 = (p_a**n)*(-C_v+pi) + (1-p_a**n)*(-C_r-C_v-D)\n",
    "        J4 = -pi\n",
    "        \n",
    "        return J1, J2, J3, J4\n",
    "    \n",
    "#     def RPU(self, p_a, pi, C_e, C_d, n, D):\n",
    "    def RPU(self, n, D, p_a, pi, C_e, C_d):\n",
    "        \n",
    "        R1 = p_a*(pi-C_e) + (1-p_a)*( (p_a**n)*(-C_e-D) + (1-p_a**n)*(pi-C_e))\n",
    "        R2 = pi - C_e\n",
    "        R3 = (p_a**n)*(-C_d-D) + (1-p_a**n)*(-C_d+pi)\n",
    "        R4 = C_d-pi\n",
    "        \n",
    "        return R1, R2, R3, R4\n",
    "    \n",
    "    def getE(self, x, sigma, A, B):\n",
    "        E = sigma*A + (1-sigma)*B\n",
    "        return E.subs({self.p_a:x})\n",
    "        \n",
    "        \n",
    "        \n",
    "    def updatePlot(self, se, sv, wn, wPR, wB, wpi, wC_v, wC_r, wC_e, wC_d):\n",
    "        \n",
    "        print(wn, wPR, wpi, wC_v, wC_r, wC_e, wC_d)\n",
    "        \n",
    "        \n",
    "        self.f_nse = se.subs({self.n:wn, self.PR:wPR, self.pi:wpi, self.C_v:wC_v, self.C_r:wC_r})\n",
    "        y_nse = list(map(lambda v: \n",
    "                        float(self.f_nse.subs({self.p_a:v})), self.x))\n",
    "        print(\"y_nse\")\n",
    "        print(y_nse)\n",
    "        \n",
    "        \n",
    "        self.f_nsv = sv.subs({self.n:wn, self.PR:wPR, self.pi:wpi, self.C_e:wC_e, self.C_d:wC_d})\n",
    "        y_nsv = list(map(lambda v: \n",
    "                        float(self.f_nsv.subs({self.p_a:v})), self.x))\n",
    "        print(\"y_nsv\")\n",
    "        print(y_nsv)\n",
    "        \n",
    "        D = wpi*(wPR + wn)\n",
    "        \n",
    "        f_E = np.vectorize(self.getE)\n",
    "        \n",
    "        J1,J2,J3,J4 = self.JCU(wn, D, self.p_a, wB, wpi, wC_v, wC_r)\n",
    "        self.Ev = f_E(self.x, self.f_nse, J1, J3)\n",
    "        \n",
    "        R1,R2,R3,R4 = self.RPU(wn, D, self.p_a, wpi, wC_e, wC_d)\n",
    "        self.Ee = f_E(self.x, self.f_nsv, R1, R2)\n",
    "        \n",
    "        \n",
    "        fig = plt.figure(constrained_layout=True)\n",
    "        \n",
    "          \n",
    "        spec = fig.add_gridspec(ncols=2, nrows=2)\n",
    "\n",
    "        ax1 = fig.add_subplot(spec[0, 0])\n",
    "        ax2 = fig.add_subplot(spec[1, 0])\n",
    "#         ax3 = fig.add_subplot(spec[2:, 0])\n",
    "        ax4 = fig.add_subplot(spec[0, 1])\n",
    "        ax5 = fig.add_subplot(spec[1, 1])\n",
    "#         ax6 = fig.add_subplot(spec[2:, 1])\n",
    "\n",
    "        plt.xlabel(\"p_a\")\n",
    "    \n",
    "        ax1.plot(self.x,self.Ev, label=\"E[v]\")\n",
    "        ax1.set_ylabel('E[v]')\n",
    "        ax1.grid(visible=True)\n",
    "#         ax1.set_ylim([0,2])\n",
    "        \n",
    "        ax2.plot(self.x,y_nse, label=\"nash se\")\n",
    "        ax2.set_ylabel('P(e)')\n",
    "        ax2.grid(visible=True)\n",
    "#         ax2.set_ylim([0,2])\n",
    "        \n",
    "\n",
    "        ax4.plot(self.x,self.Ee, label=\"E[e]\")\n",
    "        ax4.set_ylabel('E[e]')\n",
    "        ax4.grid(visible=True)\n",
    "        \n",
    "        ax5.plot(self.x,y_nsv, label=\"nash sv\")\n",
    "        ax5.set_ylabel('P(v)')\n",
    "        ax5.grid(visible=True)\n",
    "#         ax5.set_ylim([0,10])\n",
    "#         ax2.set_yscale('log')\n",
    "\n",
    "    def plotEvsS(self, wn, wPR, wp_a, wB, wpi, wC_v, wC_r, wC_e, wC_d):\n",
    "        \n",
    "        \n",
    "        D = wpi*(wPR + wn)\n",
    "        J1,J2,J3,J4 = self.JCU(wn, D, wp_a, wB, wpi, wC_v, wC_r)\n",
    "        Ev = list(map(lambda s: \n",
    "                      float(s*J1+(1-s)*J3), self.x))\n",
    "        \n",
    "        \n",
    "        \n",
    "        \n",
    "        plt.plot(self.x, Ev)\n",
    "        plt.xlabel(\"sigma\")\n",
    "        plt.ylabel(\"E[v]\")\n",
    "        \n",
    "        \n",
    "        \n",
    "    \n",
    "    def plotEvsPa(self, wn, wPR, wC_r, wp_a, wB, wpi, wC_v, wp_v, wC_e, wC_d, wp_e):\n",
    "        # n, PR,C_r, D, p_a, B, pi, C_v,  C_e, C_d, p_e        \n",
    "        \n",
    "        D = wpi*(wPR + wn)\n",
    "        J1,J2,J3,J4 = self.JCU(wn, D, self.p_a, wB, wpi, wC_v, wC_r)\n",
    "        \n",
    "        Ev = wp_e*J1 + (1-wp_e)*J3\n",
    "        \n",
    "        display(Ev)\n",
    "        Ev = list(map(lambda p: \n",
    "                      float(Ev.subs({self.p_a:p})), self.x))\n",
    "        \n",
    "        plt.plot(self.x, Ev, label=\"Ev\")\n",
    "       \n",
    "      \n",
    "        \n",
    "        R1,R2,R3,R4 = self.RPU(wn, D, wp_a, wpi, wC_e, wC_d)\n",
    "        Ee = list(map(lambda s: \n",
    "                      float(s*R1+(1-s)*R2), self.x))\n",
    "        \n",
    "        plt.plot(self.x, Ee, label=\"Ee\")\n",
    "        plt.xlabel(\"p_a\")\n",
    "        plt.ylabel(\"E\")\n",
    "        \n",
    "        plt.legend()\n",
    "        plt.grid(visible=True)\n",
    "        \n",
    "        \n",
    "        my_max = max(Ev)\n",
    "        my_p_a = self.x[Ev.index(my_max)]\n",
    "        print(my_p_a)\n",
    "        \n",
    "        print(\"nsv-slider\")\n",
    "        print(nsv.subs({self.n:wn, self.PR:wPR, self.p_a:wp_a, self.pi:wpi, self.C_e:wC_e, self.C_d:wC_d}))\n",
    "        print(\"nsv-max\")\n",
    "        print(nsv.subs({self.n:wn, self.PR:wPR, self.p_a:my_p_a, self.pi:wpi, self.C_e:wC_e, self.C_d:wC_d}))\n",
    "        \n",
    "        print(\"nse-slider\")\n",
    "        print(nse.subs({self.n:wn, self.PR:wPR, self.p_a:wp_a, self.pi:wpi, self.C_v:wC_v, self.C_r:wC_r}))\n",
    "        print(\"nse-max\")\n",
    "        print(nse.subs({self.n:wn, self.PR:wPR, self.p_a:my_p_a, self.pi:wpi, self.C_v:wC_v, self.C_r:wC_r}))\n",
    "        \n",
    "\n",
    "    def plot(self):\n",
    "\n",
    "#       n, PR, D, p_a, B, pi, C_v, C_r, C_e, C_d\n",
    "\n",
    "        self.interactive_plot = ipywidgets.interactive_output(self.updatePlot, {'se':ipywidgets.fixed(nse),\n",
    "                                                                                'sv':ipywidgets.fixed(nsv),\n",
    "                                                                                'wn':self.wn,\n",
    "                                                                                'wPR':self.wPR,\n",
    "                                                                                'wB':self.wB,\n",
    "                                                                                'wpi':self.wpi,\n",
    "                                                                                'wC_v':self.wC_v,\n",
    "                                                                                'wC_r':self.wC_r,\n",
    "                                                                                'wC_e':self.wC_e,\n",
    "                                                                                'wC_d':self.wC_d})\n",
    "        display(self.interactive_plot, self.ui1, self.ui2, self.ui3)\n",
    "        \n",
    "    def plot2(self):\n",
    "        self.p2 = ipywidgets.interactive_output(self.plotEvsS, {'wn':self.wn,\n",
    "                                                                'wPR':self.wPR,\n",
    "                                                                'wp_a':self.wp_a,\n",
    "                                                                'wB':self.wB,\n",
    "                                                                'wpi':self.wpi,\n",
    "                                                                'wC_v':self.wC_v,\n",
    "                                                                'wC_r':self.wC_r,\n",
    "                                                                'wC_e':self.wC_e, \n",
    "                                                                'wC_d':self.wC_d})\n",
    "        display(self.p2, self.ui1, self.ui2, self.ui3)\n",
    "        \n",
    "    def plot3(self):\n",
    "        self.p3 = ipywidgets.interactive_output(self.plotEvsPa, {'wn':self.wn,\n",
    "                                                                'wPR':self.wPR,\n",
    "                                                                'wC_r':self.wC_r,\n",
    "                                                                 \n",
    "                                                                'wp_a':self.wp_a,\n",
    "                                                                'wB':self.wB,\n",
    "                                                                'wpi':self.wpi,                                                                \n",
    "                                                                'wC_v':self.wC_v,\n",
    "                                                                'wp_v':self.wp_v,\n",
    "                                                                \n",
    "                                                                'wC_e':self.wC_e, \n",
    "                                                                'wC_d':self.wC_d,\n",
    "                                                                'wp_e':self.wp_e})\n",
    "        display(self.p3, self.ui1, self.ui2, self.ui3)\n",
    "        \n",
    "        "
   ]
  },
  {
   "cell_type": "code",
   "execution_count": 3,
   "metadata": {},
   "outputs": [],
   "source": [
    "e = eq()"
   ]
  },
  {
   "cell_type": "code",
   "execution_count": 4,
   "metadata": {},
   "outputs": [
    {
     "name": "stdout",
     "output_type": "stream",
     "text": [
      "E[v]\n"
     ]
    },
    {
     "data": {
      "text/latex": [
       "$\\displaystyle \\sigma_{e} \\left(p_{a} \\left(B - C_{v} - \\pi\\right) + \\left(1 - p_{a}\\right) \\left(p_{a}^{n} \\left(B - C_{v} + \\pi\\right) + \\left(1 - p_{a}^{n}\\right) \\left(B - C_{r} - C_{v} - \\pi \\left(PR + n\\right)\\right)\\right)\\right) + \\left(1 - \\sigma_{e}\\right) \\left(p_{a}^{n} \\left(- C_{v} + \\pi\\right) + \\left(1 - p_{a}^{n}\\right) \\left(- C_{r} - C_{v} - \\pi \\left(PR + n\\right)\\right)\\right)$"
      ],
      "text/plain": [
       "sigma_e*(p_a*(B - C_v - pi) + (1 - p_a)*(p_a**n*(B - C_v + pi) + (1 - p_a**n)*(B - C_r - C_v - pi*(PR + n)))) + (1 - sigma_e)*(p_a**n*(-C_v + pi) + (1 - p_a**n)*(-C_r - C_v - pi*(PR + n)))"
      ]
     },
     "metadata": {},
     "output_type": "display_data"
    },
    {
     "name": "stdout",
     "output_type": "stream",
     "text": [
      "E[v] with nse\n"
     ]
    },
    {
     "data": {
      "text/latex": [
       "$\\displaystyle \\frac{B C_{r} p_{a}^{n} - B C_{r} - B C_{v} + B PR p_{a}^{n} \\pi - B PR \\pi + B n p_{a}^{n} \\pi - B n \\pi + B p_{a}^{n} \\pi + B \\pi + C_{r} p_{a} \\pi - C_{r} p_{a}^{n + 1} \\pi + PR p_{a} \\pi^{2} - PR p_{a}^{n + 1} \\pi^{2} + n p_{a} \\pi^{2} - n p_{a}^{n + 1} \\pi^{2} - p_{a} \\pi^{2} - p_{a}^{n + 1} \\pi^{2}}{p_{a} \\left(C_{r} p_{a}^{n} - C_{r} + PR p_{a}^{n} \\pi - PR \\pi + n p_{a}^{n} \\pi - n \\pi + p_{a}^{n} \\pi + \\pi\\right)}$"
      ],
      "text/plain": [
       "(B*C_r*p_a**n - B*C_r - B*C_v + B*PR*p_a**n*pi - B*PR*pi + B*n*p_a**n*pi - B*n*pi + B*p_a**n*pi + B*pi + C_r*p_a*pi - C_r*p_a**(n + 1)*pi + PR*p_a*pi**2 - PR*p_a**(n + 1)*pi**2 + n*p_a*pi**2 - n*p_a**(n + 1)*pi**2 - p_a*pi**2 - p_a**(n + 1)*pi**2)/(p_a*(C_r*p_a**n - C_r + PR*p_a**n*pi - PR*pi + n*p_a**n*pi - n*pi + p_a**n*pi + pi))"
      ]
     },
     "metadata": {},
     "output_type": "display_data"
    },
    {
     "name": "stdout",
     "output_type": "stream",
     "text": [
      "E[e]\n"
     ]
    },
    {
     "data": {
      "text/latex": [
       "$\\displaystyle \\sigma_{v} \\left(p_{a} \\left(- C_{e} + \\pi\\right) + \\left(1 - p_{a}\\right) \\left(p_{a}^{n} \\left(- C_{e} - \\pi \\left(PR + n\\right)\\right) + \\left(1 - p_{a}^{n}\\right) \\left(- C_{e} + \\pi\\right)\\right)\\right) + \\left(1 - \\sigma_{v}\\right) \\left(- C_{e} + \\pi\\right)$"
      ],
      "text/plain": [
       "sigma_v*(p_a*(-C_e + pi) + (1 - p_a)*(p_a**n*(-C_e - pi*(PR + n)) + (1 - p_a**n)*(-C_e + pi))) + (1 - sigma_v)*(-C_e + pi)"
      ]
     },
     "metadata": {},
     "output_type": "display_data"
    },
    {
     "name": "stdout",
     "output_type": "stream",
     "text": [
      "e is equilibrium: True, check is 0\n"
     ]
    }
   ],
   "source": [
    "nse, nsv = e.findNashEq(e.n, e.PR, e.p_a, e.B, e.pi, e.C_v, e.C_r, e.C_e, e.C_d)\n",
    "# display(nse)\n",
    "# display(nsv)\n",
    "\n",
    "\n"
   ]
  },
  {
   "cell_type": "code",
   "execution_count": 5,
   "metadata": {},
   "outputs": [
    {
     "data": {
      "application/vnd.jupyter.widget-view+json": {
       "model_id": "116a372b38004f84b40dc2334175c88c",
       "version_major": 2,
       "version_minor": 0
      },
      "text/plain": [
       "Output()"
      ]
     },
     "metadata": {},
     "output_type": "display_data"
    },
    {
     "data": {
      "application/vnd.jupyter.widget-view+json": {
       "model_id": "0893a7b99a2c4932b14266d6a6f4d532",
       "version_major": 2,
       "version_minor": 0
      },
      "text/plain": [
       "HBox(children=(IntSlider(value=1, continuous_update=False, description='n', max=10), IntSlider(value=2, contin…"
      ]
     },
     "metadata": {},
     "output_type": "display_data"
    },
    {
     "data": {
      "application/vnd.jupyter.widget-view+json": {
       "model_id": "886974f2caf54abea5828991427b5fda",
       "version_major": 2,
       "version_minor": 0
      },
      "text/plain": [
       "HBox(children=(FloatSlider(value=1.0, continuous_update=False, description='p_a', max=1.0), IntSlider(value=1,…"
      ]
     },
     "metadata": {},
     "output_type": "display_data"
    },
    {
     "data": {
      "application/vnd.jupyter.widget-view+json": {
       "model_id": "95173bd4c29741e89fa481900179cc99",
       "version_major": 2,
       "version_minor": 0
      },
      "text/plain": [
       "HBox(children=(IntSlider(value=0, continuous_update=False, description='C_e', max=10), IntSlider(value=0, cont…"
      ]
     },
     "metadata": {},
     "output_type": "display_data"
    }
   ],
   "source": [
    "e.plot()"
   ]
  },
  {
   "cell_type": "code",
   "execution_count": 6,
   "metadata": {},
   "outputs": [
    {
     "data": {
      "application/vnd.jupyter.widget-view+json": {
       "model_id": "b5b4b3b8c5794e1686fc95bd3a0d5f2c",
       "version_major": 2,
       "version_minor": 0
      },
      "text/plain": [
       "Output()"
      ]
     },
     "metadata": {},
     "output_type": "display_data"
    },
    {
     "data": {
      "application/vnd.jupyter.widget-view+json": {
       "model_id": "0893a7b99a2c4932b14266d6a6f4d532",
       "version_major": 2,
       "version_minor": 0
      },
      "text/plain": [
       "HBox(children=(IntSlider(value=1, continuous_update=False, description='n', max=10), IntSlider(value=2, contin…"
      ]
     },
     "metadata": {},
     "output_type": "display_data"
    },
    {
     "data": {
      "application/vnd.jupyter.widget-view+json": {
       "model_id": "886974f2caf54abea5828991427b5fda",
       "version_major": 2,
       "version_minor": 0
      },
      "text/plain": [
       "HBox(children=(FloatSlider(value=1.0, continuous_update=False, description='p_a', max=1.0), IntSlider(value=1,…"
      ]
     },
     "metadata": {},
     "output_type": "display_data"
    },
    {
     "data": {
      "application/vnd.jupyter.widget-view+json": {
       "model_id": "95173bd4c29741e89fa481900179cc99",
       "version_major": 2,
       "version_minor": 0
      },
      "text/plain": [
       "HBox(children=(IntSlider(value=0, continuous_update=False, description='C_e', max=10), IntSlider(value=0, cont…"
      ]
     },
     "metadata": {},
     "output_type": "display_data"
    }
   ],
   "source": [
    "e.plot3()"
   ]
  },
  {
   "cell_type": "code",
   "execution_count": null,
   "metadata": {},
   "outputs": [],
   "source": []
  }
 ],
 "metadata": {
  "kernelspec": {
   "display_name": "Python 3",
   "language": "python",
   "name": "python3"
  },
  "language_info": {
   "codemirror_mode": {
    "name": "ipython",
    "version": 3
   },
   "file_extension": ".py",
   "mimetype": "text/x-python",
   "name": "python",
   "nbconvert_exporter": "python",
   "pygments_lexer": "ipython3",
   "version": "3.6.8"
  }
 },
 "nbformat": 4,
 "nbformat_minor": 2
}
