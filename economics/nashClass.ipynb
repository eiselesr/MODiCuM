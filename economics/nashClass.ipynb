{
 "cells": [
  {
   "cell_type": "code",
   "execution_count": 1,
   "metadata": {},
   "outputs": [],
   "source": [
    "import sympy\n",
    "import ipywidgets\n",
    "import numpy as np\n",
    "import matplotlib.pyplot as plt\n",
    "import nashpy"
   ]
  },
  {
   "cell_type": "code",
   "execution_count": 2,
   "metadata": {},
   "outputs": [],
   "source": [
    "\n",
    "class eq():\n",
    "    def __init__(self):\n",
    "        points = 101\n",
    "        self.x,step = np.linspace(0,1,points,retstep=True)        \n",
    "        \n",
    "        \n",
    "        #--- Symbolic symbols used in expected utility functions\n",
    "        # n, PR,C_r, D, p_a, B, pi, C_v, p_v, C_e, C_d, p_e\n",
    "        self.n, self.PR, self.C_r, self.D, self.r = sympy.symbols('n PR C_r D r', real=True)\n",
    "        self.p_a, self.B, self.pi, self.C_v,  = sympy.symbols('p_a B pi C_v', real=True)\n",
    "        self.C_e, self.C_d = sympy.symbols('C_e C_d', real=True)\n",
    "        \n",
    "        self.se = sympy.symbols('sigma_e', real=True)\n",
    "        self.sv = sympy.symbols('sigma_v', real=True)\n",
    "        \n",
    "        \n",
    "    def findNashEq(self, n, PR, p_a, B, pi, C_v, C_r, C_e, C_d):\n",
    "        '''This function solves for the mixed strategy of the JC and RP. \n",
    "        sigma_e : the probability that the RP will execute the job\n",
    "        1-sigma_e: the probability that the RP will not execute the job\n",
    "        sigma_v: the probability that the JC will verify the result\n",
    "        1-sigma_v: the probability that the JC will not verify the result'''\n",
    "#         n, PR,C_r, D, p_a, B, pi, C_v, p_v, C_e, C_d, p_e\n",
    "        \n",
    "        \n",
    "        \n",
    "        \n",
    "        D = pi*(PR + n)\n",
    "        \n",
    "        # J1 and J3, JC verifies\n",
    "        # J2 and J4, JC does not verify\n",
    "        J1,J2,J3,J4 = self.JCU(n, D, p_a, B, pi, C_v, C_r)\n",
    "        \n",
    "        # Ev: JC's expected value for verifying the result\n",
    "        Ev = sigma_e*J1 + (1-sigma_e)*J3\n",
    "        print(\"E[v]\")\n",
    "        display(Ev)\n",
    "        # Ep: JC's expected value for not verifying the result\n",
    "        Ep = sigma_e*J2 + (1-sigma_e)*J4 \n",
    "        # RP solves for sigma_e such that the JC is ambivalent between verifying and not verifying by setting the two expected values equal to each other\n",
    "        nse = sympy.solve([Ev - Ep], [sigma_e])[sigma_e]\n",
    "        \n",
    "        # Substitute nse(nash equlibrium sigma_e) back in to JC's expected utility function\n",
    "        print(\"E[v] with nse\")\n",
    "        Evne = nse*J1 + (1-nse)*J3\n",
    "        display(Evne.expand().simplify())\n",
    "        \n",
    "        # R1 and R2, RP executes \n",
    "        # R3 and R4, RP does not execute\n",
    "        R1,R2,R3,R4 = self.RPU(n, D, p_a, pi, C_e, C_d)\n",
    "        # Ee: RP's expected value for executing the job\n",
    "        Ee = sigma_v*R1 + (1-sigma_v)*R2\n",
    "        print(\"E[e]\")\n",
    "        display(Ee)\n",
    "        # Ed: RP's expected value for sending a deceiving result\n",
    "        Ed = sigma_v*R3 + (1-sigma_v)*R4\n",
    "        # JC solve sor sigma_v such that the RP is ambivalent between executing and deceiving \n",
    "        nsv = sympy.solve([Ee - Ed], [sigma_v])[sigma_v]\n",
    "        \n",
    "        \n",
    "        # Verify that when substituting nse back in the JC expected values are equal.\n",
    "        check_e = nse*J1 + (1-nse)*J3 - ( nse*J2 + (1-nse)*J4 )\n",
    "        print(\"e is equilibrium: {}, check is {}\".format(check_e.simplify()==sympy.numbers.Zero, check_e.simplify()))\n",
    "        \n",
    "        \n",
    "        return nse, nsv\n",
    "        \n",
    "    def JCU(self, n, D, r, p_a, B, pi, C_v, C_r):\n",
    "        '''The JC's utility functions'''\n",
    "        J1 = p_a*(B-pi-C_v) + (1-p_a)*( (p_a**n)*(B+r-C_v) + (1-p_a**n)*(B-D-C_r-C_v))\n",
    "        J2 = B - pi\n",
    "        J3 = (p_a**n)*(r-C_v) + (1-p_a**n)*(-C_r-C_v-D)\n",
    "        J4 = -pi\n",
    "        \n",
    "        return J1, J2, J3, J4\n",
    "    \n",
    "#     def RPU(self, p_a, pi, C_e, C_d, n, D):\n",
    "    def RPU(self, n, D, r, p_a, pi, C_e, C_d):\n",
    "        '''The RP's utility functions'''\n",
    "        R0 = p_a*(pi-C_e) + (1-p_a)*( (p_a**n)*(-C_e-D) + (1-p_a**n)*(r-C_e))\n",
    "        R1 = pi - C_e\n",
    "        R2 = (p_a**n)*(-C_d-D) + (1-p_a**n)*(r-C_d)\n",
    "        R3 = pi-C_d\n",
    "        \n",
    "        return R0, R1, R2, R3\n",
    "    \n",
    "        "
   ]
  },
  {
   "cell_type": "code",
   "execution_count": 3,
   "metadata": {},
   "outputs": [],
   "source": [
    "e = eq()"
   ]
  },
  {
   "cell_type": "markdown",
   "metadata": {},
   "source": [
    "# Resource Provider"
   ]
  },
  {
   "cell_type": "code",
   "execution_count": 4,
   "metadata": {},
   "outputs": [
    {
     "data": {
      "text/latex": [
       "$\\displaystyle - C_{e} - PR p_{a}^{n} \\pi - n p_{a}^{n} \\pi + p_{a} p_{a}^{n} \\pi \\left(PR + n + 1\\right) - p_{a}^{n} \\pi + \\pi$"
      ],
      "text/plain": [
       "-C_e - PR*p_a**n*pi - n*p_a**n*pi + p_a*p_a**n*pi*(PR + n + 1) - p_a**n*pi + pi"
      ]
     },
     "metadata": {},
     "output_type": "display_data"
    },
    {
     "data": {
      "text/latex": [
       "$\\displaystyle - C_{d} - PR p_{a}^{n} \\pi - n p_{a}^{n} \\pi - p_{a}^{n} \\pi + \\pi$"
      ],
      "text/plain": [
       "-C_d - PR*p_a**n*pi - n*p_a**n*pi - p_a**n*pi + pi"
      ]
     },
     "metadata": {},
     "output_type": "display_data"
    },
    {
     "data": {
      "text/latex": [
       "$\\displaystyle p_{a} p_{a}^{n} \\pi \\left(PR + n + 1\\right)$"
      ],
      "text/plain": [
       "p_a*p_a**n*pi*(PR + n + 1)"
      ]
     },
     "metadata": {},
     "output_type": "display_data"
    },
    {
     "data": {
      "text/latex": [
       "$\\displaystyle - C_{d} + C_{e}$"
      ],
      "text/plain": [
       "-C_d + C_e"
      ]
     },
     "metadata": {},
     "output_type": "display_data"
    },
    {
     "data": {
      "text/latex": [
       "$\\displaystyle - C_{e} + \\pi$"
      ],
      "text/plain": [
       "-C_e + pi"
      ]
     },
     "metadata": {},
     "output_type": "display_data"
    },
    {
     "data": {
      "text/latex": [
       "$\\displaystyle - C_{d} + \\pi$"
      ],
      "text/plain": [
       "-C_d + pi"
      ]
     },
     "metadata": {},
     "output_type": "display_data"
    }
   ],
   "source": [
    "\n",
    "D = e.pi*(e.PR + e.n)\n",
    "r = e.pi\n",
    "\n",
    "RU = e.RPU(e.n, D, r, e.p_a, e.pi, e.C_e, e.C_d)\n",
    "# for ix, u in enumerate(RU):\n",
    "#     print(\"RU: {}\".format(ix))\n",
    "#     display(u)\n",
    "    \n",
    "# left\n",
    "display(RU[0].expand().collect(e.p_a*e.p_a**e.n*e.pi)) # up\n",
    "display(RU[2].expand()) # down\n",
    "\n",
    "# shared = -e.C_e  -e.D*e.p_a**e.n - e.p_a**e.n*e.r + e.r\n",
    "# shared = -e.C_e  -e.PR*e.p_a**e.n*e.pi - e.n*e.p_a**e.n*e.pi - e.p_a**e.n*e.r + e.r\n",
    "shared = -e.C_e  -e.PR*e.p_a**e.n*e.pi - e.n*e.p_a**e.n*e.pi - e.p_a**e.n*e.pi + e.pi\n",
    "\n",
    "display((RU[0].expand() - shared).collect(e.p_a).collect(e.p_a**e.n).collect(e.pi))\n",
    "display(RU[2].expand() - shared)\n",
    "\n",
    "\n",
    "# right\n",
    "display(RU[1]) # up\n",
    "display(RU[3]) # down*"
   ]
  },
  {
   "cell_type": "markdown",
   "metadata": {},
   "source": [
    "|    &nbsp;     | left(verify)  <img width=370/> | right(pass) |\n",
    "|---------------|--------------------------------|-------------|\n",
    "| up(execute)   | $- C_{e} - PR p_{a}^{n} \\pi - n p_{a}^{n} \\pi + p_{a} p_{a}^{n} \\pi \\left(PR + n + 1\\right) - p_{a}^{n} \\pi + \\pi$ | $- C_{e} + \\pi$ |\n",
    "| down(deceive)  | $- C_{d} - PR p_{a}^{n} \\pi - n p_{a}^{n} \\pi - p_{a}^{n} \\pi + \\pi$  | $- C_{d} + \\pi$ |\n",
    "\n",
    "simplified decision layout (remove terms common to top and bottom): \n",
    "\n",
    "|    &nbsp;     | left(verify)  <img width=200/>    | right(pass) |\n",
    "|---------------|-----------------------------------|-------------|\n",
    "| up(execute)   | $p_a^{n+1} \\pi (PR+n+1) - C_e$ \\*\\*|  $-C_e$     |\n",
    "| down(deceive) | $-C_d$                            |  $-C_{d}$ \\*   |"
   ]
  },
  {
   "cell_type": "markdown",
   "metadata": {},
   "source": [
    "\n",
    "Given:\n",
    "1. $PR \\geq 0$\n",
    "1. $n \\geq 1$, otherwise there is no point in performing mediation\n",
    "1. $C_e-C_d > 0$, otherwise the RP will never deceive since it is more expensive than executing. \n",
    "1. $\\pi \\geq \\pi_{RP} \\geq C_e$, because if $C_e > \\pi_{RP}$ RP aborts, and $\\pi_{RP} > \\pi$ is disallowed by the contract\n",
    "\n",
    "\n",
    "for **right** it will always choose **down**.\n",
    "\n",
    "for **left** it will choose **up** if: \n",
    "\n",
    "$p_a^{n+1} \\pi (PR+n+1) > C_e-C_d$\n",
    "\n",
    "\n",
    "So, if\n",
    "1. $p_a = 0$ then RP will choose down\n",
    "1. $p_a = 1$ then the incentive to choose up is at least $2\\pi$, since $2\\pi < \\pi (PR+n+1)$, and the incentive to choose down is at most $C_e$ (if $C_d=0$), and if $C_e<2\\pi$ then RP will choose **up** (regardless of $PR$, $n$, and $C_d$). We know that $C_e<\\pi$ so if $p_a = 1$ RP will choose **up**.\n",
    "1. $0< p_a< 1$ then since $\\pi > C_e$, as long as $(PR+n+1) \\times p_a^{n+1}> 1$ RP will choose **up**\n",
    "\n",
    "Simplifying this says:\n",
    "\n",
    "$p_a^{n+1}> \\frac{1}{PR+n+1}$ and $\\frac{1}{PR+n+1}$ is at most $\\frac{1}{2}$ so:\n",
    "\n",
    "$p_a^{n+1} > \\frac{1}{2}$ ensures that RP will choose **up**. *This makes bullet 2 unnecessary*\n",
    "\n",
    "ANOTHER WAY TO REACH THE SAME CONCLUSION\n",
    "\n",
    "Since\n",
    "\n",
    "$2\\pi < \\pi (PR+n+1)$ and $\\pi > C_e$ then inserting these in our up/left criteria we find:\n",
    "\n",
    "if $\\Big\\{p_a^{n+1} \\pi (PR+n+1) > p_a^{n+1} 2\\pi\\Big\\} > \\Big\\{\\pi > C_e > C_e-C_d\\Big\\}$\n",
    "\n",
    "which simplifies our criteria to \n",
    "\n",
    "$p_a^{n+1} 2\\pi > \\pi$\n",
    "\n",
    "which simplifies to \n",
    "\n",
    "$p_a^{n+1} > \\frac{1}{2}$ \n",
    "\n",
    "So as long as $p_a^{n+1} > \\frac{1}{2}$, regardless of the other parameters RP will choose **up** because lhs is smaller than it would be and rhs is bigger than it would be. \n",
    "\n",
    "See plot below. Values in top right result in RP choosing up. "
   ]
  },
  {
   "cell_type": "code",
   "execution_count": 5,
   "metadata": {},
   "outputs": [
    {
     "data": {
      "image/png": "[encoded data removed]",
      "text/plain": [
       "<Figure size 432x288 with 1 Axes>"
      ]
     },
     "metadata": {
      "needs_background": "light"
     },
     "output_type": "display_data"
    }
   ],
   "source": [
    "\n",
    "for n in range(0,10, 1):\n",
    "    plt.plot(e.x, e.x**(n+1), label=\"n={}\".format(n))\n",
    "    plt.xlabel(\"p_a\")\n",
    "    plt.ylabel(\"p_a^{n+1}\")\n",
    "    plt.axhline(y=.5, color='0.75', linestyle='dashed')\n",
    "    plt.axvline(x=.5, color='0.75', linestyle='dashed')\n",
    "    plt.legend()"
   ]
  },
  {
   "cell_type": "markdown",
   "metadata": {},
   "source": [
    "# Job Creator"
   ]
  },
  {
   "cell_type": "code",
   "execution_count": 6,
   "metadata": {},
   "outputs": [
    {
     "data": {
      "text/latex": [
       "$\\displaystyle \\pi \\left(2 p_{a} - 2\\right)$"
      ],
      "text/plain": [
       "pi*(2*p_a - 2)"
      ]
     },
     "metadata": {},
     "output_type": "display_data"
    },
    {
     "data": {
      "text/latex": [
       "$\\displaystyle C_{r} \\left(p_{a}^{n} - 1\\right) - C_{v} + PR \\pi \\left(p_{a}^{n} - 1\\right) + n \\pi \\left(p_{a}^{n} - 1\\right) + p_{a}^{n} \\pi$"
      ],
      "text/plain": [
       "C_r*(p_a**n - 1) - C_v + PR*pi*(p_a**n - 1) + n*pi*(p_a**n - 1) + p_a**n*pi"
      ]
     },
     "metadata": {},
     "output_type": "display_data"
    },
    {
     "data": {
      "text/latex": [
       "$\\displaystyle B - C_{v} + \\pi \\left(1 - 2 p_{a}\\right) + \\left(C_{r} + PR \\pi + n \\pi + \\pi\\right) \\left(- p_{a} p_{a}^{n} + p_{a} + p_{a}^{n} - 1\\right)$"
      ],
      "text/plain": [
       "B - C_v + pi*(1 - 2*p_a) + (C_r + PR*pi + n*pi + pi)*(-p_a*p_a**n + p_a + p_a**n - 1)"
      ]
     },
     "metadata": {},
     "output_type": "display_data"
    },
    {
     "data": {
      "text/latex": [
       "$\\displaystyle 0$"
      ],
      "text/plain": [
       "0"
      ]
     },
     "execution_count": 6,
     "metadata": {},
     "output_type": "execute_result"
    }
   ],
   "source": [
    "D = e.pi*(e.PR + e.n)\n",
    "r = e.pi\n",
    "\n",
    "JU = e.JCU(e.n, D, r, e.p_a, e.B, e.pi, e.C_v, e.C_r)\n",
    "# JU = e.JCU(e.n, e.D, e.r, e.p_a, e.B, e.pi, e.C_v, e.C_r)\n",
    "# for ix, u in enumerate(JU):\n",
    "#     print(\"JU: {}\".format(ix))\n",
    "#     display(u)\n",
    "    \n",
    "# up (execute)\n",
    "# display(JU[0].expand()) # left(verify)\n",
    "# display(JU[1].expand()) # right(pass)\n",
    "\n",
    "shared = e.B + e.pi - 2*e.p_a*e.pi\n",
    "\n",
    "\n",
    "# display((JU[0].expand()).collect(e.C_r).collect(e.PR*e.pi).collect(e.n*e.pi))\n",
    "display((JU[1].expand() - shared).collect(e.pi))\n",
    "\n",
    "\n",
    "# down\n",
    "\n",
    "display(JU[2].expand().collect(e.C_r).collect(e.PR*e.pi).collect(e.n*e.pi))\n",
    "# display(JU[3].expand())\n",
    "\n",
    "ul = e.B-e.C_v+(e.C_r+e.PR*e.pi+e.n*e.pi+e.pi)*(-e.p_a*e.p_a**e.n+e.p_a+e.p_a**e.n-1)+e.pi*(-2*e.p_a+1)\n",
    "display(ul)\n",
    "\n",
    "dl = (e.C_r+e.PR*e.pi+e.n*e.pi+e.pi)*(e.p_a**e.n-1) - e.C_v + e.pi\n",
    "\n",
    "(dl - JU[2]).expand()"
   ]
  },
  {
   "cell_type": "markdown",
   "metadata": {},
   "source": [
    "**Job Creator payouts**\n",
    "\n",
    "|    &nbsp;     | left(verify)  <img width=470/> | right(pass) |\n",
    "|---------------|--------------------------------|-------------|\n",
    "| up(execute)   | $B - C_v + (C_r+PR\\pi+n\\pi+\\pi)\\left(- p_{a} p_{a}^{n} + p_{a} + p_{a}^{n} - 1\\right) + \\pi(-2p_{a}+1)$ | $B - \\pi$      |\n",
    "| down(deceive) | $- C_{v} + \\pi + \\left(p_{a}^{n} - 1\\right) \\left(C_{r} + PR \\pi + n \\pi + \\pi\\right)$                         | $-\\pi$      |\n",
    "\n",
    "\n",
    "\n"
   ]
  },
  {
   "cell_type": "markdown",
   "metadata": {},
   "source": [
    "RP chooses **UP**\n",
    "\n",
    "JC chooses **left** if:\n",
    "\n",
    "$B - C_v + (C_r+PR\\pi+n\\pi+\\pi)\\left(- p_{a} p_{a}^{n} + p_{a} + p_{a}^{n} - 1\\right) + \\pi(-2p_{a}+1) > B-\\pi$\n",
    "\n",
    "simplify\n",
    "\n",
    "$- C_v + (C_r+PR\\pi+n\\pi+\\pi)\\left(- p_{a} p_{a}^{n} + p_{a} + p_{a}^{n} - 1\\right)  > 2\\pi(p_{a}-1)$"
   ]
  },
  {
   "cell_type": "markdown",
   "metadata": {},
   "source": [
    "When is this true? \n",
    "\n",
    "Compare \n",
    "\n",
    "1. $\\left(- p_{a} p_{a}^{n} + p_{a} + p_{a}^{n} - 1\\right)$ and $(p_{a}-1)$\n",
    "\n",
    "See plot below: "
   ]
  },
  {
   "cell_type": "code",
   "execution_count": 7,
   "metadata": {},
   "outputs": [
    {
     "data": {
      "text/plain": [
       "(-0.1, 0.01)"
      ]
     },
     "execution_count": 7,
     "metadata": {},
     "output_type": "execute_result"
    },
    {
     "data": {
      "image/png": "[encoded data removed]",
      "text/plain": [
       "<Figure size 432x288 with 1 Axes>"
      ]
     },
     "metadata": {
      "needs_background": "light"
     },
     "output_type": "display_data"
    }
   ],
   "source": [
    "n = 0\n",
    "\n",
    "for n in range(0,10, 1):\n",
    "    f = -e.x**(n+1)+e.x**n+e.x-1\n",
    "    plt.plot(e.x, f, label=\"n={}\".format(n))\n",
    "    \n",
    "    plt.xlabel(\"p_a\")\n",
    "    plt.ylabel(\"-p_a^{n+1}+p_a^{n}+p_a-1\")\n",
    "#     plt.axhline(y=.5, color='0.75', linestyle='dashed')\n",
    "#     plt.axvline(x=.5, color='0.75', linestyle='dashed')\n",
    "     \n",
    "\n",
    "plt.plot(e.x, e.x-1, label=\"p_a-1\", color='r')  \n",
    "plt.plot(e.x, (e.x**2)-1, label=\"(p_a^2)-1\",color='r') \n",
    "plt.plot(e.x, (e.x**3)-1, label=\"(p_a^3)-1\",color='r') \n",
    "plt.legend()\n",
    "plt.ylim(-.1, 0.01)"
   ]
  },
  {
   "cell_type": "markdown",
   "metadata": {},
   "source": [
    "for all values of $p_a$, except $p_a=1$, \n",
    "\n",
    "$\\left(- p_{a} p_{a}^{n} + p_{a} + p_{a}^{n} - 1\\right) < 0$, and \n",
    "\n",
    "$(p_{a}-1) < 0$ \n",
    "\n",
    "We can deduce that \n",
    "\n",
    "$\\left(- p_{a} p_{a}^{n} + p_{a} + p_{a}^{n} - 1\\right) > (p_{a}-1)$, because if we simplify we find that \n",
    "\n",
    "$ 1 > p_{a}$, which is true, because it is between 0 and 1."
   ]
  },
  {
   "cell_type": "markdown",
   "metadata": {},
   "source": [
    "2. $(C_r+PR\\pi+n\\pi+\\pi)>2\\pi$\n",
    "\n",
    "Since $n>0$  then this is always true.\n",
    "\n",
    "Combining 1. and 2. we then know that:\n",
    "\n",
    "$(C_r+PR\\pi+n\\pi+\\pi)\\left(- p_{a} p_{a}^{n} + p_{a} + p_{a}^{n} - 1\\right) > 2\\pi(p_{a}-1)$\n",
    "\n",
    "is always true. Meaning JC would choose **left**. \n",
    "\n",
    "However this does not include $C_v$, which changes the balance. \n",
    "\n",
    "If $C_v>0$:\n",
    "\n",
    "1. if $p_a=0$: $B - C_{r} - C_{v} - PR \\pi - n \\pi > B - \\pi$ always false. JC choose **right**(pass)\n",
    "2. if $p_a=1$: $B - C_{v} - \\pi > B - \\pi$ always false. JC choose **right**(pass)\n",
    "3.  if $0< p_a< 1$. \n",
    "    1. If $C_v>2\\pi$ the JC chooses **right**(pass)\n",
    "    1. otherwise see below\n"
   ]
  },
  {
   "cell_type": "markdown",
   "metadata": {},
   "source": [
    "We started with : \n",
    "\n",
    "$- C_v + (C_r+PR\\pi+n\\pi+\\pi)\\left(- p_{a} p_{a}^{n} + p_{a} + p_{a}^{n} - 1\\right)  > 2\\pi(p_{a}-1)$\n",
    "\n",
    "Simplify to find $C_v$ breakpoint\n",
    "\n",
    "$(C_r+PR\\pi+n\\pi+\\pi)\\left(- p_{a} p_{a}^{n} + p_{a} + p_{a}^{n} - 1\\right) + 2\\pi(1-p_{a})  > C_v $\n",
    "\n",
    "*write out as code and plot below*"
   ]
  },
  {
   "cell_type": "code",
   "execution_count": 8,
   "metadata": {},
   "outputs": [
    {
     "data": {
      "text/latex": [
       "$\\displaystyle 2 \\pi \\left(1 - p_{a}\\right) + \\left(C_{r} + PR \\pi + n \\pi + \\pi\\right) \\left(- p_{a} p_{a}^{n} + p_{a} + p_{a}^{n} - 1\\right)$"
      ],
      "text/plain": [
       "2*pi*(1 - p_a) + (C_r + PR*pi + n*pi + pi)*(-p_a*p_a**n + p_a + p_a**n - 1)"
      ]
     },
     "metadata": {},
     "output_type": "display_data"
    },
    {
     "data": {
      "text/latex": [
       "$\\displaystyle 2 \\pi + \\left(p_{a}^{n} - 1\\right) \\left(C_{r} + PR \\pi + n \\pi + \\pi\\right)$"
      ],
      "text/plain": [
       "2*pi + (p_a**n - 1)*(C_r + PR*pi + n*pi + pi)"
      ]
     },
     "metadata": {},
     "output_type": "display_data"
    }
   ],
   "source": [
    "uleft = (e.C_r+e.PR*e.pi+e.n*e.pi+e.pi)*(-e.p_a*e.p_a**e.n+e.p_a+e.p_a**e.n-1)+2*e.pi*(1-e.p_a)\n",
    "display(uleft)\n",
    "\n",
    "dleft = 2*e.pi + (e.C_r + e.PR*e.pi + e.n*e.pi + e.pi)*(e.p_a**e.n - 1)\n",
    "display(dleft)\n",
    "\n",
    "A = sympy.symbols('A', real=True)\n",
    "uleft_abstract = e.pi*(e.PR+e.n+1)*(-e.p_a*e.p_a**e.n+e.p_a+e.p_a**e.n-1)+2*e.pi*(1-e.p_a)\n",
    "# display(uleft_abstract)\n",
    "\n"
   ]
  },
  {
   "cell_type": "code",
   "execution_count": 9,
   "metadata": {},
   "outputs": [
    {
     "data": {
      "text/plain": [
       "Text(0.5, 1.0, 'minCv plot')"
      ]
     },
     "execution_count": 9,
     "metadata": {},
     "output_type": "execute_result"
    },
    {
     "data": {
      "image/png": "[encoded data removed]",
      "text/plain": [
       "<Figure size 432x288 with 1 Axes>"
      ]
     },
     "metadata": {
      "needs_background": "light"
     },
     "output_type": "display_data"
    }
   ],
   "source": [
    "pi = 1\n",
    "Cr = 0\n",
    "PR = 0\n",
    "\n",
    "fu = uleft.subs({e.pi:pi, e.C_r:Cr, e.PR:PR})\n",
    "fd = dleft.subs({e.pi:pi, e.C_r:Cr, e.PR:PR})\n",
    "\n",
    "def sub_pa(p_a, f):\n",
    "    return f.subs({e.p_a:p_a})\n",
    "    \n",
    "fun = np.vectorize(sub_pa)\n",
    "\n",
    "for n in range(1,11,1):\n",
    "    fu1 = fu.subs({e.n:n})\n",
    "    fd1 = fd.subs({e.n:n})\n",
    "    \n",
    "    minCv_u = fun(e.x, fu1)\n",
    "    minCv_d = fun(e.x, fd1)\n",
    "    \n",
    "    plt.plot(e.x, minCv_u, label=\"un=%s\"%(n))\n",
    "    plt.plot(e.x, minCv_d, label=\"dn=%s\"%(n))\n",
    "\n",
    "plt.xlabel(\"p_a\")\n",
    "plt.ylabel(\"minCV\")\n",
    "plt.axhline(y=0, color='0.75', linestyle='dashed')\n",
    "plt.legend()\n",
    "plt.ylim(0)\n",
    "plt.title('minCv plot')\n",
    "\n",
    "\n",
    "# uleft"
   ]
  },
  {
   "cell_type": "markdown",
   "metadata": {},
   "source": [
    "If $0<C_v<minC_v$ then JC will choose **left** (verify) otherwise it will choose **right** (pass)"
   ]
  },
  {
   "cell_type": "markdown",
   "metadata": {},
   "source": [
    "**Resource Provider Payouts**\n",
    "\n",
    "\n",
    "|    &nbsp;     | left(verify)  <img width=370/> | right(pass) |\n",
    "|---------------|--------------------------------|-------------|\n",
    "| up(execute)   | $- C_{e} - PR p_{a}^{n} \\pi - n p_{a}^{n} \\pi + p_{a} p_{a}^{n} \\pi \\left(PR + n + 1\\right) - p_{a}^{n} \\pi + \\pi$ | $- C_{e} + \\pi$ |\n",
    "| down(deceive)  | $- C_{d} - PR p_{a}^{n} \\pi - n p_{a}^{n} \\pi - p_{a}^{n} \\pi + \\pi$  | $- C_{d} + \\pi$ |\n",
    "\n",
    "simplified decision layout (remove terms common to top and bottom): \n",
    "\n",
    "|    &nbsp;     | left(verify)  <img width=200/>    | right(pass) |\n",
    "|---------------|-----------------------------------|-------------|\n",
    "| up(execute)   | $p_a^{n+1} \\pi (PR+n+1) - C_e$ \\*\\*|  $-C_e$     |\n",
    "| down(deceive) | $-C_d$ \\*                          |  $-C_{d}$ \\*   |\n",
    "\n",
    "\\*\\* if $p_a^{n+1} > \\frac{1}{2}$\n"
   ]
  },
  {
   "cell_type": "markdown",
   "metadata": {},
   "source": [
    "**Job Creator payouts**\n",
    "\n",
    "|    &nbsp;     | left(verify)  <img width=470/> | right(pass) |\n",
    "|---------------|--------------------------------|-------------|\n",
    "| up(execute)   | $B - C_v + (C_r+PR\\pi+n\\pi+\\pi)\\left(- p_{a} p_{a}^{n} + p_{a} + p_{a}^{n} - 1\\right) + \\pi(-2p_{a}+1)$ | $B - \\pi$      |\n",
    "| down(deceive) | $- C_{v} + \\pi + \\left(p_{a}^{n} - 1\\right) \\left(C_{r} + PR \\pi + n \\pi + \\pi\\right)$                         | $-\\pi$      |"
   ]
  },
  {
   "cell_type": "markdown",
   "metadata": {},
   "source": [
    "simplified decision layout (remove common left and right terms, reorder a little)"
   ]
  },
  {
   "cell_type": "markdown",
   "metadata": {},
   "source": [
    "|    &nbsp;     | left(verify)  <img width=470/>                                | right(pass) <img width=100/> |\n",
    "|-------------|--------------------------------------------------------------------------------------|-------|\n",
    "| up(execute) | $ 2\\pi(1 - p_{a}) - (C_r+PR\\pi+n\\pi+\\pi)(1 - p_{a} - p_{a}^{n} + p_{a}^{n+1} )$\\*\\* | $C_v$ \\*|\n",
    "|down(deceive)| $ 2\\pi - (C_{r} + PR \\pi + n \\pi + \\pi)(1 - p_{a}^{n})$   \\*\\*                       | $C_v$ \\* |\n",
    "\n"
   ]
  },
  {
   "cell_type": "markdown",
   "metadata": {},
   "source": [
    "if **up** : \n",
    "\n",
    "\\* if $p_a=0$ or $p_a=1$  or if $C_v>2\\pi$ choose **right** (won't happen, RP will change to down)\n",
    "\n",
    "\\*\\* if $2\\pi - C_v > 2\\pi p_a + (C_r+PR\\pi+n\\pi+\\pi)(1 - p_{a} - p_{a}^{n} + p_{a}^{n+1}) $ choose **left**\n",
    "\n",
    "\\*\\* if $2\\pi - 2\\pi p_a - (C_r+PR\\pi+n\\pi+\\pi)(1 - p_{a} - p_{a}^{n} + p_{a}^{n+1}) > C_v $ choose **left**\n",
    "\n",
    "\n",
    "if **down** : \n",
    "\n",
    "\\* if $p_a=0$ or if $C_v > 2\\pi$ choose **right**\n",
    "\n",
    "\\*\\* if $p_a=1$ and $2\\pi > C_v$ choose **left**\n",
    "\n",
    "\\*\\* if $2\\pi - C_v > (C_{r} + PR \\pi + n \\pi + \\pi)(1 - p_{a}^{n}) $ choose **left**\n",
    "\n",
    "\\*\\* if $2\\pi - (C_{r} + PR \\pi + n \\pi + \\pi)(1 - p_{a}^{n}) > C_v $ choose **left**\n"
   ]
  },
  {
   "cell_type": "markdown",
   "metadata": {},
   "source": [
    "1. find optimal $p_a$\n",
    "1. set $PR$ and $n$ to force optimal $p_a^{n+1}>\\frac{1}{2}$\n",
    "1. set $\\frac{\\pi}{C_v}$ ratio to optimize JU\n",
    "1. plot mixed nash equilibrium against $p_a$ on x-axis from optimal to 1 and optimal-(1-optimal), or at least highlight/demarcate that region"
   ]
  },
  {
   "cell_type": "markdown",
   "metadata": {},
   "source": [
    "ur is impossible, since if right then RP will always choose down.\n",
    "\n",
    "dl is eliminated if we can set $p_a^{n+1} > \\frac{1}{2}$, because RP will choose up (execute). \n",
    "\n",
    "if $C_v< minC_v^{up} $ (see minCv plot) then ul is a pure strategy. \n",
    "\n",
    "Otherwise dr is a pure strategy only if $C_v>minC_v^{down}$,   because otherwise JC will move left (dl), and RP will move up(ul) and JC will move right(ur) and RP will move down (dr). \n",
    "\n",
    " "
   ]
  },
  {
   "cell_type": "markdown",
   "metadata": {},
   "source": [
    "Can we force $p_a$? \n",
    "\n",
    "Is there a MSNE? "
   ]
  },
  {
   "cell_type": "markdown",
   "metadata": {},
   "source": [
    "**Job Creator payouts**\n",
    "\n",
    "|    &nbsp;     | left(verify)  <img width=470/> | right(pass) |\n",
    "|---------------|--------------------------------|-------------|\n",
    "| up(execute)   | $B - C_v + (C_r+PR\\pi+n\\pi+\\pi)\\left(- p_{a} p_{a}^{n} + p_{a} + p_{a}^{n} - 1\\right) + \\pi(-2p_{a}+1)$ | $B - \\pi$      |\n",
    "| down(deceive) | $- C_{v} + \\pi + \\left(p_{a}^{n} - 1\\right) \\left(C_{r} + PR \\pi + n \\pi + \\pi\\right)$                         | $-\\pi$      |\n",
    "\n",
    "\n",
    "\n"
   ]
  },
  {
   "cell_type": "code",
   "execution_count": 10,
   "metadata": {},
   "outputs": [],
   "source": [
    "ul = e.B-e.C_v+(e.C_r+e.PR*e.pi+e.n*e.pi+e.pi)*(-e.p_a*e.p_a**e.n+e.p_a+e.p_a**e.n-1)+e.pi*(-2*e.p_a+1)\n",
    "dl = (e.C_r+e.PR*e.pi+e.n*e.pi+e.pi)*(e.p_a**e.n-1) - e.C_v + e.pi\n",
    "# display((ul - JU[0]).expand())\n",
    "# display((dl - JU[2]).expand())\n",
    "\n",
    "# display(ul)\n",
    "# display(dl)\n",
    "# display(JU[1])\n",
    "# display(JU[3])"
   ]
  },
  {
   "cell_type": "code",
   "execution_count": 43,
   "metadata": {},
   "outputs": [
    {
     "data": {
      "text/latex": [
       "$\\displaystyle B \\sigma_{e} - \\pi$"
      ],
      "text/plain": [
       "B*sigma_e - pi"
      ]
     },
     "execution_count": 43,
     "metadata": {},
     "output_type": "execute_result"
    }
   ],
   "source": [
    "sigma_e = sympy.symbols('sigma_e', real=True)\n",
    "\n",
    "JL = sigma_e*ul + (1-sigma_e)*dl\n",
    "      \n",
    "JR = sigma_e*JU[1] + (1-sigma_e)*JU[3]\n",
    "JR.expand()"
   ]
  },
  {
   "cell_type": "code",
   "execution_count": 47,
   "metadata": {},
   "outputs": [
    {
     "data": {
      "text/latex": [
       "$\\displaystyle 2 B \\sigma_{e} - C_{v} - 2 p_{a} \\pi \\sigma_{e} + \\left(C_{r} + PR \\pi + n \\pi + \\pi\\right) \\left(- p_{a} p_{a}^{n} \\sigma_{e} + p_{a} \\sigma_{e} + p_{a}^{n} - 1\\right)$"
      ],
      "text/plain": [
       "2*B*sigma_e - C_v - 2*p_a*pi*sigma_e + (C_r + PR*pi + n*pi + pi)*(-p_a*p_a**n*sigma_e + p_a*sigma_e + p_a**n - 1)"
      ]
     },
     "execution_count": 47,
     "metadata": {},
     "output_type": "execute_result"
    }
   ],
   "source": [
    "common = -e.p_a*e.p_a**(e.n)*sigma_e + e.p_a*sigma_e + e.p_a**e.n - 1\n",
    "fJL = (e.B*sigma_e - e.C_v + (e.C_r + e.PR*e.pi + e.n*e.pi +e.pi )*common + e.pi + -2*e.p_a*e.pi*sigma_e)\n",
    "fJL  + JR.expand()"
   ]
  },
  {
   "cell_type": "code",
   "execution_count": 38,
   "metadata": {},
   "outputs": [
    {
     "data": {
      "text/latex": [
       "$\\displaystyle - 2 \\pi \\sigma_{e} + \\left(C_{r} + PR \\pi + n \\pi + \\pi\\right) \\left(- n p_{a}^{n} \\sigma_{e} + \\frac{n p_{a}^{n}}{p_{a}} - p_{a}^{n} \\sigma_{e} + \\sigma_{e}\\right)$"
      ],
      "text/plain": [
       "-2*pi*sigma_e + (C_r + PR*pi + n*pi + pi)*(-n*p_a**n*sigma_e + n*p_a**n/p_a - p_a**n*sigma_e + sigma_e)"
      ]
     },
     "execution_count": 38,
     "metadata": {},
     "output_type": "execute_result"
    }
   ],
   "source": [
    "dfJL = sympy.diff(fJL,e.p_a)\n",
    "dfJL"
   ]
  },
  {
   "cell_type": "markdown",
   "metadata": {},
   "source": [
    "if down, ie $\\sigma_e = 0$, then $p_a=0$"
   ]
  },
  {
   "cell_type": "code",
   "execution_count": 50,
   "metadata": {},
   "outputs": [
    {
     "data": {
      "text/latex": [
       "$\\displaystyle \\frac{n p_{a}^{n} \\left(C_{r} + PR \\pi + n \\pi + \\pi\\right)}{p_{a}}$"
      ],
      "text/plain": [
       "n*p_a**n*(C_r + PR*pi + n*pi + pi)/p_a"
      ]
     },
     "execution_count": 50,
     "metadata": {},
     "output_type": "execute_result"
    }
   ],
   "source": [
    "dfJL.subs({sigma_e:0})"
   ]
  },
  {
   "cell_type": "markdown",
   "metadata": {},
   "source": [
    "if up, ie $\\sigma_e = 1$, then $p_a=0$"
   ]
  },
  {
   "cell_type": "code",
   "execution_count": 51,
   "metadata": {},
   "outputs": [
    {
     "data": {
      "text/latex": [
       "$\\displaystyle - 2 \\pi + \\left(C_{r} + PR \\pi + n \\pi + \\pi\\right) \\left(- n p_{a}^{n} + \\frac{n p_{a}^{n}}{p_{a}} - p_{a}^{n} + 1\\right)$"
      ],
      "text/plain": [
       "-2*pi + (C_r + PR*pi + n*pi + pi)*(-n*p_a**n + n*p_a**n/p_a - p_a**n + 1)"
      ]
     },
     "execution_count": 51,
     "metadata": {},
     "output_type": "execute_result"
    }
   ],
   "source": [
    "dfJL.subs({sigma_e:1})"
   ]
  },
  {
   "cell_type": "markdown",
   "metadata": {},
   "source": [
    "BELOW IS PROBABLY JUNK"
   ]
  },
  {
   "cell_type": "code",
   "execution_count": 39,
   "metadata": {},
   "outputs": [],
   "source": [
    "sigma_e = sympy.symbols('sigma_e', real=True)\n",
    "\n",
    "JUL = sigma_e*JU[0] + (1-sigma_e)*JU[2]\n",
    "      \n",
    "JUR = sigma_e*JU[1] + (1-sigma_e)*JU[3]\n",
    "\n",
    "EJU = JUL + JUR"
   ]
  },
  {
   "cell_type": "code",
   "execution_count": 40,
   "metadata": {},
   "outputs": [
    {
     "data": {
      "text/latex": [
       "$\\displaystyle - C_{r} n p_{a}^{n} \\sigma_{e} + \\frac{C_{r} n p_{a}^{n}}{p_{a}} - C_{r} p_{a}^{n} \\sigma_{e} + C_{r} \\sigma_{e} - PR n p_{a}^{n} \\pi \\sigma_{e} + \\frac{PR n p_{a}^{n} \\pi}{p_{a}} - PR p_{a}^{n} \\pi \\sigma_{e} + PR \\pi \\sigma_{e} - n^{2} p_{a}^{n} \\pi \\sigma_{e} + \\frac{n^{2} p_{a}^{n} \\pi}{p_{a}} - 2 n p_{a}^{n} \\pi \\sigma_{e} + n \\pi \\sigma_{e} + \\frac{n p_{a}^{n} \\pi}{p_{a}} - p_{a}^{n} \\pi \\sigma_{e} - \\pi \\sigma_{e}$"
      ],
      "text/plain": [
       "-C_r*n*p_a**n*sigma_e + C_r*n*p_a**n/p_a - C_r*p_a**n*sigma_e + C_r*sigma_e - PR*n*p_a**n*pi*sigma_e + PR*n*p_a**n*pi/p_a - PR*p_a**n*pi*sigma_e + PR*pi*sigma_e - n**2*p_a**n*pi*sigma_e + n**2*p_a**n*pi/p_a - 2*n*p_a**n*pi*sigma_e + n*pi*sigma_e + n*p_a**n*pi/p_a - p_a**n*pi*sigma_e - pi*sigma_e"
      ]
     },
     "execution_count": 40,
     "metadata": {},
     "output_type": "execute_result"
    }
   ],
   "source": [
    "dEJU = sympy.diff(JUL,e.p_a)\n",
    "dEJU.expand()"
   ]
  },
  {
   "cell_type": "code",
   "execution_count": 41,
   "metadata": {},
   "outputs": [],
   "source": [
    "common = -e.n*e.p_a**e.n*sigma_e + e.n*e.p_a**e.n/e.p_a - e.p_a**e.n*sigma_e + sigma_e"
   ]
  },
  {
   "cell_type": "code",
   "execution_count": 42,
   "metadata": {},
   "outputs": [
    {
     "data": {
      "text/latex": [
       "$\\displaystyle - 2 \\pi \\sigma_{e} + \\left(C_{r} + PR \\pi + n \\pi + \\pi\\right) \\left(- n p_{a}^{n} \\sigma_{e} + \\frac{n p_{a}^{n}}{p_{a}} - p_{a}^{n} \\sigma_{e} + \\sigma_{e}\\right)$"
      ],
      "text/plain": [
       "-2*pi*sigma_e + (C_r + PR*pi + n*pi + pi)*(-n*p_a**n*sigma_e + n*p_a**n/p_a - p_a**n*sigma_e + sigma_e)"
      ]
     },
     "execution_count": 42,
     "metadata": {},
     "output_type": "execute_result"
    }
   ],
   "source": [
    "fdEJU = (e.C_r + e.PR*e.pi + e.n*e.pi + e.pi)*common - 2*e.pi*sigma_e\n",
    "fdEJU"
   ]
  },
  {
   "cell_type": "code",
   "execution_count": 31,
   "metadata": {},
   "outputs": [
    {
     "data": {
      "text/latex": [
       "$\\displaystyle 0$"
      ],
      "text/plain": [
       "0"
      ]
     },
     "execution_count": 31,
     "metadata": {},
     "output_type": "execute_result"
    }
   ],
   "source": [
    "fdEJU.expand() - dEJU.expand()\n"
   ]
  },
  {
   "cell_type": "code",
   "execution_count": 32,
   "metadata": {},
   "outputs": [
    {
     "data": {
      "text/latex": [
       "$\\displaystyle 0$"
      ],
      "text/plain": [
       "0"
      ]
     },
     "execution_count": 32,
     "metadata": {},
     "output_type": "execute_result"
    }
   ],
   "source": [
    "dEJU.expand() - dfJL.expand()"
   ]
  },
  {
   "cell_type": "code",
   "execution_count": 34,
   "metadata": {},
   "outputs": [
    {
     "data": {
      "text/latex": [
       "$\\displaystyle 0$"
      ],
      "text/plain": [
       "0"
      ]
     },
     "execution_count": 34,
     "metadata": {},
     "output_type": "execute_result"
    }
   ],
   "source": [
    "dfJL.expand() - fdEJU.expand()"
   ]
  },
  {
   "cell_type": "code",
   "execution_count": 19,
   "metadata": {},
   "outputs": [],
   "source": [
    "s_pa = sympy.solve([fdEJU], [e.p_a**e.n])"
   ]
  },
  {
   "cell_type": "code",
   "execution_count": 20,
   "metadata": {},
   "outputs": [],
   "source": [
    "num, den = sympy.fraction(s_pa[e.p_a**e.n].collect(e.PR*e.pi).collect(e.C_r))"
   ]
  },
  {
   "cell_type": "code",
   "execution_count": 21,
   "metadata": {},
   "outputs": [],
   "source": [
    "common= e.n*e.p_a*sigma_e - e.n + e.p_a*sigma_e"
   ]
  },
  {
   "cell_type": "code",
   "execution_count": 22,
   "metadata": {},
   "outputs": [],
   "source": [
    "fs_pa = num/((e.C_r + e.PR*e.pi + e.n*e.pi + e.pi)*common)"
   ]
  },
  {
   "cell_type": "code",
   "execution_count": 23,
   "metadata": {},
   "outputs": [
    {
     "data": {
      "text/latex": [
       "$\\displaystyle 0$"
      ],
      "text/plain": [
       "0"
      ]
     },
     "execution_count": 23,
     "metadata": {},
     "output_type": "execute_result"
    }
   ],
   "source": [
    "(fs_pa - num/den).expand()"
   ]
  },
  {
   "cell_type": "code",
   "execution_count": 24,
   "metadata": {},
   "outputs": [
    {
     "data": {
      "text/latex": [
       "$\\displaystyle \\frac{p_{a} \\sigma_{e} \\left(C_{r} + PR \\pi + n \\pi - \\pi\\right)}{\\left(n p_{a} \\sigma_{e} - n + p_{a} \\sigma_{e}\\right) \\left(C_{r} + PR \\pi + n \\pi + \\pi\\right)} - p_{a}^{n}$"
      ],
      "text/plain": [
       "p_a*sigma_e*(C_r + PR*pi + n*pi - pi)/((n*p_a*sigma_e - n + p_a*sigma_e)*(C_r + PR*pi + n*pi + pi)) - p_a**n"
      ]
     },
     "execution_count": 24,
     "metadata": {},
     "output_type": "execute_result"
    }
   ],
   "source": [
    "fs_pa - e.p_a**e.n"
   ]
  }
 ],
 "metadata": {
  "kernelspec": {
   "display_name": "Python 3",
   "language": "python",
   "name": "python3"
  },
  "language_info": {
   "codemirror_mode": {
    "name": "ipython",
    "version": 3
   },
   "file_extension": ".py",
   "mimetype": "text/x-python",
   "name": "python",
   "nbconvert_exporter": "python",
   "pygments_lexer": "ipython3",
   "version": "3.6.8"
  }
 },
 "nbformat": 4,
 "nbformat_minor": 2
}
